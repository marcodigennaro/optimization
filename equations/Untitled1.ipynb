{
 "cells": [
  {
   "cell_type": "code",
   "execution_count": 3,
   "id": "56c31853-a187-4623-8593-eb65fd3a1b5e",
   "metadata": {
    "execution": {
     "iopub.execute_input": "2024-05-01T10:37:12.336056Z",
     "iopub.status.busy": "2024-05-01T10:37:12.335575Z",
     "iopub.status.idle": "2024-05-01T10:37:12.342353Z",
     "shell.execute_reply": "2024-05-01T10:37:12.341325Z",
     "shell.execute_reply.started": "2024-05-01T10:37:12.336015Z"
    }
   },
   "outputs": [],
   "source": [
    "import sympy as sp\n",
    "from scipy.optimize import minimize\n",
    "from sympy import symbols, Eq, solve\n",
    "\n",
    "# Define variables\n",
    "xs, xw, ys, yw = sp.symbols('xs xw ys yw', real=True, nonnegative=True)\n",
    "DA, DB, S_max, W_max, C_s, C_w = sp.symbols('DA DB S_max W_max C_s C_w', real=True, positive=True)\n",
    "\n",
    "# Define objective function\n",
    "C_total = C_s * (xs + ys) + C_w * (xw + yw)\n"
   ]
  },
  {
   "cell_type": "code",
   "execution_count": 13,
   "id": "a250b18f-84f9-4c00-a1e7-97228e3b8e34",
   "metadata": {
    "execution": {
     "iopub.execute_input": "2024-05-01T10:45:19.465578Z",
     "iopub.status.busy": "2024-05-01T10:45:19.465050Z",
     "iopub.status.idle": "2024-05-01T10:45:19.510469Z",
     "shell.execute_reply": "2024-05-01T10:45:19.509495Z",
     "shell.execute_reply.started": "2024-05-01T10:45:19.465522Z"
    }
   },
   "outputs": [
    {
     "data": {
      "text/plain": [
       "[{xs: -DA - DB + 2*S_max + W_max - 17,\n",
       "  xw: DA - S_max + 7,\n",
       "  ys: DA + DB - S_max - W_max + 13,\n",
       "  yw: DA - S_max - W_max + 9}]"
      ]
     },
     "execution_count": 13,
     "metadata": {},
     "output_type": "execute_result"
    }
   ],
   "source": [
    "eq1 = Eq(xs + xw + ys - DA, 3)\n",
    "eq2 = Eq(ys - yw - DB, 4)\n",
    "eq3 = Eq(xs + ys - S_max, -4)\n",
    "eq4 = Eq(xw - yw - W_max, -2)\n",
    "\n",
    "# Solve the system of equations\n",
    "solution = solve((eq1, eq2, eq3, eq4), (xs, xw, ys, yw), dict=True)\n",
    "solution"
   ]
  },
  {
   "cell_type": "code",
   "execution_count": 10,
   "id": "af7d8d81-6f2f-4f3b-83e8-8b13bf4bc13f",
   "metadata": {
    "execution": {
     "iopub.execute_input": "2024-05-01T10:44:34.055973Z",
     "iopub.status.busy": "2024-05-01T10:44:34.055255Z",
     "iopub.status.idle": "2024-05-01T10:44:34.074465Z",
     "shell.execute_reply": "2024-05-01T10:44:34.073597Z",
     "shell.execute_reply.started": "2024-05-01T10:44:34.055939Z"
    }
   },
   "outputs": [
    {
     "data": {
      "text/plain": [
       "[]"
      ]
     },
     "execution_count": 10,
     "metadata": {},
     "output_type": "execute_result"
    }
   ],
   "source": [
    "\n"
   ]
  },
  {
   "cell_type": "code",
   "execution_count": null,
   "id": "91a26f51-b3f7-4ff9-95b4-98f0e7d954da",
   "metadata": {},
   "outputs": [],
   "source": []
  }
 ],
 "metadata": {
  "kernelspec": {
   "display_name": "Python 3 (ipykernel)",
   "language": "python",
   "name": "python3"
  },
  "language_info": {
   "codemirror_mode": {
    "name": "ipython",
    "version": 3
   },
   "file_extension": ".py",
   "mimetype": "text/x-python",
   "name": "python",
   "nbconvert_exporter": "python",
   "pygments_lexer": "ipython3",
   "version": "3.10.12"
  }
 },
 "nbformat": 4,
 "nbformat_minor": 5
}
