{
 "cells": [
  {
   "cell_type": "code",
   "execution_count": 1,
   "id": "f14c358c-e825-44cc-993f-d0c96ef0aad0",
   "metadata": {
    "tags": []
   },
   "outputs": [
    {
     "name": "stdout",
     "output_type": "stream",
     "text": [
      "nbBus40  =  4.0\n",
      "nbBus30  =  5.0\n",
      "We bring  310.0  kids to the zoo\n"
     ]
    }
   ],
   "source": [
    "from docplex.mp.model import Model\n",
    "\n",
    "mdl = Model(name='buses')\n",
    "nbbus40 = mdl.integer_var(name='nbBus40')\n",
    "nbbus30 = mdl.integer_var(name='nbBus30')\n",
    "mdl.add_constraint(nbbus40*40 + nbbus30*30 >= 300, 'kids')\n",
    "mdl.minimize(nbbus40**2*500 + nbbus30**2*400)\n",
    "\n",
    "mdl.solve()\n",
    "\n",
    "for v in mdl.iter_integer_vars():\n",
    "    print(v,\" = \",v.solution_value)\n",
    "\n",
    "import numpy as np\n",
    "print(\"We bring \",np.array(\n",
    "    [40,30])@np.array([nbbus40.solution_value,nbbus30.solution_value])\n",
    "      ,\" kids to the zoo\")"
   ]
  },
  {
   "cell_type": "code",
   "execution_count": null,
   "id": "6ff61f09-50a2-4ce6-9b03-8152cc830bb6",
   "metadata": {},
   "outputs": [],
   "source": []
  }
 ],
 "metadata": {
  "kernelspec": {
   "display_name": "Python 3 (ipykernel)",
   "language": "python",
   "name": "python3"
  },
  "language_info": {
   "codemirror_mode": {
    "name": "ipython",
    "version": 3
   },
   "file_extension": ".py",
   "mimetype": "text/x-python",
   "name": "python",
   "nbconvert_exporter": "python",
   "pygments_lexer": "ipython3",
   "version": "3.10.14"
  }
 },
 "nbformat": 4,
 "nbformat_minor": 5
}
