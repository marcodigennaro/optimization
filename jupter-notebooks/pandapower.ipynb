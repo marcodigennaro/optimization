{
 "cells": [
  {
   "cell_type": "markdown",
   "id": "087d3520-ef66-4720-ba84-e971943adddd",
   "metadata": {},
   "source": [
    "# Topological optimization of power grids\n",
    "\n",
    "Let us reconfigure the distribution of a network for loss minimization while maintaining the service quality within regulatory limits. This could be part of routine operations or in response to specific events like changes in demand patterns, outages, or integration of renewable generation sources.\n",
    "\n",
    "### Common Steps\n",
    "1. Data Gathering and System Modeling: The DSO collects data from various parts of the grid, including substations, transformers, distribution lines, and load data from smart meters. This data is used to build a detailed model of the network in a power system analysis tool like pandapower.\n",
    "\n",
    "2. Initial Load Flow Analysis: Before any optimization, an initial load flow analysis is performed to understand the current state of the system—voltages at each bus, power flows on lines, losses, etc.\n",
    "\n",
    "3. Defining Optimization Goals and Constraints: The optimization goals could include minimizing power losses, improving voltage profiles, or reducing peak loads. Constraints would be set according to regulatory requirements, physical limits of the network components, and operational safety margins.\n",
    "\n",
    "4. Optimization Algorithm Implementation: An algorithm is chosen based on the complexity of the problem and the desired speed of solution. Common algorithms include heuristic methods, genetic algorithms, or other metaheuristic optimization techniques.\n",
    "\n",
    "5. Scenario Analysis and Decision Making: The algorithm is used to run multiple scenarios of topological changes, such as opening or closing circuit breakers or reconfiguring network connections. The outcomes are analyzed to determine which scenario provides the best improvement in performance according to the defined goals.\n",
    "\n",
    "6. Verification and Implementation of Actions: Once the optimal configuration is identified, it's verified for safety and reliability before being implemented. The network reconfiguration is then carried out physically by operating switches, circuit breakers, and other controllable devices."
   ]
  },
  {
   "cell_type": "code",
   "execution_count": 1,
   "id": "079b03f9-2484-4e99-8359-8b1db867b208",
   "metadata": {},
   "outputs": [
    {
     "name": "stdout",
     "output_type": "stream",
     "text": [
      "Initial losses: 3.85727104541822e-06 MW\n",
      "Reconfiguring the network reduced losses to: 3.854188988653727e-06 MW\n",
      "   p_from_mw  q_from_mvar  p_to_mw  q_to_mvar         pl_mw   ql_mvar  \\\n",
      "0   0.099922     0.047214 -0.09992  -0.049959  1.904448e-06 -0.002745   \n",
      "1  -0.099918    -0.052706  0.09992   0.049961  1.946660e-06 -0.002745   \n",
      "2  -0.000080    -0.000041  0.00008   0.000039  3.080421e-09 -0.000001   \n",
      "\n",
      "   i_from_ka   i_to_ka      i_ka  vm_from_pu  va_from_degree  vm_to_pu  \\\n",
      "0   0.003128  0.158086  0.158086    1.020000       50.000000  1.019983   \n",
      "1   0.003197  0.158081  0.158081    1.020000       50.000000  1.020017   \n",
      "2   0.000127  0.000126  0.000127    1.019983       50.000315  1.020017   \n",
      "\n",
      "   va_to_degree  loading_percent  \n",
      "0     50.000315       111.328086  \n",
      "1     49.999660       111.324918  \n",
      "2     49.999660         0.089307  \n",
      "      vm_pu  va_degree      p_mw    q_mvar\n",
      "0  1.020000  50.000000 -0.000004  0.005492\n",
      "1  1.019983  50.000315  0.100000  0.050000\n",
      "2  1.020017  49.999660 -0.100000 -0.050000\n"
     ]
    }
   ],
   "source": [
    "import pandapower as pp\n",
    "import numpy as np\n",
    "\n",
    "# Create an empty network\n",
    "net = pp.create_empty_network()\n",
    "\n",
    "# Create buses\n",
    "bus1 = pp.create_bus(net, vn_kv=20.)\n",
    "bus2 = pp.create_bus(net, vn_kv=0.4)\n",
    "bus3 = pp.create_bus(net, vn_kv=0.4)\n",
    "\n",
    "# Create bus elements\n",
    "pp.create_ext_grid(net, bus=bus1, vm_pu=1.02, va_degree=50)\n",
    "pp.create_load(net, bus=bus2, p_mw=0.1, q_mvar=0.05)\n",
    "pp.create_sgen(net, bus=bus3, p_mw=0.1, q_mvar=0.05)\n",
    "\n",
    "# Create lines\n",
    "line1 = pp.create_line(net, from_bus=bus1, to_bus=bus2, length_km=0.1, std_type=\"NAYY 4x50 SE\")\n",
    "line2 = pp.create_line(net, from_bus=bus1, to_bus=bus3, length_km=0.1, std_type=\"NAYY 4x50 SE\")\n",
    "line3 = pp.create_line(net, from_bus=bus2, to_bus=bus3, length_km=0.1, std_type=\"NAYY 4x50 SE\", in_service=False)  # initially out of service\n",
    "\n",
    "# Perform initial power flow\n",
    "pp.runpp(net)\n",
    "\n",
    "# Print initial losses\n",
    "initial_losses = net.res_line['pl_mw'].sum()\n",
    "print(f\"Initial losses: {initial_losses} MW\")\n",
    "\n",
    "# Optimization: try closing the line3 switch and check if losses decrease\n",
    "net.line.at[line3, 'in_service'] = True\n",
    "pp.runpp(net)\n",
    "new_losses = net.res_line['pl_mw'].sum()\n",
    "\n",
    "# Check if there is an improvement\n",
    "if new_losses < initial_losses:\n",
    "    print(f\"Reconfiguring the network reduced losses to: {new_losses} MW\")\n",
    "else:\n",
    "    print(f\"Reconfiguring the network increased losses to: {new_losses} MW, reverting changes\")\n",
    "    net.line.at[line3, 'in_service'] = False\n",
    "\n",
    "# Final power flow to confirm the best configuration\n",
    "pp.runpp(net)\n",
    "\n",
    "# Show results\n",
    "print(net.res_line)\n",
    "print(net.res_bus)\n"
   ]
  },
  {
   "cell_type": "code",
   "execution_count": 4,
   "id": "bcb07231-a65c-4505-a429-7f3bc799e5b5",
   "metadata": {},
   "outputs": [
    {
     "name": "stderr",
     "output_type": "stream",
     "text": [
      "No or insufficient geodata available --> Creating artificial coordinates. This may take some time\n"
     ]
    },
    {
     "data": {
      "image/png": "[encoded data removed]",
      "text/plain": [
       "<Figure size 1000x800 with 1 Axes>"
      ]
     },
     "metadata": {},
     "output_type": "display_data"
    },
    {
     "data": {
      "text/plain": [
       "<Axes: >"
      ]
     },
     "execution_count": 4,
     "metadata": {},
     "output_type": "execute_result"
    }
   ],
   "source": [
    "plot.simple_plot(net)"
   ]
  },
  {
   "cell_type": "code",
   "execution_count": 3,
   "id": "40e68bce-a462-4a61-9a41-00298acd314e",
   "metadata": {},
   "outputs": [
    {
     "ename": "TypeError",
     "evalue": "simple_plot() got an unexpected keyword argument 'show'",
     "output_type": "error",
     "traceback": [
      "\u001b[0;31m---------------------------------------------------------------------------\u001b[0m",
      "\u001b[0;31mTypeError\u001b[0m                                 Traceback (most recent call last)",
      "Cell \u001b[0;32mIn[3], line 6\u001b[0m\n\u001b[1;32m      1\u001b[0m \u001b[38;5;28;01mimport\u001b[39;00m \u001b[38;5;21;01mpandapower\u001b[39;00m\u001b[38;5;21;01m.\u001b[39;00m\u001b[38;5;21;01mplotting\u001b[39;00m \u001b[38;5;28;01mas\u001b[39;00m \u001b[38;5;21;01mplot\u001b[39;00m\n\u001b[1;32m      3\u001b[0m \u001b[38;5;66;03m# ... (after running power flow analysis)\u001b[39;00m\n\u001b[1;32m      4\u001b[0m \n\u001b[1;32m      5\u001b[0m \u001b[38;5;66;03m# Simple plot of the network\u001b[39;00m\n\u001b[0;32m----> 6\u001b[0m \u001b[43mplot\u001b[49m\u001b[38;5;241;43m.\u001b[39;49m\u001b[43msimple_plot\u001b[49m\u001b[43m(\u001b[49m\u001b[43mnet\u001b[49m\u001b[43m,\u001b[49m\u001b[43m \u001b[49m\u001b[43mshow\u001b[49m\u001b[38;5;241;43m=\u001b[39;49m\u001b[38;5;28;43;01mTrue\u001b[39;49;00m\u001b[43m)\u001b[49m\n\u001b[1;32m      8\u001b[0m \u001b[38;5;66;03m# Load and generation distribution\u001b[39;00m\n\u001b[1;32m      9\u001b[0m plot\u001b[38;5;241m.\u001b[39mcreate_bus_collection(net, net\u001b[38;5;241m.\u001b[39mbus\u001b[38;5;241m.\u001b[39mindex, size\u001b[38;5;241m=\u001b[39m\u001b[38;5;241m0.1\u001b[39m, color\u001b[38;5;241m=\u001b[39m\u001b[38;5;124m\"\u001b[39m\u001b[38;5;124mb\u001b[39m\u001b[38;5;124m\"\u001b[39m, zorder\u001b[38;5;241m=\u001b[39m\u001b[38;5;241m10\u001b[39m)\n",
      "\u001b[0;31mTypeError\u001b[0m: simple_plot() got an unexpected keyword argument 'show'"
     ]
    }
   ],
   "source": [
    "import pandapower.plotting as plot\n",
    "\n",
    "# ... (after running power flow analysis)\n",
    "\n",
    "# Simple plot of the network\n",
    "plot.simple_plot(net, show=True)\n",
    "\n",
    "# Load and generation distribution\n",
    "plot.create_bus_collection(net, net.bus.index, size=0.1, color=\"b\", zorder=10)\n",
    "plot.create_line_collection(net, net.line.index, linewidths=1.5, linestyles='solid', color=\"grey\", use_bus_geodata=True)\n",
    "plot.draw_collections([plot.create_bus_collection(net, net.bus.index), plot.create_line_collection(net, net.line.index)], figsize=(8,6))\n",
    "\n",
    "# Optionally, you can plot with geographic coordinates if you have them\n",
    "# plot.geo_plot(net)\n",
    "\n",
    "# Voltage profile plot\n",
    "bus_voltages = net.res_bus.vm_pu\n",
    "plot.voltage_profile(net, plot_type=\"bar\")\n",
    "\n",
    "# Line loading plot\n",
    "line_loadings = net.res_line.loading_percent\n",
    "plot.create_line_loading_collection(net, net.line.index, zorder=2)\n"
   ]
  },
  {
   "cell_type": "code",
   "execution_count": null,
   "id": "1bee8fbe-72ad-4a34-92a7-3f775016fda6",
   "metadata": {},
   "outputs": [],
   "source": [
    "import pandapower\n",
    "import pandapower.networks\n",
    "import pandapower.topology\n",
    "import pandapower.plotting\n",
    "import pandapower.converter\n",
    "import pandapower.estimation"
   ]
  },
  {
   "cell_type": "code",
   "execution_count": null,
   "id": "4f6e3b25-0a21-4cf2-b0e2-b77293f25507",
   "metadata": {},
   "outputs": [],
   "source": [
    "import pandapower.test\n",
    "pandapower.test.run_all_tests()"
   ]
  },
  {
   "cell_type": "code",
   "execution_count": null,
   "id": "dd41acc8-997a-474f-9523-3550383f956a",
   "metadata": {},
   "outputs": [],
   "source": []
  }
 ],
 "metadata": {
  "kernelspec": {
   "display_name": "Python 3 (ipykernel)",
   "language": "python",
   "name": "python3"
  },
  "language_info": {
   "codemirror_mode": {
    "name": "ipython",
    "version": 3
   },
   "file_extension": ".py",
   "mimetype": "text/x-python",
   "name": "python",
   "nbconvert_exporter": "python",
   "pygments_lexer": "ipython3",
   "version": "3.10.14"
  }
 },
 "nbformat": 4,
 "nbformat_minor": 5
}
