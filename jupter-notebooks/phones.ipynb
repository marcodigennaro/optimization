{
 "cells": [
  {
   "cell_type": "markdown",
   "id": "ff0b46bb-00c9-4a1c-aced-0faa44f24abf",
   "metadata": {},
   "source": [
    "# Tutorial from \n",
    "\n",
    "[Nicholas Renotte](https://www.youtube.com/watch?v=ufYtueq2DCw)"
   ]
  },
  {
   "cell_type": "code",
   "execution_count": 1,
   "id": "33d2e6d6-a635-48b9-b673-8147c72f03b9",
   "metadata": {
    "tags": []
   },
   "outputs": [],
   "source": [
    "from docplex.mp.model import Model\n",
    "m = Model(name='Phone Producion')"
   ]
  },
  {
   "cell_type": "markdown",
   "id": "8c52a732-5689-403f-830b-fe33101c6ed3",
   "metadata": {
    "tags": []
   },
   "source": [
    "# Variables"
   ]
  },
  {
   "cell_type": "code",
   "execution_count": 2,
   "id": "d5e94d1a-0e73-4b10-965b-edec3177ef71",
   "metadata": {
    "tags": []
   },
   "outputs": [],
   "source": [
    "# mug production\n",
    "\n",
    "prod1 = m.continuous_var(name='1')\n",
    "prod2 = m.continuous_var(name='2')"
   ]
  },
  {
   "cell_type": "code",
   "execution_count": 3,
   "id": "fc14a3ba-64db-4413-bdb0-83ed5856d044",
   "metadata": {
    "tags": []
   },
   "outputs": [],
   "source": [
    "# production time constants\n",
    "time1 = 1.5\n",
    "time2 = 2"
   ]
  },
  {
   "cell_type": "code",
   "execution_count": 4,
   "id": "bd2f2593-c114-4b92-952a-cbfef7f5e9b7",
   "metadata": {
    "tags": []
   },
   "outputs": [],
   "source": [
    "# sale price\n",
    "price1 = 900\n",
    "price2 = 1100"
   ]
  },
  {
   "cell_type": "markdown",
   "id": "8683d7e5-436b-4087-96c5-c4fc86ee6e17",
   "metadata": {},
   "source": [
    "# Constraints"
   ]
  },
  {
   "cell_type": "code",
   "execution_count": 5,
   "id": "fb621421-3d84-4a99-82a6-4a947fbb5b54",
   "metadata": {
    "tags": []
   },
   "outputs": [],
   "source": [
    "constraint1 = m.add_constraint(prod1 >= 500)\n",
    "constraint2 = m.add_constraint(prod2 >= 200)"
   ]
  },
  {
   "cell_type": "code",
   "execution_count": 6,
   "id": "b7b3eb1d-0ef7-4485-8aa1-4c3e7cafb322",
   "metadata": {
    "tags": []
   },
   "outputs": [],
   "source": [
    "# production constraints\n",
    "\n",
    "tot_prod_constraints = m.add_constraint(m.sum([\n",
    "    prod1*time1, \n",
    "    prod2*time2\n",
    "    ]) <= 2999.5)"
   ]
  },
  {
   "cell_type": "markdown",
   "id": "c15f81d4-cf75-4484-8e36-8360762a88ec",
   "metadata": {},
   "source": [
    "# Goals/Objectives"
   ]
  },
  {
   "cell_type": "code",
   "execution_count": 7,
   "id": "a9380ed9-c8b1-45a8-bb5b-50257978dfa2",
   "metadata": {
    "tags": []
   },
   "outputs": [],
   "source": [
    "m.maximize(prod1*price1 + prod2*time2)"
   ]
  },
  {
   "cell_type": "markdown",
   "id": "48e4d38e-b9d3-4190-98bc-390b5696b482",
   "metadata": {},
   "source": [
    "# Solve"
   ]
  },
  {
   "cell_type": "code",
   "execution_count": 8,
   "id": "c8b32f31-23c0-4388-959e-76092d141aa6",
   "metadata": {
    "tags": []
   },
   "outputs": [],
   "source": [
    "solution = m.solve()"
   ]
  },
  {
   "cell_type": "code",
   "execution_count": 9,
   "id": "85dd8992-3a9b-47f3-a230-373a69e5b557",
   "metadata": {
    "tags": []
   },
   "outputs": [
    {
     "name": "stdout",
     "output_type": "stream",
     "text": [
      "solution for: Phone Producion\n",
      "objective: 1560100.000\n",
      "status: OPTIMAL_SOLUTION(2)\n",
      "1 = 1733.000\n",
      "2 = 200.000\n"
     ]
    }
   ],
   "source": [
    "solution.display()"
   ]
  },
  {
   "cell_type": "code",
   "execution_count": null,
   "id": "da365394-0148-4d5a-8538-a8803ee1ff57",
   "metadata": {},
   "outputs": [],
   "source": []
  }
 ],
 "metadata": {
  "kernelspec": {
   "display_name": "Python 3 (ipykernel)",
   "language": "python",
   "name": "python3"
  },
  "language_info": {
   "codemirror_mode": {
    "name": "ipython",
    "version": 3
   },
   "file_extension": ".py",
   "mimetype": "text/x-python",
   "name": "python",
   "nbconvert_exporter": "python",
   "pygments_lexer": "ipython3",
   "version": "3.10.12"
  }
 },
 "nbformat": 4,
 "nbformat_minor": 5
}
