{
 "cells": [
  {
   "cell_type": "markdown",
   "id": "435e5406-3399-4e2c-9955-0dcffa38087e",
   "metadata": {},
   "source": [
    "# Short Cicruit Calculation"
   ]
  },
  {
   "cell_type": "code",
   "execution_count": 2,
   "id": "02c42cfa-d512-4afb-81ba-5c5f79924148",
   "metadata": {
    "execution": {
     "iopub.execute_input": "2024-04-17T11:37:58.522647Z",
     "iopub.status.busy": "2024-04-17T11:37:58.521975Z",
     "iopub.status.idle": "2024-04-17T11:37:58.528092Z",
     "shell.execute_reply": "2024-04-17T11:37:58.526766Z",
     "shell.execute_reply.started": "2024-04-17T11:37:58.522584Z"
    }
   },
   "outputs": [],
   "source": [
    "import warnings\n",
    "warnings.simplefilter(action='ignore', category=FutureWarning)"
   ]
  },
  {
   "cell_type": "code",
   "execution_count": 4,
   "id": "5d1217c5-9796-4058-bceb-661f576561ad",
   "metadata": {
    "execution": {
     "iopub.execute_input": "2024-04-17T11:38:25.960239Z",
     "iopub.status.busy": "2024-04-17T11:38:25.959591Z",
     "iopub.status.idle": "2024-04-17T11:38:25.968586Z",
     "shell.execute_reply": "2024-04-17T11:38:25.967522Z",
     "shell.execute_reply.started": "2024-04-17T11:38:25.960185Z"
    }
   },
   "outputs": [],
   "source": [
    "# Youtube Tutorial: https://www.youtube.com/watch?v=66SSDhSNV7k\n",
    "import pandapower as pp\n",
    "import pandapower.shortcircuit as sc\n",
    "\n",
    "def ring_network():\n",
    "    net = pp.create_empty_network()\n",
    "    b1 = pp.create_bus(net, 220)\n",
    "    b2 = pp.create_bus(net, 110)\n",
    "    b3 = pp.create_bus(net, 110)\n",
    "    b4 = pp.create_bus(net, 110)\n",
    "\n",
    "    pp.create_ext_grid(net, b1, s_sc_max_mva=100., s_sc_min_mva=80., rx_min=0.20, rx_max=0.35)\n",
    "\n",
    "    pp.create_transformer(net, b1, b2, \"100 MVA 220/110 kV\")\n",
    "    pp.create_line(net, b2, b3, std_type=\"N2XS(FL)2Y 1x120 RM/35 64/110 kV\", length_km=15.)\n",
    "    l2 = pp.create_line(net, b3, b4, std_type=\"N2XS(FL)2Y 1x120 RM/35 64/110 kV\", length_km=12.)\n",
    "    pp.create_line(net, b4, b2, std_type=\"N2XS(FL)2Y 1x120 RM/35 64/110 kV\", length_km=10.)\n",
    "    pp.create_switch(net, b4, l2, closed=False, et=\"l\")\n",
    "    return net"
   ]
  },
  {
   "cell_type": "markdown",
   "id": "884eeb47-6682-4d98-a481-24c49eeeace4",
   "metadata": {},
   "source": [
    "### Simple Short Circuit calculation"
   ]
  },
  {
   "cell_type": "code",
   "execution_count": 17,
   "id": "3366f788-618d-41b5-8c54-c852d9dd0521",
   "metadata": {
    "execution": {
     "iopub.execute_input": "2024-04-17T11:52:32.076151Z",
     "iopub.status.busy": "2024-04-17T11:52:32.075695Z",
     "iopub.status.idle": "2024-04-17T11:52:32.203175Z",
     "shell.execute_reply": "2024-04-17T11:52:32.202353Z",
     "shell.execute_reply.started": "2024-04-17T11:52:32.076124Z"
    }
   },
   "outputs": [
    {
     "data": {
      "text/html": [
       "<div>\n",
       "<style scoped>\n",
       "    .dataframe tbody tr th:only-of-type {\n",
       "        vertical-align: middle;\n",
       "    }\n",
       "\n",
       "    .dataframe tbody tr th {\n",
       "        vertical-align: top;\n",
       "    }\n",
       "\n",
       "    .dataframe thead th {\n",
       "        text-align: right;\n",
       "    }\n",
       "</style>\n",
       "<table border=\"1\" class=\"dataframe\">\n",
       "  <thead>\n",
       "    <tr style=\"text-align: right;\">\n",
       "      <th></th>\n",
       "      <th>ikss_ka</th>\n",
       "      <th>skss_mw</th>\n",
       "      <th>rk_ohm</th>\n",
       "      <th>xk_ohm</th>\n",
       "    </tr>\n",
       "  </thead>\n",
       "  <tbody>\n",
       "    <tr>\n",
       "      <th>0</th>\n",
       "      <td>0.262432</td>\n",
       "      <td>100.000000</td>\n",
       "      <td>175.878566</td>\n",
       "      <td>502.510189</td>\n",
       "    </tr>\n",
       "    <tr>\n",
       "      <th>1</th>\n",
       "      <td>0.476454</td>\n",
       "      <td>90.776637</td>\n",
       "      <td>44.276323</td>\n",
       "      <td>139.778739</td>\n",
       "    </tr>\n",
       "    <tr>\n",
       "      <th>2</th>\n",
       "      <td>0.466671</td>\n",
       "      <td>88.912758</td>\n",
       "      <td>46.571323</td>\n",
       "      <td>142.268739</td>\n",
       "    </tr>\n",
       "    <tr>\n",
       "      <th>3</th>\n",
       "      <td>0.469892</td>\n",
       "      <td>89.526397</td>\n",
       "      <td>45.806323</td>\n",
       "      <td>141.438739</td>\n",
       "    </tr>\n",
       "  </tbody>\n",
       "</table>\n",
       "</div>"
      ],
      "text/plain": [
       "    ikss_ka     skss_mw      rk_ohm      xk_ohm\n",
       "0  0.262432  100.000000  175.878566  502.510189\n",
       "1  0.476454   90.776637   44.276323  139.778739\n",
       "2  0.466671   88.912758   46.571323  142.268739\n",
       "3  0.469892   89.526397   45.806323  141.438739"
      ]
     },
     "execution_count": 17,
     "metadata": {},
     "output_type": "execute_result"
    }
   ],
   "source": [
    "net = ring_network()\n",
    "sc.calc_sc(net)\n",
    "net.res_bus_sc"
   ]
  },
  {
   "cell_type": "markdown",
   "id": "a8e27da9-3e65-4978-a99f-e46d717227d0",
   "metadata": {},
   "source": [
    "### Include Thermal Current and ip value"
   ]
  },
  {
   "cell_type": "code",
   "execution_count": 18,
   "id": "edf0b8df-03e3-4f99-9226-d0b293cd55e4",
   "metadata": {
    "execution": {
     "iopub.execute_input": "2024-04-17T11:53:46.891126Z",
     "iopub.status.busy": "2024-04-17T11:53:46.889507Z",
     "iopub.status.idle": "2024-04-17T11:53:46.936041Z",
     "shell.execute_reply": "2024-04-17T11:53:46.935003Z",
     "shell.execute_reply.started": "2024-04-17T11:53:46.891056Z"
    }
   },
   "outputs": [
    {
     "name": "stderr",
     "output_type": "stream",
     "text": [
      "/home/marco/Desktop/ATOM/optimization/.venv/lib/python3.10/site-packages/pandapower/shortcircuit/currents.py:230: RuntimeWarning: invalid value encountered in log\n",
      "  m = (np.exp(4 * f * tk_s * np.log(kappa - 1)) - 1) / (2 * f * tk_s * np.log(kappa - 1))\n"
     ]
    },
    {
     "data": {
      "text/html": [
       "<div>\n",
       "<style scoped>\n",
       "    .dataframe tbody tr th:only-of-type {\n",
       "        vertical-align: middle;\n",
       "    }\n",
       "\n",
       "    .dataframe tbody tr th {\n",
       "        vertical-align: top;\n",
       "    }\n",
       "\n",
       "    .dataframe thead th {\n",
       "        text-align: right;\n",
       "    }\n",
       "</style>\n",
       "<table border=\"1\" class=\"dataframe\">\n",
       "  <thead>\n",
       "    <tr style=\"text-align: right;\">\n",
       "      <th></th>\n",
       "      <th>ikss_ka</th>\n",
       "      <th>skss_mw</th>\n",
       "      <th>ip_ka</th>\n",
       "      <th>ith_ka</th>\n",
       "      <th>rk_ohm</th>\n",
       "      <th>xk_ohm</th>\n",
       "    </tr>\n",
       "  </thead>\n",
       "  <tbody>\n",
       "    <tr>\n",
       "      <th>0</th>\n",
       "      <td>0.262432</td>\n",
       "      <td>100.000000</td>\n",
       "      <td>0.505834</td>\n",
       "      <td>0.263078</td>\n",
       "      <td>175.878566</td>\n",
       "      <td>502.510189</td>\n",
       "    </tr>\n",
       "    <tr>\n",
       "      <th>1</th>\n",
       "      <td>0.476454</td>\n",
       "      <td>90.776637</td>\n",
       "      <td>0.942589</td>\n",
       "      <td>0.477748</td>\n",
       "      <td>44.276323</td>\n",
       "      <td>139.778739</td>\n",
       "    </tr>\n",
       "    <tr>\n",
       "      <th>2</th>\n",
       "      <td>0.466671</td>\n",
       "      <td>88.912758</td>\n",
       "      <td>0.915418</td>\n",
       "      <td>0.467898</td>\n",
       "      <td>46.571323</td>\n",
       "      <td>142.268739</td>\n",
       "    </tr>\n",
       "    <tr>\n",
       "      <th>3</th>\n",
       "      <td>0.469892</td>\n",
       "      <td>89.526397</td>\n",
       "      <td>0.924301</td>\n",
       "      <td>0.471141</td>\n",
       "      <td>45.806323</td>\n",
       "      <td>141.438739</td>\n",
       "    </tr>\n",
       "  </tbody>\n",
       "</table>\n",
       "</div>"
      ],
      "text/plain": [
       "    ikss_ka     skss_mw     ip_ka    ith_ka      rk_ohm      xk_ohm\n",
       "0  0.262432  100.000000  0.505834  0.263078  175.878566  502.510189\n",
       "1  0.476454   90.776637  0.942589  0.477748   44.276323  139.778739\n",
       "2  0.466671   88.912758  0.915418  0.467898   46.571323  142.268739\n",
       "3  0.469892   89.526397  0.924301  0.471141   45.806323  141.438739"
      ]
     },
     "execution_count": 18,
     "metadata": {},
     "output_type": "execute_result"
    }
   ],
   "source": [
    "sc.calc_sc(net, ith=True, ip=True, tk_s=2.)\n",
    "net.res_bus_sc"
   ]
  },
  {
   "cell_type": "markdown",
   "id": "e1d93960-c6be-479a-a5c5-9f6343874084",
   "metadata": {},
   "source": [
    "### Include results for the lines"
   ]
  },
  {
   "cell_type": "code",
   "execution_count": 20,
   "id": "8e16bdb6-b9ef-417a-860c-7121d9993347",
   "metadata": {
    "execution": {
     "iopub.execute_input": "2024-04-17T11:54:42.384483Z",
     "iopub.status.busy": "2024-04-17T11:54:42.383157Z",
     "iopub.status.idle": "2024-04-17T11:54:42.449112Z",
     "shell.execute_reply": "2024-04-17T11:54:42.447408Z",
     "shell.execute_reply.started": "2024-04-17T11:54:42.384434Z"
    }
   },
   "outputs": [
    {
     "name": "stderr",
     "output_type": "stream",
     "text": [
      "Branch results are in beta mode and might not always be reliable, especially for transformers\n",
      "/home/marco/Desktop/ATOM/optimization/.venv/lib/python3.10/site-packages/pandapower/shortcircuit/currents.py:230: RuntimeWarning: invalid value encountered in log\n",
      "  m = (np.exp(4 * f * tk_s * np.log(kappa - 1)) - 1) / (2 * f * tk_s * np.log(kappa - 1))\n",
      "/home/marco/Desktop/ATOM/optimization/.venv/lib/python3.10/site-packages/pandapower/shortcircuit/currents.py:644: RuntimeWarning: All-NaN slice encountered\n",
      "  ppci[\"branch\"][:, IP_F] = np.nanmax(np.abs(ip_all_f), axis=1) / baseI[fb]\n",
      "/home/marco/Desktop/ATOM/optimization/.venv/lib/python3.10/site-packages/pandapower/shortcircuit/currents.py:645: RuntimeWarning: All-NaN slice encountered\n",
      "  ppci[\"branch\"][:, IP_T] = np.nanmax(np.abs(ip_all_t), axis=1) / baseI[tb]\n",
      "/home/marco/Desktop/ATOM/optimization/.venv/lib/python3.10/site-packages/pandapower/shortcircuit/currents.py:661: RuntimeWarning: All-NaN slice encountered\n",
      "  ppci[\"branch\"][:, ITH_F] = np.nanmax(np.abs(ith_all_f), axis=1) / baseI[fb]\n",
      "/home/marco/Desktop/ATOM/optimization/.venv/lib/python3.10/site-packages/pandapower/shortcircuit/currents.py:662: RuntimeWarning: All-NaN slice encountered\n",
      "  ppci[\"branch\"][:, ITH_T] = np.nanmax(np.abs(ith_all_t), axis=1) / baseI[fb]\n"
     ]
    },
    {
     "data": {
      "text/html": [
       "<div>\n",
       "<style scoped>\n",
       "    .dataframe tbody tr th:only-of-type {\n",
       "        vertical-align: middle;\n",
       "    }\n",
       "\n",
       "    .dataframe tbody tr th {\n",
       "        vertical-align: top;\n",
       "    }\n",
       "\n",
       "    .dataframe thead th {\n",
       "        text-align: right;\n",
       "    }\n",
       "</style>\n",
       "<table border=\"1\" class=\"dataframe\">\n",
       "  <thead>\n",
       "    <tr style=\"text-align: right;\">\n",
       "      <th></th>\n",
       "      <th>ikss_ka</th>\n",
       "      <th>ikss_from_ka</th>\n",
       "      <th>ikss_from_degree</th>\n",
       "      <th>ikss_to_ka</th>\n",
       "      <th>ikss_to_degree</th>\n",
       "      <th>p_from_mw</th>\n",
       "      <th>q_from_mvar</th>\n",
       "      <th>p_to_mw</th>\n",
       "      <th>q_to_mvar</th>\n",
       "      <th>vm_from_pu</th>\n",
       "      <th>va_from_degree</th>\n",
       "      <th>vm_to_pu</th>\n",
       "      <th>va_to_degree</th>\n",
       "      <th>ip_ka</th>\n",
       "      <th>ith_ka</th>\n",
       "    </tr>\n",
       "  </thead>\n",
       "  <tbody>\n",
       "    <tr>\n",
       "      <th>0</th>\n",
       "      <td>0.466671</td>\n",
       "      <td>0.466671</td>\n",
       "      <td>-71.874268</td>\n",
       "      <td>0.466671</td>\n",
       "      <td>108.125732</td>\n",
       "      <td>1.499428</td>\n",
       "      <td>1.62683</td>\n",
       "      <td>0.000000</td>\n",
       "      <td>-0.000000</td>\n",
       "      <td>0.024883</td>\n",
       "      <td>-24.540621</td>\n",
       "      <td>0.016703</td>\n",
       "      <td>-24.721299</td>\n",
       "      <td>0.915418</td>\n",
       "      <td>0.467898</td>\n",
       "    </tr>\n",
       "    <tr>\n",
       "      <th>1</th>\n",
       "      <td>0.000000</td>\n",
       "      <td>0.000000</td>\n",
       "      <td>0.000000</td>\n",
       "      <td>0.000000</td>\n",
       "      <td>0.000000</td>\n",
       "      <td>0.000000</td>\n",
       "      <td>-0.00000</td>\n",
       "      <td>0.000000</td>\n",
       "      <td>-0.000000</td>\n",
       "      <td>0.016703</td>\n",
       "      <td>-24.721299</td>\n",
       "      <td>0.016703</td>\n",
       "      <td>-24.721299</td>\n",
       "      <td>0.000000</td>\n",
       "      <td>0.000000</td>\n",
       "    </tr>\n",
       "    <tr>\n",
       "      <th>2</th>\n",
       "      <td>0.469892</td>\n",
       "      <td>0.469892</td>\n",
       "      <td>107.945055</td>\n",
       "      <td>0.469892</td>\n",
       "      <td>-72.054945</td>\n",
       "      <td>0.000000</td>\n",
       "      <td>-0.00000</td>\n",
       "      <td>1.013464</td>\n",
       "      <td>1.099575</td>\n",
       "      <td>0.024883</td>\n",
       "      <td>-24.540621</td>\n",
       "      <td>0.024883</td>\n",
       "      <td>-24.540621</td>\n",
       "      <td>0.924301</td>\n",
       "      <td>0.471141</td>\n",
       "    </tr>\n",
       "  </tbody>\n",
       "</table>\n",
       "</div>"
      ],
      "text/plain": [
       "    ikss_ka  ikss_from_ka  ikss_from_degree  ikss_to_ka  ikss_to_degree  \\\n",
       "0  0.466671      0.466671        -71.874268    0.466671      108.125732   \n",
       "1  0.000000      0.000000          0.000000    0.000000        0.000000   \n",
       "2  0.469892      0.469892        107.945055    0.469892      -72.054945   \n",
       "\n",
       "   p_from_mw  q_from_mvar   p_to_mw  q_to_mvar  vm_from_pu  va_from_degree  \\\n",
       "0   1.499428      1.62683  0.000000  -0.000000    0.024883      -24.540621   \n",
       "1   0.000000     -0.00000  0.000000  -0.000000    0.016703      -24.721299   \n",
       "2   0.000000     -0.00000  1.013464   1.099575    0.024883      -24.540621   \n",
       "\n",
       "   vm_to_pu  va_to_degree     ip_ka    ith_ka  \n",
       "0  0.016703    -24.721299  0.915418  0.467898  \n",
       "1  0.016703    -24.721299  0.000000  0.000000  \n",
       "2  0.024883    -24.540621  0.924301  0.471141  "
      ]
     },
     "execution_count": 20,
     "metadata": {},
     "output_type": "execute_result"
    }
   ],
   "source": [
    "sc.calc_sc(net, ith=True, ip=True, tk_s=2., branch_results=True)\n",
    "net.res_line_sc"
   ]
  },
  {
   "cell_type": "markdown",
   "id": "a552f80b-5b1d-41ec-b292-c231c2ffa51f",
   "metadata": {},
   "source": [
    "### Close all switches int the network"
   ]
  },
  {
   "cell_type": "code",
   "execution_count": 22,
   "id": "40c8bc29-8bdf-4276-bba3-f28a1cab3416",
   "metadata": {
    "execution": {
     "iopub.execute_input": "2024-04-17T11:56:11.667456Z",
     "iopub.status.busy": "2024-04-17T11:56:11.665661Z",
     "iopub.status.idle": "2024-04-17T11:56:11.763174Z",
     "shell.execute_reply": "2024-04-17T11:56:11.762335Z",
     "shell.execute_reply.started": "2024-04-17T11:56:11.667327Z"
    }
   },
   "outputs": [
    {
     "name": "stderr",
     "output_type": "stream",
     "text": [
      "Branch results are in beta mode and might not always be reliable, especially for transformers\n"
     ]
    },
    {
     "data": {
      "text/html": [
       "<div>\n",
       "<style scoped>\n",
       "    .dataframe tbody tr th:only-of-type {\n",
       "        vertical-align: middle;\n",
       "    }\n",
       "\n",
       "    .dataframe tbody tr th {\n",
       "        vertical-align: top;\n",
       "    }\n",
       "\n",
       "    .dataframe thead th {\n",
       "        text-align: right;\n",
       "    }\n",
       "</style>\n",
       "<table border=\"1\" class=\"dataframe\">\n",
       "  <thead>\n",
       "    <tr style=\"text-align: right;\">\n",
       "      <th></th>\n",
       "      <th>ikss_ka</th>\n",
       "      <th>ikss_from_ka</th>\n",
       "      <th>ikss_from_degree</th>\n",
       "      <th>ikss_to_ka</th>\n",
       "      <th>ikss_to_degree</th>\n",
       "      <th>p_from_mw</th>\n",
       "      <th>q_from_mvar</th>\n",
       "      <th>p_to_mw</th>\n",
       "      <th>q_to_mvar</th>\n",
       "      <th>vm_from_pu</th>\n",
       "      <th>va_from_degree</th>\n",
       "      <th>vm_to_pu</th>\n",
       "      <th>va_to_degree</th>\n",
       "      <th>ip_ka</th>\n",
       "      <th>ith_ka</th>\n",
       "    </tr>\n",
       "  </thead>\n",
       "  <tbody>\n",
       "    <tr>\n",
       "      <th>0</th>\n",
       "      <td>0.279812</td>\n",
       "      <td>0.279812</td>\n",
       "      <td>-72.094339</td>\n",
       "      <td>0.279812</td>\n",
       "      <td>107.905661</td>\n",
       "      <td>0.539060</td>\n",
       "      <td>0.584863</td>\n",
       "      <td>0.000000</td>\n",
       "      <td>-0.000000</td>\n",
       "      <td>0.014920</td>\n",
       "      <td>-24.760693</td>\n",
       "      <td>0.005438</td>\n",
       "      <td>-24.820004</td>\n",
       "      <td>0.550740</td>\n",
       "      <td>0.280558</td>\n",
       "    </tr>\n",
       "    <tr>\n",
       "      <th>1</th>\n",
       "      <td>0.190781</td>\n",
       "      <td>0.190781</td>\n",
       "      <td>107.905661</td>\n",
       "      <td>0.190781</td>\n",
       "      <td>-72.094339</td>\n",
       "      <td>0.089501</td>\n",
       "      <td>0.097106</td>\n",
       "      <td>0.200477</td>\n",
       "      <td>0.217511</td>\n",
       "      <td>0.005438</td>\n",
       "      <td>-24.820004</td>\n",
       "      <td>0.008138</td>\n",
       "      <td>-24.760693</td>\n",
       "      <td>0.375504</td>\n",
       "      <td>0.191289</td>\n",
       "    </tr>\n",
       "    <tr>\n",
       "      <th>2</th>\n",
       "      <td>0.344176</td>\n",
       "      <td>0.344176</td>\n",
       "      <td>107.846349</td>\n",
       "      <td>0.344176</td>\n",
       "      <td>-72.153651</td>\n",
       "      <td>0.000000</td>\n",
       "      <td>-0.000000</td>\n",
       "      <td>0.543720</td>\n",
       "      <td>0.589918</td>\n",
       "      <td>0.008138</td>\n",
       "      <td>-24.760693</td>\n",
       "      <td>0.014920</td>\n",
       "      <td>-24.760693</td>\n",
       "      <td>0.678046</td>\n",
       "      <td>0.345097</td>\n",
       "    </tr>\n",
       "  </tbody>\n",
       "</table>\n",
       "</div>"
      ],
      "text/plain": [
       "    ikss_ka  ikss_from_ka  ikss_from_degree  ikss_to_ka  ikss_to_degree  \\\n",
       "0  0.279812      0.279812        -72.094339    0.279812      107.905661   \n",
       "1  0.190781      0.190781        107.905661    0.190781      -72.094339   \n",
       "2  0.344176      0.344176        107.846349    0.344176      -72.153651   \n",
       "\n",
       "   p_from_mw  q_from_mvar   p_to_mw  q_to_mvar  vm_from_pu  va_from_degree  \\\n",
       "0   0.539060     0.584863  0.000000  -0.000000    0.014920      -24.760693   \n",
       "1   0.089501     0.097106  0.200477   0.217511    0.005438      -24.820004   \n",
       "2   0.000000    -0.000000  0.543720   0.589918    0.008138      -24.760693   \n",
       "\n",
       "   vm_to_pu  va_to_degree     ip_ka    ith_ka  \n",
       "0  0.005438    -24.820004  0.550740  0.280558  \n",
       "1  0.008138    -24.760693  0.375504  0.191289  \n",
       "2  0.014920    -24.760693  0.678046  0.345097  "
      ]
     },
     "execution_count": 22,
     "metadata": {},
     "output_type": "execute_result"
    }
   ],
   "source": [
    "net.switch.loc[:, \"closed\"] = True\n",
    "sc.calc_sc(net, ith=True, ip=True, tk_s=2., branch_results=True, topology=\"auto\")\n",
    "net.res_line_sc"
   ]
  }
 ],
 "metadata": {
  "kernelspec": {
   "display_name": "Python 3 (ipykernel)",
   "language": "python",
   "name": "python3"
  },
  "language_info": {
   "codemirror_mode": {
    "name": "ipython",
    "version": 3
   },
   "file_extension": ".py",
   "mimetype": "text/x-python",
   "name": "python",
   "nbconvert_exporter": "python",
   "pygments_lexer": "ipython3",
   "version": "3.10.12"
  }
 },
 "nbformat": 4,
 "nbformat_minor": 5
}
