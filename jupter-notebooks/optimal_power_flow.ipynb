{
 "cells": [
  {
   "cell_type": "markdown",
   "id": "a394a460-ca9d-4fc4-b931-7e18a8c790b3",
   "metadata": {},
   "source": [
    "# Optimal Power Flow\n",
    "\n",
    "### Objective\n",
    "Minimize the total generation cost of electrical power across several generating units while meeting fixed power demand and adhering to system stability constraints.\n",
    "\n",
    "### Variables\n",
    "- $P_i$ - Power output of generator $i$ in megawatts (MW).\n",
    "\n",
    "### Parameters\n",
    "- $a_i, b_i, c_i$ - Cost coefficients for generator $i$ representing the quadratic cost function: \n",
    "\n",
    "$$ C_i(P_i) = a_i P_i^2 + b_i P_i + c_i $$\n",
    "\n",
    "- $P_{\\text{min}_i}, P_{\\text{max}_i}$ - Minimum and maximum power output for generator $i$ in MW.\n",
    "- $D$ - Total power demand in MW.\n",
    "- $T_{ij}$ - Maximum transmission capacity between generator $i$ and $j$ in MW.\n",
    "\n",
    "### Objective Function\n",
    "Minimize the total cost:\n",
    "\n",
    "$$\\sum_{i=1}^{3} (a_i P_i^2 + b_i P_i + c_i) $$\n",
    "\n",
    "### Constraints\n",
    "1. **Power Generation Limits**:\n",
    "   $$ P_{\\text{min}_i} \\leq P_i \\leq P_{\\text{max}_i} \\quad \\text{for each } i $$\n",
    "2. **Demand Satisfaction**:\n",
    "   $$ \\sum_{i=1}^{3} P_i = D $$\n",
    "3. **Transmission Limits**:\n",
    "   $$ |P_i - P_j| \\leq T_{ij} \\quad \\text{for all } i \\neq j $$\n"
   ]
  },
  {
   "cell_type": "code",
   "execution_count": 1,
   "id": "d6df84d0-8b72-4092-8fed-4047b151301c",
   "metadata": {
    "tags": []
   },
   "outputs": [
    {
     "name": "stdout",
     "output_type": "stream",
     "text": [
      "Solution found:\n",
      "Generator 1 Output: 66.15 MW\n",
      "Generator 2 Output: 40.77 MW\n",
      "Generator 3 Output: 43.08 MW\n",
      "Total Generation Cost: $3091.54\n"
     ]
    }
   ],
   "source": [
    "from core.functions import OptimalPowerFlow\n",
    "\n",
    "\n",
    "# Data for the problem\n",
    "num_generators = 3\n",
    "cost_coeffs = [(0.1, 14, 30), (0.15, 15, 25), (0.2, 10, 10)]  # (a, b, c) for each generator\n",
    "min_output = [10, 10, 10]\n",
    "max_output = [100, 90, 80]\n",
    "demand = 150\n",
    "transmission_limits = {('1', '2'): 50, ('1', '3'): 50, ('2', '3'): 30}\n",
    "\n",
    "# Create and solve the OPF problem\n",
    "opf = OptimalPowerFlow(num_generators, cost_coeffs, min_output, max_output, demand, transmission_limits)\n",
    "opf.setup_problem()\n",
    "opf.solve()\n"
   ]
  },
  {
   "cell_type": "code",
   "execution_count": null,
   "id": "1e2ac892-a366-48de-8d92-95097da10388",
   "metadata": {},
   "outputs": [],
   "source": []
  }
 ],
 "metadata": {
  "kernelspec": {
   "display_name": "Python 3 (ipykernel)",
   "language": "python",
   "name": "python3"
  },
  "language_info": {
   "codemirror_mode": {
    "name": "ipython",
    "version": 3
   },
   "file_extension": ".py",
   "mimetype": "text/x-python",
   "name": "python",
   "nbconvert_exporter": "python",
   "pygments_lexer": "ipython3",
   "version": "3.10.14"
  }
 },
 "nbformat": 4,
 "nbformat_minor": 5
}
