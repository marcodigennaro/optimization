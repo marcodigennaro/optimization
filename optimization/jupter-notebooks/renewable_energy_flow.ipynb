{
 "cells": [
  {
   "cell_type": "markdown",
   "id": "d47c3425-f3f7-4f02-9ff8-89a40212b049",
   "metadata": {},
   "source": [
    "# Renewable energy sources optimization\n",
    "\n",
    "### Problem formulation\n",
    "\n",
    "We want to optimize the distribution of the energy load coming from multiple sources.\n",
    "We have to satisfy the demand of several customers, and to minimize the overall cost.\n",
    "Let us take a simplified example, with two renewable energies sources and two customers.\n",
    "\n",
    "### Parameters\n",
    "\n",
    "- **Energy Sources**: Solar and Wind, each with different capacities and costs.\n",
    "  \n",
    "  | Source            | Capacity (kW) | Cost (€/kW) |\n",
    "  |-------------------|---------------|-------------|\n",
    "  | Solar | 100           | 0.15        |                    \n",
    "  |  Wind | 150           | 0.20        |                   \n",
    "\n",
    "- **Customers**: A & B, each with a specific energy demand.\n",
    "    - Consumer A: $D_A$ = 90 kW\n",
    "    - Consumer B: $D_B$ = 120 kW\n",
    "\n",
    "- **Objective**: Minimize the total cost of energy distribution while meeting all consumer demands without exceeding the source capacities.\n",
    "\n",
    "- **Tools**: Linear programming, Quadratic Programming...\n",
    "\n",
    "- An analytical solution is possible as well (look [here](https://math.stackexchange.com/questions/4909516/linear-optimization-using-lagrange-multipliers/4909626#4909626))\n",
    "\n",
    "\n",
    "\n",
    "### Formulation\n",
    "\n",
    "- **Variables**:\n",
    "    - $x_{i,a}$: Amount of energy transferred from source $i$ to consumer $a$.\n",
    "- **Objective**\n",
    "    We can define a linear cost, to be minimized:\n",
    "    $$ \\text{Cost} = cost_I \\times (x_{I,A} + x_{I,B}) + cost_J \\times(x_{J,A} + x_{J,B}) $$\n",
    "- **Constraints**\n",
    "  At any time these constraint must be met:\n",
    "    1. Total energy supplied to each consumer meets their demand.\n",
    "        - Demand of Consumer A: $x_{I,A} + x_{J,A} = D_A$\n",
    "        - Demand of Consumer B: $x_{I,B} + x_{J,B} = D_B$\n",
    "    2. The total energy taken from each source does not exceed its capacity.\n",
    "        - Solar capacity: $x_{I,A} + x_{I,B} \\leq S_{max}$\n",
    "        - Wind capacity: $x_{J,A} + x_{J,B} \\leq W_{max}$\n",
    "    3. All energies must be positive\n",
    "       - $x_{i,a} \\geq 0$ for any $(i, a)$\n",
    "         "
   ]
  },
  {
   "cell_type": "markdown",
   "id": "f5177e06-8aca-4a29-aabc-1b8d43834f4c",
   "metadata": {},
   "source": [
    "# EnergySource, Consumer, EnergyDistribution classes\n",
    "\n",
    "Let us take advantage of three classes to store and validate data"
   ]
  },
  {
   "cell_type": "code",
   "execution_count": 1,
   "id": "260b1cd1-f5fb-4c9d-b78d-3a89035960f4",
   "metadata": {
    "execution": {
     "iopub.execute_input": "2024-05-03T08:32:24.555260Z",
     "iopub.status.busy": "2024-05-03T08:32:24.554879Z",
     "iopub.status.idle": "2024-05-03T08:32:25.009289Z",
     "shell.execute_reply": "2024-05-03T08:32:25.008561Z",
     "shell.execute_reply.started": "2024-05-03T08:32:24.555224Z"
    }
   },
   "outputs": [],
   "source": [
    "from optimization.core.renewables import EnergySource, Consumer, EnergyDistribution\n",
    "\n",
    "# Create EnergySource instances\n",
    "solar = EnergySource(\"Solar\", 100, 0.3)\n",
    "wind = EnergySource(\"Wind\", 150, 0.25)\n",
    "\n",
    "# Create Consumer instances\n",
    "consumer_a = Consumer(\"A\", 90.)\n",
    "consumer_b = Consumer(\"B\", 120.)\n",
    "\n",
    "# Create the energy distribution system\n",
    "system = EnergyDistribution()\n",
    "\n",
    "system.add_source(solar)\n",
    "system.add_source(wind)\n",
    "\n",
    "system.add_consumer(consumer_a)\n",
    "system.add_consumer(consumer_b)"
   ]
  },
  {
   "cell_type": "markdown",
   "id": "bcfe767a-0bb9-42bc-862a-9aa6ebab9822",
   "metadata": {},
   "source": [
    "### Test guess solution\n",
    "\n",
    "The guess solution is proposed as a numpy array, the first column being the solar demand, and the second one is wind requirement. The row corrsespond to Customers A and B respectively.\n",
    "\n",
    "We can use the `calculate_cost` method implemented in the `EnergyDistribution` class.\n",
    "\n",
    "Mind that the solutions are internally checked by `check_solution_integrity` to verify that the problem requirements are satisfied. If a solution does not respect the constraint, an error will be raised."
   ]
  },
  {
   "cell_type": "code",
   "execution_count": 2,
   "id": "372ab9f3-d281-4a5c-98fc-b36c4f88228a",
   "metadata": {
    "execution": {
     "iopub.execute_input": "2024-05-03T08:32:25.010450Z",
     "iopub.status.busy": "2024-05-03T08:32:25.010146Z",
     "iopub.status.idle": "2024-05-03T08:32:25.021375Z",
     "shell.execute_reply": "2024-05-03T08:32:25.020601Z",
     "shell.execute_reply.started": "2024-05-03T08:32:25.010428Z"
    }
   },
   "outputs": [
    {
     "data": {
      "text/plain": [
       "57.5"
      ]
     },
     "execution_count": 2,
     "metadata": {},
     "output_type": "execute_result"
    }
   ],
   "source": [
    "import numpy as np\n",
    "\n",
    "guess_solution = np.array([\n",
    "    [20., 70.],  # >> Customer A \n",
    "    [80., 40.],  # >> Customer B\n",
    "]) \n",
    "\n",
    "system.calculate_cost(guess_solution, test=True)"
   ]
  },
  {
   "cell_type": "markdown",
   "id": "cc303143-3ad4-425b-ae7a-94d6c7f69d59",
   "metadata": {},
   "source": [
    "# Find optimal solution"
   ]
  },
  {
   "cell_type": "code",
   "execution_count": 3,
   "id": "b3c2d8a2-4f37-4212-a4ee-2f4f0ffc703c",
   "metadata": {
    "execution": {
     "iopub.execute_input": "2024-05-03T08:32:25.023212Z",
     "iopub.status.busy": "2024-05-03T08:32:25.022645Z",
     "iopub.status.idle": "2024-05-03T08:32:25.830711Z",
     "shell.execute_reply": "2024-05-03T08:32:25.828540Z",
     "shell.execute_reply.started": "2024-05-03T08:32:25.023170Z"
    }
   },
   "outputs": [
    {
     "ename": "UnboundLocalError",
     "evalue": "local variable 'solar_demand' referenced before assignment",
     "output_type": "error",
     "traceback": [
      "\u001b[0;31m---------------------------------------------------------------------------\u001b[0m",
      "\u001b[0;31mUnboundLocalError\u001b[0m                         Traceback (most recent call last)",
      "Cell \u001b[0;32mIn[3], line 13\u001b[0m\n\u001b[1;32m      5\u001b[0m \u001b[38;5;66;03m# Constraints\u001b[39;00m\n\u001b[1;32m      6\u001b[0m constraints \u001b[38;5;241m=\u001b[39m [\n\u001b[1;32m      7\u001b[0m     {\u001b[38;5;124m'\u001b[39m\u001b[38;5;124mtype\u001b[39m\u001b[38;5;124m'\u001b[39m: \u001b[38;5;124m'\u001b[39m\u001b[38;5;124mineq\u001b[39m\u001b[38;5;124m'\u001b[39m, \u001b[38;5;124m'\u001b[39m\u001b[38;5;124mfun\u001b[39m\u001b[38;5;124m'\u001b[39m: \u001b[38;5;28;01mlambda\u001b[39;00m x: solar\u001b[38;5;241m.\u001b[39mcapacity \u001b[38;5;241m-\u001b[39m x[\u001b[38;5;241m0\u001b[39m::\u001b[38;5;241m2\u001b[39m]\u001b[38;5;241m.\u001b[39msum()}, \u001b[38;5;66;03m# Sum of xs and ys should not exceed solar capacity\u001b[39;00m\n\u001b[1;32m      8\u001b[0m     {\u001b[38;5;124m'\u001b[39m\u001b[38;5;124mtype\u001b[39m\u001b[38;5;124m'\u001b[39m: \u001b[38;5;124m'\u001b[39m\u001b[38;5;124mineq\u001b[39m\u001b[38;5;124m'\u001b[39m, \u001b[38;5;124m'\u001b[39m\u001b[38;5;124mfun\u001b[39m\u001b[38;5;124m'\u001b[39m: \u001b[38;5;28;01mlambda\u001b[39;00m x: wind\u001b[38;5;241m.\u001b[39mcapacity \u001b[38;5;241m-\u001b[39m x[\u001b[38;5;241m1\u001b[39m::\u001b[38;5;241m2\u001b[39m]\u001b[38;5;241m.\u001b[39msum()},  \u001b[38;5;66;03m# Sum of xw and yw should not exceed wind capacity\u001b[39;00m\n\u001b[1;32m      9\u001b[0m     {\u001b[38;5;124m'\u001b[39m\u001b[38;5;124mtype\u001b[39m\u001b[38;5;124m'\u001b[39m: \u001b[38;5;124m'\u001b[39m\u001b[38;5;124meq\u001b[39m\u001b[38;5;124m'\u001b[39m, \u001b[38;5;124m'\u001b[39m\u001b[38;5;124mfun\u001b[39m\u001b[38;5;124m'\u001b[39m: \u001b[38;5;28;01mlambda\u001b[39;00m x: x[\u001b[38;5;241m0\u001b[39m:\u001b[38;5;241m2\u001b[39m]\u001b[38;5;241m.\u001b[39msum() \u001b[38;5;241m-\u001b[39m consumer_a\u001b[38;5;241m.\u001b[39mdemand},   \u001b[38;5;66;03m# Sum of xs and xw equals consumer_a's demand\u001b[39;00m\n\u001b[1;32m     10\u001b[0m     {\u001b[38;5;124m'\u001b[39m\u001b[38;5;124mtype\u001b[39m\u001b[38;5;124m'\u001b[39m: \u001b[38;5;124m'\u001b[39m\u001b[38;5;124meq\u001b[39m\u001b[38;5;124m'\u001b[39m, \u001b[38;5;124m'\u001b[39m\u001b[38;5;124mfun\u001b[39m\u001b[38;5;124m'\u001b[39m: \u001b[38;5;28;01mlambda\u001b[39;00m x: x[\u001b[38;5;241m2\u001b[39m:\u001b[38;5;241m4\u001b[39m]\u001b[38;5;241m.\u001b[39msum() \u001b[38;5;241m-\u001b[39m consumer_b\u001b[38;5;241m.\u001b[39mdemand},   \u001b[38;5;66;03m# Sum of ys and yw equals consumer_b's demand\u001b[39;00m\n\u001b[1;32m     11\u001b[0m ]\n\u001b[0;32m---> 13\u001b[0m \u001b[38;5;28;01massert\u001b[39;00m \u001b[43mminimize\u001b[49m\u001b[43m(\u001b[49m\n\u001b[1;32m     14\u001b[0m \u001b[43m    \u001b[49m\u001b[43msystem\u001b[49m\u001b[38;5;241;43m.\u001b[39;49m\u001b[43mcalculate_cost\u001b[49m\u001b[43m,\u001b[49m\u001b[43m  \u001b[49m\n\u001b[1;32m     15\u001b[0m \u001b[43m    \u001b[49m\u001b[43mx\u001b[49m\u001b[43m,\u001b[49m\u001b[43m \u001b[49m\n\u001b[1;32m     16\u001b[0m \u001b[43m    \u001b[49m\u001b[43mconstraints\u001b[49m\u001b[38;5;241;43m=\u001b[39;49m\u001b[43mconstraints\u001b[49m\u001b[43m)\u001b[49m\u001b[38;5;241m.\u001b[39mx\u001b[38;5;241m.\u001b[39mall() \u001b[38;5;241m==\u001b[39m minimize(\n\u001b[1;32m     17\u001b[0m     objective,  \n\u001b[1;32m     18\u001b[0m     x_vector, \n\u001b[1;32m     19\u001b[0m     constraints\u001b[38;5;241m=\u001b[39mconstraints)\u001b[38;5;241m.\u001b[39mx\u001b[38;5;241m.\u001b[39mall()\n",
      "File \u001b[0;32m~/Desktop/ATOM/optimization/.venv/lib/python3.10/site-packages/scipy/optimize/_minimize.py:722\u001b[0m, in \u001b[0;36mminimize\u001b[0;34m(fun, x0, args, method, jac, hess, hessp, bounds, constraints, tol, callback, options)\u001b[0m\n\u001b[1;32m    719\u001b[0m     res \u001b[38;5;241m=\u001b[39m _minimize_cobyla(fun, x0, args, constraints, callback\u001b[38;5;241m=\u001b[39mcallback,\n\u001b[1;32m    720\u001b[0m                            bounds\u001b[38;5;241m=\u001b[39mbounds, \u001b[38;5;241m*\u001b[39m\u001b[38;5;241m*\u001b[39moptions)\n\u001b[1;32m    721\u001b[0m \u001b[38;5;28;01melif\u001b[39;00m meth \u001b[38;5;241m==\u001b[39m \u001b[38;5;124m'\u001b[39m\u001b[38;5;124mslsqp\u001b[39m\u001b[38;5;124m'\u001b[39m:\n\u001b[0;32m--> 722\u001b[0m     res \u001b[38;5;241m=\u001b[39m \u001b[43m_minimize_slsqp\u001b[49m\u001b[43m(\u001b[49m\u001b[43mfun\u001b[49m\u001b[43m,\u001b[49m\u001b[43m \u001b[49m\u001b[43mx0\u001b[49m\u001b[43m,\u001b[49m\u001b[43m \u001b[49m\u001b[43margs\u001b[49m\u001b[43m,\u001b[49m\u001b[43m \u001b[49m\u001b[43mjac\u001b[49m\u001b[43m,\u001b[49m\u001b[43m \u001b[49m\u001b[43mbounds\u001b[49m\u001b[43m,\u001b[49m\n\u001b[1;32m    723\u001b[0m \u001b[43m                          \u001b[49m\u001b[43mconstraints\u001b[49m\u001b[43m,\u001b[49m\u001b[43m \u001b[49m\u001b[43mcallback\u001b[49m\u001b[38;5;241;43m=\u001b[39;49m\u001b[43mcallback\u001b[49m\u001b[43m,\u001b[49m\u001b[43m \u001b[49m\u001b[38;5;241;43m*\u001b[39;49m\u001b[38;5;241;43m*\u001b[39;49m\u001b[43moptions\u001b[49m\u001b[43m)\u001b[49m\n\u001b[1;32m    724\u001b[0m \u001b[38;5;28;01melif\u001b[39;00m meth \u001b[38;5;241m==\u001b[39m \u001b[38;5;124m'\u001b[39m\u001b[38;5;124mtrust-constr\u001b[39m\u001b[38;5;124m'\u001b[39m:\n\u001b[1;32m    725\u001b[0m     res \u001b[38;5;241m=\u001b[39m _minimize_trustregion_constr(fun, x0, args, jac, hess, hessp,\n\u001b[1;32m    726\u001b[0m                                        bounds, constraints,\n\u001b[1;32m    727\u001b[0m                                        callback\u001b[38;5;241m=\u001b[39mcallback, \u001b[38;5;241m*\u001b[39m\u001b[38;5;241m*\u001b[39moptions)\n",
      "File \u001b[0;32m~/Desktop/ATOM/optimization/.venv/lib/python3.10/site-packages/scipy/optimize/_slsqp_py.py:383\u001b[0m, in \u001b[0;36m_minimize_slsqp\u001b[0;34m(func, x0, args, jac, bounds, constraints, maxiter, ftol, iprint, disp, eps, callback, finite_diff_rel_step, **unknown_options)\u001b[0m\n\u001b[1;32m    380\u001b[0m     xu[infbnd[:, \u001b[38;5;241m1\u001b[39m]] \u001b[38;5;241m=\u001b[39m np\u001b[38;5;241m.\u001b[39mnan\n\u001b[1;32m    382\u001b[0m \u001b[38;5;66;03m# ScalarFunction provides function and gradient evaluation\u001b[39;00m\n\u001b[0;32m--> 383\u001b[0m sf \u001b[38;5;241m=\u001b[39m \u001b[43m_prepare_scalar_function\u001b[49m\u001b[43m(\u001b[49m\u001b[43mfunc\u001b[49m\u001b[43m,\u001b[49m\u001b[43m \u001b[49m\u001b[43mx\u001b[49m\u001b[43m,\u001b[49m\u001b[43m \u001b[49m\u001b[43mjac\u001b[49m\u001b[38;5;241;43m=\u001b[39;49m\u001b[43mjac\u001b[49m\u001b[43m,\u001b[49m\u001b[43m \u001b[49m\u001b[43margs\u001b[49m\u001b[38;5;241;43m=\u001b[39;49m\u001b[43margs\u001b[49m\u001b[43m,\u001b[49m\u001b[43m \u001b[49m\u001b[43mepsilon\u001b[49m\u001b[38;5;241;43m=\u001b[39;49m\u001b[43meps\u001b[49m\u001b[43m,\u001b[49m\n\u001b[1;32m    384\u001b[0m \u001b[43m                              \u001b[49m\u001b[43mfinite_diff_rel_step\u001b[49m\u001b[38;5;241;43m=\u001b[39;49m\u001b[43mfinite_diff_rel_step\u001b[49m\u001b[43m,\u001b[49m\n\u001b[1;32m    385\u001b[0m \u001b[43m                              \u001b[49m\u001b[43mbounds\u001b[49m\u001b[38;5;241;43m=\u001b[39;49m\u001b[43mnew_bounds\u001b[49m\u001b[43m)\u001b[49m\n\u001b[1;32m    386\u001b[0m \u001b[38;5;66;03m# gh11403 SLSQP sometimes exceeds bounds by 1 or 2 ULP, make sure this\u001b[39;00m\n\u001b[1;32m    387\u001b[0m \u001b[38;5;66;03m# doesn't get sent to the func/grad evaluator.\u001b[39;00m\n\u001b[1;32m    388\u001b[0m wrapped_fun \u001b[38;5;241m=\u001b[39m _clip_x_for_func(sf\u001b[38;5;241m.\u001b[39mfun, new_bounds)\n",
      "File \u001b[0;32m~/Desktop/ATOM/optimization/.venv/lib/python3.10/site-packages/scipy/optimize/_optimize.py:288\u001b[0m, in \u001b[0;36m_prepare_scalar_function\u001b[0;34m(fun, x0, jac, args, bounds, epsilon, finite_diff_rel_step, hess)\u001b[0m\n\u001b[1;32m    284\u001b[0m     bounds \u001b[38;5;241m=\u001b[39m (\u001b[38;5;241m-\u001b[39mnp\u001b[38;5;241m.\u001b[39minf, np\u001b[38;5;241m.\u001b[39minf)\n\u001b[1;32m    286\u001b[0m \u001b[38;5;66;03m# ScalarFunction caches. Reuse of fun(x) during grad\u001b[39;00m\n\u001b[1;32m    287\u001b[0m \u001b[38;5;66;03m# calculation reduces overall function evaluations.\u001b[39;00m\n\u001b[0;32m--> 288\u001b[0m sf \u001b[38;5;241m=\u001b[39m \u001b[43mScalarFunction\u001b[49m\u001b[43m(\u001b[49m\u001b[43mfun\u001b[49m\u001b[43m,\u001b[49m\u001b[43m \u001b[49m\u001b[43mx0\u001b[49m\u001b[43m,\u001b[49m\u001b[43m \u001b[49m\u001b[43margs\u001b[49m\u001b[43m,\u001b[49m\u001b[43m \u001b[49m\u001b[43mgrad\u001b[49m\u001b[43m,\u001b[49m\u001b[43m \u001b[49m\u001b[43mhess\u001b[49m\u001b[43m,\u001b[49m\n\u001b[1;32m    289\u001b[0m \u001b[43m                    \u001b[49m\u001b[43mfinite_diff_rel_step\u001b[49m\u001b[43m,\u001b[49m\u001b[43m \u001b[49m\u001b[43mbounds\u001b[49m\u001b[43m,\u001b[49m\u001b[43m \u001b[49m\u001b[43mepsilon\u001b[49m\u001b[38;5;241;43m=\u001b[39;49m\u001b[43mepsilon\u001b[49m\u001b[43m)\u001b[49m\n\u001b[1;32m    291\u001b[0m \u001b[38;5;28;01mreturn\u001b[39;00m sf\n",
      "File \u001b[0;32m~/Desktop/ATOM/optimization/.venv/lib/python3.10/site-packages/scipy/optimize/_differentiable_functions.py:166\u001b[0m, in \u001b[0;36mScalarFunction.__init__\u001b[0;34m(self, fun, x0, args, grad, hess, finite_diff_rel_step, finite_diff_bounds, epsilon)\u001b[0m\n\u001b[1;32m    163\u001b[0m     \u001b[38;5;28mself\u001b[39m\u001b[38;5;241m.\u001b[39mf \u001b[38;5;241m=\u001b[39m fun_wrapped(\u001b[38;5;28mself\u001b[39m\u001b[38;5;241m.\u001b[39mx)\n\u001b[1;32m    165\u001b[0m \u001b[38;5;28mself\u001b[39m\u001b[38;5;241m.\u001b[39m_update_fun_impl \u001b[38;5;241m=\u001b[39m update_fun\n\u001b[0;32m--> 166\u001b[0m \u001b[38;5;28;43mself\u001b[39;49m\u001b[38;5;241;43m.\u001b[39;49m\u001b[43m_update_fun\u001b[49m\u001b[43m(\u001b[49m\u001b[43m)\u001b[49m\n\u001b[1;32m    168\u001b[0m \u001b[38;5;66;03m# Gradient evaluation\u001b[39;00m\n\u001b[1;32m    169\u001b[0m \u001b[38;5;28;01mif\u001b[39;00m \u001b[38;5;28mcallable\u001b[39m(grad):\n",
      "File \u001b[0;32m~/Desktop/ATOM/optimization/.venv/lib/python3.10/site-packages/scipy/optimize/_differentiable_functions.py:262\u001b[0m, in \u001b[0;36mScalarFunction._update_fun\u001b[0;34m(self)\u001b[0m\n\u001b[1;32m    260\u001b[0m \u001b[38;5;28;01mdef\u001b[39;00m \u001b[38;5;21m_update_fun\u001b[39m(\u001b[38;5;28mself\u001b[39m):\n\u001b[1;32m    261\u001b[0m     \u001b[38;5;28;01mif\u001b[39;00m \u001b[38;5;129;01mnot\u001b[39;00m \u001b[38;5;28mself\u001b[39m\u001b[38;5;241m.\u001b[39mf_updated:\n\u001b[0;32m--> 262\u001b[0m         \u001b[38;5;28;43mself\u001b[39;49m\u001b[38;5;241;43m.\u001b[39;49m\u001b[43m_update_fun_impl\u001b[49m\u001b[43m(\u001b[49m\u001b[43m)\u001b[49m\n\u001b[1;32m    263\u001b[0m         \u001b[38;5;28mself\u001b[39m\u001b[38;5;241m.\u001b[39mf_updated \u001b[38;5;241m=\u001b[39m \u001b[38;5;28;01mTrue\u001b[39;00m\n",
      "File \u001b[0;32m~/Desktop/ATOM/optimization/.venv/lib/python3.10/site-packages/scipy/optimize/_differentiable_functions.py:163\u001b[0m, in \u001b[0;36mScalarFunction.__init__.<locals>.update_fun\u001b[0;34m()\u001b[0m\n\u001b[1;32m    162\u001b[0m \u001b[38;5;28;01mdef\u001b[39;00m \u001b[38;5;21mupdate_fun\u001b[39m():\n\u001b[0;32m--> 163\u001b[0m     \u001b[38;5;28mself\u001b[39m\u001b[38;5;241m.\u001b[39mf \u001b[38;5;241m=\u001b[39m \u001b[43mfun_wrapped\u001b[49m\u001b[43m(\u001b[49m\u001b[38;5;28;43mself\u001b[39;49m\u001b[38;5;241;43m.\u001b[39;49m\u001b[43mx\u001b[49m\u001b[43m)\u001b[49m\n",
      "File \u001b[0;32m~/Desktop/ATOM/optimization/.venv/lib/python3.10/site-packages/scipy/optimize/_differentiable_functions.py:145\u001b[0m, in \u001b[0;36mScalarFunction.__init__.<locals>.fun_wrapped\u001b[0;34m(x)\u001b[0m\n\u001b[1;32m    141\u001b[0m \u001b[38;5;28mself\u001b[39m\u001b[38;5;241m.\u001b[39mnfev \u001b[38;5;241m+\u001b[39m\u001b[38;5;241m=\u001b[39m \u001b[38;5;241m1\u001b[39m\n\u001b[1;32m    142\u001b[0m \u001b[38;5;66;03m# Send a copy because the user may overwrite it.\u001b[39;00m\n\u001b[1;32m    143\u001b[0m \u001b[38;5;66;03m# Overwriting results in undefined behaviour because\u001b[39;00m\n\u001b[1;32m    144\u001b[0m \u001b[38;5;66;03m# fun(self.x) will change self.x, with the two no longer linked.\u001b[39;00m\n\u001b[0;32m--> 145\u001b[0m fx \u001b[38;5;241m=\u001b[39m \u001b[43mfun\u001b[49m\u001b[43m(\u001b[49m\u001b[43mnp\u001b[49m\u001b[38;5;241;43m.\u001b[39;49m\u001b[43mcopy\u001b[49m\u001b[43m(\u001b[49m\u001b[43mx\u001b[49m\u001b[43m)\u001b[49m\u001b[43m,\u001b[49m\u001b[43m \u001b[49m\u001b[38;5;241;43m*\u001b[39;49m\u001b[43margs\u001b[49m\u001b[43m)\u001b[49m\n\u001b[1;32m    146\u001b[0m \u001b[38;5;66;03m# Make sure the function returns a true scalar\u001b[39;00m\n\u001b[1;32m    147\u001b[0m \u001b[38;5;28;01mif\u001b[39;00m \u001b[38;5;129;01mnot\u001b[39;00m np\u001b[38;5;241m.\u001b[39misscalar(fx):\n",
      "File \u001b[0;32m~/Desktop/ATOM/optimization/optimization/core/renewables.py:187\u001b[0m, in \u001b[0;36mEnergyDistribution.calculate_cost\u001b[0;34m(self, x_array, test)\u001b[0m\n\u001b[1;32m    184\u001b[0m \u001b[38;5;28;01mif\u001b[39;00m test:\n\u001b[1;32m    185\u001b[0m     solar_demand, wind_demand \u001b[38;5;241m=\u001b[39m \u001b[38;5;28mself\u001b[39m\u001b[38;5;241m.\u001b[39mcheck_solution_integrity(x_array)\n\u001b[0;32m--> 187\u001b[0m \u001b[38;5;28;01mreturn\u001b[39;00m \u001b[38;5;28mself\u001b[39m\u001b[38;5;241m.\u001b[39msources[\u001b[38;5;124m'\u001b[39m\u001b[38;5;124mSolar\u001b[39m\u001b[38;5;124m'\u001b[39m][\u001b[38;5;124m'\u001b[39m\u001b[38;5;124mcost_per_unit\u001b[39m\u001b[38;5;124m'\u001b[39m] \u001b[38;5;241m*\u001b[39m \u001b[43msolar_demand\u001b[49m \u001b[38;5;241m+\u001b[39m \\\n\u001b[1;32m    188\u001b[0m     \u001b[38;5;28mself\u001b[39m\u001b[38;5;241m.\u001b[39msources[\u001b[38;5;124m'\u001b[39m\u001b[38;5;124mWind\u001b[39m\u001b[38;5;124m'\u001b[39m][\u001b[38;5;124m'\u001b[39m\u001b[38;5;124mcost_per_unit\u001b[39m\u001b[38;5;124m'\u001b[39m] \u001b[38;5;241m*\u001b[39m wind_demand\n",
      "\u001b[0;31mUnboundLocalError\u001b[0m: local variable 'solar_demand' referenced before assignment"
     ]
    }
   ],
   "source": [
    "from scipy.optimize import minimize\n",
    "\n",
    "x = np.array([1., 1., 1., 1.])\n",
    "\n",
    "# Constraints\n",
    "constraints = [\n",
    "    {'type': 'ineq', 'fun': lambda x: solar.capacity - x[0::2].sum()}, # Sum of xs and ys should not exceed solar capacity\n",
    "    {'type': 'ineq', 'fun': lambda x: wind.capacity - x[1::2].sum()},  # Sum of xw and yw should not exceed wind capacity\n",
    "    {'type': 'eq', 'fun': lambda x: x[0:2].sum() - consumer_a.demand},   # Sum of xs and xw equals consumer_a's demand\n",
    "    {'type': 'eq', 'fun': lambda x: x[2:4].sum() - consumer_b.demand},   # Sum of ys and yw equals consumer_b's demand\n",
    "]\n",
    "\n",
    "assert minimize(\n",
    "    system.calculate_cost,  \n",
    "    x, \n",
    "    constraints=constraints).x.all() == minimize(\n",
    "    objective,  \n",
    "    x_vector, \n",
    "    constraints=constraints).x.all()"
   ]
  },
  {
   "cell_type": "code",
   "execution_count": null,
   "id": "abfcc58e-cc0a-4b84-9b62-eaa4a8430bda",
   "metadata": {
    "execution": {
     "iopub.status.busy": "2024-05-03T08:32:25.831719Z",
     "iopub.status.idle": "2024-05-03T08:32:25.832285Z",
     "shell.execute_reply": "2024-05-03T08:32:25.832033Z",
     "shell.execute_reply.started": "2024-05-03T08:32:25.832006Z"
    },
    "scrolled": true
   },
   "outputs": [],
   "source": [
    "# Solve\n",
    "max_capacity = max( solar.capacity, wind.capacity )\n",
    "\n",
    "solution = minimize(\n",
    "    system.calculate_cost,  \n",
    "    x_vector, \n",
    "    constraints=constraints,\n",
    "    bounds = len(x_vector)*[(0,max_capacity)],\n",
    "    method='SLSQP',\n",
    "    options={'disp': True,'maxiter' : 100000}\n",
    ")\n",
    "\n",
    "solution"
   ]
  },
  {
   "cell_type": "code",
   "execution_count": null,
   "id": "ffdb1436-edc1-4964-b32a-379864898143",
   "metadata": {
    "execution": {
     "iopub.status.busy": "2024-05-03T08:32:25.834283Z",
     "iopub.status.idle": "2024-05-03T08:32:25.835650Z",
     "shell.execute_reply": "2024-05-03T08:32:25.835333Z",
     "shell.execute_reply.started": "2024-05-03T08:32:25.835269Z"
    }
   },
   "outputs": [],
   "source": [
    "solution.x.reshape(x_array.shape)"
   ]
  },
  {
   "cell_type": "code",
   "execution_count": null,
   "id": "9103e733-489d-453c-9680-caf526290c18",
   "metadata": {
    "execution": {
     "iopub.status.busy": "2024-05-03T08:32:25.836872Z",
     "iopub.status.idle": "2024-05-03T08:32:25.837305Z",
     "shell.execute_reply": "2024-05-03T08:32:25.837142Z",
     "shell.execute_reply.started": "2024-05-03T08:32:25.837124Z"
    }
   },
   "outputs": [],
   "source": [
    "import numpy as np\n",
    "xrange = np.arange(0.4, max(consumer_a.demand, consumer_b.demand, consumer_c.demand), 0.4)\n",
    "xrange = list(range(1,6))\n",
    "xrange\n"
   ]
  },
  {
   "cell_type": "code",
   "execution_count": null,
   "id": "41c20621-314d-4a81-827a-ad648943e884",
   "metadata": {
    "execution": {
     "iopub.status.busy": "2024-05-03T08:32:25.839115Z",
     "iopub.status.idle": "2024-05-03T08:32:25.839797Z",
     "shell.execute_reply": "2024-05-03T08:32:25.839635Z",
     "shell.execute_reply.started": "2024-05-03T08:32:25.839616Z"
    }
   },
   "outputs": [],
   "source": [
    "import numpy as np\n",
    "\n",
    "def objective(x, y):\n",
    "    return solar.cost_per_unit * x + wind.cost_per_unit * (y - y**2)\n",
    "\n",
    "x = np.linspace(0, 1000, 100)\n",
    "y = np.linspace(0, 100, 100)\n",
    "X, Y = np.meshgrid(x, y)\n",
    "Z = objective(X, Y)\n",
    "\n",
    "import matplotlib.pyplot as plt\n",
    "\n",
    "plt.figure(figsize=(8, 6))\n",
    "plt.contourf(X, Y, Z, 20, cmap='viridis')  # Use a colormap like 'viridis', 'hot', 'cool', etc.\n",
    "plt.colorbar()  # Adds a color bar to indicate the scale\n",
    "plt.title('Heatmap of objective function')\n",
    "plt.xlabel('Wind')\n",
    "plt.ylabel('Solar')\n",
    "plt.show()\n"
   ]
  },
  {
   "cell_type": "code",
   "execution_count": null,
   "id": "8a81c596-b9cd-4ce4-b0af-17dc2af57098",
   "metadata": {
    "execution": {
     "iopub.status.busy": "2024-05-03T08:32:25.840952Z",
     "iopub.status.idle": "2024-05-03T08:32:25.841710Z",
     "shell.execute_reply": "2024-05-03T08:32:25.841557Z",
     "shell.execute_reply.started": "2024-05-03T08:32:25.841540Z"
    }
   },
   "outputs": [],
   "source": [
    "from itertools import product\n",
    "\n",
    "def generate_matrix(xrange):    \n",
    "    for indices in product(*[xrange] * 6):\n",
    "        yield np.array(indices)"
   ]
  },
  {
   "cell_type": "code",
   "execution_count": null,
   "id": "393ad609-2d9f-49fc-8ee6-ef729fc6f0b7",
   "metadata": {
    "execution": {
     "iopub.status.busy": "2024-05-03T08:32:25.842855Z",
     "iopub.status.idle": "2024-05-03T08:32:25.843339Z",
     "shell.execute_reply": "2024-05-03T08:32:25.843126Z",
     "shell.execute_reply.started": "2024-05-03T08:32:25.843105Z"
    }
   },
   "outputs": [],
   "source": [
    "xgrid = generate_matrix(xrange)\n",
    "\n",
    "min_cost = 1e9\n",
    "\n",
    "print(consumer_a.demand)\n",
    "for x_vector in generate_matrix(xrange):\n",
    "    \n",
    "    if x_vector[0:2].sum() == consumer_a.demand and \\\n",
    "       x_vector[2:4].sum() == consumer_b.demand and \\\n",
    "       x_vector[4:6].sum() == consumer_c.demand and \\\n",
    "       x_vector[0::2].sum() <= solar.capacity and \\\n",
    "       x_vector[1::2].sum() <= wind.capacity:\n",
    "\n",
    "        print(x_vector, x_vector[0::2].sum())\n",
    "        \n",
    "        cost = cost_function_vector(x_vector)\n",
    "        \n",
    "        if cost <= min_cost:\n",
    "            min_cost = cost \n",
    "            print(x_vector, min_cost)"
   ]
  },
  {
   "cell_type": "code",
   "execution_count": null,
   "id": "76aa727e-cb44-42ef-9993-b9d8d16cd2e3",
   "metadata": {
    "execution": {
     "iopub.status.busy": "2024-05-03T08:32:25.844510Z",
     "iopub.status.idle": "2024-05-03T08:32:25.845006Z",
     "shell.execute_reply": "2024-05-03T08:32:25.844777Z",
     "shell.execute_reply.started": "2024-05-03T08:32:25.844756Z"
    }
   },
   "outputs": [],
   "source": [
    "from scipy.optimize import minimize\n",
    "\n",
    "max_capacity = max( solar.capacity, wind.capacity )\n",
    "x_guess = x_array.flatten()\n",
    "\n",
    "print(x_vector)\n",
    "\n",
    "res = minimize(\n",
    "    #cost_function_vector,\n",
    "    lambda x: solar.cost_per_unit * x_guess[0::2].sum() + wind.cost_per_unit * x_guess[1::2].sum(), #what we want to minimize\n",
    "    x_guess, \n",
    "\n",
    "    bounds = ((0,max_capacity),(0,max_capacity),(0,max_capacity),(0,max_capacity),(0,max_capacity),(0,max_capacity)),\n",
    "    method='SLSQP',options={'disp': True,'maxiter' : 100000}\n",
    ")\n",
    "\n",
    "res\n",
    "\n",
    "\n",
    "import numpy as np\n",
    "from scipy.optimize import minimize\n",
    "\n",
    "# Objective function\n",
    "def objective(x):\n",
    "    xs, xw, ys, yw = x\n",
    "    return a * (xs + ys) + b * (xw + yw)\n",
    "\n",
    "# Constraints\n",
    "constraints = [\n",
    "    {'type': 'eq', 'fun': lambda x: x[0] + x[1] - Dx},  # xs + xw = Dx\n",
    "    {'type': 'ineq', 'fun': lambda x: S - (x[0] + x[2])},  # xs + ys <= S\n",
    "    {'type': 'eq', 'fun': lambda x: x[2] + x[3] - Dy},  # ys + yw = Dy\n",
    "    {'type': 'ineq', 'fun': lambda x: W - (x[1] + x[3])}  # xw + yw <= W\n",
    "]\n",
    "\n",
    "# Coefficients\n",
    "a = 0.3\n",
    "b = 0.1\n",
    "Dx = 13\n",
    "S = 20\n",
    "Dy = 10\n",
    "W = 15\n",
    "\n",
    "# Initial guesses\n",
    "x0 = np.array([1, 1, 1, 1])\n",
    "\n",
    "# Solve\n",
    "solution = minimize(objective, x0, constraints=constraints)\n",
    "print(solution)"
   ]
  },
  {
   "cell_type": "code",
   "execution_count": null,
   "id": "d17c6d10-f036-49c8-ab5c-172611442d7b",
   "metadata": {
    "execution": {
     "iopub.status.busy": "2024-05-03T08:32:25.848409Z",
     "iopub.status.idle": "2024-05-03T08:32:25.849183Z",
     "shell.execute_reply": "2024-05-03T08:32:25.848956Z",
     "shell.execute_reply.started": "2024-05-03T08:32:25.848933Z"
    }
   },
   "outputs": [],
   "source": [
    "print(res)\n",
    "print(res.fun)"
   ]
  },
  {
   "cell_type": "markdown",
   "id": "7d48f0e3-a723-466e-a5f8-4ab23f290dbc",
   "metadata": {},
   "source": [
    "### TensorFlow Implementation\n",
    "\n",
    "We will use TensorFlow to approximate a solution via a gradient descent approach, treating constraints as penalty terms in the loss function."
   ]
  },
  {
   "cell_type": "code",
   "execution_count": null,
   "id": "e6039284-f3ab-4e9d-b1be-2e64097b745a",
   "metadata": {
    "execution": {
     "iopub.status.busy": "2024-05-03T08:32:25.850335Z",
     "iopub.status.idle": "2024-05-03T08:32:25.850939Z",
     "shell.execute_reply": "2024-05-03T08:32:25.850787Z",
     "shell.execute_reply.started": "2024-05-03T08:32:25.850765Z"
    }
   },
   "outputs": [],
   "source": [
    "import tensorflow as tf\n",
    "\n",
    "# Initialize variables\n",
    "x_solar_A = tf.Variable(x_guess[0] , trainable=True)  \n",
    "x_solar_B = tf.Variable(x_guess[2], trainable=True)\n",
    "x_solar_C = tf.Variable(x_guess[4], trainable=True)\n",
    "x_wind_A = tf.Variable(x_guess[1], trainable=True)\n",
    "x_wind_B = tf.Variable(x_guess[3], trainable=True)\n",
    "x_wind_C = tf.Variable(x_guess[5], trainable=True)\n",
    "\n",
    "# Define constraints as penalties\n",
    "def capacity_constraints():\n",
    "    return [\n",
    "        solar.capacity - (x_solar_A + x_solar_B + x_solar_C),  # Solar capacity\n",
    "        wind.capacity - (x_wind_A + x_wind_B + x_wind_C),    # Wind capacity\n",
    "        x_solar_A + x_wind_A - consumer_a.demand, # Demand of Consumer A\n",
    "        x_solar_B + x_wind_B - consumer_b.demand, # Demand of Consumer B\n",
    "        x_solar_C + x_wind_C - consumer_c.demand  # Demand of Consumer C\n",
    "    ]\n",
    "\n",
    "# Define sources, consumers, and their capacities and demands here\n",
    "\n",
    "# Cost function\n",
    "cost = solar.cost_per_unit * ( x_solar_A + x_solar_B + x_solar_C ) + wind.cost_per_unit * ( x_wind_A + x_wind_B + x_wind_C )\n",
    "\n",
    "# Optimizer\n",
    "optimizer = tf.optimizers.SGD(learning_rate=0.01)\n",
    "optimizer = tf.optimizers.SGD(learning_rate=0.0001)  # Adjust learning rate here\n",
    "\n",
    "# Training step\n",
    "def train_step():\n",
    "    with tf.GradientTape() as tape:\n",
    "        constraints = capacity_constraints()\n",
    "        penalty = tf.reduce_sum(tf.square(constraints))  # Squared penalties for constraint violation\n",
    "        loss = cost + penalty\n",
    "    gradients = tape.gradient(loss, [x_solar_A, x_solar_B, x_solar_C, x_wind_A, x_wind_B, x_wind_C])\n",
    "    optimizer.apply_gradients(zip(gradients, [x_solar_A, x_solar_B, x_solar_C, x_wind_A, x_wind_B, x_wind_C]))\n",
    "    return loss  # Return the loss value\n",
    "\n",
    "# Optimization loop\n",
    "for i in range(100):\n",
    "    loss = train_step()\n",
    "    if (i + 1) % 10 == 0:  # Print cost every 100 iterations\n",
    "        print(f\"Iteration {i + 1}, Cost: {loss.numpy()}\")\n"
   ]
  },
  {
   "cell_type": "code",
   "execution_count": null,
   "id": "95bc2d34-52e6-4ba6-b9f2-bc6728918189",
   "metadata": {
    "execution": {
     "iopub.status.busy": "2024-05-03T08:32:25.851844Z",
     "iopub.status.idle": "2024-05-03T08:32:25.852587Z",
     "shell.execute_reply": "2024-05-03T08:32:25.852359Z",
     "shell.execute_reply.started": "2024-05-03T08:32:25.852337Z"
    }
   },
   "outputs": [],
   "source": [
    "# Output the results\n",
    "print(f'           |   Solar            |  Wind')\n",
    "print(f'Consumer A |{x_solar_A.numpy()}  | {x_wind_A.numpy()}')\n",
    "print(f'Consumer B |{x_solar_B.numpy()}  | {x_wind_B.numpy()}')\n",
    "print(f'Consumer C |{x_solar_C.numpy()}  | {x_wind_C.numpy()}')\n"
   ]
  },
  {
   "cell_type": "code",
   "execution_count": null,
   "id": "5273c998-65bc-4046-8648-b00dd8274eb6",
   "metadata": {
    "execution": {
     "iopub.status.busy": "2024-05-03T08:32:25.853798Z",
     "iopub.status.idle": "2024-05-03T08:32:25.854312Z",
     "shell.execute_reply": "2024-05-03T08:32:25.854080Z",
     "shell.execute_reply.started": "2024-05-03T08:32:25.854056Z"
    }
   },
   "outputs": [],
   "source": [
    "loss.numpy()"
   ]
  },
  {
   "cell_type": "code",
   "execution_count": null,
   "id": "8422999a-691d-4cc1-a69a-5914a3ffd0ad",
   "metadata": {},
   "outputs": [],
   "source": []
  }
 ],
 "metadata": {
  "kernelspec": {
   "display_name": "Python 3 (ipykernel)",
   "language": "python",
   "name": "python3"
  },
  "language_info": {
   "codemirror_mode": {
    "name": "ipython",
    "version": 3
   },
   "file_extension": ".py",
   "mimetype": "text/x-python",
   "name": "python",
   "nbconvert_exporter": "python",
   "pygments_lexer": "ipython3",
   "version": "3.10.12"
  }
 },
 "nbformat": 4,
 "nbformat_minor": 5
}
