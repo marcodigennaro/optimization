{
 "cells": [
  {
   "cell_type": "markdown",
   "id": "d47c3425-f3f7-4f02-9ff8-89a40212b049",
   "metadata": {},
   "source": [
    "# Renewable energy sources optimization\n",
    "\n",
    "### Problem formulation\n",
    "\n",
    "We need to optimize the distribution of the energy load from multiple sources to different consumers.\n",
    "We need to to minimize the overall cost, while satisfying demand constraints.\n",
    "\n",
    "### Parameters\n",
    "\n",
    "- **Energy Sources**: Two sources (e.g., solar and wind), each with different capacities and costs.\n",
    "- **Consumers**: Two consumers, each with a specific energy demand.\n",
    "- **Objective**: Minimize the total cost of energy distribution while meeting all consumer demands without exceeding the source capacities.\n",
    "- **Tools**: Linear programming, Quadratic Programming\n",
    "\n",
    "- **Sources parameters**:\n",
    "\n",
    "    | Source            | Capacity (kW) | Cost (€/kW) |\n",
    "    |-------------------|---------------|-------------|\n",
    "    | **I** (eg. Solar) | 100           | 0.15        |                    \n",
    "    | **J**  (eg. Wind) | 150           | 0.20        |                   \n",
    "\n",
    "\n",
    "- **Consumer Demands**:\n",
    "    - Consumer A = 90 kW\n",
    "    - Consumer B = 120 kW\n",
    "\n",
    "### Formulation\n",
    "\n",
    "- **Variables**:\n",
    "    - $x_{i,a}$: Amount of energy transferred from source $i$ to consumer $a$.\n",
    "- **Objective**\n",
    "    We can define a linear cost, to be minimized:\n",
    "    $$ \\text{Cost} = cost_I \\times (x_{I,A} + x_{I,B}) + cost_J \\times(x_{J,A} + x_{J,B}) $$\n",
    "- **Constraints**\n",
    "  At any time these constraint must be met:\n",
    "    1. Total energy supplied to each consumer meets their demand.\n",
    "        - Demand of Consumer A: $x_{I,A} + x_{J,A} = 90$\n",
    "        - Demand of Consumer B: $x_{I,B} + x_{J,B} = 120$\n",
    "    2. The total energy taken from each source does not exceed its capacity.\n",
    "        - Solar capacity: $x_{I,A} + x_{I,B} \\leq 100$\n",
    "        - Wind capacity: $x_{J,A} + x_{J,B} \\leq 150$\n",
    "    3. All energies must be positive\n",
    "       - $x_{i,a} \\geq 0$ for any $(i, a)$\n",
    "         "
   ]
  },
  {
   "cell_type": "code",
   "execution_count": 1,
   "id": "73f0c626-e652-4270-b76e-eac33aa53666",
   "metadata": {
    "execution": {
     "iopub.execute_input": "2024-04-29T14:01:27.931226Z",
     "iopub.status.busy": "2024-04-29T14:01:27.930766Z",
     "iopub.status.idle": "2024-04-29T14:01:27.934832Z",
     "shell.execute_reply": "2024-04-29T14:01:27.934044Z",
     "shell.execute_reply.started": "2024-04-29T14:01:27.931186Z"
    }
   },
   "outputs": [],
   "source": [
    "# GLOBAL VARIABLES"
   ]
  },
  {
   "cell_type": "code",
   "execution_count": 57,
   "id": "260b1cd1-f5fb-4c9d-b78d-3a89035960f4",
   "metadata": {
    "execution": {
     "iopub.execute_input": "2024-04-29T14:24:18.959336Z",
     "iopub.status.busy": "2024-04-29T14:24:18.957931Z",
     "iopub.status.idle": "2024-04-29T14:24:18.976075Z",
     "shell.execute_reply": "2024-04-29T14:24:18.973289Z",
     "shell.execute_reply.started": "2024-04-29T14:24:18.959207Z"
    }
   },
   "outputs": [],
   "source": [
    "from optimization.core.renewables import EnergySource, Consumer, EnergyDistribution\n",
    "\n",
    "# Create EnergySource instances\n",
    "solar = EnergySource(\"Solar\", 100, 0.10)\n",
    "wind = EnergySource(\"Wind\", 150, 0.05)\n",
    "\n",
    "# Create Consumer instances\n",
    "consumer_a = Consumer(\"A\", 5)\n",
    "consumer_b = Consumer(\"B\", 10)\n",
    "consumer_c = Consumer(\"C\", 20)\n",
    "\n",
    "# Create the energy distribution system\n",
    "system = EnergyDistribution()\n",
    "\n",
    "system.add_source(solar)\n",
    "system.add_source(wind)\n",
    "\n",
    "system.add_consumer(consumer_a)\n",
    "system.add_consumer(consumer_b)\n",
    "system.add_consumer(consumer_c)"
   ]
  },
  {
   "cell_type": "code",
   "execution_count": 58,
   "id": "381935a3-bcb8-4076-a8e9-c5f52390d99e",
   "metadata": {
    "execution": {
     "iopub.execute_input": "2024-04-29T14:24:19.497029Z",
     "iopub.status.busy": "2024-04-29T14:24:19.496340Z",
     "iopub.status.idle": "2024-04-29T14:24:19.509621Z",
     "shell.execute_reply": "2024-04-29T14:24:19.507962Z",
     "shell.execute_reply.started": "2024-04-29T14:24:19.496974Z"
    }
   },
   "outputs": [
    {
     "data": {
      "text/plain": [
       "{'A': {'demand': 5}, 'B': {'demand': 10}, 'C': {'demand': 20}}"
      ]
     },
     "execution_count": 58,
     "metadata": {},
     "output_type": "execute_result"
    }
   ],
   "source": [
    "system.consumers"
   ]
  },
  {
   "cell_type": "code",
   "execution_count": 59,
   "id": "25568214-7bfe-4396-aa74-7307acdc8b6a",
   "metadata": {
    "execution": {
     "iopub.execute_input": "2024-04-29T14:24:20.133562Z",
     "iopub.status.busy": "2024-04-29T14:24:20.133284Z",
     "iopub.status.idle": "2024-04-29T14:24:20.142464Z",
     "shell.execute_reply": "2024-04-29T14:24:20.141393Z",
     "shell.execute_reply.started": "2024-04-29T14:24:20.133539Z"
    }
   },
   "outputs": [],
   "source": [
    "def cost_function_array(x_array):\n",
    "    \n",
    "    # constraint on conusmer_a\n",
    "    assert x_array[0, :].sum() == consumer_a.demand\n",
    "\n",
    "    # constraint on conusmer_b\n",
    "    assert x_array[1, :].sum() == consumer_b.demand\n",
    "\n",
    "    # constraint on conusmer_c\n",
    "    assert x_array[2, :].sum() == consumer_c.demand\n",
    "\n",
    "    # constraint on source_i\n",
    "    assert x_array[:, 0].sum() <= solar.capacity\n",
    "\n",
    "    # constraint on source_j\n",
    "    assert x_array[:, 1].sum() <= wind.capacity\n",
    "    \n",
    "    return solar.cost_per_unit * x_array[:, 0].sum() + wind.cost_per_unit * x_array[:, 1].sum()\n",
    "\n",
    "\n",
    "def cost_function_vector(x_vector):\n",
    "\n",
    "    # constraint on conusmer_a\n",
    "    assert x_vector[:2].sum() == consumer_a.demand\n",
    "    \n",
    "    # constraint on conusmer_b\n",
    "    assert x_vector[2:4].sum() == consumer_b.demand\n",
    "    \n",
    "    # constraint on conusmer_c\n",
    "    assert x_vector[4:].sum() == consumer_c.demand\n",
    "\n",
    "    # constraint on source_i\n",
    "    assert x_vector[0::2].sum() <= solar.capacity\n",
    "\n",
    "    # constraint on source_j\n",
    "    assert x_array[1::2].sum() <= wind.capacity\n",
    "\n",
    "    return solar.cost_per_unit * x_vector[0::2].sum() + wind.cost_per_unit * x_vector[1::2].sum()\n",
    "\n"
   ]
  },
  {
   "cell_type": "code",
   "execution_count": 63,
   "id": "5e25b61c-daea-495c-aff4-8d104d12dc87",
   "metadata": {
    "execution": {
     "iopub.execute_input": "2024-04-29T14:24:58.675200Z",
     "iopub.status.busy": "2024-04-29T14:24:58.673345Z",
     "iopub.status.idle": "2024-04-29T14:24:58.689554Z",
     "shell.execute_reply": "2024-04-29T14:24:58.687098Z",
     "shell.execute_reply.started": "2024-04-29T14:24:58.675088Z"
    }
   },
   "outputs": [
    {
     "name": "stdout",
     "output_type": "stream",
     "text": [
      "2.1500000000000004\n",
      "2.1500000000000004\n",
      "True\n"
     ]
    }
   ],
   "source": [
    "import numpy as np \n",
    "\n",
    "# cols: source, rows: customer\n",
    "\n",
    "x_array = np.array([\n",
    "    [1, 4], \n",
    "    [2, 8],\n",
    "    [5, 15],\n",
    "]) \n",
    "\n",
    "x_vector = x_array.flatten()\n",
    "\n",
    "print(cost_function_array(x_array))\n",
    "print(cost_function_vector(x_vector))\n",
    "print(cost_function_array(x_array) == cost_function_vector(x_vector))"
   ]
  },
  {
   "cell_type": "code",
   "execution_count": 64,
   "id": "9103e733-489d-453c-9680-caf526290c18",
   "metadata": {
    "execution": {
     "iopub.execute_input": "2024-04-29T14:24:59.516568Z",
     "iopub.status.busy": "2024-04-29T14:24:59.514514Z",
     "iopub.status.idle": "2024-04-29T14:24:59.528984Z",
     "shell.execute_reply": "2024-04-29T14:24:59.525069Z",
     "shell.execute_reply.started": "2024-04-29T14:24:59.516477Z"
    }
   },
   "outputs": [],
   "source": [
    "import numpy as np\n",
    "xrange = np.arange(0, max(consumer_a.demand, consumer_b.demand, consumer_c.demand), 0.25)\n",
    "#xrange = [3,4,5,6,7]"
   ]
  },
  {
   "cell_type": "code",
   "execution_count": 65,
   "id": "8a81c596-b9cd-4ce4-b0af-17dc2af57098",
   "metadata": {
    "execution": {
     "iopub.execute_input": "2024-04-29T14:24:59.957331Z",
     "iopub.status.busy": "2024-04-29T14:24:59.956548Z",
     "iopub.status.idle": "2024-04-29T14:24:59.962487Z",
     "shell.execute_reply": "2024-04-29T14:24:59.961339Z",
     "shell.execute_reply.started": "2024-04-29T14:24:59.957279Z"
    }
   },
   "outputs": [],
   "source": [
    "from itertools import product\n",
    "\n",
    "def generate_matrix(xrange):    \n",
    "    for indices in product(*[xrange] * 6):\n",
    "        yield np.array(indices)"
   ]
  },
  {
   "cell_type": "code",
   "execution_count": null,
   "id": "393ad609-2d9f-49fc-8ee6-ef729fc6f0b7",
   "metadata": {
    "execution": {
     "iopub.execute_input": "2024-04-29T14:25:00.496172Z",
     "iopub.status.busy": "2024-04-29T14:25:00.494726Z"
    }
   },
   "outputs": [],
   "source": [
    "xgrid = generate_matrix(xrange)\n",
    "\n",
    "min_cost = 1e9\n",
    "\n",
    "for x_vector in generate_matrix(xrange):\n",
    "\n",
    "    if x_vector[0:2].sum() == consumer_a.demand and \\\n",
    "       x_vector[2:4].sum() == consumer_b.demand and \\\n",
    "       x_vector[4:6].sum() == consumer_c.demand and \\\n",
    "       x_vector[0::2].sum() <= solar.capacity and \\\n",
    "       x_vector[1::2].sum() <= wind.capacity:\n",
    "        \n",
    "        cost = cost_function_vector(x_vector)\n",
    "        \n",
    "        if cost <= min_cost:\n",
    "            min_cost = cost \n",
    "            print(x_vector, min_cost)"
   ]
  },
  {
   "cell_type": "code",
   "execution_count": null,
   "id": "76aa727e-cb44-42ef-9993-b9d8d16cd2e3",
   "metadata": {},
   "outputs": [],
   "source": [
    "from scipy.optimize import minimize\n",
    "\n",
    "max_capacity = max( solar.capacity, wind.capacity )\n",
    "x_vector = x_array.flatten()\n",
    "\n",
    "print(x_vector)\n",
    "\n",
    "res = minimize(\n",
    "    #cost_function_vector,\n",
    "    lambda x: solar.cost_per_unit * x_vector[0::2].sum() + wind.cost_per_unit * x_vector[1::2].sum(), #what we want to minimize\n",
    "    x_vector, \n",
    "    constraints = (\n",
    "        {'type':'ineq','fun': lambda x: solar.capacity - x_vector[0::2].sum() }, # sum first column, need to satisfy solar capacity <= 100\n",
    "        {'type':'ineq','fun': lambda x: wind.capacity - x_vector[1::2].sum() }, # sum second column, need to satisfy wind capacity <= 150\n",
    "        {'type':'eq','fun': lambda x: x_vector[0:2].sum() - consumer_a.demand }, # sum first row, need to satisfy Custumer's A need\n",
    "        {'type':'eq','fun': lambda x: x_vector[2:4].sum() - consumer_b.demand }, # sum second row, need to satisfy Custumer's B need\n",
    "        {'type':'eq','fun': lambda x: x_vector[4:6].sum() - consumer_c.demand }  # sum third row, need to satisfy Custumer's C need\n",
    "    ),\n",
    "    bounds = ((0,max_capacity),(0,max_capacity),(0,max_capacity),(0,max_capacity),(0,max_capacity),(0,max_capacity)),\n",
    "    method='SLSQP',options={'disp': True,'maxiter' : 100000}\n",
    ")\n",
    "\n",
    "res"
   ]
  },
  {
   "cell_type": "code",
   "execution_count": 23,
   "id": "d17c6d10-f036-49c8-ab5c-172611442d7b",
   "metadata": {
    "execution": {
     "iopub.execute_input": "2024-04-29T14:07:11.585658Z",
     "iopub.status.busy": "2024-04-29T14:07:11.584875Z",
     "iopub.status.idle": "2024-04-29T14:07:11.591672Z",
     "shell.execute_reply": "2024-04-29T14:07:11.590941Z",
     "shell.execute_reply.started": "2024-04-29T14:07:11.585608Z"
    }
   },
   "outputs": [
    {
     "data": {
      "text/plain": [
       "True"
      ]
     },
     "execution_count": 23,
     "metadata": {},
     "output_type": "execute_result"
    }
   ],
   "source": [
    "print(res)\n",
    "print(res.fun)"
   ]
  },
  {
   "cell_type": "markdown",
   "id": "7d48f0e3-a723-466e-a5f8-4ab23f290dbc",
   "metadata": {},
   "source": [
    "### TensorFlow Implementation\n",
    "\n",
    "We will use TensorFlow to approximate a solution via a gradient descent approach, treating constraints as penalty terms in the loss function."
   ]
  },
  {
   "cell_type": "code",
   "execution_count": 55,
   "id": "e6039284-f3ab-4e9d-b1be-2e64097b745a",
   "metadata": {
    "execution": {
     "iopub.execute_input": "2024-04-29T14:22:12.964131Z",
     "iopub.status.busy": "2024-04-29T14:22:12.962082Z",
     "iopub.status.idle": "2024-04-29T14:22:20.549549Z",
     "shell.execute_reply": "2024-04-29T14:22:20.548773Z",
     "shell.execute_reply.started": "2024-04-29T14:22:12.964028Z"
    }
   },
   "outputs": [
    {
     "name": "stdout",
     "output_type": "stream",
     "text": [
      "Iteration 100, Cost: 13705.9423828125\n",
      "Iteration 200, Cost: 11468.130859375\n",
      "Iteration 300, Cost: 11122.380859375\n",
      "Iteration 400, Cost: 11062.2734375\n",
      "Iteration 500, Cost: 11050.0849609375\n",
      "Iteration 600, Cost: 11047.2099609375\n",
      "Iteration 700, Cost: 11046.4521484375\n",
      "Iteration 800, Cost: 11046.2392578125\n",
      "Iteration 900, Cost: 11046.17578125\n",
      "Iteration 1000, Cost: 11046.158203125\n"
     ]
    }
   ],
   "source": [
    "import tensorflow as tf\n",
    "\n",
    "# Initialize variables\n",
    "x_solar_A = tf.Variable(1.0, trainable=True)  \n",
    "x_solar_B = tf.Variable(2.0, trainable=True)\n",
    "x_solar_C = tf.Variable(5.0, trainable=True)\n",
    "x_wind_A = tf.Variable(4.0, trainable=True)\n",
    "x_wind_B = tf.Variable(3.0, trainable=True)\n",
    "x_wind_C = tf.Variable(0.0, trainable=True)\n",
    "\n",
    "# Define constraints as penalties\n",
    "def capacity_constraints():\n",
    "    return [\n",
    "        solar.capacity - (x_solar_A + x_solar_B + x_solar_C),  # Solar capacity\n",
    "        wind.capacity - (x_wind_A + x_wind_B + x_wind_C),    # Wind capacity\n",
    "        x_solar_A + x_wind_A - consumer_a.demand, # Demand of Consumer A\n",
    "        x_solar_B + x_wind_B - consumer_b.demand, # Demand of Consumer B\n",
    "        x_solar_C + x_wind_C - consumer_c.demand  # Demand of Consumer C\n",
    "    ]\n",
    "\n",
    "# Define sources, consumers, and their capacities and demands here\n",
    "\n",
    "# Cost function\n",
    "cost = solar.cost_per_unit * ( x_solar_A + x_solar_B + x_solar_C ) + wind.cost_per_unit * ( x_wind_A + x_wind_B + x_wind_C )\n",
    "\n",
    "# Optimizer\n",
    "optimizer = tf.optimizers.SGD(learning_rate=0.01)\n",
    "optimizer = tf.optimizers.SGD(learning_rate=0.001)  # Adjust learning rate here\n",
    "\n",
    "# Training step\n",
    "def train_step():\n",
    "    with tf.GradientTape() as tape:\n",
    "        constraints = capacity_constraints()\n",
    "        penalty = tf.reduce_sum(tf.square(constraints))  # Squared penalties for constraint violation\n",
    "        loss = cost + penalty\n",
    "    gradients = tape.gradient(loss, [x_solar_A, x_solar_B, x_solar_C, x_wind_A, x_wind_B, x_wind_C])\n",
    "    optimizer.apply_gradients(zip(gradients, [x_solar_A, x_solar_B, x_solar_C, x_wind_A, x_wind_B, x_wind_C]))\n",
    "    return loss  # Return the loss value\n",
    "\n",
    "# Optimization loop\n",
    "for i in range(1000):\n",
    "    loss = train_step()\n",
    "    if (i + 1) % 100 == 0:  # Print cost every 100 iterations\n",
    "        print(f\"Iteration {i + 1}, Cost: {loss.numpy()}\")\n"
   ]
  },
  {
   "cell_type": "code",
   "execution_count": 46,
   "id": "95bc2d34-52e6-4ba6-b9f2-bc6728918189",
   "metadata": {
    "execution": {
     "iopub.execute_input": "2024-04-29T14:19:01.794120Z",
     "iopub.status.busy": "2024-04-29T14:19:01.793777Z",
     "iopub.status.idle": "2024-04-29T14:19:01.799999Z",
     "shell.execute_reply": "2024-04-29T14:19:01.799438Z",
     "shell.execute_reply.started": "2024-04-29T14:19:01.794098Z"
    }
   },
   "outputs": [
    {
     "name": "stdout",
     "output_type": "stream",
     "text": [
      "           |   Solar            |  Wind\n",
      "Consumer A |20.166656494140625  | 31.833311080932617\n",
      "Consumer B |17.666685104370117  | 34.33330535888672\n",
      "Consumer C |15.166643142700195  | 36.83339309692383\n"
     ]
    }
   ],
   "source": [
    "# Output the results\n",
    "print(f'           |   Solar            |  Wind')\n",
    "print(f'Consumer A |{x_solar_A.numpy()}  | {x_wind_A.numpy()}')\n",
    "print(f'Consumer B |{x_solar_B.numpy()}  | {x_wind_B.numpy()}')\n",
    "print(f'Consumer C |{x_solar_C.numpy()}  | {x_wind_C.numpy()}')\n"
   ]
  },
  {
   "cell_type": "code",
   "execution_count": 54,
   "id": "5273c998-65bc-4046-8648-b00dd8274eb6",
   "metadata": {
    "execution": {
     "iopub.execute_input": "2024-04-29T14:21:49.607592Z",
     "iopub.status.busy": "2024-04-29T14:21:49.607173Z",
     "iopub.status.idle": "2024-04-29T14:21:49.615508Z",
     "shell.execute_reply": "2024-04-29T14:21:49.614443Z",
     "shell.execute_reply.started": "2024-04-29T14:21:49.607555Z"
    }
   },
   "outputs": [
    {
     "data": {
      "text/plain": [
       "11046.151"
      ]
     },
     "execution_count": 54,
     "metadata": {},
     "output_type": "execute_result"
    }
   ],
   "source": [
    "loss.numpy()"
   ]
  },
  {
   "cell_type": "code",
   "execution_count": null,
   "id": "8422999a-691d-4cc1-a69a-5914a3ffd0ad",
   "metadata": {},
   "outputs": [],
   "source": []
  }
 ],
 "metadata": {
  "kernelspec": {
   "display_name": "Python 3 (ipykernel)",
   "language": "python",
   "name": "python3"
  },
  "language_info": {
   "codemirror_mode": {
    "name": "ipython",
    "version": 3
   },
   "file_extension": ".py",
   "mimetype": "text/x-python",
   "name": "python",
   "nbconvert_exporter": "python",
   "pygments_lexer": "ipython3",
   "version": "3.10.12"
  }
 },
 "nbformat": 4,
 "nbformat_minor": 5
}
