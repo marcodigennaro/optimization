{
 "cells": [
  {
   "cell_type": "markdown",
   "id": "d47c3425-f3f7-4f02-9ff8-89a40212b049",
   "metadata": {},
   "source": [
    "# Renewable energy sources optimization\n",
    "\n",
    "### Problem formulation\n",
    "\n",
    "We need to optimize the distribution of the energy load from multiple sources to different consumers.\n",
    "We need to to minimize the overall cost, while satisfying demand constraints.\n",
    "\n",
    "### Parameters\n",
    "\n",
    "- **Energy Sources**: Two sources (e.g., solar and wind), each with different capacities and costs.\n",
    "- **Consumers**: Two consumers, each with a specific energy demand.\n",
    "- **Objective**: Minimize the total cost of energy distribution while meeting all consumer demands without exceeding the source capacities.\n",
    "- **Tools**: Linear programming, Quadratic Programming\n",
    "\n",
    "- **Sources parameters**:\n",
    "\n",
    "    | Source            | Capacity (kW) | Cost (€/kW) |\n",
    "    |-------------------|---------------|-------------|\n",
    "    | **I** (eg. Solar) | 100           | 0.15        |                    \n",
    "    | **J**  (eg. Wind) | 150           | 0.20        |                   \n",
    "\n",
    "\n",
    "- **Consumer Demands**:\n",
    "    - Consumer A = 90 kW\n",
    "    - Consumer B = 120 kW\n",
    "\n",
    "### Formulation\n",
    "\n",
    "- **Variables**:\n",
    "    - $x_{i,a}$: Amount of energy transferred from source $i$ to consumer $a$.\n",
    "- **Objective**\n",
    "    We can define a linear cost, to be minimized:\n",
    "    $$ \\text{Cost} = cost_I \\times (x_{I,A} + x_{I,B}) + cost_J \\times(x_{J,A} + x_{J,B}) $$\n",
    "- **Constraints**\n",
    "  At any time these constraint must be met:\n",
    "    1. Total energy supplied to each consumer meets their demand.\n",
    "        - Demand of Consumer A: $x_{I,A} + x_{J,A} = 90$\n",
    "        - Demand of Consumer B: $x_{I,B} + x_{J,B} = 120$\n",
    "    2. The total energy taken from each source does not exceed its capacity.\n",
    "        - Solar capacity: $x_{I,A} + x_{I,B} \\leq 100$\n",
    "        - Wind capacity: $x_{J,A} + x_{J,B} \\leq 150$\n",
    "    3. All energies must be positive\n",
    "       - $x_{i,a} \\geq 0$ for any $(i, a)$\n",
    "         "
   ]
  },
  {
   "cell_type": "code",
   "execution_count": 11,
   "id": "73f0c626-e652-4270-b76e-eac33aa53666",
   "metadata": {
    "execution": {
     "iopub.execute_input": "2024-04-30T12:17:23.066753Z",
     "iopub.status.busy": "2024-04-30T12:17:23.066378Z",
     "iopub.status.idle": "2024-04-30T12:17:23.071081Z",
     "shell.execute_reply": "2024-04-30T12:17:23.069952Z",
     "shell.execute_reply.started": "2024-04-30T12:17:23.066727Z"
    }
   },
   "outputs": [],
   "source": [
    "# GLOBAL VARIABLES"
   ]
  },
  {
   "cell_type": "code",
   "execution_count": 42,
   "id": "260b1cd1-f5fb-4c9d-b78d-3a89035960f4",
   "metadata": {
    "execution": {
     "iopub.execute_input": "2024-04-30T12:23:26.722372Z",
     "iopub.status.busy": "2024-04-30T12:23:26.721469Z",
     "iopub.status.idle": "2024-04-30T12:23:26.728784Z",
     "shell.execute_reply": "2024-04-30T12:23:26.727610Z",
     "shell.execute_reply.started": "2024-04-30T12:23:26.722321Z"
    }
   },
   "outputs": [],
   "source": [
    "from optimization.core.renewables import EnergySource, Consumer, EnergyDistribution\n",
    "\n",
    "# Create EnergySource instances\n",
    "solar = EnergySource(\"Solar\", 100, 0.10)\n",
    "wind = EnergySource(\"Wind\", 150, 0.05)\n",
    "\n",
    "# Create Consumer instances\n",
    "consumer_a = Consumer(\"A\", 3.)\n",
    "consumer_b = Consumer(\"B\", 5.)\n",
    "consumer_c = Consumer(\"C\", 9.)\n",
    "\n",
    "# Create the energy distribution system\n",
    "system = EnergyDistribution()\n",
    "\n",
    "system.add_source(solar)\n",
    "system.add_source(wind)\n",
    "\n",
    "system.add_consumer(consumer_a)\n",
    "system.add_consumer(consumer_b)\n",
    "system.add_consumer(consumer_c)"
   ]
  },
  {
   "cell_type": "code",
   "execution_count": 43,
   "id": "381935a3-bcb8-4076-a8e9-c5f52390d99e",
   "metadata": {
    "execution": {
     "iopub.execute_input": "2024-04-30T12:23:27.136501Z",
     "iopub.status.busy": "2024-04-30T12:23:27.135952Z",
     "iopub.status.idle": "2024-04-30T12:23:27.144888Z",
     "shell.execute_reply": "2024-04-30T12:23:27.143398Z",
     "shell.execute_reply.started": "2024-04-30T12:23:27.136454Z"
    }
   },
   "outputs": [
    {
     "data": {
      "text/plain": [
       "{'A': {'demand': 3.0}, 'B': {'demand': 5.0}, 'C': {'demand': 9.0}}"
      ]
     },
     "execution_count": 43,
     "metadata": {},
     "output_type": "execute_result"
    }
   ],
   "source": [
    "system.consumers"
   ]
  },
  {
   "cell_type": "code",
   "execution_count": 44,
   "id": "23c00b16-f4ba-44a6-9dc4-f0fbb9cdb340",
   "metadata": {
    "execution": {
     "iopub.execute_input": "2024-04-30T12:23:27.289234Z",
     "iopub.status.busy": "2024-04-30T12:23:27.288552Z",
     "iopub.status.idle": "2024-04-30T12:23:27.298240Z",
     "shell.execute_reply": "2024-04-30T12:23:27.297154Z",
     "shell.execute_reply.started": "2024-04-30T12:23:27.289178Z"
    }
   },
   "outputs": [
    {
     "data": {
      "text/plain": [
       "{'Solar': {'capacity': 100, 'cost_per_unit': 0.1, 'unit': 'kW'},\n",
       " 'Wind': {'capacity': 150, 'cost_per_unit': 0.05, 'unit': 'kW'}}"
      ]
     },
     "execution_count": 44,
     "metadata": {},
     "output_type": "execute_result"
    }
   ],
   "source": [
    "system.sources"
   ]
  },
  {
   "cell_type": "code",
   "execution_count": 45,
   "id": "25568214-7bfe-4396-aa74-7307acdc8b6a",
   "metadata": {
    "execution": {
     "iopub.execute_input": "2024-04-30T12:23:27.663505Z",
     "iopub.status.busy": "2024-04-30T12:23:27.662596Z",
     "iopub.status.idle": "2024-04-30T12:23:27.684899Z",
     "shell.execute_reply": "2024-04-30T12:23:27.683421Z",
     "shell.execute_reply.started": "2024-04-30T12:23:27.663406Z"
    }
   },
   "outputs": [],
   "source": [
    "def cost_function_array(x_array):\n",
    "    \n",
    "    # constraint on conusmer_a\n",
    "    assert x_array[0, :].sum() == consumer_a.demand\n",
    "\n",
    "    # constraint on conusmer_b\n",
    "    assert x_array[1, :].sum() == consumer_b.demand\n",
    "\n",
    "    # constraint on conusmer_c\n",
    "    assert x_array[2, :].sum() == consumer_c.demand\n",
    "\n",
    "    # constraint on source_i\n",
    "    assert x_array[:, 0].sum() <= solar.capacity\n",
    "\n",
    "    # constraint on source_j\n",
    "    assert x_array[:, 1].sum() <= wind.capacity\n",
    "    \n",
    "    return solar.cost_per_unit * x_array[:, 0].sum() + wind.cost_per_unit * x_array[:, 1].sum()\n",
    "\n",
    "\n",
    "def cost_function_vector(x_vector):\n",
    "\n",
    "    # constraint on conusmer_a\n",
    "    assert x_vector[:2].sum() == consumer_a.demand\n",
    "    \n",
    "    # constraint on conusmer_b\n",
    "    assert x_vector[2:4].sum() == consumer_b.demand\n",
    "    \n",
    "    # constraint on conusmer_c\n",
    "    assert x_vector[4:].sum() == consumer_c.demand\n",
    "\n",
    "    # constraint on source_i\n",
    "    assert x_vector[0::2].sum() <= solar.capacity\n",
    "\n",
    "    # constraint on source_j\n",
    "    assert x_array[1::2].sum() <= wind.capacity\n",
    "\n",
    "    return solar.cost_per_unit * x_vector[0::2].sum() + wind.cost_per_unit * x_vector[1::2].sum()\n",
    "\n"
   ]
  },
  {
   "cell_type": "code",
   "execution_count": 48,
   "id": "5e25b61c-daea-495c-aff4-8d104d12dc87",
   "metadata": {
    "execution": {
     "iopub.execute_input": "2024-04-30T12:23:54.473506Z",
     "iopub.status.busy": "2024-04-30T12:23:54.471936Z",
     "iopub.status.idle": "2024-04-30T12:23:54.491447Z",
     "shell.execute_reply": "2024-04-30T12:23:54.488859Z",
     "shell.execute_reply.started": "2024-04-30T12:23:54.473415Z"
    }
   },
   "outputs": [
    {
     "name": "stdout",
     "output_type": "stream",
     "text": [
      "1.2750000000000001\n",
      "1.2750000000000001\n",
      "True\n"
     ]
    }
   ],
   "source": [
    "import numpy as np \n",
    "\n",
    "# cols: source, rows: customer\n",
    "\n",
    "x_array = np.array([\n",
    "    [1.5, 1.5], \n",
    "    [2.,  3.],\n",
    "    [5.,  4.],\n",
    "]) \n",
    "\n",
    "x_vector = x_array.flatten()\n",
    "\n",
    "print(cost_function_array(x_array))\n",
    "print(cost_function_vector(x_vector))\n",
    "print(cost_function_array(x_array) == cost_function_vector(x_vector))"
   ]
  },
  {
   "cell_type": "code",
   "execution_count": 49,
   "id": "9103e733-489d-453c-9680-caf526290c18",
   "metadata": {
    "execution": {
     "iopub.execute_input": "2024-04-30T12:23:57.617473Z",
     "iopub.status.busy": "2024-04-30T12:23:57.616884Z",
     "iopub.status.idle": "2024-04-30T12:23:57.625676Z",
     "shell.execute_reply": "2024-04-30T12:23:57.624530Z",
     "shell.execute_reply.started": "2024-04-30T12:23:57.617445Z"
    }
   },
   "outputs": [
    {
     "data": {
      "text/plain": [
       "[1, 2, 3, 4, 5]"
      ]
     },
     "execution_count": 49,
     "metadata": {},
     "output_type": "execute_result"
    }
   ],
   "source": [
    "import numpy as np\n",
    "xrange = np.arange(0.4, max(consumer_a.demand, consumer_b.demand, consumer_c.demand), 0.4)\n",
    "xrange = list(range(1,6))\n",
    "xrange\n"
   ]
  },
  {
   "cell_type": "code",
   "execution_count": 50,
   "id": "8a81c596-b9cd-4ce4-b0af-17dc2af57098",
   "metadata": {
    "execution": {
     "iopub.execute_input": "2024-04-30T12:23:59.889048Z",
     "iopub.status.busy": "2024-04-30T12:23:59.886685Z",
     "iopub.status.idle": "2024-04-30T12:23:59.904272Z",
     "shell.execute_reply": "2024-04-30T12:23:59.900376Z",
     "shell.execute_reply.started": "2024-04-30T12:23:59.888955Z"
    }
   },
   "outputs": [],
   "source": [
    "from itertools import product\n",
    "\n",
    "def generate_matrix(xrange):    \n",
    "    for indices in product(*[xrange] * 6):\n",
    "        yield np.array(indices)"
   ]
  },
  {
   "cell_type": "code",
   "execution_count": 51,
   "id": "393ad609-2d9f-49fc-8ee6-ef729fc6f0b7",
   "metadata": {
    "execution": {
     "iopub.execute_input": "2024-04-30T12:24:00.431531Z",
     "iopub.status.busy": "2024-04-30T12:24:00.430612Z",
     "iopub.status.idle": "2024-04-30T12:24:00.561485Z",
     "shell.execute_reply": "2024-04-30T12:24:00.560480Z",
     "shell.execute_reply.started": "2024-04-30T12:24:00.431456Z"
    }
   },
   "outputs": [
    {
     "name": "stdout",
     "output_type": "stream",
     "text": [
      "3.0\n",
      "[1 2 1 4 4 5] 6\n",
      "[1 2 1 4 4 5] 1.1500000000000001\n",
      "[1 2 1 4 5 4] 7\n",
      "[1 2 2 3 4 5] 7\n",
      "[1 2 2 3 5 4] 8\n",
      "[1 2 3 2 4 5] 8\n",
      "[1 2 3 2 5 4] 9\n",
      "[1 2 4 1 4 5] 9\n",
      "[1 2 4 1 5 4] 10\n",
      "[2 1 1 4 4 5] 7\n",
      "[2 1 1 4 5 4] 8\n",
      "[2 1 2 3 4 5] 8\n",
      "[2 1 2 3 5 4] 9\n",
      "[2 1 3 2 4 5] 9\n",
      "[2 1 3 2 5 4] 10\n",
      "[2 1 4 1 4 5] 10\n",
      "[2 1 4 1 5 4] 11\n"
     ]
    }
   ],
   "source": [
    "xgrid = generate_matrix(xrange)\n",
    "\n",
    "min_cost = 1e9\n",
    "\n",
    "print(consumer_a.demand)\n",
    "for x_vector in generate_matrix(xrange):\n",
    "    \n",
    "    if x_vector[0:2].sum() == consumer_a.demand and \\\n",
    "       x_vector[2:4].sum() == consumer_b.demand and \\\n",
    "       x_vector[4:6].sum() == consumer_c.demand and \\\n",
    "       x_vector[0::2].sum() <= solar.capacity and \\\n",
    "       x_vector[1::2].sum() <= wind.capacity:\n",
    "\n",
    "        print(x_vector, x_vector[0::2].sum())\n",
    "        \n",
    "        cost = cost_function_vector(x_vector)\n",
    "        \n",
    "        if cost <= min_cost:\n",
    "            min_cost = cost \n",
    "            print(x_vector, min_cost)"
   ]
  },
  {
   "cell_type": "code",
   "execution_count": 58,
   "id": "76aa727e-cb44-42ef-9993-b9d8d16cd2e3",
   "metadata": {
    "execution": {
     "iopub.execute_input": "2024-04-30T12:27:54.434296Z",
     "iopub.status.busy": "2024-04-30T12:27:54.433527Z",
     "iopub.status.idle": "2024-04-30T12:27:54.466083Z",
     "shell.execute_reply": "2024-04-30T12:27:54.464474Z",
     "shell.execute_reply.started": "2024-04-30T12:27:54.434221Z"
    }
   },
   "outputs": [
    {
     "name": "stdout",
     "output_type": "stream",
     "text": [
      "[1.5 1.5 2.  3.  5.  4. ]\n",
      "Singular matrix C in LSQ subproblem    (Exit mode 6)\n",
      "            Current function value: 1.2750000000000001\n",
      "            Iterations: 1\n",
      "            Function evaluations: 7\n",
      "            Gradient evaluations: 1\n"
     ]
    },
    {
     "data": {
      "text/plain": [
       " message: Singular matrix C in LSQ subproblem\n",
       " success: False\n",
       "  status: 6\n",
       "     fun: 1.2750000000000001\n",
       "       x: [ 1.500e+00  1.500e+00  2.000e+00  3.000e+00  5.000e+00\n",
       "            4.000e+00]\n",
       "     nit: 1\n",
       "     jac: [ 0.000e+00  0.000e+00  0.000e+00  0.000e+00  0.000e+00\n",
       "            0.000e+00]\n",
       "    nfev: 7\n",
       "    njev: 1"
      ]
     },
     "execution_count": 58,
     "metadata": {},
     "output_type": "execute_result"
    }
   ],
   "source": [
    "from scipy.optimize import minimize\n",
    "\n",
    "max_capacity = max( solar.capacity, wind.capacity )\n",
    "x_guess = x_array.flatten()\n",
    "\n",
    "print(x_vector)\n",
    "\n",
    "res = minimize(\n",
    "    #cost_function_vector,\n",
    "    lambda x: solar.cost_per_unit * x_guess[0::2].sum() + wind.cost_per_unit * x_guess[1::2].sum(), #what we want to minimize\n",
    "    x_guess, \n",
    "    constraints = (\n",
    "        {'type':'ineq','fun': lambda x: solar.capacity - x_guess[0::2].sum() }, # sum first column, need to satisfy solar capacity <= 100\n",
    "        {'type':'ineq','fun': lambda x: wind.capacity - x_guess[1::2].sum() }, # sum second column, need to satisfy wind capacity <= 150\n",
    "        {'type':'eq','fun': lambda x: x_guess[0:2].sum() - consumer_a.demand }, # sum first row, need to satisfy Custumer's A need\n",
    "        {'type':'eq','fun': lambda x: x_guess[2:4].sum() - consumer_b.demand }, # sum second row, need to satisfy Custumer's B need\n",
    "        {'type':'eq','fun': lambda x: x_guess[4:6].sum() - consumer_c.demand }  # sum third row, need to satisfy Custumer's C need\n",
    "    ),\n",
    "    bounds = ((0,max_capacity),(0,max_capacity),(0,max_capacity),(0,max_capacity),(0,max_capacity),(0,max_capacity)),\n",
    "    method='SLSQP',options={'disp': True,'maxiter' : 100000}\n",
    ")\n",
    "\n",
    "res"
   ]
  },
  {
   "cell_type": "code",
   "execution_count": 54,
   "id": "d17c6d10-f036-49c8-ab5c-172611442d7b",
   "metadata": {
    "execution": {
     "iopub.execute_input": "2024-04-30T12:26:56.343096Z",
     "iopub.status.busy": "2024-04-30T12:26:56.342301Z",
     "iopub.status.idle": "2024-04-30T12:26:56.353557Z",
     "shell.execute_reply": "2024-04-30T12:26:56.351665Z",
     "shell.execute_reply.started": "2024-04-30T12:26:56.343031Z"
    }
   },
   "outputs": [
    {
     "name": "stdout",
     "output_type": "stream",
     "text": [
      " message: Singular matrix C in LSQ subproblem\n",
      " success: False\n",
      "  status: 6\n",
      "     fun: 1.2750000000000001\n",
      "       x: [ 1.500e+00  1.500e+00  2.000e+00  3.000e+00  5.000e+00\n",
      "            4.000e+00]\n",
      "     nit: 1\n",
      "     jac: [ 0.000e+00  0.000e+00  0.000e+00  0.000e+00  0.000e+00\n",
      "            0.000e+00]\n",
      "    nfev: 7\n",
      "    njev: 1\n",
      "1.2750000000000001\n"
     ]
    }
   ],
   "source": [
    "print(res)\n",
    "print(res.fun)"
   ]
  },
  {
   "cell_type": "markdown",
   "id": "7d48f0e3-a723-466e-a5f8-4ab23f290dbc",
   "metadata": {},
   "source": [
    "### TensorFlow Implementation\n",
    "\n",
    "We will use TensorFlow to approximate a solution via a gradient descent approach, treating constraints as penalty terms in the loss function."
   ]
  },
  {
   "cell_type": "code",
   "execution_count": 61,
   "id": "e6039284-f3ab-4e9d-b1be-2e64097b745a",
   "metadata": {
    "execution": {
     "iopub.execute_input": "2024-04-30T12:28:56.516683Z",
     "iopub.status.busy": "2024-04-30T12:28:56.516222Z",
     "iopub.status.idle": "2024-04-30T12:30:10.876737Z",
     "shell.execute_reply": "2024-04-30T12:30:10.876024Z",
     "shell.execute_reply.started": "2024-04-30T12:28:56.516639Z"
    }
   },
   "outputs": [
    {
     "name": "stdout",
     "output_type": "stream",
     "text": [
      "Iteration 1000, Cost: 13442.25551691287\n",
      "Iteration 2000, Cost: 11270.828147012402\n",
      "Iteration 3000, Cost: 10933.564060823954\n",
      "Iteration 4000, Cost: 10874.812369159392\n",
      "Iteration 5000, Cost: 10862.908779648422\n",
      "Iteration 6000, Cost: 10860.10700568497\n",
      "Iteration 7000, Cost: 10859.36918851534\n",
      "Iteration 8000, Cost: 10859.16134061864\n",
      "Iteration 9000, Cost: 10859.1006937114\n",
      "Iteration 10000, Cost: 10859.082695150684\n"
     ]
    }
   ],
   "source": [
    "import tensorflow as tf\n",
    "\n",
    "# Initialize variables\n",
    "x_solar_A = tf.Variable(x_guess[0] , trainable=True)  \n",
    "x_solar_B = tf.Variable(x_guess[2], trainable=True)\n",
    "x_solar_C = tf.Variable(x_guess[4], trainable=True)\n",
    "x_wind_A = tf.Variable(x_guess[1], trainable=True)\n",
    "x_wind_B = tf.Variable(x_guess[3], trainable=True)\n",
    "x_wind_C = tf.Variable(x_guess[5], trainable=True)\n",
    "\n",
    "# Define constraints as penalties\n",
    "def capacity_constraints():\n",
    "    return [\n",
    "        solar.capacity - (x_solar_A + x_solar_B + x_solar_C),  # Solar capacity\n",
    "        wind.capacity - (x_wind_A + x_wind_B + x_wind_C),    # Wind capacity\n",
    "        x_solar_A + x_wind_A - consumer_a.demand, # Demand of Consumer A\n",
    "        x_solar_B + x_wind_B - consumer_b.demand, # Demand of Consumer B\n",
    "        x_solar_C + x_wind_C - consumer_c.demand  # Demand of Consumer C\n",
    "    ]\n",
    "\n",
    "# Define sources, consumers, and their capacities and demands here\n",
    "\n",
    "# Cost function\n",
    "cost = solar.cost_per_unit * ( x_solar_A + x_solar_B + x_solar_C ) + wind.cost_per_unit * ( x_wind_A + x_wind_B + x_wind_C )\n",
    "\n",
    "# Optimizer\n",
    "optimizer = tf.optimizers.SGD(learning_rate=0.01)\n",
    "optimizer = tf.optimizers.SGD(learning_rate=0.0001)  # Adjust learning rate here\n",
    "\n",
    "# Training step\n",
    "def train_step():\n",
    "    with tf.GradientTape() as tape:\n",
    "        constraints = capacity_constraints()\n",
    "        penalty = tf.reduce_sum(tf.square(constraints))  # Squared penalties for constraint violation\n",
    "        loss = cost + penalty\n",
    "    gradients = tape.gradient(loss, [x_solar_A, x_solar_B, x_solar_C, x_wind_A, x_wind_B, x_wind_C])\n",
    "    optimizer.apply_gradients(zip(gradients, [x_solar_A, x_solar_B, x_solar_C, x_wind_A, x_wind_B, x_wind_C]))\n",
    "    return loss  # Return the loss value\n",
    "\n",
    "# Optimization loop\n",
    "for i in range(10000):\n",
    "    loss = train_step()\n",
    "    if (i + 1) % 1000 == 0:  # Print cost every 100 iterations\n",
    "        print(f\"Iteration {i + 1}, Cost: {loss.numpy()}\")\n"
   ]
  },
  {
   "cell_type": "code",
   "execution_count": 56,
   "id": "95bc2d34-52e6-4ba6-b9f2-bc6728918189",
   "metadata": {
    "execution": {
     "iopub.execute_input": "2024-04-30T12:27:09.563925Z",
     "iopub.status.busy": "2024-04-30T12:27:09.563344Z",
     "iopub.status.idle": "2024-04-30T12:27:09.571360Z",
     "shell.execute_reply": "2024-04-30T12:27:09.570503Z",
     "shell.execute_reply.started": "2024-04-30T12:27:09.563897Z"
    }
   },
   "outputs": [
    {
     "name": "stdout",
     "output_type": "stream",
     "text": [
      "           |   Solar            |  Wind\n",
      "Consumer A |14.843894004821777  | 34.802520751953125\n",
      "Consumer B |16.825748443603516  | 34.78430938720703\n",
      "Consumer C |21.789377212524414  | 33.74802780151367\n"
     ]
    }
   ],
   "source": [
    "# Output the results\n",
    "print(f'           |   Solar            |  Wind')\n",
    "print(f'Consumer A |{x_solar_A.numpy()}  | {x_wind_A.numpy()}')\n",
    "print(f'Consumer B |{x_solar_B.numpy()}  | {x_wind_B.numpy()}')\n",
    "print(f'Consumer C |{x_solar_C.numpy()}  | {x_wind_C.numpy()}')\n"
   ]
  },
  {
   "cell_type": "code",
   "execution_count": 57,
   "id": "5273c998-65bc-4046-8648-b00dd8274eb6",
   "metadata": {
    "execution": {
     "iopub.execute_input": "2024-04-30T12:27:13.272586Z",
     "iopub.status.busy": "2024-04-30T12:27:13.271227Z",
     "iopub.status.idle": "2024-04-30T12:27:13.283981Z",
     "shell.execute_reply": "2024-04-30T12:27:13.281551Z",
     "shell.execute_reply.started": "2024-04-30T12:27:13.272529Z"
    }
   },
   "outputs": [
    {
     "data": {
      "text/plain": [
       "10858.963"
      ]
     },
     "execution_count": 57,
     "metadata": {},
     "output_type": "execute_result"
    }
   ],
   "source": [
    "loss.numpy()"
   ]
  },
  {
   "cell_type": "code",
   "execution_count": null,
   "id": "8422999a-691d-4cc1-a69a-5914a3ffd0ad",
   "metadata": {},
   "outputs": [],
   "source": []
  }
 ],
 "metadata": {
  "kernelspec": {
   "display_name": "Python 3 (ipykernel)",
   "language": "python",
   "name": "python3"
  },
  "language_info": {
   "codemirror_mode": {
    "name": "ipython",
    "version": 3
   },
   "file_extension": ".py",
   "mimetype": "text/x-python",
   "name": "python",
   "nbconvert_exporter": "python",
   "pygments_lexer": "ipython3",
   "version": "3.10.12"
  }
 },
 "nbformat": 4,
 "nbformat_minor": 5
}
