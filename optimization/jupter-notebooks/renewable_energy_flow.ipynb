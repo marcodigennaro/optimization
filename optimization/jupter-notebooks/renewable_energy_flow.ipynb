{
 "cells": [
  {
   "cell_type": "markdown",
   "id": "d47c3425-f3f7-4f02-9ff8-89a40212b049",
   "metadata": {},
   "source": [
    "# Renewable energy sources optimization\n",
    "\n",
    "### Problem formulation\n",
    "\n",
    "We need to optimize the distribution of the energy load from multiple sources to different consumers.\n",
    "We need to to minimize the overall cost, while satisfying demand constraints.\n",
    "\n",
    "### Parameters\n",
    "\n",
    "- **Energy Sources**: Two sources (e.g., solar and wind), each with different capacities and costs.\n",
    "- **Consumers**: Two consumers, each with a specific energy demand.\n",
    "- **Objective**: Minimize the total cost of energy distribution while meeting all consumer demands without exceeding the source capacities.\n",
    "- **Tools**: Linear programming, Quadratic Programming\n",
    "\n",
    "- **Sources parameters**:\n",
    "\n",
    "    | Source            | Capacity (kW) | Cost (€/kW) |\n",
    "    |-------------------|---------------|-------------|\n",
    "    | **I** (eg. Solar) | 100           | 0.15        |                    \n",
    "    | **J**  (eg. Wind) | 150           | 0.20        |                   \n",
    "\n",
    "\n",
    "- **Consumer Demands**:\n",
    "    - Consumer A = 90 kW\n",
    "    - Consumer B = 120 kW\n",
    "\n",
    "### Formulation\n",
    "\n",
    "- **Variables**:\n",
    "    - $x_{i,a}$: Amount of energy transferred from source $i$ to consumer $a$.\n",
    "- **Objective**\n",
    "    We can define a linear cost, to be minimized:\n",
    "    $$ \\text{Cost} = cost_I \\times (x_{I,A} + x_{I,B}) + cost_J \\times(x_{J,A} + x_{J,B}) $$\n",
    "- **Constraints**\n",
    "  At any time these constraint must be met:\n",
    "    1. Total energy supplied to each consumer meets their demand.\n",
    "        - Demand of Consumer A: $x_{I,A} + x_{J,A} = 90$\n",
    "        - Demand of Consumer B: $x_{I,B} + x_{J,B} = 120$\n",
    "    2. The total energy taken from each source does not exceed its capacity.\n",
    "        - Solar capacity: $x_{I,A} + x_{I,B} \\leq 100$\n",
    "        - Wind capacity: $x_{J,A} + x_{J,B} \\leq 150$\n",
    "    3. All energies must be positive\n",
    "       - $x_{i,a} \\geq 0$ for any $(i, a)$\n",
    "         "
   ]
  },
  {
   "cell_type": "code",
   "execution_count": 1,
   "id": "73f0c626-e652-4270-b76e-eac33aa53666",
   "metadata": {
    "execution": {
     "iopub.execute_input": "2024-04-29T12:35:50.281071Z",
     "iopub.status.busy": "2024-04-29T12:35:50.278398Z",
     "iopub.status.idle": "2024-04-29T12:35:50.288805Z",
     "shell.execute_reply": "2024-04-29T12:35:50.287334Z",
     "shell.execute_reply.started": "2024-04-29T12:35:50.280958Z"
    }
   },
   "outputs": [],
   "source": [
    "# GLOBAL VARIABLES"
   ]
  },
  {
   "cell_type": "code",
   "execution_count": 2,
   "id": "260b1cd1-f5fb-4c9d-b78d-3a89035960f4",
   "metadata": {
    "execution": {
     "iopub.execute_input": "2024-04-29T12:35:50.290524Z",
     "iopub.status.busy": "2024-04-29T12:35:50.290053Z",
     "iopub.status.idle": "2024-04-29T12:35:50.746964Z",
     "shell.execute_reply": "2024-04-29T12:35:50.746270Z",
     "shell.execute_reply.started": "2024-04-29T12:35:50.290479Z"
    }
   },
   "outputs": [],
   "source": [
    "from optimization.core.renewables import EnergySource, Consumer, EnergyDistribution\n",
    "\n",
    "# Create EnergySource instances\n",
    "solar = EnergySource(\"Solar\", 100, 0.10)\n",
    "wind = EnergySource(\"Wind\", 150, 0.05)\n",
    "\n",
    "# Create Consumer instances\n",
    "consumer_a = Consumer(\"A\", 15)\n",
    "consumer_b = Consumer(\"B\", 30)\n",
    "consumer_c = Consumer(\"C\", 45)\n",
    "\n",
    "# Create the energy distribution system\n",
    "system = EnergyDistribution()\n",
    "\n",
    "system.add_source(solar)\n",
    "system.add_source(wind)\n",
    "\n",
    "system.add_consumer(consumer_a)\n",
    "system.add_consumer(consumer_b)\n",
    "system.add_consumer(consumer_c)"
   ]
  },
  {
   "cell_type": "code",
   "execution_count": 10,
   "id": "381935a3-bcb8-4076-a8e9-c5f52390d99e",
   "metadata": {
    "execution": {
     "iopub.execute_input": "2024-04-29T12:40:02.861090Z",
     "iopub.status.busy": "2024-04-29T12:40:02.860180Z",
     "iopub.status.idle": "2024-04-29T12:40:02.869871Z",
     "shell.execute_reply": "2024-04-29T12:40:02.868599Z",
     "shell.execute_reply.started": "2024-04-29T12:40:02.861039Z"
    }
   },
   "outputs": [
    {
     "data": {
      "text/plain": [
       "{'A': {'demand': 15}, 'B': {'demand': 30}, 'C': {'demand': 45}}"
      ]
     },
     "execution_count": 10,
     "metadata": {},
     "output_type": "execute_result"
    }
   ],
   "source": [
    "system.consumers"
   ]
  },
  {
   "cell_type": "code",
   "execution_count": 38,
   "id": "06957b18-4414-4e47-81a6-4521aeec0586",
   "metadata": {
    "execution": {
     "iopub.execute_input": "2024-04-29T12:47:03.896618Z",
     "iopub.status.busy": "2024-04-29T12:47:03.895766Z",
     "iopub.status.idle": "2024-04-29T12:47:03.905410Z",
     "shell.execute_reply": "2024-04-29T12:47:03.904074Z",
     "shell.execute_reply.started": "2024-04-29T12:47:03.896586Z"
    }
   },
   "outputs": [
    {
     "data": {
      "text/plain": [
       "True"
      ]
     },
     "execution_count": 38,
     "metadata": {},
     "output_type": "execute_result"
    }
   ],
   "source": [
    "import numpy as np \n",
    "\n",
    "# cols: source, rows: customer\n",
    "\n",
    "x_array = np.array([\n",
    "    [5, 10], \n",
    "    [15, 15],\n",
    "    [20, 25],\n",
    "]) \n",
    "\n",
    "x_vector = x_array.flatten()\n",
    "\n",
    "x_vector[0:2].sum() == consumer_a.demand"
   ]
  },
  {
   "cell_type": "code",
   "execution_count": 25,
   "id": "25568214-7bfe-4396-aa74-7307acdc8b6a",
   "metadata": {
    "execution": {
     "iopub.execute_input": "2024-04-29T12:43:49.583822Z",
     "iopub.status.busy": "2024-04-29T12:43:49.581782Z",
     "iopub.status.idle": "2024-04-29T12:43:49.615709Z",
     "shell.execute_reply": "2024-04-29T12:43:49.613147Z",
     "shell.execute_reply.started": "2024-04-29T12:43:49.583668Z"
    }
   },
   "outputs": [
    {
     "name": "stdout",
     "output_type": "stream",
     "text": [
      "6.5\n",
      "6.5\n",
      "True\n"
     ]
    }
   ],
   "source": [
    "def cost_function_array(x_array):\n",
    "    \n",
    "    # constraint on conusmer_a\n",
    "    assert x_array[0, :].sum() == consumer_a.demand\n",
    "\n",
    "    # constraint on conusmer_b\n",
    "    assert x_array[1, :].sum() == consumer_b.demand\n",
    "\n",
    "    # constraint on conusmer_c\n",
    "    assert x_array[2, :].sum() == consumer_c.demand\n",
    "\n",
    "    # constraint on source_i\n",
    "    assert x_array[:, 0].sum() <= solar.capacity\n",
    "\n",
    "    # constraint on source_j\n",
    "    assert x_array[:, 1].sum() <= wind.capacity\n",
    "    \n",
    "    return solar.cost_per_unit * x_array[:, 0].sum() + wind.cost_per_unit * x_array[:, 1].sum()\n",
    "\n",
    "\n",
    "def cost_function_vector(x_vector):\n",
    "\n",
    "    # constraint on conusmer_a\n",
    "    assert x_vector[:2].sum() == consumer_a.demand\n",
    "    \n",
    "    # constraint on conusmer_b\n",
    "    assert x_vector[2:4].sum() == consumer_b.demand\n",
    "    \n",
    "    # constraint on conusmer_c\n",
    "    assert x_vector[4:].sum() == consumer_c.demand\n",
    "\n",
    "    # constraint on source_i\n",
    "    assert x_vector[0::2].sum() <= solar.capacity\n",
    "\n",
    "    # constraint on source_j\n",
    "    assert x_array[1::2].sum() <= wind.capacity\n",
    "\n",
    "    return solar.cost_per_unit * x_vector[0::2].sum() + wind.cost_per_unit * x_vector[1::2].sum()\n",
    "\n",
    "print(cost_function_array(x_array))\n",
    "print(cost_function_vector(x_vector))\n",
    "print(cost_function_array(x_array) == cost_function_vector(x_vector))"
   ]
  },
  {
   "cell_type": "code",
   "execution_count": 28,
   "id": "9103e733-489d-453c-9680-caf526290c18",
   "metadata": {
    "execution": {
     "iopub.execute_input": "2024-04-29T12:44:04.920764Z",
     "iopub.status.busy": "2024-04-29T12:44:04.918571Z",
     "iopub.status.idle": "2024-04-29T12:44:04.934606Z",
     "shell.execute_reply": "2024-04-29T12:44:04.932102Z",
     "shell.execute_reply.started": "2024-04-29T12:44:04.920657Z"
    }
   },
   "outputs": [
    {
     "data": {
      "text/plain": [
       "array([ 0. ,  0.5,  1. ,  1.5,  2. ,  2.5,  3. ,  3.5,  4. ,  4.5,  5. ,\n",
       "        5.5,  6. ,  6.5,  7. ,  7.5,  8. ,  8.5,  9. ,  9.5, 10. , 10.5,\n",
       "       11. , 11.5, 12. , 12.5, 13. , 13.5, 14. , 14.5, 15. , 15.5, 16. ,\n",
       "       16.5, 17. , 17.5, 18. , 18.5, 19. , 19.5, 20. , 20.5, 21. , 21.5,\n",
       "       22. , 22.5, 23. , 23.5, 24. , 24.5, 25. , 25.5, 26. , 26.5, 27. ,\n",
       "       27.5, 28. , 28.5, 29. , 29.5, 30. , 30.5, 31. , 31.5, 32. , 32.5,\n",
       "       33. , 33.5, 34. , 34.5, 35. , 35.5, 36. , 36.5, 37. , 37.5, 38. ,\n",
       "       38.5, 39. , 39.5, 40. , 40.5, 41. , 41.5, 42. , 42.5, 43. , 43.5,\n",
       "       44. , 44.5])"
      ]
     },
     "execution_count": 28,
     "metadata": {},
     "output_type": "execute_result"
    }
   ],
   "source": [
    "import numpy as np\n",
    "xrange = np.arange(0, max(consumer_a.demand, consumer_b.demand, consumer_c.demand), 0.5)\n",
    "xrange"
   ]
  },
  {
   "cell_type": "code",
   "execution_count": 31,
   "id": "8a81c596-b9cd-4ce4-b0af-17dc2af57098",
   "metadata": {
    "execution": {
     "iopub.execute_input": "2024-04-29T12:44:34.084541Z",
     "iopub.status.busy": "2024-04-29T12:44:34.084091Z",
     "iopub.status.idle": "2024-04-29T12:44:34.090516Z",
     "shell.execute_reply": "2024-04-29T12:44:34.089509Z",
     "shell.execute_reply.started": "2024-04-29T12:44:34.084507Z"
    }
   },
   "outputs": [],
   "source": [
    "from itertools import product\n",
    "\n",
    "def generate_matrix(xrange):    \n",
    "    for indices in product(*[xrange] * 6):\n",
    "        yield np.array(indices)"
   ]
  },
  {
   "cell_type": "code",
   "execution_count": null,
   "id": "393ad609-2d9f-49fc-8ee6-ef729fc6f0b7",
   "metadata": {
    "execution": {
     "iopub.execute_input": "2024-04-29T12:48:43.912106Z",
     "iopub.status.busy": "2024-04-29T12:48:43.910556Z"
    }
   },
   "outputs": [],
   "source": [
    "xgrid = generate_matrix(xrange)\n",
    "\n",
    "min_cost = 1e9\n",
    "\n",
    "for x_vector in generate_matrix(xrange):\n",
    "\n",
    "    x0, x1, x2, x3, x4, x5 = x_vector\n",
    "    if x0 + x1 == consumer_a.demand and \\\n",
    "       x2 + x3 == consumer_b.demand and \\\n",
    "       x4 + x5 == consumer_c.demand and \\\n",
    "       x0 + x2 + x4 == solar.capacity and \\\n",
    "       x1 + x3 + x5 == wind.capacity:\n",
    "        \n",
    "        cost = cost_function_vector(x_vector)\n",
    "\n",
    "        if cost < min_cost:\n",
    "            min_cost = cost \n",
    "            print(x_vector, min_cost)"
   ]
  },
  {
   "cell_type": "code",
   "execution_count": null,
   "id": "d2ecd903-ac10-451e-bb62-f2fb216ecfde",
   "metadata": {
    "execution": {
     "iopub.status.busy": "2024-04-29T12:24:01.564492Z",
     "iopub.status.idle": "2024-04-29T12:24:01.564985Z",
     "shell.execute_reply": "2024-04-29T12:24:01.564785Z",
     "shell.execute_reply.started": "2024-04-29T12:24:01.564761Z"
    }
   },
   "outputs": [],
   "source": [
    "x_array[:, 1].sum() <= wind.capacity # sum first column, need to satisfy wind capacity <= 150\n",
    "x_vector[1::2].sum() <= wind.capacity"
   ]
  },
  {
   "cell_type": "code",
   "execution_count": null,
   "id": "d7769f2b-91dd-4aff-945f-462e02a5eefe",
   "metadata": {
    "execution": {
     "iopub.status.busy": "2024-04-29T12:24:01.566299Z",
     "iopub.status.idle": "2024-04-29T12:24:01.567100Z",
     "shell.execute_reply": "2024-04-29T12:24:01.566848Z",
     "shell.execute_reply.started": "2024-04-29T12:24:01.566822Z"
    }
   },
   "outputs": [],
   "source": [
    "x_array[0, :].sum() == consumer_a.demand # sum first row, need to satisfy Custumer's A need == 90\n",
    "x_vector[:2].sum() == consumer_a.demand"
   ]
  },
  {
   "cell_type": "code",
   "execution_count": null,
   "id": "0891de6c-97e8-4c42-aea8-8a5da197d172",
   "metadata": {
    "execution": {
     "iopub.status.busy": "2024-04-29T12:24:01.570372Z",
     "iopub.status.idle": "2024-04-29T12:24:01.571124Z",
     "shell.execute_reply": "2024-04-29T12:24:01.570883Z",
     "shell.execute_reply.started": "2024-04-29T12:24:01.570859Z"
    }
   },
   "outputs": [],
   "source": [
    "x_array[1, :].sum() == consumer_b.demand # sum second row, need to satisfy Custumer's B need = 120\n",
    "x_vector[2:].sum() == consumer_b.demand"
   ]
  },
  {
   "cell_type": "code",
   "execution_count": null,
   "id": "76aa727e-cb44-42ef-9993-b9d8d16cd2e3",
   "metadata": {
    "execution": {
     "iopub.status.busy": "2024-04-29T12:24:01.572395Z",
     "iopub.status.idle": "2024-04-29T12:24:01.572859Z",
     "shell.execute_reply": "2024-04-29T12:24:01.572666Z",
     "shell.execute_reply.started": "2024-04-29T12:24:01.572649Z"
    }
   },
   "outputs": [],
   "source": [
    "from scipy.optimize import minimize\n",
    "\n",
    "x = [0, 0, 0, 0]\n",
    "res = minimize(\n",
    "    lambda x: solar.cost_per_unit * (x[0] + x[2]) + wind.cost_per_unit * ( x[1] + x[3] ), #what we want to minimize\n",
    "    x, \n",
    "    constraints = (\n",
    "        {'type':'ineq','fun': lambda x: solar.capacity - (x[0] + x[2]) }, # sum first column, need to satisfy solar capacity <= 100\n",
    "        {'type':'ineq','fun': lambda x: wind.capacity - (x[1] + x[3]) }, # sum first column, need to satisfy wind capacity <= 150\n",
    "        {'type':'eq','fun': lambda x: x[0] + x[1] - consumer_a.demand }, # sum first row, need to satisfy Custumer's A need == 90\n",
    "        {'type':'eq','fun': lambda x: x[2] + x[3] - consumer_b.demand } # sum second row, need to satisfy Custumer's B need = 120   \n",
    "    ),\n",
    "    bounds = ((0,None),(0,None),(0,None),(0,None)),\n",
    "    method='SLSQP',options={'disp': True,'maxiter' : 100000})\n",
    "\n",
    "print(res)\n",
    "cost_function_vector(res.x)"
   ]
  },
  {
   "cell_type": "code",
   "execution_count": null,
   "id": "d17c6d10-f036-49c8-ab5c-172611442d7b",
   "metadata": {},
   "outputs": [],
   "source": []
  },
  {
   "cell_type": "markdown",
   "id": "7d48f0e3-a723-466e-a5f8-4ab23f290dbc",
   "metadata": {},
   "source": [
    "### TensorFlow Implementation\n",
    "\n",
    "We will use TensorFlow to approximate a solution via a gradient descent approach, treating constraints as penalty terms in the loss function."
   ]
  },
  {
   "cell_type": "code",
   "execution_count": null,
   "id": "e6039284-f3ab-4e9d-b1be-2e64097b745a",
   "metadata": {
    "execution": {
     "iopub.status.busy": "2024-04-29T12:24:01.574921Z",
     "iopub.status.idle": "2024-04-29T12:24:01.575505Z",
     "shell.execute_reply": "2024-04-29T12:24:01.575363Z",
     "shell.execute_reply.started": "2024-04-29T12:24:01.575348Z"
    }
   },
   "outputs": [],
   "source": [
    "import tensorflow as tf\n",
    "\n",
    "# Initialize variables\n",
    "x_solar_A = tf.Variable(50.0, trainable=True)  \n",
    "x_solar_B = tf.Variable(50.0, trainable=True)\n",
    "x_wind_A = tf.Variable(40.0, trainable=True)\n",
    "x_wind_B = tf.Variable(80.0, trainable=True)\n",
    "\n",
    "# Define constraints as penalties\n",
    "def capacity_constraints():\n",
    "    return [\n",
    "        100 - (x_solar_A + x_solar_B),  # Solar capacity\n",
    "        150 - (x_wind_A + x_wind_B),    # Wind capacity\n",
    "        x_solar_A + x_wind_A - 90,      # Demand of Consumer A\n",
    "        x_solar_B + x_wind_B - 120     # Demand of Consumer B\n",
    "    ]\n",
    "\n",
    "# Cost function\n",
    "cost = 3*x_solar_A + 3*x_solar_B + 2*x_wind_A + 2*x_wind_B\n",
    "\n",
    "# Optimizer\n",
    "optimizer = tf.optimizers.SGD(learning_rate=0.01)\n",
    "\n",
    "# Training step\n",
    "def train_step():\n",
    "    with tf.GradientTape() as tape:\n",
    "        constraints = capacity_constraints()\n",
    "        penalty = tf.reduce_sum(tf.square(constraints))  # Squared penalties for constraint violation\n",
    "        loss = cost + penalty\n",
    "    gradients = tape.gradient(loss, [x_solar_A, x_solar_B, x_wind_A, x_wind_B])\n",
    "    optimizer.apply_gradients(zip(gradients, [x_solar_A, x_solar_B, x_wind_A, x_wind_B]))\n",
    "\n",
    "# Optimization loop\n",
    "for _ in range(1000):\n",
    "    train_step()\n",
    "\n",
    "# Output the results\n",
    "print(f'x_solar_A: {x_solar_A.numpy()}, x_solar_B: {x_solar_B.numpy()}')\n",
    "print(f'x_wind_A: {x_wind_A.numpy()}, x_wind_B: {x_wind_B.numpy()}')\n"
   ]
  },
  {
   "cell_type": "code",
   "execution_count": null,
   "id": "95bc2d34-52e6-4ba6-b9f2-bc6728918189",
   "metadata": {},
   "outputs": [],
   "source": []
  }
 ],
 "metadata": {
  "kernelspec": {
   "display_name": "Python 3 (ipykernel)",
   "language": "python",
   "name": "python3"
  },
  "language_info": {
   "codemirror_mode": {
    "name": "ipython",
    "version": 3
   },
   "file_extension": ".py",
   "mimetype": "text/x-python",
   "name": "python",
   "nbconvert_exporter": "python",
   "pygments_lexer": "ipython3",
   "version": "3.10.12"
  }
 },
 "nbformat": 4,
 "nbformat_minor": 5
}
