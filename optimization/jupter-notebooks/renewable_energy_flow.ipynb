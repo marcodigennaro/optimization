{
 "cells": [
  {
   "cell_type": "markdown",
   "id": "d47c3425-f3f7-4f02-9ff8-89a40212b049",
   "metadata": {},
   "source": [
    "# Renewable energy sources optimization\n",
    "\n",
    "### Problem formulation\n",
    "\n",
    "We want to optimize the distribution of the energy load coming from multiple sources.\n",
    "We have to satisfy the demand of several customers, and to minimize the overall cost.\n",
    "Let us take a simplified example, with two renewable energies sources and two customers.\n",
    "\n",
    "### Parameters\n",
    "\n",
    "- **Energy Sources**: Solar and Wind, each with different capacities and costs.\n",
    "  \n",
    "  | Source            | Capacity (kW) | Cost (€/kW) |\n",
    "  |-------------------|---------------|-------------|\n",
    "  | Solar | 100           | 0.15        |                    \n",
    "  |  Wind | 150           | 0.20        |                   \n",
    "\n",
    "- **Customers**: A & B, each with a specific energy demand.\n",
    "    - Consumer A: $D_A$ = 90 kW\n",
    "    - Consumer B: $D_B$ = 120 kW\n",
    "\n",
    "- **Objective**: Minimize the total cost of energy distribution while meeting all consumer demands without exceeding the source capacities.\n",
    "  \n",
    "- An **analytical solution** is possible for a 2x2 problem as well (look [here](https://math.stackexchange.com/questions/4909516/linear-optimization-using-lagrange-multipliers/4909626#4909626))\n",
    "\n",
    "\n",
    "\n",
    "### Formulation\n",
    "\n",
    "- **Variables**:\n",
    "    - $x_{i,a}$: Amount of energy transferred from source $i$ to consumer $a$.\n",
    "- **Objective**\n",
    "    We can define a linear cost, to be minimized:\n",
    "    $$ \\text{Cost} = \\kappa_s \\times (x_{s} + y_{s}) + \\kappa_w \\times(x_{w} + y_{w}) $$\n",
    "- **Constraints**\n",
    "  At any time these constraint must be met:\n",
    "    1. Total energy supplied to each consumer meets their demand.\n",
    "        - Demand of Consumer A: $x_{s} + x_{w} = D_A$\n",
    "        - Demand of Consumer B: $y_{s} + y_{w} = D_B$\n",
    "    2. The total energy taken from each source does not exceed its capacity.\n",
    "        - Solar capacity: $x_{s} + y_{s} \\leq S_{max}$\n",
    "        - Wind capacity: $x_{w} + y_{w} \\leq W_{max}$\n",
    "    3. All energies must be positive\n",
    "       - $x_{i,a} \\geq 0$ for any $(i, a)$\n",
    "         "
   ]
  },
  {
   "cell_type": "markdown",
   "id": "f5177e06-8aca-4a29-aabc-1b8d43834f4c",
   "metadata": {},
   "source": [
    "# EnergySource, Consumer, EnergyDistribution classes\n",
    "\n",
    "Let us take advantage of three classes to store and validate data"
   ]
  },
  {
   "cell_type": "code",
   "execution_count": 1,
   "id": "260b1cd1-f5fb-4c9d-b78d-3a89035960f4",
   "metadata": {
    "execution": {
     "iopub.execute_input": "2024-05-03T13:39:41.304386Z",
     "iopub.status.busy": "2024-05-03T13:39:41.303532Z",
     "iopub.status.idle": "2024-05-03T13:39:41.591137Z",
     "shell.execute_reply": "2024-05-03T13:39:41.590027Z",
     "shell.execute_reply.started": "2024-05-03T13:39:41.304337Z"
    }
   },
   "outputs": [],
   "source": [
    "from optimization.core.renewables import EnergySource, Consumer, EnergyDistribution\n",
    "\n",
    "# Create EnergySource instances\n",
    "solar = EnergySource(\"Solar\", 150, 0.15)\n",
    "wind = EnergySource(\"Wind\", 100, 0.2)\n",
    "\n",
    "# Create Consumer instances\n",
    "consumer_a = Consumer(\"A\", 90.)\n",
    "consumer_b = Consumer(\"B\", 120.)\n",
    "\n",
    "# Create the energy distribution system\n",
    "system = EnergyDistribution()\n",
    "\n",
    "system.add_source(solar)\n",
    "system.add_source(wind)\n",
    "\n",
    "system.add_consumer(consumer_a)\n",
    "system.add_consumer(consumer_b)"
   ]
  },
  {
   "cell_type": "code",
   "execution_count": 2,
   "id": "c95169ef-9d27-470f-ae27-9693e6b38492",
   "metadata": {
    "execution": {
     "iopub.execute_input": "2024-05-03T13:39:41.592977Z",
     "iopub.status.busy": "2024-05-03T13:39:41.592374Z",
     "iopub.status.idle": "2024-05-03T13:39:41.601169Z",
     "shell.execute_reply": "2024-05-03T13:39:41.599796Z",
     "shell.execute_reply.started": "2024-05-03T13:39:41.592927Z"
    }
   },
   "outputs": [],
   "source": [
    "system.read_max_values()"
   ]
  },
  {
   "cell_type": "markdown",
   "id": "bcfe767a-0bb9-42bc-862a-9aa6ebab9822",
   "metadata": {},
   "source": [
    "### Test guess solution\n",
    "\n",
    "The guess solution is proposed as a numpy array, the first column being the solar demand, and the second one is wind requirement. The row corrsespond to Customers A and B respectively.\n",
    "\n",
    "We can use the `cost_function` method implemented in the `EnergyDistribution` class.\n",
    "\n",
    "Note that the `test=True` options trigger the `check_solution_integrity` method which verifies that the problem requirements are satisfied. If a solution does not respect the constraint, an error will be raised."
   ]
  },
  {
   "cell_type": "code",
   "execution_count": 3,
   "id": "372ab9f3-d281-4a5c-98fc-b36c4f88228a",
   "metadata": {
    "execution": {
     "iopub.execute_input": "2024-05-03T13:39:41.603410Z",
     "iopub.status.busy": "2024-05-03T13:39:41.602630Z",
     "iopub.status.idle": "2024-05-03T13:39:41.615647Z",
     "shell.execute_reply": "2024-05-03T13:39:41.614727Z",
     "shell.execute_reply.started": "2024-05-03T13:39:41.603354Z"
    }
   },
   "outputs": [
    {
     "data": {
      "text/plain": [
       "36.5"
      ]
     },
     "execution_count": 3,
     "metadata": {},
     "output_type": "execute_result"
    }
   ],
   "source": [
    "import numpy as np\n",
    "\n",
    "guess_solution = np.array([\n",
    "    [20., 70.],  # >> Customer A \n",
    "    [90., 30.],  # >> Customer B\n",
    "]) \n",
    "\n",
    "system.cost_function(guess_solution, test=True)"
   ]
  },
  {
   "cell_type": "markdown",
   "id": "cc303143-3ad4-425b-ae7a-94d6c7f69d59",
   "metadata": {},
   "source": [
    "# Find optimal solution\n",
    "\n",
    "We can use `scipy` to find an optimal solution for the problem. We start from an initial guess and quickly arrive to a solution. "
   ]
  },
  {
   "cell_type": "code",
   "execution_count": 4,
   "id": "b3c2d8a2-4f37-4212-a4ee-2f4f0ffc703c",
   "metadata": {
    "execution": {
     "iopub.execute_input": "2024-05-03T13:39:41.617586Z",
     "iopub.status.busy": "2024-05-03T13:39:41.617031Z",
     "iopub.status.idle": "2024-05-03T13:39:41.882167Z",
     "shell.execute_reply": "2024-05-03T13:39:41.880932Z",
     "shell.execute_reply.started": "2024-05-03T13:39:41.617550Z"
    }
   },
   "outputs": [],
   "source": [
    "from scipy.optimize import minimize\n",
    "\n",
    "x = np.array([1., 1., 1., 1.])\n",
    "\n",
    "# Define Constraints\n",
    "\n",
    "constraints = [\n",
    "    {'type': 'ineq', 'fun': lambda x: solar.capacity - x[0::2].sum()}, # Sum of xs and ys should not exceed solar capacity\n",
    "    {'type': 'ineq', 'fun': lambda x: wind.capacity - x[1::2].sum()},  # Sum of xw and yw should not exceed wind capacity\n",
    "    {'type': 'eq', 'fun': lambda x: x[0:2].sum() - consumer_a.demand},   # Sum of xs and xw equals consumer_a's demand\n",
    "    {'type': 'eq', 'fun': lambda x: x[2:4].sum() - consumer_b.demand},   # Sum of ys and yw equals consumer_b's demand\n",
    "]\n"
   ]
  },
  {
   "cell_type": "code",
   "execution_count": 5,
   "id": "abfcc58e-cc0a-4b84-9b62-eaa4a8430bda",
   "metadata": {
    "execution": {
     "iopub.execute_input": "2024-05-03T13:39:41.884419Z",
     "iopub.status.busy": "2024-05-03T13:39:41.883680Z",
     "iopub.status.idle": "2024-05-03T13:39:41.918119Z",
     "shell.execute_reply": "2024-05-03T13:39:41.917002Z",
     "shell.execute_reply.started": "2024-05-03T13:39:41.884375Z"
    },
    "scrolled": true
   },
   "outputs": [
    {
     "name": "stdout",
     "output_type": "stream",
     "text": [
      "Optimization terminated successfully    (Exit mode 0)\n",
      "            Current function value: 34.5\n",
      "            Iterations: 8\n",
      "            Function evaluations: 40\n",
      "            Gradient evaluations: 8\n"
     ]
    },
    {
     "data": {
      "text/plain": [
       " message: Optimization terminated successfully\n",
       " success: True\n",
       "  status: 0\n",
       "     fun: 34.5\n",
       "       x: [ 6.750e+01  2.250e+01  8.250e+01  3.750e+01]\n",
       "     nit: 8\n",
       "     jac: [ 1.500e-01  2.000e-01  1.500e-01  2.000e-01]\n",
       "    nfev: 40\n",
       "    njev: 8"
      ]
     },
     "execution_count": 5,
     "metadata": {},
     "output_type": "execute_result"
    }
   ],
   "source": [
    "# Solve\n",
    "\n",
    "max_capacity = max( solar.capacity, wind.capacity )\n",
    "\n",
    "scipy_solution = minimize(\n",
    "    system.cost_function,  \n",
    "    x, \n",
    "    constraints=constraints,\n",
    "    bounds = len(x)*[(0,max_capacity)],\n",
    "    method='SLSQP',\n",
    "    options={'disp': True,'maxiter' : 1e6}\n",
    ")\n",
    "\n",
    "scipy_solution"
   ]
  },
  {
   "cell_type": "code",
   "execution_count": 6,
   "id": "fbf02949-59fa-44bd-96d0-d0e75ba418bc",
   "metadata": {
    "execution": {
     "iopub.execute_input": "2024-05-03T13:39:41.922881Z",
     "iopub.status.busy": "2024-05-03T13:39:41.921894Z",
     "iopub.status.idle": "2024-05-03T13:39:41.929311Z",
     "shell.execute_reply": "2024-05-03T13:39:41.928291Z",
     "shell.execute_reply.started": "2024-05-03T13:39:41.922833Z"
    }
   },
   "outputs": [
    {
     "data": {
      "text/plain": [
       "True"
      ]
     },
     "execution_count": 6,
     "metadata": {},
     "output_type": "execute_result"
    }
   ],
   "source": [
    "system.check_solution_integrity(scipy_solution.x)"
   ]
  },
  {
   "cell_type": "code",
   "execution_count": 7,
   "id": "1c6c0f95-32b1-4ae8-904e-779318f16825",
   "metadata": {
    "execution": {
     "iopub.execute_input": "2024-05-03T13:39:41.931334Z",
     "iopub.status.busy": "2024-05-03T13:39:41.930722Z",
     "iopub.status.idle": "2024-05-03T13:39:41.937881Z",
     "shell.execute_reply": "2024-05-03T13:39:41.935905Z",
     "shell.execute_reply.started": "2024-05-03T13:39:41.931292Z"
    }
   },
   "outputs": [],
   "source": [
    "a,b,c,d = scipy_solution.x"
   ]
  },
  {
   "cell_type": "code",
   "execution_count": 8,
   "id": "3f15a3b6-f950-4eff-9be8-a3fb8a764de3",
   "metadata": {
    "execution": {
     "iopub.execute_input": "2024-05-03T13:39:41.939816Z",
     "iopub.status.busy": "2024-05-03T13:39:41.939206Z",
     "iopub.status.idle": "2024-05-03T13:39:41.953150Z",
     "shell.execute_reply": "2024-05-03T13:39:41.951561Z",
     "shell.execute_reply.started": "2024-05-03T13:39:41.939760Z"
    }
   },
   "outputs": [
    {
     "data": {
      "text/plain": [
       "120.0"
      ]
     },
     "execution_count": 8,
     "metadata": {},
     "output_type": "execute_result"
    }
   ],
   "source": [
    "a+b\n",
    "c+d"
   ]
  },
  {
   "cell_type": "code",
   "execution_count": 9,
   "id": "e627d29f-19ad-4cd0-a46c-648e2336f75c",
   "metadata": {
    "execution": {
     "iopub.execute_input": "2024-05-03T13:39:41.955734Z",
     "iopub.status.busy": "2024-05-03T13:39:41.954820Z",
     "iopub.status.idle": "2024-05-03T13:39:42.982449Z",
     "shell.execute_reply": "2024-05-03T13:39:42.981559Z",
     "shell.execute_reply.started": "2024-05-03T13:39:41.955685Z"
    }
   },
   "outputs": [
    {
     "data": {
      "text/plain": [
       "<matplotlib.collections.PathCollection at 0x75646ec05060>"
      ]
     },
     "execution_count": 9,
     "metadata": {},
     "output_type": "execute_result"
    },
    {
     "data": {
      "image/png": "[encoded data removed]",
      "text/plain": [
       "<Figure size 640x480 with 2 Axes>"
      ]
     },
     "metadata": {},
     "output_type": "display_data"
    }
   ],
   "source": [
    "import matplotlib.pyplot as plt\n",
    "\n",
    "fig, [ax1, ax2] = plt.subplots(1, 2)\n",
    "\n",
    "ax1.set_title('Solar')\n",
    "\n",
    "ax2.set_title('Wind')\n",
    "\n",
    "ax1.set_ylabel('yw')\n",
    "ax1.set_xlabel('xw')\n",
    "ax2.set_ylabel('ys')\n",
    "ax2.set_xlabel('xs')\n",
    "\n",
    "ax1.scatter(scipy_solution.x[0], scipy_solution.x[2], c='r', marker='*')\n",
    "ax2.scatter(scipy_solution.x[1], scipy_solution.x[3], c='r', marker='*')"
   ]
  },
  {
   "cell_type": "code",
   "execution_count": 10,
   "id": "75719d3e-f96c-44d5-a0c1-937afcaccc19",
   "metadata": {
    "execution": {
     "iopub.execute_input": "2024-05-03T13:39:42.986574Z",
     "iopub.status.busy": "2024-05-03T13:39:42.985682Z",
     "iopub.status.idle": "2024-05-03T13:39:43.502907Z",
     "shell.execute_reply": "2024-05-03T13:39:43.502111Z",
     "shell.execute_reply.started": "2024-05-03T13:39:42.986524Z"
    }
   },
   "outputs": [
    {
     "data": {
      "text/plain": [
       "<matplotlib.collections.PathCollection at 0x75646ec7a2c0>"
      ]
     },
     "execution_count": 10,
     "metadata": {},
     "output_type": "execute_result"
    },
    {
     "data": {
      "image/png": "[encoded data removed]",
      "text/plain": [
       "<Figure size 640x480 with 2 Axes>"
      ]
     },
     "metadata": {},
     "output_type": "display_data"
    }
   ],
   "source": [
    "fig, ax1 = plt.subplots()\n",
    "\n",
    "ax1.scatter(scipy_solution.x[0], scipy_solution.x[2], c='r', marker='*')\n",
    "\n",
    "ax2 = ax1.twiny()#.twinx()\n",
    "ax2.invert_xaxis()\n",
    "\n",
    "ax2.scatter(scipy_solution.x[1], scipy_solution.x[3], c='c', marker='D')"
   ]
  },
  {
   "cell_type": "markdown",
   "id": "14680e35-f4ac-4959-a883-67e1985c0c82",
   "metadata": {
    "execution": {
     "iopub.status.busy": "2024-05-03T08:43:45.942164Z",
     "iopub.status.idle": "2024-05-03T08:43:45.943389Z",
     "shell.execute_reply": "2024-05-03T08:43:45.942850Z",
     "shell.execute_reply.started": "2024-05-03T08:43:45.942793Z"
    }
   },
   "source": [
    "# Visualization\n",
    "\n",
    "Let us create a set of possible solutions and visualize where `scipy` solution sits."
   ]
  },
  {
   "cell_type": "code",
   "execution_count": 11,
   "id": "a4eb8baa-f16f-4d6d-a71b-19c2a2c39d0a",
   "metadata": {
    "execution": {
     "iopub.execute_input": "2024-05-03T13:39:43.506851Z",
     "iopub.status.busy": "2024-05-03T13:39:43.504085Z",
     "iopub.status.idle": "2024-05-03T13:39:43.828653Z",
     "shell.execute_reply": "2024-05-03T13:39:43.826974Z",
     "shell.execute_reply.started": "2024-05-03T13:39:43.506797Z"
    }
   },
   "outputs": [
    {
     "ename": "ValueError",
     "evalue": "Total Wind demand exceeds Wind capacity (182.33230790052534>100",
     "output_type": "error",
     "traceback": [
      "\u001b[0;31m---------------------------------------------------------------------------\u001b[0m",
      "\u001b[0;31mValueError\u001b[0m                                Traceback (most recent call last)",
      "Cell \u001b[0;32mIn[11], line 1\u001b[0m\n\u001b[0;32m----> 1\u001b[0m solutions, costs \u001b[38;5;241m=\u001b[39m \u001b[43msystem\u001b[49m\u001b[38;5;241;43m.\u001b[39;49m\u001b[43mgenerate_many_solutions\u001b[49m\u001b[43m(\u001b[49m\u001b[43mnsolutions\u001b[49m\u001b[38;5;241;43m=\u001b[39;49m\u001b[38;5;241;43m500\u001b[39;49m\u001b[43m)\u001b[49m\n\u001b[1;32m      3\u001b[0m \u001b[38;5;66;03m# Get all values to show\u001b[39;00m\n\u001b[1;32m      5\u001b[0m xws \u001b[38;5;241m=\u001b[39m [arr[\u001b[38;5;241m0\u001b[39m, \u001b[38;5;241m0\u001b[39m] \u001b[38;5;28;01mfor\u001b[39;00m arr \u001b[38;5;129;01min\u001b[39;00m solutions]\n",
      "File \u001b[0;32m~/Desktop/ATOM/optimization/optimization/core/renewables.py:199\u001b[0m, in \u001b[0;36mEnergyDistribution.generate_many_solutions\u001b[0;34m(self, nsolutions)\u001b[0m\n\u001b[1;32m    196\u001b[0m solution_hashes \u001b[38;5;241m=\u001b[39m \u001b[38;5;28mset\u001b[39m()  \u001b[38;5;66;03m# To store hashes of arrays for quick membership checks\u001b[39;00m\n\u001b[1;32m    198\u001b[0m \u001b[38;5;28;01mfor\u001b[39;00m _ \u001b[38;5;129;01min\u001b[39;00m \u001b[38;5;28mrange\u001b[39m(nsolutions):\n\u001b[0;32m--> 199\u001b[0m     solution \u001b[38;5;241m=\u001b[39m \u001b[38;5;28;43mself\u001b[39;49m\u001b[38;5;241;43m.\u001b[39;49m\u001b[43mgenerate_one_solution\u001b[49m\u001b[43m(\u001b[49m\u001b[43m)\u001b[49m\n\u001b[1;32m    200\u001b[0m     solution_tuple \u001b[38;5;241m=\u001b[39m \u001b[38;5;28mtuple\u001b[39m(\u001b[38;5;28mmap\u001b[39m(\u001b[38;5;28mtuple\u001b[39m, solution))  \u001b[38;5;66;03m# Convert array to a tuple of tuples\u001b[39;00m\n\u001b[1;32m    202\u001b[0m     \u001b[38;5;28;01mif\u001b[39;00m solution_tuple \u001b[38;5;129;01mnot\u001b[39;00m \u001b[38;5;129;01min\u001b[39;00m solution_hashes:\n",
      "File \u001b[0;32m~/Desktop/ATOM/optimization/optimization/core/renewables.py:183\u001b[0m, in \u001b[0;36mEnergyDistribution.generate_one_solution\u001b[0;34m(self)\u001b[0m\n\u001b[1;32m    180\u001b[0m     \u001b[38;5;28;01mreturn\u001b[39;00m \u001b[38;5;28mself\u001b[39m\u001b[38;5;241m.\u001b[39mgenerate_one_solution()\n\u001b[1;32m    182\u001b[0m \u001b[38;5;66;03m# Check integrity of solution, else repeat\u001b[39;00m\n\u001b[0;32m--> 183\u001b[0m \u001b[38;5;28;01mif\u001b[39;00m \u001b[38;5;129;01mnot\u001b[39;00m \u001b[38;5;28;43mself\u001b[39;49m\u001b[38;5;241;43m.\u001b[39;49m\u001b[43mcheck_solution_integrity\u001b[49m\u001b[43m(\u001b[49m\u001b[43msolution\u001b[49m\u001b[43m)\u001b[49m:\n\u001b[1;32m    184\u001b[0m     \u001b[38;5;28;01mreturn\u001b[39;00m \u001b[38;5;28mself\u001b[39m\u001b[38;5;241m.\u001b[39mgenerate_one_solution()\n\u001b[1;32m    186\u001b[0m \u001b[38;5;66;03m# Check column 1 constraint (b + d < W_max)\u001b[39;00m\n",
      "File \u001b[0;32m~/Desktop/ATOM/optimization/optimization/core/renewables.py:149\u001b[0m, in \u001b[0;36mEnergyDistribution.check_solution_integrity\u001b[0;34m(self, solution, tolerance)\u001b[0m\n\u001b[1;32m    147\u001b[0m     \u001b[38;5;28;01mraise\u001b[39;00m \u001b[38;5;167;01mValueError\u001b[39;00m(\u001b[38;5;124mf\u001b[39m\u001b[38;5;124m\"\u001b[39m\u001b[38;5;124mTotal Solar demand exceeds Solar capacity (\u001b[39m\u001b[38;5;132;01m{\u001b[39;00msolar_demand\u001b[38;5;132;01m}\u001b[39;00m\u001b[38;5;124m>\u001b[39m\u001b[38;5;132;01m{\u001b[39;00m\u001b[38;5;28mself\u001b[39m\u001b[38;5;241m.\u001b[39mS_max\u001b[38;5;132;01m}\u001b[39;00m\u001b[38;5;124m\"\u001b[39m)\n\u001b[1;32m    148\u001b[0m \u001b[38;5;28;01mif\u001b[39;00m wind_demand \u001b[38;5;241m-\u001b[39m \u001b[38;5;28mself\u001b[39m\u001b[38;5;241m.\u001b[39mW_max \u001b[38;5;241m>\u001b[39m tolerance:\n\u001b[0;32m--> 149\u001b[0m     \u001b[38;5;28;01mraise\u001b[39;00m \u001b[38;5;167;01mValueError\u001b[39;00m(\u001b[38;5;124mf\u001b[39m\u001b[38;5;124m\"\u001b[39m\u001b[38;5;124mTotal Wind demand exceeds Wind capacity (\u001b[39m\u001b[38;5;132;01m{\u001b[39;00mwind_demand\u001b[38;5;132;01m}\u001b[39;00m\u001b[38;5;124m>\u001b[39m\u001b[38;5;132;01m{\u001b[39;00m\u001b[38;5;28mself\u001b[39m\u001b[38;5;241m.\u001b[39mW_max\u001b[38;5;132;01m}\u001b[39;00m\u001b[38;5;124m\"\u001b[39m)\n\u001b[1;32m    151\u001b[0m \u001b[38;5;28;01mreturn\u001b[39;00m \u001b[38;5;28;01mTrue\u001b[39;00m\n",
      "\u001b[0;31mValueError\u001b[0m: Total Wind demand exceeds Wind capacity (182.33230790052534>100"
     ]
    }
   ],
   "source": [
    "solutions, costs = system.generate_many_solutions(nsolutions=500)\n",
    "\n",
    "# Get all values to show\n",
    "\n",
    "xws = [arr[0, 0] for arr in solutions]\n",
    "xss = [arr[0, 1] for arr in solutions]\n",
    "yws = [arr[1, 0] for arr in solutions]\n",
    "yss = [arr[1, 1] for arr in solutions]\n",
    "\n",
    "# flip xss for visualization\n",
    "#xss = [ max(xss)-x for x in xss ]\n",
    "yss"
   ]
  },
  {
   "cell_type": "code",
   "execution_count": null,
   "id": "7dfbdb00-146f-474a-bbb0-beb414620f0a",
   "metadata": {
    "execution": {
     "iopub.status.busy": "2024-05-03T13:39:43.829692Z",
     "iopub.status.idle": "2024-05-03T13:39:43.830510Z",
     "shell.execute_reply": "2024-05-03T13:39:43.830163Z",
     "shell.execute_reply.started": "2024-05-03T13:39:43.830135Z"
    }
   },
   "outputs": [],
   "source": [
    "import matplotlib.pyplot as plt\n",
    "\n",
    "fig, [ax_s, ax_w] = plt.subplots(1, 2)\n",
    "\n",
    "ax_s.set_title('Solar')\n",
    "ax_s.scatter( xss, yss, c=costs, cmap ='inferno', alpha=0.4 )\n",
    "\n",
    "ax_s.set_ylabel('ys')\n",
    "ax_s.set_xlabel('xs')\n",
    "\n",
    "ax_w.set_title('Wind')\n",
    "ax_w.scatter( xws, yws, c=costs, cmap ='viridis', alpha=0.4 )\n",
    "\n",
    "ax_w.set_ylabel('yw')\n",
    "ax_w.set_xlabel('xw')\n",
    "\n",
    "ax_s.scatter(scipy_solution.x[0], scipy_solution.x[2], c='r', marker='*')\n",
    "ax_w.scatter(scipy_solution.x[1], scipy_solution.x[3], c='r', marker='*')"
   ]
  },
  {
   "cell_type": "code",
   "execution_count": null,
   "id": "240467d5-a5c5-492f-92af-9daf52b2dade",
   "metadata": {
    "execution": {
     "iopub.status.busy": "2024-05-03T13:39:43.832338Z",
     "iopub.status.idle": "2024-05-03T13:39:43.833266Z",
     "shell.execute_reply": "2024-05-03T13:39:43.833003Z",
     "shell.execute_reply.started": "2024-05-03T13:39:43.832974Z"
    }
   },
   "outputs": [],
   "source": [
    "import matplotlib.pyplot as plt\n",
    "\n",
    "fig, ax1 = plt.subplots()\n",
    "\n",
    "ax1.scatter(\n",
    "    xss,\n",
    "    yss,\n",
    "    c=costs,\n",
    "    cmap ='inferno', alpha=0.4 )\n",
    "ax1.scatter(scipy_solution.x[0], scipy_solution.x[2], c='r', marker='*')\n",
    "\n",
    "ax2 = ax1.twiny().twinx()\n",
    "#ax2.scatter( xws, yws, c=costs, cmap ='viridis', alpha=0.4 )\n",
    "ax2.invert_xaxis()\n",
    "\n",
    "ax1.set_ylabel('yw')\n",
    "ax1.set_xlabel('xw')\n",
    "ax2.set_ylabel('ys')\n",
    "ax2.set_xlabel('xs')\n",
    "\n",
    "ax2.scatter(scipy_solution.x[1], scipy_solution.x[3], c='c', marker='D')"
   ]
  },
  {
   "cell_type": "code",
   "execution_count": null,
   "id": "41c20621-314d-4a81-827a-ad648943e884",
   "metadata": {
    "execution": {
     "iopub.status.busy": "2024-05-03T13:39:43.834575Z",
     "iopub.status.idle": "2024-05-03T13:39:43.835025Z",
     "shell.execute_reply": "2024-05-03T13:39:43.834823Z",
     "shell.execute_reply.started": "2024-05-03T13:39:43.834804Z"
    }
   },
   "outputs": [],
   "source": [
    "import numpy as np\n",
    "\n",
    "def objective(x, y):\n",
    "    return solar.cost_per_unit * x + wind.cost_per_unit * (y - y**2)\n",
    "\n",
    "x = np.linspace(0, 1000, 100)\n",
    "y = np.linspace(0, 100, 100)\n",
    "X, Y = np.meshgrid(x, y)\n",
    "Z = objective(X, Y)\n",
    "\n",
    "import matplotlib.pyplot as plt\n",
    "\n",
    "plt.figure(figsize=(8, 6))\n",
    "plt.contourf(X, Y, Z, 20, cmap='viridis')  # Use a colormap like 'viridis', 'hot', 'cool', etc.\n",
    "plt.colorbar()  # Adds a color bar to indicate the scale\n",
    "plt.title('Heatmap of objective function')\n",
    "plt.xlabel('Wind')\n",
    "plt.ylabel('Solar')\n",
    "plt.show()\n"
   ]
  },
  {
   "cell_type": "code",
   "execution_count": null,
   "id": "8a81c596-b9cd-4ce4-b0af-17dc2af57098",
   "metadata": {
    "execution": {
     "iopub.status.busy": "2024-05-03T13:39:43.835907Z",
     "iopub.status.idle": "2024-05-03T13:39:43.836598Z",
     "shell.execute_reply": "2024-05-03T13:39:43.836371Z",
     "shell.execute_reply.started": "2024-05-03T13:39:43.836349Z"
    }
   },
   "outputs": [],
   "source": [
    "from itertools import product\n",
    "\n",
    "def generate_matrix(xrange):    \n",
    "    for indices in product(*[xrange] * 6):\n",
    "        yield np.array(indices)"
   ]
  },
  {
   "cell_type": "code",
   "execution_count": null,
   "id": "393ad609-2d9f-49fc-8ee6-ef729fc6f0b7",
   "metadata": {
    "execution": {
     "iopub.status.busy": "2024-05-03T13:39:43.838079Z",
     "iopub.status.idle": "2024-05-03T13:39:43.838668Z",
     "shell.execute_reply": "2024-05-03T13:39:43.838391Z",
     "shell.execute_reply.started": "2024-05-03T13:39:43.838367Z"
    }
   },
   "outputs": [],
   "source": [
    "xgrid = generate_matrix(xrange)\n",
    "\n",
    "min_cost = 1e9\n",
    "\n",
    "print(consumer_a.demand)\n",
    "for x_vector in generate_matrix(xrange):\n",
    "    \n",
    "    if x_vector[0:2].sum() == consumer_a.demand and \\\n",
    "       x_vector[2:4].sum() == consumer_b.demand and \\\n",
    "       x_vector[4:6].sum() == consumer_c.demand and \\\n",
    "       x_vector[0::2].sum() <= solar.capacity and \\\n",
    "       x_vector[1::2].sum() <= wind.capacity:\n",
    "\n",
    "        print(x_vector, x_vector[0::2].sum())\n",
    "        \n",
    "        cost = cost_function_vector(x_vector)\n",
    "        \n",
    "        if cost <= min_cost:\n",
    "            min_cost = cost \n",
    "            print(x_vector, min_cost)"
   ]
  },
  {
   "cell_type": "code",
   "execution_count": null,
   "id": "76aa727e-cb44-42ef-9993-b9d8d16cd2e3",
   "metadata": {
    "execution": {
     "iopub.status.busy": "2024-05-03T13:39:43.840122Z",
     "iopub.status.idle": "2024-05-03T13:39:43.840797Z",
     "shell.execute_reply": "2024-05-03T13:39:43.840431Z",
     "shell.execute_reply.started": "2024-05-03T13:39:43.840404Z"
    }
   },
   "outputs": [],
   "source": [
    "from scipy.optimize import minimize\n",
    "\n",
    "max_capacity = max( solar.capacity, wind.capacity )\n",
    "x_guess = x_array.flatten()\n",
    "\n",
    "print(x_vector)\n",
    "\n",
    "res = minimize(\n",
    "    #cost_function_vector,\n",
    "    lambda x: solar.cost_per_unit * x_guess[0::2].sum() + wind.cost_per_unit * x_guess[1::2].sum(), #what we want to minimize\n",
    "    x_guess, \n",
    "\n",
    "    bounds = ((0,max_capacity),(0,max_capacity),(0,max_capacity),(0,max_capacity),(0,max_capacity),(0,max_capacity)),\n",
    "    method='SLSQP',options={'disp': True,'maxiter' : 100000}\n",
    ")\n",
    "\n",
    "res\n",
    "\n",
    "\n",
    "import numpy as np\n",
    "from scipy.optimize import minimize\n",
    "\n",
    "# Objective function\n",
    "def objective(x):\n",
    "    xs, xw, ys, yw = x\n",
    "    return a * (xs + ys) + b * (xw + yw)\n",
    "\n",
    "# Constraints\n",
    "constraints = [\n",
    "    {'type': 'eq', 'fun': lambda x: x[0] + x[1] - Dx},  # xs + xw = Dx\n",
    "    {'type': 'ineq', 'fun': lambda x: S - (x[0] + x[2])},  # xs + ys <= S\n",
    "    {'type': 'eq', 'fun': lambda x: x[2] + x[3] - Dy},  # ys + yw = Dy\n",
    "    {'type': 'ineq', 'fun': lambda x: W - (x[1] + x[3])}  # xw + yw <= W\n",
    "]\n",
    "\n",
    "# Coefficients\n",
    "a = 0.3\n",
    "b = 0.1\n",
    "Dx = 13\n",
    "S = 20\n",
    "Dy = 10\n",
    "W = 15\n",
    "\n",
    "# Initial guesses\n",
    "x0 = np.array([1, 1, 1, 1])\n",
    "\n",
    "# Solve\n",
    "solution = minimize(objective, x0, constraints=constraints)\n",
    "print(solution)"
   ]
  },
  {
   "cell_type": "code",
   "execution_count": null,
   "id": "d17c6d10-f036-49c8-ab5c-172611442d7b",
   "metadata": {
    "execution": {
     "iopub.status.busy": "2024-05-03T13:39:43.842465Z",
     "iopub.status.idle": "2024-05-03T13:39:43.843158Z",
     "shell.execute_reply": "2024-05-03T13:39:43.842838Z",
     "shell.execute_reply.started": "2024-05-03T13:39:43.842805Z"
    }
   },
   "outputs": [],
   "source": [
    "print(res)\n",
    "print(res.fun)"
   ]
  },
  {
   "cell_type": "markdown",
   "id": "7d48f0e3-a723-466e-a5f8-4ab23f290dbc",
   "metadata": {},
   "source": [
    "### TensorFlow Implementation\n",
    "\n",
    "We will use TensorFlow to approximate a solution via a gradient descent approach, treating constraints as penalty terms in the loss function."
   ]
  },
  {
   "cell_type": "code",
   "execution_count": null,
   "id": "e6039284-f3ab-4e9d-b1be-2e64097b745a",
   "metadata": {
    "execution": {
     "iopub.status.busy": "2024-05-03T13:39:43.846305Z",
     "iopub.status.idle": "2024-05-03T13:39:43.846897Z",
     "shell.execute_reply": "2024-05-03T13:39:43.846624Z",
     "shell.execute_reply.started": "2024-05-03T13:39:43.846598Z"
    }
   },
   "outputs": [],
   "source": [
    "import tensorflow as tf\n",
    "\n",
    "# Initialize variables\n",
    "x_solar_A = tf.Variable(x_guess[0] , trainable=True)  \n",
    "x_solar_B = tf.Variable(x_guess[2], trainable=True)\n",
    "x_solar_C = tf.Variable(x_guess[4], trainable=True)\n",
    "x_wind_A = tf.Variable(x_guess[1], trainable=True)\n",
    "x_wind_B = tf.Variable(x_guess[3], trainable=True)\n",
    "x_wind_C = tf.Variable(x_guess[5], trainable=True)\n",
    "\n",
    "# Define constraints as penalties\n",
    "def capacity_constraints():\n",
    "    return [\n",
    "        solar.capacity - (x_solar_A + x_solar_B + x_solar_C),  # Solar capacity\n",
    "        wind.capacity - (x_wind_A + x_wind_B + x_wind_C),    # Wind capacity\n",
    "        x_solar_A + x_wind_A - consumer_a.demand, # Demand of Consumer A\n",
    "        x_solar_B + x_wind_B - consumer_b.demand, # Demand of Consumer B\n",
    "        x_solar_C + x_wind_C - consumer_c.demand  # Demand of Consumer C\n",
    "    ]\n",
    "\n",
    "# Define sources, consumers, and their capacities and demands here\n",
    "\n",
    "# Cost function\n",
    "cost = solar.cost_per_unit * ( x_solar_A + x_solar_B + x_solar_C ) + wind.cost_per_unit * ( x_wind_A + x_wind_B + x_wind_C )\n",
    "\n",
    "# Optimizer\n",
    "optimizer = tf.optimizers.SGD(learning_rate=0.01)\n",
    "optimizer = tf.optimizers.SGD(learning_rate=0.0001)  # Adjust learning rate here\n",
    "\n",
    "# Training step\n",
    "def train_step():\n",
    "    with tf.GradientTape() as tape:\n",
    "        constraints = capacity_constraints()\n",
    "        penalty = tf.reduce_sum(tf.square(constraints))  # Squared penalties for constraint violation\n",
    "        loss = cost + penalty\n",
    "    gradients = tape.gradient(loss, [x_solar_A, x_solar_B, x_solar_C, x_wind_A, x_wind_B, x_wind_C])\n",
    "    optimizer.apply_gradients(zip(gradients, [x_solar_A, x_solar_B, x_solar_C, x_wind_A, x_wind_B, x_wind_C]))\n",
    "    return loss  # Return the loss value\n",
    "\n",
    "# Optimization loop\n",
    "for i in range(100):\n",
    "    loss = train_step()\n",
    "    if (i + 1) % 10 == 0:  # Print cost every 100 iterations\n",
    "        print(f\"Iteration {i + 1}, Cost: {loss.numpy()}\")\n"
   ]
  },
  {
   "cell_type": "code",
   "execution_count": null,
   "id": "95bc2d34-52e6-4ba6-b9f2-bc6728918189",
   "metadata": {
    "execution": {
     "iopub.status.busy": "2024-05-03T13:39:43.848438Z",
     "iopub.status.idle": "2024-05-03T13:39:43.849697Z",
     "shell.execute_reply": "2024-05-03T13:39:43.849359Z",
     "shell.execute_reply.started": "2024-05-03T13:39:43.849324Z"
    }
   },
   "outputs": [],
   "source": [
    "# Output the results\n",
    "print(f'           |   Solar            |  Wind')\n",
    "print(f'Consumer A |{x_solar_A.numpy()}  | {x_wind_A.numpy()}')\n",
    "print(f'Consumer B |{x_solar_B.numpy()}  | {x_wind_B.numpy()}')\n",
    "print(f'Consumer C |{x_solar_C.numpy()}  | {x_wind_C.numpy()}')\n"
   ]
  },
  {
   "cell_type": "code",
   "execution_count": null,
   "id": "5273c998-65bc-4046-8648-b00dd8274eb6",
   "metadata": {
    "execution": {
     "iopub.status.busy": "2024-05-03T13:39:43.852310Z",
     "iopub.status.idle": "2024-05-03T13:39:43.853326Z",
     "shell.execute_reply": "2024-05-03T13:39:43.852875Z",
     "shell.execute_reply.started": "2024-05-03T13:39:43.852834Z"
    }
   },
   "outputs": [],
   "source": [
    "loss.numpy()"
   ]
  },
  {
   "cell_type": "code",
   "execution_count": null,
   "id": "8422999a-691d-4cc1-a69a-5914a3ffd0ad",
   "metadata": {},
   "outputs": [],
   "source": []
  }
 ],
 "metadata": {
  "kernelspec": {
   "display_name": "Python 3 (ipykernel)",
   "language": "python",
   "name": "python3"
  },
  "language_info": {
   "codemirror_mode": {
    "name": "ipython",
    "version": 3
   },
   "file_extension": ".py",
   "mimetype": "text/x-python",
   "name": "python",
   "nbconvert_exporter": "python",
   "pygments_lexer": "ipython3",
   "version": "3.10.12"
  }
 },
 "nbformat": 4,
 "nbformat_minor": 5
}
