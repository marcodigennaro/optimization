{
 "cells": [
  {
   "cell_type": "markdown",
   "id": "d47c3425-f3f7-4f02-9ff8-89a40212b049",
   "metadata": {},
   "source": [
    "## Renewable energy sources optimization\n",
    "\n",
    "### Problem formulation\n",
    "\n",
    "We need to optimize the distribution of energy from multiple sources to different consumers to minimize the overall cost, while satisfying demand constraints.\n",
    "\n",
    "### Parameters\n",
    "\n",
    "- **Energy Sources**: Two sources (e.g., solar and wind), each with different capacities and costs.\n",
    "- **Consumers**: Two consumers, each with a specific energy demand.\n",
    "- **Objective**: Minimize the total cost of energy distribution while meeting all consumer demands without exceeding the source capacities.\n",
    "\n",
    "**Source Capacities**:\n",
    "- Solar = 100 units\n",
    "- Wind = 150 units\n",
    "\n",
    "**Source Costs**:\n",
    "- Solar = 3$ / unit\n",
    "- Wind = 2$ / unit\n",
    "\n",
    "**Consumer Demands**:\n",
    "- Consumer A = 90 units\n",
    "- Consumer B = 120 units\n",
    "\n",
    "### Variables\n",
    "\n",
    "- \\( x_{i,j} \\): Amount of energy transferred from source \\( i \\) to consumer \\( j \\).\n",
    "\n",
    "### Objective\n",
    "\n",
    "Minimize total cost:\n",
    "\\[ \\text{Cost} = 3x_{solar,A} + 3x_{solar,B} + 2x_{wind,A} + 2x_{wind,B} \\]\n",
    "\n",
    "### Constraints\n",
    "\n",
    "1. Total energy supplied to each consumer meets their demand.\n",
    "2. The total energy taken from each source does not exceed its capacity.\n",
    "\n",
    "### Mathematical Formulation\n",
    "\n",
    "**Objective Function**:\n",
    "\\[ \\min \\; 3x_{solar,A} + 3x_{solar,B} + 2x_{wind,A} + 2x_{wind,B} \\]\n",
    "\n",
    "**Constraints**:\n",
    "- \\( x_{solar,A} + x_{solar,B} \\leq 100 \\) (Solar capacity)\n",
    "- \\( x_{wind,A} + x_{wind,B} \\leq 150 \\) (Wind capacity)\n",
    "- \\( x_{solar,A} + x_{wind,A} = 90 \\) (Demand of Consumer A)\n",
    "- \\( x_{solar,B} + x_{wind,B} = 120 \\) (Demand of Consumer B)\n",
    "- \\( x_{i,j} \\geq 0 \\) for all \\( i, j \\)\n",
    "\n",
    "### TensorFlow Implementation\n",
    "\n",
    "We will use TensorFlow to approximate a solution via a gradient descent approach, treating constraints as penalty terms in the loss function."
   ]
  },
  {
   "cell_type": "code",
   "execution_count": 1,
   "id": "e6039284-f3ab-4e9d-b1be-2e64097b745a",
   "metadata": {
    "execution": {
     "iopub.execute_input": "2024-04-25T14:40:15.718530Z",
     "iopub.status.busy": "2024-04-25T14:40:15.718221Z",
     "iopub.status.idle": "2024-04-25T14:40:24.189675Z",
     "shell.execute_reply": "2024-04-25T14:40:24.188895Z",
     "shell.execute_reply.started": "2024-04-25T14:40:15.718506Z"
    }
   },
   "outputs": [
    {
     "name": "stderr",
     "output_type": "stream",
     "text": [
      "2024-04-25 16:40:16.123392: I external/local_tsl/tsl/cuda/cudart_stub.cc:32] Could not find cuda drivers on your machine, GPU will not be used.\n",
      "2024-04-25 16:40:16.128033: I external/local_tsl/tsl/cuda/cudart_stub.cc:32] Could not find cuda drivers on your machine, GPU will not be used.\n",
      "2024-04-25 16:40:16.175931: I tensorflow/core/platform/cpu_feature_guard.cc:210] This TensorFlow binary is optimized to use available CPU instructions in performance-critical operations.\n",
      "To enable the following instructions: AVX2 FMA, in other operations, rebuild TensorFlow with the appropriate compiler flags.\n",
      "2024-04-25 16:40:17.190311: W tensorflow/compiler/tf2tensorrt/utils/py_utils.cc:38] TF-TRT Warning: Could not find TensorRT\n"
     ]
    },
    {
     "name": "stdout",
     "output_type": "stream",
     "text": [
      "x_solar_A: 47.50000762939453, x_solar_B: 42.50007629394531\n",
      "x_wind_A: 52.5, x_wind_B: 87.4999008178711\n"
     ]
    }
   ],
   "source": [
    "import tensorflow as tf\n",
    "\n",
    "# Initialize variables\n",
    "x_solar_A = tf.Variable(50.0, trainable=True)  # Start with arbitrary feasible values\n",
    "x_solar_B = tf.Variable(50.0, trainable=True)\n",
    "x_wind_A = tf.Variable(40.0, trainable=True)\n",
    "x_wind_B = tf.Variable(80.0, trainable=True)\n",
    "\n",
    "# Define constraints as penalties\n",
    "def capacity_constraints():\n",
    "    return [\n",
    "        100 - (x_solar_A + x_solar_B),  # Solar capacity\n",
    "        150 - (x_wind_A + x_wind_B),    # Wind capacity\n",
    "        x_solar_A + x_wind_A - 90,      # Demand of Consumer A\n",
    "        x_solar_B + x_wind_B - 120     # Demand of Consumer B\n",
    "    ]\n",
    "\n",
    "# Cost function\n",
    "cost = 3*x_solar_A + 3*x_solar_B + 2*x_wind_A + 2*x_wind_B\n",
    "\n",
    "# Optimizer\n",
    "optimizer = tf.optimizers.SGD(learning_rate=0.01)\n",
    "\n",
    "# Training step\n",
    "def train_step():\n",
    "    with tf.GradientTape() as tape:\n",
    "        constraints = capacity_constraints()\n",
    "        penalty = tf.reduce_sum(tf.square(constraints))  # Squared penalties for constraint violation\n",
    "        loss = cost + penalty\n",
    "    gradients = tape.gradient(loss, [x_solar_A, x_solar_B, x_wind_A, x_wind_B])\n",
    "    optimizer.apply_gradients(zip(gradients, [x_solar_A, x_solar_B, x_wind_A, x_wind_B]))\n",
    "\n",
    "# Optimization loop\n",
    "for _ in range(1000):\n",
    "    train_step()\n",
    "\n",
    "# Output the results\n",
    "print(f'x_solar_A: {x_solar_A.numpy()}, x_solar_B: {x_solar_B.numpy()}')\n",
    "print(f'x_wind_A: {x_wind_A.numpy()}, x_wind_B: {x_wind_B.numpy()}')\n"
   ]
  },
  {
   "cell_type": "code",
   "execution_count": null,
   "id": "95bc2d34-52e6-4ba6-b9f2-bc6728918189",
   "metadata": {},
   "outputs": [],
   "source": []
  }
 ],
 "metadata": {
  "kernelspec": {
   "display_name": "Python 3 (ipykernel)",
   "language": "python",
   "name": "python3"
  },
  "language_info": {
   "codemirror_mode": {
    "name": "ipython",
    "version": 3
   },
   "file_extension": ".py",
   "mimetype": "text/x-python",
   "name": "python",
   "nbconvert_exporter": "python",
   "pygments_lexer": "ipython3",
   "version": "3.10.12"
  }
 },
 "nbformat": 4,
 "nbformat_minor": 5
}
