{
 "cells": [
  {
   "cell_type": "markdown",
   "id": "d47c3425-f3f7-4f02-9ff8-89a40212b049",
   "metadata": {},
   "source": [
    "# Renewable energy sources optimization\n",
    "\n",
    "### Problem formulation\n",
    "\n",
    "We need to optimize the distribution of energy from multiple sources to different consumers to minimize the overall cost, while satisfying demand constraints.\n",
    "\n",
    "### Parameters\n",
    "\n",
    "- **Energy Sources**: Two sources (e.g., solar and wind), each with different capacities and costs.\n",
    "- **Consumers**: Two consumers, each with a specific energy demand.\n",
    "- **Objective**: Minimize the total cost of energy distribution while meeting all consumer demands without exceeding the source capacities.\n",
    "- **Tools**: Linear programming, Quadratic Programming\n",
    "\n",
    "- **Sources parameters**:\n",
    "\n",
    "    | Source            | Capacity (kW) | Cost (€/kW) |\n",
    "    |-------------------|---------------|-------------|\n",
    "    | **I** (eg. Solar) | 100           | 0.15        |                    \n",
    "    | **J**  (eg. Wind) | 150           | 0.20        |                   \n",
    "\n",
    "\n",
    "- **Consumer Demands**:\n",
    "    - Consumer A = 90 kW\n",
    "    - Consumer B = 120 kW\n",
    "\n",
    "### Formulation\n",
    "\n",
    "- **Variables**:\n",
    "    - $x_{i,a}$: Amount of energy transferred from source $i$ to consumer $a$.\n",
    "- **Objective**\n",
    "    We can define a linear cost, to be minimized:\n",
    "    $$ \\text{Cost} = cost_I \\times (x_{I,A} + x_{I,B}) + cost_J \\times(x_{J,A} + x_{J,B}) $$\n",
    "- **Constraints**\n",
    "  At any time these constraint must be met:\n",
    "    1. Total energy supplied to each consumer meets their demand.\n",
    "        - Demand of Consumer A: $x_{I,A} + x_{J,A} = 90$\n",
    "        - Demand of Consumer B: $x_{I,B} + x_{J,B} = 120$\n",
    "    2. The total energy taken from each source does not exceed its capacity.\n",
    "        - Solar capacity: $x_{I,A} + x_{I,B} \\leq 100$\n",
    "        - Wind capacity: $x_{J,A} + x_{J,B} \\leq 150$\n",
    "    3. All energies must be positive\n",
    "       - $x_{i,a} \\geq 0$ for any $(i, a)$\n",
    "         "
   ]
  },
  {
   "cell_type": "code",
   "execution_count": 1,
   "id": "73f0c626-e652-4270-b76e-eac33aa53666",
   "metadata": {
    "execution": {
     "iopub.execute_input": "2024-04-26T15:25:25.978701Z",
     "iopub.status.busy": "2024-04-26T15:25:25.977644Z",
     "iopub.status.idle": "2024-04-26T15:25:25.988307Z",
     "shell.execute_reply": "2024-04-26T15:25:25.984117Z",
     "shell.execute_reply.started": "2024-04-26T15:25:25.978629Z"
    }
   },
   "outputs": [],
   "source": [
    "# GLOBAL VARIABLES"
   ]
  },
  {
   "cell_type": "code",
   "execution_count": 2,
   "id": "260b1cd1-f5fb-4c9d-b78d-3a89035960f4",
   "metadata": {
    "execution": {
     "iopub.execute_input": "2024-04-26T15:25:25.989958Z",
     "iopub.status.busy": "2024-04-26T15:25:25.989579Z",
     "iopub.status.idle": "2024-04-26T15:25:26.480626Z",
     "shell.execute_reply": "2024-04-26T15:25:26.479387Z",
     "shell.execute_reply.started": "2024-04-26T15:25:25.989922Z"
    }
   },
   "outputs": [],
   "source": [
    "from optimization.core.renewables import EnergySource, Consumer, EnergyDistribution\n",
    "\n",
    "# Create EnergySource instances\n",
    "solar = EnergySource(\"Solar\", 100, 0.10)\n",
    "wind = EnergySource(\"Wind\", 150, 0.05)\n",
    "\n",
    "# Create Consumer instances\n",
    "consumer_a = Consumer(\"A\", 90)\n",
    "consumer_b = Consumer(\"B\", 120)\n",
    "\n",
    "# Create the energy distribution system\n",
    "system = EnergyDistribution()\n",
    "\n",
    "system.add_source(solar)\n",
    "system.add_source(wind)\n",
    "\n",
    "system.add_consumer(consumer_a)\n",
    "system.add_consumer(consumer_b)"
   ]
  },
  {
   "cell_type": "code",
   "execution_count": 3,
   "id": "381935a3-bcb8-4076-a8e9-c5f52390d99e",
   "metadata": {
    "execution": {
     "iopub.execute_input": "2024-04-26T15:25:26.482578Z",
     "iopub.status.busy": "2024-04-26T15:25:26.481998Z",
     "iopub.status.idle": "2024-04-26T15:25:26.492591Z",
     "shell.execute_reply": "2024-04-26T15:25:26.491092Z",
     "shell.execute_reply.started": "2024-04-26T15:25:26.482533Z"
    }
   },
   "outputs": [
    {
     "data": {
      "text/plain": [
       "{'Solar': {'capacity': 100, 'cost_per_unit': 0.1, 'unit': 'kW'},\n",
       " 'Wind': {'capacity': 150, 'cost_per_unit': 0.05, 'unit': 'kW'}}"
      ]
     },
     "execution_count": 3,
     "metadata": {},
     "output_type": "execute_result"
    }
   ],
   "source": [
    "system.sources"
   ]
  },
  {
   "cell_type": "code",
   "execution_count": 41,
   "id": "06957b18-4414-4e47-81a6-4521aeec0586",
   "metadata": {
    "execution": {
     "iopub.execute_input": "2024-04-26T15:51:00.796181Z",
     "iopub.status.busy": "2024-04-26T15:51:00.792987Z",
     "iopub.status.idle": "2024-04-26T15:51:00.818088Z",
     "shell.execute_reply": "2024-04-26T15:51:00.816482Z",
     "shell.execute_reply.started": "2024-04-26T15:51:00.796028Z"
    }
   },
   "outputs": [
    {
     "data": {
      "text/plain": [
       "True"
      ]
     },
     "execution_count": 41,
     "metadata": {},
     "output_type": "execute_result"
    }
   ],
   "source": [
    "import numpy as np \n",
    "\n",
    "# cols: source, rows: customer\n",
    "\n",
    "x_array = np.array([\n",
    "    [30, 60], \n",
    "    [50, 70]\n",
    "]) \n",
    "\n",
    "x_vector = x_array.flatten()\n",
    "\n",
    "def cost_function_array(x_array):\n",
    "    return solar.cost_per_unit * x_array[:, 0].sum() + wind.cost_per_unit * x_array[:, 1].sum()\n",
    "\n",
    "\n",
    "def cost_function_vector(x_vector):\n",
    "    return solar.cost_per_unit * (x_vector[0] + x_vector[2]) + wind.cost_per_unit * ( x_vector[1] + x_vector[3] )\n",
    "\n",
    "cost_function_array(x_array) == cost_function_vector(x_vector)"
   ]
  },
  {
   "cell_type": "code",
   "execution_count": 68,
   "id": "17c3f1c6-872f-417b-9ced-a2b12a5cd9cd",
   "metadata": {
    "execution": {
     "iopub.execute_input": "2024-04-26T16:00:29.125333Z",
     "iopub.status.busy": "2024-04-26T16:00:29.124913Z",
     "iopub.status.idle": "2024-04-26T16:00:31.097727Z",
     "shell.execute_reply": "2024-04-26T16:00:31.096983Z",
     "shell.execute_reply.started": "2024-04-26T16:00:29.125306Z"
    }
   },
   "outputs": [
    {
     "name": "stdout",
     "output_type": "stream",
     "text": [
      "0.30000000000000004\n"
     ]
    }
   ],
   "source": [
    "xrange = np.linspace(1,120)\n",
    "min_cost = 1e3\n",
    "for x0 in xrange:\n",
    "    for x1 in xrange:\n",
    "        if x0 + x1 <= solar.capacity:\n",
    "            for x2 in xrange:\n",
    "                for x3 in xrange:\n",
    "                    if x2 + x3 <= wind.capacity:\n",
    "                        if (x0 + x2 - consumer_a.demand < 1e-3) & (x1 + x3 - consumer_b.demand < 1e-3):\n",
    "                            cost = cost_function_vector([x0, x1, x2, x3])\n",
    "                            if cost < min_cost:\n",
    "                                min_cost = cost\n",
    "                                print(min_cost)\n"
   ]
  },
  {
   "cell_type": "code",
   "execution_count": 17,
   "id": "6b20fec2-acb0-4d9b-b51d-fdf94821ebff",
   "metadata": {
    "execution": {
     "iopub.execute_input": "2024-04-26T15:26:53.032546Z",
     "iopub.status.busy": "2024-04-26T15:26:53.030558Z",
     "iopub.status.idle": "2024-04-26T15:26:53.049391Z",
     "shell.execute_reply": "2024-04-26T15:26:53.047293Z",
     "shell.execute_reply.started": "2024-04-26T15:26:53.032418Z"
    }
   },
   "outputs": [
    {
     "data": {
      "text/plain": [
       "True"
      ]
     },
     "execution_count": 17,
     "metadata": {},
     "output_type": "execute_result"
    }
   ],
   "source": [
    "x_array[:, 0].sum() <= solar.capacity # sum first column, need to satisfy solar capacity <= 100\n",
    "x_vector[::2].sum() <= solar.capacity"
   ]
  },
  {
   "cell_type": "code",
   "execution_count": 18,
   "id": "d2ecd903-ac10-451e-bb62-f2fb216ecfde",
   "metadata": {
    "execution": {
     "iopub.execute_input": "2024-04-26T15:27:06.665782Z",
     "iopub.status.busy": "2024-04-26T15:27:06.664648Z",
     "iopub.status.idle": "2024-04-26T15:27:06.677722Z",
     "shell.execute_reply": "2024-04-26T15:27:06.676041Z",
     "shell.execute_reply.started": "2024-04-26T15:27:06.665702Z"
    }
   },
   "outputs": [
    {
     "data": {
      "text/plain": [
       "True"
      ]
     },
     "execution_count": 18,
     "metadata": {},
     "output_type": "execute_result"
    }
   ],
   "source": [
    "x_array[:, 1].sum() <= wind.capacity # sum first column, need to satisfy wind capacity <= 150\n",
    "x_vector[1::2].sum() <= wind.capacity"
   ]
  },
  {
   "cell_type": "code",
   "execution_count": 20,
   "id": "d7769f2b-91dd-4aff-945f-462e02a5eefe",
   "metadata": {
    "execution": {
     "iopub.execute_input": "2024-04-26T15:27:44.816621Z",
     "iopub.status.busy": "2024-04-26T15:27:44.813960Z",
     "iopub.status.idle": "2024-04-26T15:27:44.833228Z",
     "shell.execute_reply": "2024-04-26T15:27:44.831385Z",
     "shell.execute_reply.started": "2024-04-26T15:27:44.816473Z"
    }
   },
   "outputs": [
    {
     "data": {
      "text/plain": [
       "True"
      ]
     },
     "execution_count": 20,
     "metadata": {},
     "output_type": "execute_result"
    }
   ],
   "source": [
    "x_array[0, :].sum() == consumer_a.demand # sum first row, need to satisfy Custumer's A need == 90\n",
    "x_vector[:2].sum() == consumer_a.demand"
   ]
  },
  {
   "cell_type": "code",
   "execution_count": 21,
   "id": "0891de6c-97e8-4c42-aea8-8a5da197d172",
   "metadata": {
    "execution": {
     "iopub.execute_input": "2024-04-26T15:27:56.463734Z",
     "iopub.status.busy": "2024-04-26T15:27:56.462353Z",
     "iopub.status.idle": "2024-04-26T15:27:56.483328Z",
     "shell.execute_reply": "2024-04-26T15:27:56.480546Z",
     "shell.execute_reply.started": "2024-04-26T15:27:56.463600Z"
    }
   },
   "outputs": [
    {
     "data": {
      "text/plain": [
       "True"
      ]
     },
     "execution_count": 21,
     "metadata": {},
     "output_type": "execute_result"
    }
   ],
   "source": [
    "x_array[1, :].sum() == consumer_b.demand # sum second row, need to satisfy Custumer's B need = 120\n",
    "x_vector[2:].sum() == consumer_b.demand"
   ]
  },
  {
   "cell_type": "code",
   "execution_count": 56,
   "id": "76aa727e-cb44-42ef-9993-b9d8d16cd2e3",
   "metadata": {
    "execution": {
     "iopub.execute_input": "2024-04-26T15:56:18.412504Z",
     "iopub.status.busy": "2024-04-26T15:56:18.410831Z",
     "iopub.status.idle": "2024-04-26T15:56:18.433779Z",
     "shell.execute_reply": "2024-04-26T15:56:18.433082Z",
     "shell.execute_reply.started": "2024-04-26T15:56:18.412452Z"
    }
   },
   "outputs": [
    {
     "name": "stdout",
     "output_type": "stream",
     "text": [
      "Optimization terminated successfully    (Exit mode 0)\n",
      "            Current function value: 13.500000000000012\n",
      "            Iterations: 8\n",
      "            Function evaluations: 40\n",
      "            Gradient evaluations: 8\n",
      " message: Optimization terminated successfully\n",
      " success: True\n",
      "  status: 0\n",
      "     fun: 13.500000000000012\n",
      "       x: [ 2.250e+01  6.750e+01  3.750e+01  8.250e+01]\n",
      "     nit: 8\n",
      "     jac: [ 1.000e-01  5.000e-02  1.000e-01  5.000e-02]\n",
      "    nfev: 40\n",
      "    njev: 8\n"
     ]
    },
    {
     "data": {
      "text/plain": [
       "13.500000000000012"
      ]
     },
     "execution_count": 56,
     "metadata": {},
     "output_type": "execute_result"
    }
   ],
   "source": [
    "from scipy.optimize import minimize\n",
    "\n",
    "x = [0, 0, 0, 0]\n",
    "res = minimize(\n",
    "    lambda x: solar.cost_per_unit * (x[0] + x[2]) + wind.cost_per_unit * ( x[1] + x[3] ), #what we want to minimize\n",
    "    x, \n",
    "    constraints = (\n",
    "        {'type':'ineq','fun': lambda x: solar.capacity - (x[0] + x[2]) }, # sum first column, need to satisfy solar capacity <= 100\n",
    "        {'type':'ineq','fun': lambda x: wind.capacity - (x[1] + x[3]) }, # sum first column, need to satisfy wind capacity <= 150\n",
    "        {'type':'eq','fun': lambda x: x[0] + x[1] - consumer_a.demand }, # sum first row, need to satisfy Custumer's A need == 90\n",
    "        {'type':'eq','fun': lambda x: x[2] + x[3] - consumer_b.demand } # sum second row, need to satisfy Custumer's B need = 120   \n",
    "    ),\n",
    "    bounds = ((0,None),(0,None),(0,None),(0,None)),\n",
    "    method='SLSQP',options={'disp': True,'maxiter' : 100000})\n",
    "\n",
    "print(res)\n",
    "cost_function_vector(res.x)"
   ]
  },
  {
   "cell_type": "code",
   "execution_count": 48,
   "id": "d17c6d10-f036-49c8-ab5c-172611442d7b",
   "metadata": {
    "execution": {
     "iopub.execute_input": "2024-04-26T15:53:39.922796Z",
     "iopub.status.busy": "2024-04-26T15:53:39.921574Z",
     "iopub.status.idle": "2024-04-26T15:53:39.941794Z",
     "shell.execute_reply": "2024-04-26T15:53:39.940152Z",
     "shell.execute_reply.started": "2024-04-26T15:53:39.922678Z"
    }
   },
   "outputs": [
    {
     "data": {
      "text/plain": [
       "13.500000000000012"
      ]
     },
     "execution_count": 48,
     "metadata": {},
     "output_type": "execute_result"
    }
   ],
   "source": []
  },
  {
   "cell_type": "markdown",
   "id": "7d48f0e3-a723-466e-a5f8-4ab23f290dbc",
   "metadata": {},
   "source": [
    "### TensorFlow Implementation\n",
    "\n",
    "We will use TensorFlow to approximate a solution via a gradient descent approach, treating constraints as penalty terms in the loss function."
   ]
  },
  {
   "cell_type": "code",
   "execution_count": null,
   "id": "e6039284-f3ab-4e9d-b1be-2e64097b745a",
   "metadata": {
    "execution": {
     "iopub.status.busy": "2024-04-26T15:25:26.812193Z",
     "iopub.status.idle": "2024-04-26T15:25:26.813007Z",
     "shell.execute_reply": "2024-04-26T15:25:26.812761Z",
     "shell.execute_reply.started": "2024-04-26T15:25:26.812732Z"
    }
   },
   "outputs": [],
   "source": [
    "import tensorflow as tf\n",
    "\n",
    "# Initialize variables\n",
    "x_solar_A = tf.Variable(50.0, trainable=True)  \n",
    "x_solar_B = tf.Variable(50.0, trainable=True)\n",
    "x_wind_A = tf.Variable(40.0, trainable=True)\n",
    "x_wind_B = tf.Variable(80.0, trainable=True)\n",
    "\n",
    "# Define constraints as penalties\n",
    "def capacity_constraints():\n",
    "    return [\n",
    "        100 - (x_solar_A + x_solar_B),  # Solar capacity\n",
    "        150 - (x_wind_A + x_wind_B),    # Wind capacity\n",
    "        x_solar_A + x_wind_A - 90,      # Demand of Consumer A\n",
    "        x_solar_B + x_wind_B - 120     # Demand of Consumer B\n",
    "    ]\n",
    "\n",
    "# Cost function\n",
    "cost = 3*x_solar_A + 3*x_solar_B + 2*x_wind_A + 2*x_wind_B\n",
    "\n",
    "# Optimizer\n",
    "optimizer = tf.optimizers.SGD(learning_rate=0.01)\n",
    "\n",
    "# Training step\n",
    "def train_step():\n",
    "    with tf.GradientTape() as tape:\n",
    "        constraints = capacity_constraints()\n",
    "        penalty = tf.reduce_sum(tf.square(constraints))  # Squared penalties for constraint violation\n",
    "        loss = cost + penalty\n",
    "    gradients = tape.gradient(loss, [x_solar_A, x_solar_B, x_wind_A, x_wind_B])\n",
    "    optimizer.apply_gradients(zip(gradients, [x_solar_A, x_solar_B, x_wind_A, x_wind_B]))\n",
    "\n",
    "# Optimization loop\n",
    "for _ in range(1000):\n",
    "    train_step()\n",
    "\n",
    "# Output the results\n",
    "print(f'x_solar_A: {x_solar_A.numpy()}, x_solar_B: {x_solar_B.numpy()}')\n",
    "print(f'x_wind_A: {x_wind_A.numpy()}, x_wind_B: {x_wind_B.numpy()}')\n"
   ]
  },
  {
   "cell_type": "code",
   "execution_count": null,
   "id": "95bc2d34-52e6-4ba6-b9f2-bc6728918189",
   "metadata": {},
   "outputs": [],
   "source": []
  }
 ],
 "metadata": {
  "kernelspec": {
   "display_name": "Python 3 (ipykernel)",
   "language": "python",
   "name": "python3"
  },
  "language_info": {
   "codemirror_mode": {
    "name": "ipython",
    "version": 3
   },
   "file_extension": ".py",
   "mimetype": "text/x-python",
   "name": "python",
   "nbconvert_exporter": "python",
   "pygments_lexer": "ipython3",
   "version": "3.10.12"
  }
 },
 "nbformat": 4,
 "nbformat_minor": 5
}
