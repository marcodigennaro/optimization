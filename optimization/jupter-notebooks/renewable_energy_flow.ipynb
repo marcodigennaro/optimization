{
 "cells": [
  {
   "cell_type": "markdown",
   "id": "d47c3425-f3f7-4f02-9ff8-89a40212b049",
   "metadata": {},
   "source": [
    "# Renewable energy sources optimization\n",
    "\n",
    "### Problem formulation\n",
    "\n",
    "We want to optimize the distribution of the energy load coming from multiple sources.\n",
    "We have to satisfy the demand of several customers, and to minimize the overall cost.\n",
    "Let us take a simplified example, with two renewable energies sources and two customers.\n",
    "\n",
    "### Parameters\n",
    "\n",
    "- **Energy Sources**: Solar and Wind, each with different capacities and costs.\n",
    "  \n",
    "  | Source            | Capacity (kW) | Cost (€/kW) |\n",
    "  |-------------------|---------------|-------------|\n",
    "  | Solar | 100           | 0.15        |                    \n",
    "  |  Wind | 150           | 0.20        |                   \n",
    "\n",
    "- **Customers**: A & B, each with a specific energy demand.\n",
    "    - Consumer A: $D_A$ = 90 kW\n",
    "    - Consumer B: $D_B$ = 120 kW\n",
    "\n",
    "- **Objective**: Minimize the total cost of energy distribution while meeting all consumer demands without exceeding the source capacities.\n",
    "\n",
    "- **Tools**: Linear programming, Quadratic Programming...\n",
    "\n",
    "- An analytical solution is possible as well (look [here](https://math.stackexchange.com/questions/4909516/linear-optimization-using-lagrange-multipliers/4909626#4909626))\n",
    "\n",
    "\n",
    "\n",
    "### Formulation\n",
    "\n",
    "- **Variables**:\n",
    "    - $x_{i,a}$: Amount of energy transferred from source $i$ to consumer $a$.\n",
    "- **Objective**\n",
    "    We can define a linear cost, to be minimized:\n",
    "    $$ \\text{Cost} = cost_I \\times (x_{I,A} + x_{I,B}) + cost_J \\times(x_{J,A} + x_{J,B}) $$\n",
    "- **Constraints**\n",
    "  At any time these constraint must be met:\n",
    "    1. Total energy supplied to each consumer meets their demand.\n",
    "        - Demand of Consumer A: $x_{I,A} + x_{J,A} = D_A$\n",
    "        - Demand of Consumer B: $x_{I,B} + x_{J,B} = D_B$\n",
    "    2. The total energy taken from each source does not exceed its capacity.\n",
    "        - Solar capacity: $x_{I,A} + x_{I,B} \\leq S_{max}$\n",
    "        - Wind capacity: $x_{J,A} + x_{J,B} \\leq W_{max}$\n",
    "    3. All energies must be positive\n",
    "       - $x_{i,a} \\geq 0$ for any $(i, a)$\n",
    "         "
   ]
  },
  {
   "cell_type": "markdown",
   "id": "f5177e06-8aca-4a29-aabc-1b8d43834f4c",
   "metadata": {},
   "source": [
    "# EnergySource, Consumer, EnergyDistribution classes\n",
    "\n",
    "Let us take advantage of three classes to store and validate data"
   ]
  },
  {
   "cell_type": "code",
   "execution_count": 1,
   "id": "260b1cd1-f5fb-4c9d-b78d-3a89035960f4",
   "metadata": {
    "execution": {
     "iopub.execute_input": "2024-05-03T09:27:42.979503Z",
     "iopub.status.busy": "2024-05-03T09:27:42.978333Z",
     "iopub.status.idle": "2024-05-03T09:27:43.236987Z",
     "shell.execute_reply": "2024-05-03T09:27:43.236344Z",
     "shell.execute_reply.started": "2024-05-03T09:27:42.979383Z"
    }
   },
   "outputs": [],
   "source": [
    "from optimization.core.renewables import EnergySource, Consumer, EnergyDistribution\n",
    "\n",
    "# Create EnergySource instances\n",
    "solar = EnergySource(\"Solar\", 100, 0.3)\n",
    "wind = EnergySource(\"Wind\", 150, 0.25)\n",
    "\n",
    "# Create Consumer instances\n",
    "consumer_a = Consumer(\"A\", 90.)\n",
    "consumer_b = Consumer(\"B\", 120.)\n",
    "\n",
    "# Create the energy distribution system\n",
    "system = EnergyDistribution()\n",
    "\n",
    "system.add_source(solar)\n",
    "system.add_source(wind)\n",
    "\n",
    "system.add_consumer(consumer_a)\n",
    "system.add_consumer(consumer_b)"
   ]
  },
  {
   "cell_type": "markdown",
   "id": "bcfe767a-0bb9-42bc-862a-9aa6ebab9822",
   "metadata": {},
   "source": [
    "### Test guess solution\n",
    "\n",
    "The guess solution is proposed as a numpy array, the first column being the solar demand, and the second one is wind requirement. The row corrsespond to Customers A and B respectively.\n",
    "\n",
    "We can use the `cost_function` method implemented in the `EnergyDistribution` class.\n",
    "\n",
    "Note that the `test=True` options trigger the `check_solution_integrity` method which verifies that the problem requirements are satisfied. If a solution does not respect the constraint, an error will be raised."
   ]
  },
  {
   "cell_type": "code",
   "execution_count": 2,
   "id": "372ab9f3-d281-4a5c-98fc-b36c4f88228a",
   "metadata": {
    "execution": {
     "iopub.execute_input": "2024-05-03T09:27:43.238376Z",
     "iopub.status.busy": "2024-05-03T09:27:43.237986Z",
     "iopub.status.idle": "2024-05-03T09:27:43.246518Z",
     "shell.execute_reply": "2024-05-03T09:27:43.245471Z",
     "shell.execute_reply.started": "2024-05-03T09:27:43.238351Z"
    }
   },
   "outputs": [
    {
     "data": {
      "text/plain": [
       "57.5"
      ]
     },
     "execution_count": 2,
     "metadata": {},
     "output_type": "execute_result"
    }
   ],
   "source": [
    "import numpy as np\n",
    "\n",
    "guess_solution = np.array([\n",
    "    [20., 70.],  # >> Customer A \n",
    "    [80., 40.],  # >> Customer B\n",
    "]) \n",
    "\n",
    "system.cost_function(guess_solution, test=True)"
   ]
  },
  {
   "cell_type": "markdown",
   "id": "cc303143-3ad4-425b-ae7a-94d6c7f69d59",
   "metadata": {},
   "source": [
    "# Find optimal solution"
   ]
  },
  {
   "cell_type": "code",
   "execution_count": 3,
   "id": "b3c2d8a2-4f37-4212-a4ee-2f4f0ffc703c",
   "metadata": {
    "execution": {
     "iopub.execute_input": "2024-05-03T09:27:43.248379Z",
     "iopub.status.busy": "2024-05-03T09:27:43.247996Z",
     "iopub.status.idle": "2024-05-03T09:27:43.449780Z",
     "shell.execute_reply": "2024-05-03T09:27:43.448962Z",
     "shell.execute_reply.started": "2024-05-03T09:27:43.248343Z"
    }
   },
   "outputs": [],
   "source": [
    "from scipy.optimize import minimize\n",
    "\n",
    "x = np.array([1., 1., 1., 1.])\n",
    "\n",
    "# Constraints\n",
    "constraints = [\n",
    "    {'type': 'ineq', 'fun': lambda x: solar.capacity - x[0::2].sum()}, # Sum of xs and ys should not exceed solar capacity\n",
    "    {'type': 'ineq', 'fun': lambda x: wind.capacity - x[1::2].sum()},  # Sum of xw and yw should not exceed wind capacity\n",
    "    {'type': 'eq', 'fun': lambda x: x[0:2].sum() - consumer_a.demand},   # Sum of xs and xw equals consumer_a's demand\n",
    "    {'type': 'eq', 'fun': lambda x: x[2:4].sum() - consumer_b.demand},   # Sum of ys and yw equals consumer_b's demand\n",
    "]\n"
   ]
  },
  {
   "cell_type": "code",
   "execution_count": 4,
   "id": "abfcc58e-cc0a-4b84-9b62-eaa4a8430bda",
   "metadata": {
    "execution": {
     "iopub.execute_input": "2024-05-03T09:27:43.451688Z",
     "iopub.status.busy": "2024-05-03T09:27:43.451039Z",
     "iopub.status.idle": "2024-05-03T09:27:43.478714Z",
     "shell.execute_reply": "2024-05-03T09:27:43.477901Z",
     "shell.execute_reply.started": "2024-05-03T09:27:43.451656Z"
    },
    "scrolled": true
   },
   "outputs": [
    {
     "name": "stdout",
     "output_type": "stream",
     "text": [
      "Optimization terminated successfully    (Exit mode 0)\n",
      "            Current function value: 55.5\n",
      "            Iterations: 8\n",
      "            Function evaluations: 40\n",
      "            Gradient evaluations: 8\n"
     ]
    },
    {
     "data": {
      "text/plain": [
       " message: Optimization terminated successfully\n",
       " success: True\n",
       "  status: 0\n",
       "     fun: 55.5\n",
       "       x: [ 2.250e+01  6.750e+01  3.750e+01  8.250e+01]\n",
       "     nit: 8\n",
       "     jac: [ 3.000e-01  2.500e-01  3.000e-01  2.500e-01]\n",
       "    nfev: 40\n",
       "    njev: 8"
      ]
     },
     "execution_count": 4,
     "metadata": {},
     "output_type": "execute_result"
    }
   ],
   "source": [
    "# Solve\n",
    "max_capacity = max( solar.capacity, wind.capacity )\n",
    "\n",
    "solution = minimize(\n",
    "    system.cost_function,  \n",
    "    x, \n",
    "    constraints=constraints,\n",
    "    bounds = len(x)*[(0,max_capacity)],\n",
    "    method='SLSQP',\n",
    "    options={'disp': True,'maxiter' : 1e6}\n",
    ")\n",
    "\n",
    "solution"
   ]
  },
  {
   "cell_type": "markdown",
   "id": "14680e35-f4ac-4959-a883-67e1985c0c82",
   "metadata": {
    "execution": {
     "iopub.status.busy": "2024-05-03T08:43:45.942164Z",
     "iopub.status.idle": "2024-05-03T08:43:45.943389Z",
     "shell.execute_reply": "2024-05-03T08:43:45.942850Z",
     "shell.execute_reply.started": "2024-05-03T08:43:45.942793Z"
    }
   },
   "source": [
    "# Visualization\n",
    "\n",
    "Let us create a set of possible solutions and plot them."
   ]
  },
  {
   "cell_type": "code",
   "execution_count": 10,
   "id": "9103e733-489d-453c-9680-caf526290c18",
   "metadata": {
    "execution": {
     "iopub.execute_input": "2024-05-03T09:30:22.398224Z",
     "iopub.status.busy": "2024-05-03T09:30:22.397565Z",
     "iopub.status.idle": "2024-05-03T09:30:22.729799Z",
     "shell.execute_reply": "2024-05-03T09:30:22.728799Z",
     "shell.execute_reply.started": "2024-05-03T09:30:22.398161Z"
    }
   },
   "outputs": [
    {
     "ename": "ValueError",
     "evalue": "The truth value of an array with more than one element is ambiguous. Use a.any() or a.all()",
     "output_type": "error",
     "traceback": [
      "\u001b[0;31m---------------------------------------------------------------------------\u001b[0m",
      "\u001b[0;31mValueError\u001b[0m                                Traceback (most recent call last)",
      "Cell \u001b[0;32mIn[10], line 5\u001b[0m\n\u001b[1;32m      2\u001b[0m \u001b[38;5;28;01mfor\u001b[39;00m _ \u001b[38;5;129;01min\u001b[39;00m \u001b[38;5;28mrange\u001b[39m(\u001b[38;5;241m100\u001b[39m):\n\u001b[1;32m      4\u001b[0m     solution \u001b[38;5;241m=\u001b[39m system\u001b[38;5;241m.\u001b[39mgenerate_one_solution()\n\u001b[0;32m----> 5\u001b[0m     \u001b[38;5;28;01mif\u001b[39;00m \u001b[43msolution\u001b[49m\u001b[43m \u001b[49m\u001b[38;5;129;43;01mnot\u001b[39;49;00m\u001b[43m \u001b[49m\u001b[38;5;129;43;01min\u001b[39;49;00m\u001b[43m \u001b[49m\u001b[43msolutions\u001b[49m:\n\u001b[1;32m      6\u001b[0m         cost \u001b[38;5;241m=\u001b[39m system\u001b[38;5;241m.\u001b[39mcost_function(solution)\n\u001b[1;32m      7\u001b[0m         solutions\u001b[38;5;241m.\u001b[39mappend(solution)\n",
      "\u001b[0;31mValueError\u001b[0m: The truth value of an array with more than one element is ambiguous. Use a.any() or a.all()"
     ]
    }
   ],
   "source": [
    "solutions = []\n",
    "for _ in range(100):\n",
    "    \n",
    "    solution = system.generate_one_solution()\n",
    "    if solution not in solutions:\n",
    "        cost = system.cost_function(solution)\n",
    "        solutions.append(solution)\n",
    "        \n",
    "solutions"
   ]
  },
  {
   "cell_type": "code",
   "execution_count": 67,
   "id": "a4eb8baa-f16f-4d6d-a71b-19c2a2c39d0a",
   "metadata": {
    "execution": {
     "iopub.execute_input": "2024-05-03T10:07:56.829414Z",
     "iopub.status.busy": "2024-05-03T10:07:56.828485Z",
     "iopub.status.idle": "2024-05-03T10:07:56.876852Z",
     "shell.execute_reply": "2024-05-03T10:07:56.875740Z",
     "shell.execute_reply.started": "2024-05-03T10:07:56.829352Z"
    }
   },
   "outputs": [],
   "source": [
    "import numpy as np\n",
    "\n",
    "solutions = []\n",
    "costs = []\n",
    "solution_hashes = set()  # To store hashes of arrays for quick membership checks\n",
    "cost_min, cost_max = 1e3, -1e3\n",
    "\n",
    "for _ in range(1000):\n",
    "    solution = system.generate_one_solution()\n",
    "    solution_tuple = tuple(map(tuple, solution))  # Convert array to a tuple of tuples\n",
    "\n",
    "    if solution_tuple not in solution_hashes:\n",
    "        cost = system.cost_function(solution)\n",
    "        if cost < cost_min:\n",
    "            cost_min = cost\n",
    "        if cost > cost_max:\n",
    "            cost_max = cost\n",
    "        solutions.append(solution)\n",
    "        costs.append(cost)\n",
    "        solution_hashes.add(solution_tuple)  # Store the hashable version\n",
    "    else:\n",
    "        print('Solution already present')\n"
   ]
  },
  {
   "cell_type": "code",
   "execution_count": 68,
   "id": "c514364c-295d-4491-9e28-1dbdcdd2f93a",
   "metadata": {
    "execution": {
     "iopub.execute_input": "2024-05-03T10:07:58.545184Z",
     "iopub.status.busy": "2024-05-03T10:07:58.544190Z",
     "iopub.status.idle": "2024-05-03T10:07:58.555440Z",
     "shell.execute_reply": "2024-05-03T10:07:58.553735Z",
     "shell.execute_reply.started": "2024-05-03T10:07:58.545106Z"
    }
   },
   "outputs": [
    {
     "name": "stderr",
     "output_type": "stream",
     "text": [
      "/tmp/ipykernel_18124/2060370032.py:9: MatplotlibDeprecationWarning: The get_cmap function was deprecated in Matplotlib 3.7 and will be removed two minor releases later. Use ``matplotlib.colormaps[name]`` or ``matplotlib.colormaps.get_cmap(obj)`` instead.\n",
      "  cmap = cm.get_cmap('inferno')\n"
     ]
    }
   ],
   "source": [
    "import matplotlib.pyplot as plt\n",
    "from matplotlib.colors import Normalize\n",
    "import matplotlib.cm as cm\n",
    "\n",
    "# Create a normalization from x to y\n",
    "norm = Normalize(vmin=cost_min, vmax=cost_max)\n",
    "    \n",
    "# Get the colormap\n",
    "cmap = cm.get_cmap('inferno')\n",
    "    \n",
    "# Create a function that maps normalized data to colors\n",
    "cmap_normalized = cm.ScalarMappable(norm=norm, cmap=cmap)"
   ]
  },
  {
   "cell_type": "code",
   "execution_count": 69,
   "id": "10cacf00-86ef-4f4c-914a-7c032d55bd39",
   "metadata": {
    "execution": {
     "iopub.execute_input": "2024-05-03T10:07:59.599654Z",
     "iopub.status.busy": "2024-05-03T10:07:59.598764Z",
     "iopub.status.idle": "2024-05-03T10:07:59.666932Z",
     "shell.execute_reply": "2024-05-03T10:07:59.664873Z",
     "shell.execute_reply.started": "2024-05-03T10:07:59.599570Z"
    }
   },
   "outputs": [
    {
     "ename": "ValueError",
     "evalue": "not enough values to unpack (expected 4, got 2)",
     "output_type": "error",
     "traceback": [
      "\u001b[0;31m---------------------------------------------------------------------------\u001b[0m",
      "\u001b[0;31mValueError\u001b[0m                                Traceback (most recent call last)",
      "Cell \u001b[0;32mIn[69], line 2\u001b[0m\n\u001b[1;32m      1\u001b[0m \u001b[38;5;28;01mfor\u001b[39;00m (solution, cost) \u001b[38;5;129;01min\u001b[39;00m solutions:\n\u001b[0;32m----> 2\u001b[0m     xw, xs, yw, wx \u001b[38;5;241m=\u001b[39m solution\u001b[38;5;241m.\u001b[39mflatten()\n\u001b[1;32m      4\u001b[0m     plt\u001b[38;5;241m.\u001b[39mscatter(xw, yw)\n",
      "\u001b[0;31mValueError\u001b[0m: not enough values to unpack (expected 4, got 2)"
     ]
    }
   ],
   "source": [
    "for (solution, cost) in solutions:\n",
    "    xw, xs, yw, wx = solution.flatten()\n",
    "\n",
    "    plt.scatter(xw, yw)"
   ]
  },
  {
   "cell_type": "code",
   "execution_count": 73,
   "id": "ff1396dd-9dc2-4a7c-99a9-b345f5bc4dce",
   "metadata": {
    "execution": {
     "iopub.execute_input": "2024-05-03T10:08:21.334848Z",
     "iopub.status.busy": "2024-05-03T10:08:21.333049Z",
     "iopub.status.idle": "2024-05-03T10:08:21.373238Z",
     "shell.execute_reply": "2024-05-03T10:08:21.370760Z",
     "shell.execute_reply.started": "2024-05-03T10:08:21.334720Z"
    }
   },
   "outputs": [
    {
     "ename": "TypeError",
     "evalue": "list indices must be integers or slices, not tuple",
     "output_type": "error",
     "traceback": [
      "\u001b[0;31m---------------------------------------------------------------------------\u001b[0m",
      "\u001b[0;31mTypeError\u001b[0m                                 Traceback (most recent call last)",
      "Cell \u001b[0;32mIn[73], line 1\u001b[0m\n\u001b[0;32m----> 1\u001b[0m \u001b[43msolutions\u001b[49m\u001b[43m[\u001b[49m\u001b[43m:\u001b[49m\u001b[43m,\u001b[49m\u001b[43m:\u001b[49m\u001b[43m]\u001b[49m[\u001b[38;5;241m0\u001b[39m]\n",
      "\u001b[0;31mTypeError\u001b[0m: list indices must be integers or slices, not tuple"
     ]
    }
   ],
   "source": [
    "solutions[:,:][0]"
   ]
  },
  {
   "cell_type": "code",
   "execution_count": 66,
   "id": "a1cfa554-ee09-483d-882e-6fa3c245b90b",
   "metadata": {
    "execution": {
     "iopub.execute_input": "2024-05-03T10:07:22.964911Z",
     "iopub.status.busy": "2024-05-03T10:07:22.963374Z",
     "iopub.status.idle": "2024-05-03T10:07:22.980593Z",
     "shell.execute_reply": "2024-05-03T10:07:22.977662Z",
     "shell.execute_reply.started": "2024-05-03T10:07:22.964822Z"
    }
   },
   "outputs": [
    {
     "data": {
      "text/plain": [
       "[(array([[ 4.06977858, 85.93022142],\n",
       "         [56.92410523, 63.07589477]]),\n",
       "  55.54969419052182),\n",
       " (array([[ 80.55099874,   9.44900126],\n",
       "         [ 19.09214473, 100.90785527]]),\n",
       "  57.48215717332477)]"
      ]
     },
     "execution_count": 66,
     "metadata": {},
     "output_type": "execute_result"
    }
   ],
   "source": [
    "solutions[:2][:]"
   ]
  },
  {
   "cell_type": "code",
   "execution_count": 51,
   "id": "7dfbdb00-146f-474a-bbb0-beb414620f0a",
   "metadata": {
    "execution": {
     "iopub.execute_input": "2024-05-03T10:05:27.414835Z",
     "iopub.status.busy": "2024-05-03T10:05:27.414057Z",
     "iopub.status.idle": "2024-05-03T10:05:27.725365Z",
     "shell.execute_reply": "2024-05-03T10:05:27.723586Z",
     "shell.execute_reply.started": "2024-05-03T10:05:27.414803Z"
    }
   },
   "outputs": [
    {
     "ename": "ValueError",
     "evalue": "x and y must be the same size",
     "output_type": "error",
     "traceback": [
      "\u001b[0;31m---------------------------------------------------------------------------\u001b[0m",
      "\u001b[0;31mValueError\u001b[0m                                Traceback (most recent call last)",
      "Cell \u001b[0;32mIn[51], line 1\u001b[0m\n\u001b[0;32m----> 1\u001b[0m \u001b[43mplt\u001b[49m\u001b[38;5;241;43m.\u001b[39;49m\u001b[43mscatter\u001b[49m\u001b[43m(\u001b[49m\u001b[43msolutions\u001b[49m\u001b[43m[\u001b[49m\u001b[38;5;241;43m0\u001b[39;49m\u001b[43m]\u001b[49m\u001b[43m[\u001b[49m\u001b[38;5;241;43m0\u001b[39;49m\u001b[43m]\u001b[49m\u001b[43m,\u001b[49m\u001b[43m \u001b[49m\u001b[43msolutions\u001b[49m\u001b[43m[\u001b[49m\u001b[38;5;241;43m0\u001b[39;49m\u001b[43m]\u001b[49m\u001b[43m[\u001b[49m\u001b[38;5;241;43m1\u001b[39;49m\u001b[43m]\u001b[49m\u001b[43m,\u001b[49m\u001b[43m \u001b[49m\u001b[43mc\u001b[49m\u001b[38;5;241;43m=\u001b[39;49m\u001b[43msolutions\u001b[49m\u001b[43m[\u001b[49m\u001b[38;5;241;43m1\u001b[39;49m\u001b[43m]\u001b[49m\u001b[43m,\u001b[49m\u001b[43m \u001b[49m\u001b[43mcmap\u001b[49m\u001b[38;5;241;43m=\u001b[39;49m\u001b[38;5;124;43m'\u001b[39;49m\u001b[38;5;124;43mviridis\u001b[39;49m\u001b[38;5;124;43m'\u001b[39;49m\u001b[43m)\u001b[49m  \u001b[38;5;66;03m# Use 'c' for color mapping\u001b[39;00m\n",
      "File \u001b[0;32m~/Desktop/ATOM/optimization/.venv/lib/python3.10/site-packages/matplotlib/pyplot.py:3699\u001b[0m, in \u001b[0;36mscatter\u001b[0;34m(x, y, s, c, marker, cmap, norm, vmin, vmax, alpha, linewidths, edgecolors, plotnonfinite, data, **kwargs)\u001b[0m\n\u001b[1;32m   3680\u001b[0m \u001b[38;5;129m@_copy_docstring_and_deprecators\u001b[39m(Axes\u001b[38;5;241m.\u001b[39mscatter)\n\u001b[1;32m   3681\u001b[0m \u001b[38;5;28;01mdef\u001b[39;00m \u001b[38;5;21mscatter\u001b[39m(\n\u001b[1;32m   3682\u001b[0m     x: \u001b[38;5;28mfloat\u001b[39m \u001b[38;5;241m|\u001b[39m ArrayLike,\n\u001b[0;32m   (...)\u001b[0m\n\u001b[1;32m   3697\u001b[0m     \u001b[38;5;241m*\u001b[39m\u001b[38;5;241m*\u001b[39mkwargs,\n\u001b[1;32m   3698\u001b[0m ) \u001b[38;5;241m-\u001b[39m\u001b[38;5;241m>\u001b[39m PathCollection:\n\u001b[0;32m-> 3699\u001b[0m     __ret \u001b[38;5;241m=\u001b[39m \u001b[43mgca\u001b[49m\u001b[43m(\u001b[49m\u001b[43m)\u001b[49m\u001b[38;5;241;43m.\u001b[39;49m\u001b[43mscatter\u001b[49m\u001b[43m(\u001b[49m\n\u001b[1;32m   3700\u001b[0m \u001b[43m        \u001b[49m\u001b[43mx\u001b[49m\u001b[43m,\u001b[49m\n\u001b[1;32m   3701\u001b[0m \u001b[43m        \u001b[49m\u001b[43my\u001b[49m\u001b[43m,\u001b[49m\n\u001b[1;32m   3702\u001b[0m \u001b[43m        \u001b[49m\u001b[43ms\u001b[49m\u001b[38;5;241;43m=\u001b[39;49m\u001b[43ms\u001b[49m\u001b[43m,\u001b[49m\n\u001b[1;32m   3703\u001b[0m \u001b[43m        \u001b[49m\u001b[43mc\u001b[49m\u001b[38;5;241;43m=\u001b[39;49m\u001b[43mc\u001b[49m\u001b[43m,\u001b[49m\n\u001b[1;32m   3704\u001b[0m \u001b[43m        \u001b[49m\u001b[43mmarker\u001b[49m\u001b[38;5;241;43m=\u001b[39;49m\u001b[43mmarker\u001b[49m\u001b[43m,\u001b[49m\n\u001b[1;32m   3705\u001b[0m \u001b[43m        \u001b[49m\u001b[43mcmap\u001b[49m\u001b[38;5;241;43m=\u001b[39;49m\u001b[43mcmap\u001b[49m\u001b[43m,\u001b[49m\n\u001b[1;32m   3706\u001b[0m \u001b[43m        \u001b[49m\u001b[43mnorm\u001b[49m\u001b[38;5;241;43m=\u001b[39;49m\u001b[43mnorm\u001b[49m\u001b[43m,\u001b[49m\n\u001b[1;32m   3707\u001b[0m \u001b[43m        \u001b[49m\u001b[43mvmin\u001b[49m\u001b[38;5;241;43m=\u001b[39;49m\u001b[43mvmin\u001b[49m\u001b[43m,\u001b[49m\n\u001b[1;32m   3708\u001b[0m \u001b[43m        \u001b[49m\u001b[43mvmax\u001b[49m\u001b[38;5;241;43m=\u001b[39;49m\u001b[43mvmax\u001b[49m\u001b[43m,\u001b[49m\n\u001b[1;32m   3709\u001b[0m \u001b[43m        \u001b[49m\u001b[43malpha\u001b[49m\u001b[38;5;241;43m=\u001b[39;49m\u001b[43malpha\u001b[49m\u001b[43m,\u001b[49m\n\u001b[1;32m   3710\u001b[0m \u001b[43m        \u001b[49m\u001b[43mlinewidths\u001b[49m\u001b[38;5;241;43m=\u001b[39;49m\u001b[43mlinewidths\u001b[49m\u001b[43m,\u001b[49m\n\u001b[1;32m   3711\u001b[0m \u001b[43m        \u001b[49m\u001b[43medgecolors\u001b[49m\u001b[38;5;241;43m=\u001b[39;49m\u001b[43medgecolors\u001b[49m\u001b[43m,\u001b[49m\n\u001b[1;32m   3712\u001b[0m \u001b[43m        \u001b[49m\u001b[43mplotnonfinite\u001b[49m\u001b[38;5;241;43m=\u001b[39;49m\u001b[43mplotnonfinite\u001b[49m\u001b[43m,\u001b[49m\n\u001b[1;32m   3713\u001b[0m \u001b[43m        \u001b[49m\u001b[38;5;241;43m*\u001b[39;49m\u001b[38;5;241;43m*\u001b[39;49m\u001b[43m(\u001b[49m\u001b[43m{\u001b[49m\u001b[38;5;124;43m\"\u001b[39;49m\u001b[38;5;124;43mdata\u001b[39;49m\u001b[38;5;124;43m\"\u001b[39;49m\u001b[43m:\u001b[49m\u001b[43m \u001b[49m\u001b[43mdata\u001b[49m\u001b[43m}\u001b[49m\u001b[43m \u001b[49m\u001b[38;5;28;43;01mif\u001b[39;49;00m\u001b[43m \u001b[49m\u001b[43mdata\u001b[49m\u001b[43m \u001b[49m\u001b[38;5;129;43;01mis\u001b[39;49;00m\u001b[43m \u001b[49m\u001b[38;5;129;43;01mnot\u001b[39;49;00m\u001b[43m \u001b[49m\u001b[38;5;28;43;01mNone\u001b[39;49;00m\u001b[43m \u001b[49m\u001b[38;5;28;43;01melse\u001b[39;49;00m\u001b[43m \u001b[49m\u001b[43m{\u001b[49m\u001b[43m}\u001b[49m\u001b[43m)\u001b[49m\u001b[43m,\u001b[49m\n\u001b[1;32m   3714\u001b[0m \u001b[43m        \u001b[49m\u001b[38;5;241;43m*\u001b[39;49m\u001b[38;5;241;43m*\u001b[39;49m\u001b[43mkwargs\u001b[49m\u001b[43m,\u001b[49m\n\u001b[1;32m   3715\u001b[0m \u001b[43m    \u001b[49m\u001b[43m)\u001b[49m\n\u001b[1;32m   3716\u001b[0m     sci(__ret)\n\u001b[1;32m   3717\u001b[0m     \u001b[38;5;28;01mreturn\u001b[39;00m __ret\n",
      "File \u001b[0;32m~/Desktop/ATOM/optimization/.venv/lib/python3.10/site-packages/matplotlib/__init__.py:1465\u001b[0m, in \u001b[0;36m_preprocess_data.<locals>.inner\u001b[0;34m(ax, data, *args, **kwargs)\u001b[0m\n\u001b[1;32m   1462\u001b[0m \u001b[38;5;129m@functools\u001b[39m\u001b[38;5;241m.\u001b[39mwraps(func)\n\u001b[1;32m   1463\u001b[0m \u001b[38;5;28;01mdef\u001b[39;00m \u001b[38;5;21minner\u001b[39m(ax, \u001b[38;5;241m*\u001b[39margs, data\u001b[38;5;241m=\u001b[39m\u001b[38;5;28;01mNone\u001b[39;00m, \u001b[38;5;241m*\u001b[39m\u001b[38;5;241m*\u001b[39mkwargs):\n\u001b[1;32m   1464\u001b[0m     \u001b[38;5;28;01mif\u001b[39;00m data \u001b[38;5;129;01mis\u001b[39;00m \u001b[38;5;28;01mNone\u001b[39;00m:\n\u001b[0;32m-> 1465\u001b[0m         \u001b[38;5;28;01mreturn\u001b[39;00m \u001b[43mfunc\u001b[49m\u001b[43m(\u001b[49m\u001b[43max\u001b[49m\u001b[43m,\u001b[49m\u001b[43m \u001b[49m\u001b[38;5;241;43m*\u001b[39;49m\u001b[38;5;28;43mmap\u001b[39;49m\u001b[43m(\u001b[49m\u001b[43msanitize_sequence\u001b[49m\u001b[43m,\u001b[49m\u001b[43m \u001b[49m\u001b[43margs\u001b[49m\u001b[43m)\u001b[49m\u001b[43m,\u001b[49m\u001b[43m \u001b[49m\u001b[38;5;241;43m*\u001b[39;49m\u001b[38;5;241;43m*\u001b[39;49m\u001b[43mkwargs\u001b[49m\u001b[43m)\u001b[49m\n\u001b[1;32m   1467\u001b[0m     bound \u001b[38;5;241m=\u001b[39m new_sig\u001b[38;5;241m.\u001b[39mbind(ax, \u001b[38;5;241m*\u001b[39margs, \u001b[38;5;241m*\u001b[39m\u001b[38;5;241m*\u001b[39mkwargs)\n\u001b[1;32m   1468\u001b[0m     auto_label \u001b[38;5;241m=\u001b[39m (bound\u001b[38;5;241m.\u001b[39marguments\u001b[38;5;241m.\u001b[39mget(label_namer)\n\u001b[1;32m   1469\u001b[0m                   \u001b[38;5;129;01mor\u001b[39;00m bound\u001b[38;5;241m.\u001b[39mkwargs\u001b[38;5;241m.\u001b[39mget(label_namer))\n",
      "File \u001b[0;32m~/Desktop/ATOM/optimization/.venv/lib/python3.10/site-packages/matplotlib/axes/_axes.py:4655\u001b[0m, in \u001b[0;36mAxes.scatter\u001b[0;34m(self, x, y, s, c, marker, cmap, norm, vmin, vmax, alpha, linewidths, edgecolors, plotnonfinite, **kwargs)\u001b[0m\n\u001b[1;32m   4653\u001b[0m y \u001b[38;5;241m=\u001b[39m np\u001b[38;5;241m.\u001b[39mma\u001b[38;5;241m.\u001b[39mravel(y)\n\u001b[1;32m   4654\u001b[0m \u001b[38;5;28;01mif\u001b[39;00m x\u001b[38;5;241m.\u001b[39msize \u001b[38;5;241m!=\u001b[39m y\u001b[38;5;241m.\u001b[39msize:\n\u001b[0;32m-> 4655\u001b[0m     \u001b[38;5;28;01mraise\u001b[39;00m \u001b[38;5;167;01mValueError\u001b[39;00m(\u001b[38;5;124m\"\u001b[39m\u001b[38;5;124mx and y must be the same size\u001b[39m\u001b[38;5;124m\"\u001b[39m)\n\u001b[1;32m   4657\u001b[0m \u001b[38;5;28;01mif\u001b[39;00m s \u001b[38;5;129;01mis\u001b[39;00m \u001b[38;5;28;01mNone\u001b[39;00m:\n\u001b[1;32m   4658\u001b[0m     s \u001b[38;5;241m=\u001b[39m (\u001b[38;5;241m20\u001b[39m \u001b[38;5;28;01mif\u001b[39;00m mpl\u001b[38;5;241m.\u001b[39mrcParams[\u001b[38;5;124m'\u001b[39m\u001b[38;5;124m_internal.classic_mode\u001b[39m\u001b[38;5;124m'\u001b[39m] \u001b[38;5;28;01melse\u001b[39;00m\n\u001b[1;32m   4659\u001b[0m          mpl\u001b[38;5;241m.\u001b[39mrcParams[\u001b[38;5;124m'\u001b[39m\u001b[38;5;124mlines.markersize\u001b[39m\u001b[38;5;124m'\u001b[39m] \u001b[38;5;241m*\u001b[39m\u001b[38;5;241m*\u001b[39m \u001b[38;5;241m2.0\u001b[39m)\n",
      "\u001b[0;31mValueError\u001b[0m: x and y must be the same size"
     ]
    },
    {
     "data": {
      "image/png": "[encoded data removed]",
      "text/plain": [
       "<Figure size 640x480 with 1 Axes>"
      ]
     },
     "metadata": {},
     "output_type": "display_data"
    }
   ],
   "source": [
    "plt.scatter(\n",
    "    solutions[0][0], \n",
    "    solutions[0][1], \n",
    "    c=solutions[1], cmap='viridis')  # Use 'c' for color mapping\n",
    "\n"
   ]
  },
  {
   "cell_type": "code",
   "execution_count": null,
   "id": "41c20621-314d-4a81-827a-ad648943e884",
   "metadata": {
    "execution": {
     "iopub.status.busy": "2024-05-03T09:27:43.489843Z",
     "iopub.status.idle": "2024-05-03T09:27:43.491944Z",
     "shell.execute_reply": "2024-05-03T09:27:43.491536Z",
     "shell.execute_reply.started": "2024-05-03T09:27:43.491474Z"
    }
   },
   "outputs": [],
   "source": [
    "import numpy as np\n",
    "\n",
    "def objective(x, y):\n",
    "    return solar.cost_per_unit * x + wind.cost_per_unit * (y - y**2)\n",
    "\n",
    "x = np.linspace(0, 1000, 100)\n",
    "y = np.linspace(0, 100, 100)\n",
    "X, Y = np.meshgrid(x, y)\n",
    "Z = objective(X, Y)\n",
    "\n",
    "import matplotlib.pyplot as plt\n",
    "\n",
    "plt.figure(figsize=(8, 6))\n",
    "plt.contourf(X, Y, Z, 20, cmap='viridis')  # Use a colormap like 'viridis', 'hot', 'cool', etc.\n",
    "plt.colorbar()  # Adds a color bar to indicate the scale\n",
    "plt.title('Heatmap of objective function')\n",
    "plt.xlabel('Wind')\n",
    "plt.ylabel('Solar')\n",
    "plt.show()\n"
   ]
  },
  {
   "cell_type": "code",
   "execution_count": null,
   "id": "8a81c596-b9cd-4ce4-b0af-17dc2af57098",
   "metadata": {
    "execution": {
     "iopub.status.busy": "2024-05-03T09:27:43.493937Z",
     "iopub.status.idle": "2024-05-03T09:27:43.495569Z",
     "shell.execute_reply": "2024-05-03T09:27:43.495125Z",
     "shell.execute_reply.started": "2024-05-03T09:27:43.495079Z"
    }
   },
   "outputs": [],
   "source": [
    "from itertools import product\n",
    "\n",
    "def generate_matrix(xrange):    \n",
    "    for indices in product(*[xrange] * 6):\n",
    "        yield np.array(indices)"
   ]
  },
  {
   "cell_type": "code",
   "execution_count": null,
   "id": "393ad609-2d9f-49fc-8ee6-ef729fc6f0b7",
   "metadata": {
    "execution": {
     "iopub.status.busy": "2024-05-03T09:27:43.497595Z",
     "iopub.status.idle": "2024-05-03T09:27:43.498738Z",
     "shell.execute_reply": "2024-05-03T09:27:43.498389Z",
     "shell.execute_reply.started": "2024-05-03T09:27:43.498353Z"
    }
   },
   "outputs": [],
   "source": [
    "xgrid = generate_matrix(xrange)\n",
    "\n",
    "min_cost = 1e9\n",
    "\n",
    "print(consumer_a.demand)\n",
    "for x_vector in generate_matrix(xrange):\n",
    "    \n",
    "    if x_vector[0:2].sum() == consumer_a.demand and \\\n",
    "       x_vector[2:4].sum() == consumer_b.demand and \\\n",
    "       x_vector[4:6].sum() == consumer_c.demand and \\\n",
    "       x_vector[0::2].sum() <= solar.capacity and \\\n",
    "       x_vector[1::2].sum() <= wind.capacity:\n",
    "\n",
    "        print(x_vector, x_vector[0::2].sum())\n",
    "        \n",
    "        cost = cost_function_vector(x_vector)\n",
    "        \n",
    "        if cost <= min_cost:\n",
    "            min_cost = cost \n",
    "            print(x_vector, min_cost)"
   ]
  },
  {
   "cell_type": "code",
   "execution_count": null,
   "id": "76aa727e-cb44-42ef-9993-b9d8d16cd2e3",
   "metadata": {
    "execution": {
     "iopub.status.busy": "2024-05-03T09:27:43.500330Z",
     "iopub.status.idle": "2024-05-03T09:27:43.501299Z",
     "shell.execute_reply": "2024-05-03T09:27:43.501002Z",
     "shell.execute_reply.started": "2024-05-03T09:27:43.500971Z"
    }
   },
   "outputs": [],
   "source": [
    "from scipy.optimize import minimize\n",
    "\n",
    "max_capacity = max( solar.capacity, wind.capacity )\n",
    "x_guess = x_array.flatten()\n",
    "\n",
    "print(x_vector)\n",
    "\n",
    "res = minimize(\n",
    "    #cost_function_vector,\n",
    "    lambda x: solar.cost_per_unit * x_guess[0::2].sum() + wind.cost_per_unit * x_guess[1::2].sum(), #what we want to minimize\n",
    "    x_guess, \n",
    "\n",
    "    bounds = ((0,max_capacity),(0,max_capacity),(0,max_capacity),(0,max_capacity),(0,max_capacity),(0,max_capacity)),\n",
    "    method='SLSQP',options={'disp': True,'maxiter' : 100000}\n",
    ")\n",
    "\n",
    "res\n",
    "\n",
    "\n",
    "import numpy as np\n",
    "from scipy.optimize import minimize\n",
    "\n",
    "# Objective function\n",
    "def objective(x):\n",
    "    xs, xw, ys, yw = x\n",
    "    return a * (xs + ys) + b * (xw + yw)\n",
    "\n",
    "# Constraints\n",
    "constraints = [\n",
    "    {'type': 'eq', 'fun': lambda x: x[0] + x[1] - Dx},  # xs + xw = Dx\n",
    "    {'type': 'ineq', 'fun': lambda x: S - (x[0] + x[2])},  # xs + ys <= S\n",
    "    {'type': 'eq', 'fun': lambda x: x[2] + x[3] - Dy},  # ys + yw = Dy\n",
    "    {'type': 'ineq', 'fun': lambda x: W - (x[1] + x[3])}  # xw + yw <= W\n",
    "]\n",
    "\n",
    "# Coefficients\n",
    "a = 0.3\n",
    "b = 0.1\n",
    "Dx = 13\n",
    "S = 20\n",
    "Dy = 10\n",
    "W = 15\n",
    "\n",
    "# Initial guesses\n",
    "x0 = np.array([1, 1, 1, 1])\n",
    "\n",
    "# Solve\n",
    "solution = minimize(objective, x0, constraints=constraints)\n",
    "print(solution)"
   ]
  },
  {
   "cell_type": "code",
   "execution_count": null,
   "id": "d17c6d10-f036-49c8-ab5c-172611442d7b",
   "metadata": {
    "execution": {
     "iopub.status.busy": "2024-05-03T09:27:43.503200Z",
     "iopub.status.idle": "2024-05-03T09:27:43.504166Z",
     "shell.execute_reply": "2024-05-03T09:27:43.503930Z",
     "shell.execute_reply.started": "2024-05-03T09:27:43.503904Z"
    }
   },
   "outputs": [],
   "source": [
    "print(res)\n",
    "print(res.fun)"
   ]
  },
  {
   "cell_type": "markdown",
   "id": "7d48f0e3-a723-466e-a5f8-4ab23f290dbc",
   "metadata": {},
   "source": [
    "### TensorFlow Implementation\n",
    "\n",
    "We will use TensorFlow to approximate a solution via a gradient descent approach, treating constraints as penalty terms in the loss function."
   ]
  },
  {
   "cell_type": "code",
   "execution_count": null,
   "id": "e6039284-f3ab-4e9d-b1be-2e64097b745a",
   "metadata": {
    "execution": {
     "iopub.status.busy": "2024-05-03T09:27:43.506086Z",
     "iopub.status.idle": "2024-05-03T09:27:43.507103Z",
     "shell.execute_reply": "2024-05-03T09:27:43.506804Z",
     "shell.execute_reply.started": "2024-05-03T09:27:43.506771Z"
    }
   },
   "outputs": [],
   "source": [
    "import tensorflow as tf\n",
    "\n",
    "# Initialize variables\n",
    "x_solar_A = tf.Variable(x_guess[0] , trainable=True)  \n",
    "x_solar_B = tf.Variable(x_guess[2], trainable=True)\n",
    "x_solar_C = tf.Variable(x_guess[4], trainable=True)\n",
    "x_wind_A = tf.Variable(x_guess[1], trainable=True)\n",
    "x_wind_B = tf.Variable(x_guess[3], trainable=True)\n",
    "x_wind_C = tf.Variable(x_guess[5], trainable=True)\n",
    "\n",
    "# Define constraints as penalties\n",
    "def capacity_constraints():\n",
    "    return [\n",
    "        solar.capacity - (x_solar_A + x_solar_B + x_solar_C),  # Solar capacity\n",
    "        wind.capacity - (x_wind_A + x_wind_B + x_wind_C),    # Wind capacity\n",
    "        x_solar_A + x_wind_A - consumer_a.demand, # Demand of Consumer A\n",
    "        x_solar_B + x_wind_B - consumer_b.demand, # Demand of Consumer B\n",
    "        x_solar_C + x_wind_C - consumer_c.demand  # Demand of Consumer C\n",
    "    ]\n",
    "\n",
    "# Define sources, consumers, and their capacities and demands here\n",
    "\n",
    "# Cost function\n",
    "cost = solar.cost_per_unit * ( x_solar_A + x_solar_B + x_solar_C ) + wind.cost_per_unit * ( x_wind_A + x_wind_B + x_wind_C )\n",
    "\n",
    "# Optimizer\n",
    "optimizer = tf.optimizers.SGD(learning_rate=0.01)\n",
    "optimizer = tf.optimizers.SGD(learning_rate=0.0001)  # Adjust learning rate here\n",
    "\n",
    "# Training step\n",
    "def train_step():\n",
    "    with tf.GradientTape() as tape:\n",
    "        constraints = capacity_constraints()\n",
    "        penalty = tf.reduce_sum(tf.square(constraints))  # Squared penalties for constraint violation\n",
    "        loss = cost + penalty\n",
    "    gradients = tape.gradient(loss, [x_solar_A, x_solar_B, x_solar_C, x_wind_A, x_wind_B, x_wind_C])\n",
    "    optimizer.apply_gradients(zip(gradients, [x_solar_A, x_solar_B, x_solar_C, x_wind_A, x_wind_B, x_wind_C]))\n",
    "    return loss  # Return the loss value\n",
    "\n",
    "# Optimization loop\n",
    "for i in range(100):\n",
    "    loss = train_step()\n",
    "    if (i + 1) % 10 == 0:  # Print cost every 100 iterations\n",
    "        print(f\"Iteration {i + 1}, Cost: {loss.numpy()}\")\n"
   ]
  },
  {
   "cell_type": "code",
   "execution_count": null,
   "id": "95bc2d34-52e6-4ba6-b9f2-bc6728918189",
   "metadata": {
    "execution": {
     "iopub.status.busy": "2024-05-03T09:27:43.508869Z",
     "iopub.status.idle": "2024-05-03T09:27:43.509657Z",
     "shell.execute_reply": "2024-05-03T09:27:43.509406Z",
     "shell.execute_reply.started": "2024-05-03T09:27:43.509381Z"
    }
   },
   "outputs": [],
   "source": [
    "# Output the results\n",
    "print(f'           |   Solar            |  Wind')\n",
    "print(f'Consumer A |{x_solar_A.numpy()}  | {x_wind_A.numpy()}')\n",
    "print(f'Consumer B |{x_solar_B.numpy()}  | {x_wind_B.numpy()}')\n",
    "print(f'Consumer C |{x_solar_C.numpy()}  | {x_wind_C.numpy()}')\n"
   ]
  },
  {
   "cell_type": "code",
   "execution_count": null,
   "id": "5273c998-65bc-4046-8648-b00dd8274eb6",
   "metadata": {
    "execution": {
     "iopub.status.busy": "2024-05-03T09:27:43.511060Z",
     "iopub.status.idle": "2024-05-03T09:27:43.512089Z",
     "shell.execute_reply": "2024-05-03T09:27:43.511749Z",
     "shell.execute_reply.started": "2024-05-03T09:27:43.511718Z"
    }
   },
   "outputs": [],
   "source": [
    "loss.numpy()"
   ]
  },
  {
   "cell_type": "code",
   "execution_count": null,
   "id": "8422999a-691d-4cc1-a69a-5914a3ffd0ad",
   "metadata": {},
   "outputs": [],
   "source": []
  }
 ],
 "metadata": {
  "kernelspec": {
   "display_name": "Python 3 (ipykernel)",
   "language": "python",
   "name": "python3"
  },
  "language_info": {
   "codemirror_mode": {
    "name": "ipython",
    "version": 3
   },
   "file_extension": ".py",
   "mimetype": "text/x-python",
   "name": "python",
   "nbconvert_exporter": "python",
   "pygments_lexer": "ipython3",
   "version": "3.10.12"
  }
 },
 "nbformat": 4,
 "nbformat_minor": 5
}
