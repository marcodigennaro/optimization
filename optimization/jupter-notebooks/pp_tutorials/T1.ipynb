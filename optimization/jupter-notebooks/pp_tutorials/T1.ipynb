{
 "cells": [
  {
   "cell_type": "code",
   "execution_count": 1,
   "id": "a5503d3a-d355-4c40-840c-a46aa20c5cf5",
   "metadata": {
    "execution": {
     "iopub.execute_input": "2024-04-17T09:45:18.794818Z",
     "iopub.status.busy": "2024-04-17T09:45:18.794019Z",
     "iopub.status.idle": "2024-04-17T09:45:18.800314Z",
     "shell.execute_reply": "2024-04-17T09:45:18.799315Z",
     "shell.execute_reply.started": "2024-04-17T09:45:18.794773Z"
    }
   },
   "outputs": [],
   "source": [
    "import pandapower.networks as nw\n",
    "import pandapower as pp"
   ]
  },
  {
   "cell_type": "code",
   "execution_count": 3,
   "id": "70b8e448-01e3-4201-93df-9160f4fac727",
   "metadata": {
    "execution": {
     "iopub.execute_input": "2024-04-17T09:46:07.345532Z",
     "iopub.status.busy": "2024-04-17T09:46:07.344628Z",
     "iopub.status.idle": "2024-04-17T09:46:07.483836Z",
     "shell.execute_reply": "2024-04-17T09:46:07.482876Z",
     "shell.execute_reply.started": "2024-04-17T09:46:07.345485Z"
    }
   },
   "outputs": [
    {
     "name": "stdout",
     "output_type": "stream",
     "text": [
      "This pandapower network includes the following parameter tables:\n",
      "   - bus (4 elements)\n",
      "   - load (2 elements)\n",
      "   - sgen (2 elements)\n",
      "   - ext_grid (1 element)\n",
      "   - line (2 elements)\n",
      "   - trafo (1 element)\n",
      "   - bus_geodata (4 elements)\n",
      "      name  vn_kv type  zone  in_service\n",
      "0  bus1ref   10.0    b  None        True\n",
      "1     bus2    0.4    b  None        True\n",
      "2     bus3    0.4    b  None        True\n",
      "3     bus4    0.4    b  None        True\n"
     ]
    }
   ],
   "source": [
    "net = nw.simple_four_bus_system()\n",
    "print(net)\n",
    "print(net.bus)"
   ]
  },
  {
   "cell_type": "code",
   "execution_count": 5,
   "id": "4b3c5aa3-ba37-4600-a824-e8ab1816ae32",
   "metadata": {
    "execution": {
     "iopub.execute_input": "2024-04-17T09:46:51.328912Z",
     "iopub.status.busy": "2024-04-17T09:46:51.327787Z",
     "iopub.status.idle": "2024-04-17T09:46:57.759899Z",
     "shell.execute_reply": "2024-04-17T09:46:57.758721Z",
     "shell.execute_reply.started": "2024-04-17T09:46:51.328865Z"
    }
   },
   "outputs": [],
   "source": [
    "pp.runpp(net)"
   ]
  },
  {
   "cell_type": "code",
   "execution_count": 6,
   "id": "d4da07be-6226-4dcd-a393-f4f2f5af3f5a",
   "metadata": {
    "execution": {
     "iopub.execute_input": "2024-04-17T09:47:30.380126Z",
     "iopub.status.busy": "2024-04-17T09:47:30.379356Z",
     "iopub.status.idle": "2024-04-17T09:47:30.392262Z",
     "shell.execute_reply": "2024-04-17T09:47:30.391153Z",
     "shell.execute_reply.started": "2024-04-17T09:47:30.380083Z"
    }
   },
   "outputs": [
    {
     "name": "stdout",
     "output_type": "stream",
     "text": [
      "      vm_pu   va_degree      p_mw    q_mvar\n",
      "0  1.000000    0.000000 -0.028256 -0.013475\n",
      "1  0.996608 -150.208127  0.000000  0.000000\n",
      "2  0.937760 -149.007459  0.010000  0.005000\n",
      "3  0.902000 -148.184087  0.015000  0.008000\n"
     ]
    }
   ],
   "source": [
    "print(net.res_bus)"
   ]
  },
  {
   "cell_type": "code",
   "execution_count": 7,
   "id": "a1c6ee44-1f49-4f3f-ab4c-ad3a18df658b",
   "metadata": {
    "execution": {
     "iopub.execute_input": "2024-04-17T09:48:25.603670Z",
     "iopub.status.busy": "2024-04-17T09:48:25.602840Z",
     "iopub.status.idle": "2024-04-17T09:48:25.609643Z",
     "shell.execute_reply": "2024-04-17T09:48:25.608596Z",
     "shell.execute_reply.started": "2024-04-17T09:48:25.603642Z"
    }
   },
   "outputs": [
    {
     "name": "stdout",
     "output_type": "stream",
     "text": [
      "This pandapower network includes the following parameter tables:\n",
      "   - bus (4 elements)\n",
      "   - load (2 elements)\n",
      "   - sgen (2 elements)\n",
      "   - ext_grid (1 element)\n",
      "   - line (2 elements)\n",
      "   - trafo (1 element)\n",
      "   - bus_geodata (4 elements)\n",
      " and the following results tables:\n",
      "   - res_bus (4 elements)\n",
      "   - res_line (2 elements)\n",
      "   - res_trafo (1 element)\n",
      "   - res_ext_grid (1 element)\n",
      "   - res_load (2 elements)\n",
      "   - res_sgen (2 elements)\n"
     ]
    }
   ],
   "source": [
    "print(net)"
   ]
  },
  {
   "cell_type": "code",
   "execution_count": null,
   "id": "4cc721c0-3f5d-425a-a896-87eef774cce0",
   "metadata": {},
   "outputs": [],
   "source": []
  }
 ],
 "metadata": {
  "kernelspec": {
   "display_name": "Python 3 (ipykernel)",
   "language": "python",
   "name": "python3"
  },
  "language_info": {
   "codemirror_mode": {
    "name": "ipython",
    "version": 3
   },
   "file_extension": ".py",
   "mimetype": "text/x-python",
   "name": "python",
   "nbconvert_exporter": "python",
   "pygments_lexer": "ipython3",
   "version": "3.10.12"
  }
 },
 "nbformat": 4,
 "nbformat_minor": 5
}
