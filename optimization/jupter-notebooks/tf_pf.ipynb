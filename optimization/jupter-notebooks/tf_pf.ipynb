{
 "cells": [
  {
   "cell_type": "code",
   "execution_count": 1,
   "id": "e6039284-f3ab-4e9d-b1be-2e64097b745a",
   "metadata": {
    "execution": {
     "iopub.execute_input": "2024-04-25T14:20:58.832082Z",
     "iopub.status.busy": "2024-04-25T14:20:58.831106Z",
     "iopub.status.idle": "2024-04-25T14:20:59.090606Z",
     "shell.execute_reply": "2024-04-25T14:20:59.089324Z",
     "shell.execute_reply.started": "2024-04-25T14:20:58.832029Z"
    }
   },
   "outputs": [
    {
     "ename": "ModuleNotFoundError",
     "evalue": "No module named 'tensorflow'",
     "output_type": "error",
     "traceback": [
      "\u001b[0;31m---------------------------------------------------------------------------\u001b[0m",
      "\u001b[0;31mModuleNotFoundError\u001b[0m                       Traceback (most recent call last)",
      "Cell \u001b[0;32mIn[1], line 1\u001b[0m\n\u001b[0;32m----> 1\u001b[0m \u001b[38;5;28;01mimport\u001b[39;00m \u001b[38;5;21;01mtensorflow\u001b[39;00m \u001b[38;5;28;01mas\u001b[39;00m \u001b[38;5;21;01mtf\u001b[39;00m\n\u001b[1;32m      3\u001b[0m \u001b[38;5;66;03m# Initialize variables\u001b[39;00m\n\u001b[1;32m      4\u001b[0m x_solar_A \u001b[38;5;241m=\u001b[39m tf\u001b[38;5;241m.\u001b[39mVariable(\u001b[38;5;241m50.0\u001b[39m, trainable\u001b[38;5;241m=\u001b[39m\u001b[38;5;28;01mTrue\u001b[39;00m)  \u001b[38;5;66;03m# Start with arbitrary feasible values\u001b[39;00m\n",
      "\u001b[0;31mModuleNotFoundError\u001b[0m: No module named 'tensorflow'"
     ]
    }
   ],
   "source": [
    "import tensorflow as tf\n",
    "\n",
    "# Initialize variables\n",
    "x_solar_A = tf.Variable(50.0, trainable=True)  # Start with arbitrary feasible values\n",
    "x_solar_B = tf.Variable(50.0, trainable=True)\n",
    "x_wind_A = tf.Variable(40.0, trainable=True)\n",
    "x_wind_B = tf.Variable(80.0, trainable=True)\n",
    "\n",
    "# Define constraints as penalties\n",
    "def capacity_constraints():\n",
    "    return [\n",
    "        100 - (x_solar_A + x_solar_B),  # Solar capacity\n",
    "        150 - (x_wind_A + x_wind_B),    # Wind capacity\n",
    "        x_solar_A + x_wind_A - 90,      # Demand of Consumer A\n",
    "        x_solar_B + x_wind_B - 120     # Demand of Consumer B\n",
    "    ]\n",
    "\n",
    "# Cost function\n",
    "cost = 3*x_solar_A + 3*x_solar_B + 2*x_wind_A + 2*x_wind_B\n",
    "\n",
    "# Optimizer\n",
    "optimizer = tf.optimizers.SGD(learning_rate=0.01)\n",
    "\n",
    "# Training step\n",
    "def train_step():\n",
    "    with tf.GradientTape() as tape:\n",
    "        constraints = capacity_constraints()\n",
    "        penalty = tf.reduce_sum(tf.square(constraints))  # Squared penalties for constraint violation\n",
    "        loss = cost + penalty\n",
    "    gradients = tape.gradient(loss, [x_solar_A, x_solar_B, x_wind_A, x_wind_B])\n",
    "    optimizer.apply_gradients(zip(gradients, [x_solar_A, x_solar_B, x_wind_A, x_wind_B]))\n",
    "\n",
    "# Optimization loop\n",
    "for _ in range(1000):\n",
    "    train_step()\n",
    "\n",
    "# Output the results\n",
    "print(f'x_solar_A: {x_solar_A.numpy()}, x_solar_B: {x_solar_B.numpy()}')\n",
    "print(f'x_wind_A: {x_wind_A.numpy()}, x_wind_B: {x_wind_B.numpy()}')\n"
   ]
  },
  {
   "cell_type": "code",
   "execution_count": null,
   "id": "95bc2d34-52e6-4ba6-b9f2-bc6728918189",
   "metadata": {},
   "outputs": [],
   "source": []
  }
 ],
 "metadata": {
  "kernelspec": {
   "display_name": "Python 3 (ipykernel)",
   "language": "python",
   "name": "python3"
  },
  "language_info": {
   "codemirror_mode": {
    "name": "ipython",
    "version": 3
   },
   "file_extension": ".py",
   "mimetype": "text/x-python",
   "name": "python",
   "nbconvert_exporter": "python",
   "pygments_lexer": "ipython3",
   "version": "3.10.12"
  }
 },
 "nbformat": 4,
 "nbformat_minor": 5
}
