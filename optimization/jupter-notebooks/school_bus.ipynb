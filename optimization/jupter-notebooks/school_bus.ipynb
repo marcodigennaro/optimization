{
 "cells": [
  {
   "cell_type": "markdown",
   "id": "6e4c863f-9ee9-44c1-9f2d-0b5928ecfbd8",
   "metadata": {},
   "source": [
    "# School Bus Optimization Problem\n",
    "\n",
    "### Problem Description\n",
    "A school needs to transport 300 students to the zoo using buses. There are two types of buses available:\n",
    "\n",
    "- Buses with a capacity of 30 students, costing 300€ each.\n",
    "- Buses with a capacity of 40 students, costing 500€ each.\n",
    "\n",
    "The objective is to minimize the total cost of buses while transporting all 300 students.\n",
    "\n",
    "### Assumptions\n",
    "- All students must be transported.\n",
    "- Buses can operate below capacity but at the same cost.\n",
    "- The cost is strictly proportional to the number of buses, regardless of the number of students they carry.\n",
    "\n",
    "### Approach\n",
    "We will compare different scenarios to find the cost-effective solution:\n",
    "- Using only 30-seat buses\n",
    "- Using only 40-seat buses\n",
    "- Combining both types of buses for an optimal solution\n",
    "\n",
    "### Calculations\n",
    "\n",
    "- **Option 1**: Using only 30-seat buses\n",
    "  \n",
    "  Number of 30-seat buses required: $\\frac{300}{30} = 10$\n",
    "  \n",
    "  Total cost: $10 \\times 400€ = 4000€$.\n",
    "\n",
    "- **Option 2**: Using only 40-seat buses\n",
    "\n",
    "  Number of 40-seat buses required: $\\frac{300}{40} = 7.5$\n",
    "  \n",
    "  Total cost: $8 \\times 500€ = 4000€$.\n",
    "\n",
    "- **Option 3**: Combining 30-seat and 40-seat buses\n",
    "  \n",
    "  - **Iterative algorithm**: We can set up a simple optimization algorithm using an iterative approach to determine the fewest buses required for the lowest cost.\n",
    "  \n",
    "  - **Iterative algorithm**: We can set up a simple optimization algorithm using an iterative approach to determine the fewest buses required for the lowest cost.\n"
   ]
  },
  {
   "cell_type": "code",
   "execution_count": 1,
   "id": "7c704f7f-d9e7-470a-bb42-1ca748181da0",
   "metadata": {
    "execution": {
     "iopub.execute_input": "2024-04-17T09:33:15.410112Z",
     "iopub.status.busy": "2024-04-17T09:33:15.409601Z",
     "iopub.status.idle": "2024-04-17T09:33:15.430064Z",
     "shell.execute_reply": "2024-04-17T09:33:15.429083Z",
     "shell.execute_reply.started": "2024-04-17T09:33:15.410065Z"
    },
    "tags": []
   },
   "outputs": [],
   "source": [
    "# Define constants\n",
    "n_students = 3355325\n",
    "\n",
    "cost_30 = 400\n",
    "seat_30 = 30\n",
    "\n",
    "cost_40 = 500\n",
    "seat_40 = 40"
   ]
  },
  {
   "cell_type": "code",
   "execution_count": 2,
   "id": "469038bc-387d-48cb-a4a5-e55dd723b750",
   "metadata": {
    "execution": {
     "iopub.execute_input": "2024-04-17T09:33:15.432469Z",
     "iopub.status.busy": "2024-04-17T09:33:15.431570Z",
     "iopub.status.idle": "2024-04-17T09:33:15.489322Z",
     "shell.execute_reply": "2024-04-17T09:33:15.488580Z",
     "shell.execute_reply.started": "2024-04-17T09:33:15.432423Z"
    }
   },
   "outputs": [
    {
     "name": "stdout",
     "output_type": "stream",
     "text": [
      "Optimal number of 30-seat buses: 3\n",
      "Optimal number of 40-seat buses: 83881\n",
      "Minimum cost: 41941700 EUR\n"
     ]
    }
   ],
   "source": [
    "# Function to calculate the minimum cost\n",
    "def min_cost():\n",
    "    min_cost = float('inf')\n",
    "    best_combination = None\n",
    "    \n",
    "    # Iterate over the number of 40-seat buses from 0 up to how many it would take if they were the only bus type used\n",
    "    for buses_40 in range((n_students // seat_40) + 1):\n",
    "        # Calculate remaining students after using 40-seat buses\n",
    "        remaining_students = n_students - (buses_40 * seat_40)\n",
    "        \n",
    "        # Calculate the number of 30-seat buses needed for remaining students\n",
    "        if remaining_students > 0:\n",
    "            buses_30 = -(-remaining_students // seat_30)  # Equivalent to math.ceil but using integers\n",
    "        else:\n",
    "            buses_30 = 0\n",
    "        \n",
    "        # Calculate total cost for this combination\n",
    "        total_cost = (buses_30 * cost_30) + (buses_40 * cost_40)\n",
    "        \n",
    "        # Check if this is the minimum cost found so far\n",
    "        if total_cost < min_cost:\n",
    "            min_cost = total_cost\n",
    "            best_combination = (buses_30, buses_40, min_cost)\n",
    "    \n",
    "    return best_combination\n",
    "\n",
    "# Execute the function and print results\n",
    "optimal_buses_30, optimal_buses_40, optimal_cost = min_cost()\n",
    "print(f\"Optimal number of 30-seat buses: {optimal_buses_30}\")\n",
    "print(f\"Optimal number of 40-seat buses: {optimal_buses_40}\")\n",
    "print(f\"Minimum cost: {optimal_cost} EUR\")\n"
   ]
  },
  {
   "cell_type": "code",
   "execution_count": 3,
   "id": "f14c358c-e825-44cc-993f-d0c96ef0aad0",
   "metadata": {
    "execution": {
     "iopub.execute_input": "2024-04-17T09:33:15.491235Z",
     "iopub.status.busy": "2024-04-17T09:33:15.490811Z",
     "iopub.status.idle": "2024-04-17T09:33:16.014251Z",
     "shell.execute_reply": "2024-04-17T09:33:16.012414Z",
     "shell.execute_reply.started": "2024-04-17T09:33:15.491193Z"
    },
    "tags": []
   },
   "outputs": [
    {
     "name": "stdout",
     "output_type": "stream",
     "text": [
      "Optimal number of 30-seat buses: 0\n",
      "Optimal number of 40-seat buses: 83884.0\n",
      "Minimum cost: 41942000.0 EUR\n",
      "Number of seats: 3355360.0\n"
     ]
    }
   ],
   "source": [
    "from docplex.mp.model import Model\n",
    "\n",
    "mdl = Model(name='buses')\n",
    "nbbus40 = mdl.integer_var(name='Bus40')\n",
    "nbbus30 = mdl.integer_var(name='Bus30')\n",
    "mdl.add_constraint(nbbus40*seat_40 + nbbus30*seat_30 >= n_students, 'kids')\n",
    "\n",
    "mdl.minimize(nbbus40*500 + nbbus30*400)\n",
    "\n",
    "mdl.solve()\n",
    "\n",
    "optimal_cost = cost_30*nbbus30.solution_value + cost_40*nbbus40.solution_value\n",
    "optimal_nseats = seat_30*nbbus30.solution_value + seat_40*nbbus40.solution_value\n",
    "print(f\"Optimal number of 30-seat buses: {nbbus30.solution_value}\")\n",
    "print(f\"Optimal number of 40-seat buses: {nbbus40.solution_value}\")\n",
    "print(f\"Minimum cost: {optimal_cost} EUR\")\n",
    "print(f\"Number of seats: {optimal_nseats}\")"
   ]
  },
  {
   "cell_type": "code",
   "execution_count": null,
   "id": "47e4bb5a-7312-4270-afea-9a8fb8a1f195",
   "metadata": {
    "execution": {
     "iopub.execute_input": "2024-04-17T09:33:16.016641Z",
     "iopub.status.busy": "2024-04-17T09:33:16.016100Z"
    },
    "tags": []
   },
   "outputs": [],
   "source": [
    "# Function to calculate the minimum cost\n",
    "def min_cost():\n",
    "    min_cost = float('inf')\n",
    "    best_combination = None\n",
    "    \n",
    "    # Test every combination of the number of 40-seat and 30-seat buses\n",
    "    for buses_40 in range((n_students // seat_40) + 1):\n",
    "        for buses_30 in range((n_students // seat_30) + 1):\n",
    "            nseats = buses_40 * seat_40 + buses_30 * seat_30\n",
    "            if nseats >= n_students:\n",
    "                total_cost = buses_40 * cost_40 + buses_30 * cost_30\n",
    "                if total_cost < min_cost:\n",
    "                    min_cost = total_cost\n",
    "                    best_combination = (buses_30, buses_40, min_cost, nseats)\n",
    "                    \n",
    "    return best_combination\n",
    "\n",
    "# Execute the function and print results\n",
    "best_combination = min_cost()\n",
    "print(f\"Optimal number of 30-seat buses: {best_combination[0]}\")\n",
    "print(f\"Optimal number of 40-seat buses: {best_combination[1]}\")\n",
    "print(f\"Minimum cost: {best_combination[2]} EUR\")\n",
    "print(f\"Number of seats: {best_combination[3]}\")"
   ]
  },
  {
   "cell_type": "code",
   "execution_count": null,
   "id": "13ffe2a3-6d95-4f09-a8f3-b1f520dcdc2d",
   "metadata": {},
   "outputs": [],
   "source": []
  },
  {
   "cell_type": "code",
   "execution_count": null,
   "id": "f7adb583-6d27-4adc-93ce-0dbef75aab7d",
   "metadata": {},
   "outputs": [],
   "source": []
  }
 ],
 "metadata": {
  "kernelspec": {
   "display_name": "Python 3 (ipykernel)",
   "language": "python",
   "name": "python3"
  },
  "language_info": {
   "codemirror_mode": {
    "name": "ipython",
    "version": 3
   },
   "file_extension": ".py",
   "mimetype": "text/x-python",
   "name": "python",
   "nbconvert_exporter": "python",
   "pygments_lexer": "ipython3",
   "version": "3.10.12"
  }
 },
 "nbformat": 4,
 "nbformat_minor": 5
}
