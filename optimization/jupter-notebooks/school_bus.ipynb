{
 "cells": [
  {
   "cell_type": "code",
   "execution_count": 2,
   "id": "4bc53e26-ac32-4878-9955-ac5edeab635f",
   "metadata": {
    "execution": {
     "iopub.execute_input": "2024-04-24T15:59:33.563730Z",
     "iopub.status.busy": "2024-04-24T15:59:33.562127Z",
     "iopub.status.idle": "2024-04-24T15:59:33.692211Z",
     "shell.execute_reply": "2024-04-24T15:59:33.690717Z",
     "shell.execute_reply.started": "2024-04-24T15:59:33.563676Z"
    }
   },
   "outputs": [
    {
     "name": "stdout",
     "output_type": "stream",
     "text": [
      "We need 10 30-seaters buses\n",
      "We need 0 40-seaters buses\n",
      "Minimum total cost: 4000€\n"
     ]
    }
   ],
   "source": [
    "from optimization.core.buses import bus_30_only\n",
    "\n",
    "opt1 = bus_30_only()\n",
    "\n",
    "print(f\"We need {opt1['num_buses_30']} 30-seaters buses\")\n",
    "print(f\"We need {opt1['num_buses_40']} 40-seaters buses\")\n",
    "print(f\"Minimum total cost: {opt1['minimum_total_cost']}€\")"
   ]
  },
  {
   "cell_type": "markdown",
   "id": "48b612e2-b6ef-405a-855d-30b941358b13",
   "metadata": {},
   "source": [
    "\n",
    "### **Option 4**: Iterative algorithm\n",
    "\n",
    "What if our hypothesis is wrong and there is a better solution? For all optimisation problems, one solution, often prohibitive, is to enumerate all possible solutions, and find the best. \n",
    "\n",
    "- Number of 30-seat buses: 2\n",
    "- Number of 40-seat buses: 7\n",
    "- Total cost: 4300€\n",
    "\n",
    "We just saved 100€ on the best solution so far. Unfortunately for practical problems, this option is very costly."
   ]
  },
  {
   "cell_type": "code",
   "execution_count": 13,
   "id": "a7a9d35c-bbe6-49cb-9cb4-aa9121b2ea5b",
   "metadata": {
    "execution": {
     "iopub.execute_input": "2024-04-25T06:26:26.905115Z",
     "iopub.status.busy": "2024-04-25T06:26:26.904594Z",
     "iopub.status.idle": "2024-04-25T06:26:26.995028Z",
     "shell.execute_reply": "2024-04-25T06:26:26.993615Z",
     "shell.execute_reply.started": "2024-04-25T06:26:26.905067Z"
    }
   },
   "outputs": [],
   "source": [
    "from optimization.core.buses import iterative_solution\n",
    "\n",
    "opt4 = iterative_solution()"
   ]
  },
  {
   "cell_type": "markdown",
   "id": "1198959f-ea9e-4d21-a4c6-672eec530999",
   "metadata": {},
   "source": [
    "### Option 5: Linear programming\n",
    "    \n",
    "This is a method to achieve the best outcome in a mathematical model whose requirements and objective are represented by linear relationships.\n",
    "We need to introduce a cost function: \n",
    "  \n",
    "$$ f(x,y) = xX + yY $$\n",
    "\n",
    "where (x,y) are the number of 30- and 40- seaters respectively, and (X, Y) are their unitary price. \n",
    "\n",
    "We will prefer the `pulp` library to the most common `scipy.optimize.linprog` since the latter does not directly support integer programming, which includes constraining variables to be integers. "
   ]
  },
  {
   "cell_type": "code",
   "execution_count": 6,
   "id": "17660bc7-bf2f-4a20-9a93-f687226233ea",
   "metadata": {
    "execution": {
     "iopub.execute_input": "2024-04-24T15:59:34.077848Z",
     "iopub.status.busy": "2024-04-24T15:59:34.077340Z",
     "iopub.status.idle": "2024-04-24T15:59:34.172804Z",
     "shell.execute_reply": "2024-04-24T15:59:34.170844Z",
     "shell.execute_reply.started": "2024-04-24T15:59:34.077767Z"
    }
   },
   "outputs": [
    {
     "name": "stdout",
     "output_type": "stream",
     "text": [
      "We need 1 30-seaters buses\n",
      "We need 6 40-seaters buses\n",
      "Minimum total cost: 3400€\n"
     ]
    }
   ],
   "source": [
    "from optimization.core.buses import linear_programming\n",
    "\n",
    "opt5 = iterative_solution()\n",
    "\n",
    "print(f\"We need {opt5['num_buses_30']} 30-seaters buses\")\n",
    "print(f\"We need {opt5['num_buses_40']} 40-seaters buses\")\n",
    "print(f\"Minimum total cost: {opt5['minimum_total_cost']}€\")"
   ]
  },
  {
   "cell_type": "code",
   "execution_count": 7,
   "id": "5db7c8b3-0a43-4092-af89-75d6d1c77da4",
   "metadata": {
    "execution": {
     "iopub.execute_input": "2024-04-24T15:59:34.178529Z",
     "iopub.status.busy": "2024-04-24T15:59:34.176736Z",
     "iopub.status.idle": "2024-04-24T15:59:35.515258Z",
     "shell.execute_reply": "2024-04-24T15:59:35.514509Z",
     "shell.execute_reply.started": "2024-04-24T15:59:34.178462Z"
    }
   },
   "outputs": [
    {
     "data": {
      "text/plain": [
       "[<matplotlib.lines.Line2D at 0x7e3d22833340>]"
      ]
     },
     "execution_count": 7,
     "metadata": {},
     "output_type": "execute_result"
    },
    {
     "data": {
      "image/png": "[encoded data removed]",
      "text/plain": [
       "<Figure size 640x480 with 3 Axes>"
      ]
     },
     "metadata": {},
     "output_type": "display_data"
    }
   ],
   "source": [
    "import matplotlib.pyplot as plt\n",
    "\n",
    "fig, ax = plt.subplots(3,1, sharex=True)\n",
    "\n",
    "\n",
    "ax[0].semilogy([ opt['minimum_total_cost'] for opt in  [opt3, opt4, opt5] ])\n",
    "ax[1].plot([ opt['execution_time'] for opt in  [opt3, opt4, opt5] ])\n",
    "ax[2].plot([ opt['max_memory'] for opt in  [opt3, opt4, opt5] ])"
   ]
  },
  {
   "cell_type": "code",
   "execution_count": null,
   "id": "40fc93ec-817f-4681-8c89-f40132316152",
   "metadata": {},
   "outputs": [],
   "source": []
  },
  {
   "cell_type": "code",
   "execution_count": null,
   "id": "dfe5de29-9ed6-49d3-b874-051d88888abc",
   "metadata": {},
   "outputs": [],
   "source": []
  }
 ],
 "metadata": {
  "kernelspec": {
   "display_name": "Python 3 (ipykernel)",
   "language": "python",
   "name": "python3"
  },
  "language_info": {
   "codemirror_mode": {
    "name": "ipython",
    "version": 3
   },
   "file_extension": ".py",
   "mimetype": "text/x-python",
   "name": "python",
   "nbconvert_exporter": "python",
   "pygments_lexer": "ipython3",
   "version": "3.10.12"
  }
 },
 "nbformat": 4,
 "nbformat_minor": 5
}
