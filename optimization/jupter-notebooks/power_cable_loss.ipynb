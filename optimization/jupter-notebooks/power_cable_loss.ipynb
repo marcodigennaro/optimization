{
 "cells": [
  {
   "cell_type": "markdown",
   "id": "772fab1d-b2d3-4e85-8736-c3c412fe4dc0",
   "metadata": {},
   "source": [
    "# Minimizing the power loss in a transmission cable\n",
    "\n",
    "### Problem formulation\n",
    "\n",
    "Determe the optimal wire diameter so that the power losses due to resistance is minimised while ensuring that the cable can carry a specified maximum current without overheating\n",
    "\n",
    "### Problem Setup\n",
    "\n",
    "1. **Objective**: Minimize power loss in the transmission cable.\n",
    "2. **Constraint**: The current through the cable must not exceed its safe carrying capacity.\n",
    "\n",
    "### Mathematical Model\n",
    "Power loss in a transmission cable is given by:\n",
    "\n",
    "$$ P = I^2 \\times R $$\n",
    "\n",
    "Where:\n",
    "- $P$ is the power loss [W]\n",
    "- $I$ is the current through the cable [A] \n",
    "- $R$ is the resistance of the cable [$\\Omega$]\n",
    "\n",
    "The resistance of the cable is calculated using:\n",
    "\n",
    "$$ R = \\frac{\\rho \\times L}{A} $$\n",
    "\n",
    "Where:\n",
    "- $\\rho$ is the resistivity of the material [$\\Omega\\cdot$m]\n",
    "- $L$ is the length of the cable [m]\n",
    "- $A$ is the cross-sectional area of the cable [m$^2$], expressed in terms of diameter $d$ as $A = \\frac{\\pi d^2}{4}$.\n",
    "\n",
    "### Parameters\n",
    "\n",
    "- Current $I = 100 A$\n",
    "- Cable length $L = 1000 m$\n",
    "- Material resistivity $\\rho = 1.68 \\times 10^{-8} \\Omega\\cdot m$  (copper)\n",
    "- Maximum allowable diameter $d_{\\text{max}} = 0.05 m$.\n",
    "\n",
    "### Optimization Using Python\n",
    "\n",
    "The objective is to minimize $P$ by varying $d$, ensuring $d$ does not exceed $d_{\\text{max}}$."
   ]
  },
  {
   "cell_type": "code",
   "execution_count": 1,
   "id": "41062bd8-41c1-492b-a75a-47598f9c7748",
   "metadata": {
    "execution": {
     "iopub.execute_input": "2024-04-25T14:46:52.702421Z",
     "iopub.status.busy": "2024-04-25T14:46:52.702159Z",
     "iopub.status.idle": "2024-04-25T14:46:53.285398Z",
     "shell.execute_reply": "2024-04-25T14:46:53.284490Z",
     "shell.execute_reply.started": "2024-04-25T14:46:52.702395Z"
    },
    "tags": []
   },
   "outputs": [
    {
     "name": "stdout",
     "output_type": "stream",
     "text": [
      "Given a maximum diameter of 0.05 m,\n",
      "the minimum of power loss is 85.56169740620291\n"
     ]
    }
   ],
   "source": [
    "from scipy.optimize import minimize\n",
    "from optimization.core.power_cable import power_loss\n",
    "\n",
    "# Parameters\n",
    "I = 100\n",
    "L = 1000\n",
    "rho = 1.68 * 1e-8\n",
    "d_max = 0.05\n",
    "\n",
    "# Bounds on the diameter\n",
    "bounds = [(0.001, d_max)]  # lower bound avoids division by zero\n",
    "\n",
    "# Minimize the power loss\n",
    "result = minimize(power_loss, x0=[0.01], bounds=bounds, args=(rho, L, I))\n",
    "\n",
    "# Result\n",
    "optimized_diameter = result.x[0]\n",
    "minimum_power_loss = result.fun\n",
    "\n",
    "print(f'Given a maximum diameter of {optimized_diameter} m,')\n",
    "print(f'the minimum of power loss is {minimum_power_loss}')"
   ]
  },
  {
   "cell_type": "code",
   "execution_count": null,
   "id": "50efd1a2-e159-48d2-b843-93f4d4be865e",
   "metadata": {},
   "outputs": [],
   "source": []
  }
 ],
 "metadata": {
  "kernelspec": {
   "display_name": "Python 3 (ipykernel)",
   "language": "python",
   "name": "python3"
  },
  "language_info": {
   "codemirror_mode": {
    "name": "ipython",
    "version": 3
   },
   "file_extension": ".py",
   "mimetype": "text/x-python",
   "name": "python",
   "nbconvert_exporter": "python",
   "pygments_lexer": "ipython3",
   "version": "3.10.12"
  }
 },
 "nbformat": 4,
 "nbformat_minor": 5
}
