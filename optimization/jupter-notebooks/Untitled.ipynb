{
 "cells": [
  {
   "cell_type": "markdown",
   "id": "ebbb6d7c-1cfd-4d48-928e-788cecf06d5f",
   "metadata": {
    "execution": {
     "iopub.execute_input": "2024-04-25T13:04:43.513682Z",
     "iopub.status.busy": "2024-04-25T13:04:43.513350Z",
     "iopub.status.idle": "2024-04-25T13:04:43.959887Z",
     "shell.execute_reply": "2024-04-25T13:04:43.958663Z",
     "shell.execute_reply.started": "2024-04-25T13:04:43.513653Z"
    }
   },
   "source": [
    "%load_ext ipython_magic"
   ]
  },
  {
   "cell_type": "code",
   "execution_count": null,
   "id": "7a92a2a5-17d4-4de9-b666-1ff73ddebffb",
   "metadata": {},
   "outputs": [],
   "source": []
  }
 ],
 "metadata": {
  "kernelspec": {
   "display_name": "Python 3 (ipykernel)",
   "language": "python",
   "name": "python3"
  },
  "language_info": {
   "codemirror_mode": {
    "name": "ipython",
    "version": 3
   },
   "file_extension": ".py",
   "mimetype": "text/x-python",
   "name": "python",
   "nbconvert_exporter": "python",
   "pygments_lexer": "ipython3",
   "version": "3.10.12"
  }
 },
 "nbformat": 4,
 "nbformat_minor": 5
}
