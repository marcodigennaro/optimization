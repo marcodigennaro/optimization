{
 "cells": [
  {
   "cell_type": "code",
   "execution_count": 1,
   "id": "230fc49e-db9a-4c2c-9dda-10b813c0e867",
   "metadata": {
    "execution": {
     "iopub.execute_input": "2024-04-25T12:09:25.453170Z",
     "iopub.status.busy": "2024-04-25T12:09:25.452762Z",
     "iopub.status.idle": "2024-04-25T12:09:25.471007Z",
     "shell.execute_reply": "2024-04-25T12:09:25.470179Z",
     "shell.execute_reply.started": "2024-04-25T12:09:25.453128Z"
    }
   },
   "outputs": [],
   "source": [
    "# test time\n",
    "\n",
    "from optimization.core.wrappers import performance_measure, time_measure, print_output"
   ]
  },
  {
   "cell_type": "code",
   "execution_count": 2,
   "id": "544867bf-b3aa-43a7-8262-644e07d3afa2",
   "metadata": {
    "execution": {
     "iopub.execute_input": "2024-04-25T12:09:25.472510Z",
     "iopub.status.busy": "2024-04-25T12:09:25.472162Z",
     "iopub.status.idle": "2024-04-25T12:09:25.497138Z",
     "shell.execute_reply": "2024-04-25T12:09:25.496447Z",
     "shell.execute_reply.started": "2024-04-25T12:09:25.472474Z"
    }
   },
   "outputs": [],
   "source": [
    "@time_measure\n",
    "@performance_measure\n",
    "@print_output\n",
    "def print_int(n):\n",
    "    print('hello')\n",
    "    out_dict =  {'A':3, 'B':4, 'C':5, 'minimum_total_cost':12}\n",
    "    return out_dict"
   ]
  },
  {
   "cell_type": "code",
   "execution_count": 3,
   "id": "960afd98-7746-4ec7-97da-4a25fdb6d50c",
   "metadata": {
    "execution": {
     "iopub.execute_input": "2024-04-25T12:09:25.499821Z",
     "iopub.status.busy": "2024-04-25T12:09:25.499379Z",
     "iopub.status.idle": "2024-04-25T12:09:25.503939Z",
     "shell.execute_reply": "2024-04-25T12:09:25.503211Z",
     "shell.execute_reply.started": "2024-04-25T12:09:25.499794Z"
    }
   },
   "outputs": [
    {
     "name": "stdout",
     "output_type": "stream",
     "text": [
      "hello\n",
      "We need 3 buses A\n",
      "We need 4 buses B\n",
      "We need 5 buses C\n",
      "Minimum total cost: 12€\n"
     ]
    }
   ],
   "source": [
    "output = print_int(20)"
   ]
  },
  {
   "cell_type": "code",
   "execution_count": 4,
   "id": "3396c7f8-0552-438c-ab2b-cc27dfebfa8c",
   "metadata": {
    "execution": {
     "iopub.execute_input": "2024-04-25T12:09:25.505356Z",
     "iopub.status.busy": "2024-04-25T12:09:25.505030Z",
     "iopub.status.idle": "2024-04-25T12:09:25.513963Z",
     "shell.execute_reply": "2024-04-25T12:09:25.512800Z",
     "shell.execute_reply.started": "2024-04-25T12:09:25.505332Z"
    }
   },
   "outputs": [
    {
     "data": {
      "text/plain": [
       "{'A': 3,\n",
       " 'B': 4,\n",
       " 'C': 5,\n",
       " 'minimum_total_cost': 12,\n",
       " 'current': 4728,\n",
       " 'peak': 5704,\n",
       " 'elapsed_time': 0.0001823902130126953}"
      ]
     },
     "execution_count": 4,
     "metadata": {},
     "output_type": "execute_result"
    }
   ],
   "source": [
    "output"
   ]
  },
  {
   "cell_type": "code",
   "execution_count": 5,
   "id": "ac3b0c09-0a08-4745-8f72-02cff0eb7b3c",
   "metadata": {
    "execution": {
     "iopub.execute_input": "2024-04-25T12:09:25.515675Z",
     "iopub.status.busy": "2024-04-25T12:09:25.515356Z",
     "iopub.status.idle": "2024-04-25T12:09:25.522105Z",
     "shell.execute_reply": "2024-04-25T12:09:25.521173Z",
     "shell.execute_reply.started": "2024-04-25T12:09:25.515632Z"
    }
   },
   "outputs": [
    {
     "data": {
      "text/plain": [
       "{'A': 3,\n",
       " 'B': 4,\n",
       " 'C': 5,\n",
       " 'minimum_total_cost': 12,\n",
       " 'current': 4728,\n",
       " 'peak': 5704,\n",
       " 'elapsed_time': 0.0001823902130126953}"
      ]
     },
     "execution_count": 5,
     "metadata": {},
     "output_type": "execute_result"
    }
   ],
   "source": [
    "output"
   ]
  },
  {
   "cell_type": "code",
   "execution_count": null,
   "id": "003f6938-04a2-4f4b-aeda-0e72c37041be",
   "metadata": {},
   "outputs": [],
   "source": []
  }
 ],
 "metadata": {
  "kernelspec": {
   "display_name": "Python 3 (ipykernel)",
   "language": "python",
   "name": "python3"
  },
  "language_info": {
   "codemirror_mode": {
    "name": "ipython",
    "version": 3
   },
   "file_extension": ".py",
   "mimetype": "text/x-python",
   "name": "python",
   "nbconvert_exporter": "python",
   "pygments_lexer": "ipython3",
   "version": "3.10.12"
  }
 },
 "nbformat": 4,
 "nbformat_minor": 5
}
