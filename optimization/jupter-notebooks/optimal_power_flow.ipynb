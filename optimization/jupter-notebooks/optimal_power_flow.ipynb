{
 "cells": [
  {
   "cell_type": "markdown",
   "id": "a394a460-ca9d-4fc4-b931-7e18a8c790b3",
   "metadata": {},
   "source": [
    "# Optimal Power Flow\n",
    "\n",
    "### Problem formulation\n",
    "\n",
    "Minimize the total generation cost of electrical power across several generating units while meeting fixed power demand and adhering to system stability constraints.\n",
    "\n",
    "### Variables\n",
    "- $P_i$ - Power output of generator $i$ in megawatts (MW).\n",
    "\n",
    "### Parameters\n",
    "- $a_i, b_i, c_i$ - Cost coefficients for generator $i$ representing the quadratic cost function: \n",
    "\n",
    "$$ C_i(P_i) = a_i P_i^2 + b_i P_i + c_i $$\n",
    "\n",
    "- $P_{\\text{min}_i}, P_{\\text{max}_i}$ - Minimum and maximum power output for generator $i$ in MW.\n",
    "- $D$ - Total power demand in MW.\n",
    "- $T_{ij}$ - Maximum transmission capacity between generator $i$ and $j$ in MW.\n",
    "\n",
    "### Objective Function\n",
    "Minimize the total cost:\n",
    "\n",
    "$$\\sum_{i=1}^{3} (a_i P_i^2 + b_i P_i + c_i) $$\n",
    "\n",
    "### Constraints\n",
    "1. **Power Generation Limits**:\n",
    "   $$ P_{\\text{min}_i} \\leq P_i \\leq P_{\\text{max}_i} \\quad \\text{for each } i $$\n",
    "2. **Demand Satisfaction**:\n",
    "   $$ \\sum_{i=1}^{3} P_i = D $$\n",
    "3. **Transmission Limits**:\n",
    "   $$ |P_i - P_j| \\leq T_{ij} \\quad \\text{for all } i \\neq j $$\n"
   ]
  },
  {
   "cell_type": "code",
   "execution_count": 1,
   "id": "d6df84d0-8b72-4092-8fed-4047b151301c",
   "metadata": {
    "tags": []
   },
   "outputs": [
    {
     "ename": "ModuleNotFoundError",
     "evalue": "No module named 'core'",
     "output_type": "error",
     "traceback": [
      "\u001b[0;31m---------------------------------------------------------------------------\u001b[0m",
      "\u001b[0;31mModuleNotFoundError\u001b[0m                       Traceback (most recent call last)",
      "Cell \u001b[0;32mIn[1], line 1\u001b[0m\n\u001b[0;32m----> 1\u001b[0m \u001b[38;5;28;01mfrom\u001b[39;00m \u001b[38;5;21;01mcore\u001b[39;00m\u001b[38;5;21;01m.\u001b[39;00m\u001b[38;5;21;01mfunctions\u001b[39;00m \u001b[38;5;28;01mimport\u001b[39;00m OptimalPowerFlow\n\u001b[1;32m      4\u001b[0m \u001b[38;5;66;03m# Data for the problem\u001b[39;00m\n\u001b[1;32m      5\u001b[0m num_generators \u001b[38;5;241m=\u001b[39m \u001b[38;5;241m3\u001b[39m\n",
      "\u001b[0;31mModuleNotFoundError\u001b[0m: No module named 'core'"
     ]
    }
   ],
   "source": [
    "from core.functions import OptimalPowerFlow\n",
    "\n",
    "\n",
    "# Data for the problem\n",
    "num_generators = 3\n",
    "cost_coeffs = [(0.1, 14, 30), (0.15, 15, 25), (0.2, 10, 10)]  # (a, b, c) for each generator\n",
    "min_output = [10, 10, 10]\n",
    "max_output = [100, 90, 80]\n",
    "demand = 150\n",
    "transmission_limits = {('1', '2'): 50, ('1', '3'): 50, ('2', '3'): 30}\n",
    "\n",
    "# Create and solve the OPF problem\n",
    "opf = OptimalPowerFlow(num_generators, cost_coeffs, min_output, max_output, demand, transmission_limits)\n",
    "opf.setup_problem()\n",
    "opf.solve()\n"
   ]
  },
  {
   "cell_type": "code",
   "execution_count": null,
   "id": "1e2ac892-a366-48de-8d92-95097da10388",
   "metadata": {},
   "outputs": [],
   "source": []
  }
 ],
 "metadata": {
  "kernelspec": {
   "display_name": "Python 3 (ipykernel)",
   "language": "python",
   "name": "python3"
  },
  "language_info": {
   "codemirror_mode": {
    "name": "ipython",
    "version": 3
   },
   "file_extension": ".py",
   "mimetype": "text/x-python",
   "name": "python",
   "nbconvert_exporter": "python",
   "pygments_lexer": "ipython3",
   "version": "3.10.12"
  }
 },
 "nbformat": 4,
 "nbformat_minor": 5
}
