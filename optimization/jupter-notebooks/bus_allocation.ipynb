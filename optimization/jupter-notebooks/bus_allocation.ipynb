{
 "cells": [
  {
   "cell_type": "markdown",
   "id": "f5aaee3e-5a01-4cf2-85b3-2fc0a0b8574c",
   "metadata": {},
   "source": [
    "# School Bus Optimization Problem\n",
    "\n",
    "### Problem formulation\n",
    "\n",
    "A school needs to transport N students to the zoo using different kind of buses. There are three types of buses available for capacity and cost:\n",
    "\n",
    "- A, 35 seats, 300€ each\n",
    "- B, 49 students, 400€ each\n",
    "- C, 57 students, 450€ each\n",
    "\n",
    "The objective is to minimize the total cost of buses while transporting all students.\n",
    "\n",
    "### Assumptions\n",
    "\n",
    "- All students must be transported\n",
    "- Buses can operate below capacity but at the same cost, regardless of the number of the occupied places\n",
    "- Occupied seats are an integer number\n",
    "\n",
    "### Approach\n",
    "\n",
    "We will compare different scenarios to find the cost-effective solution:\n",
    "\n",
    "- Trivial solutions: using only buses A, B, C\n",
    "- Educated guess starting from a practical hypothesis\n",
    "- Combining both types of buses for an optimal solution (linear programming)\n",
    "- Verifying with an iterative solution\n",
    "\n",
    "### Performance\n",
    "\n",
    "Each option is implemented in the `BusAllocation` class of th `optimization.core.bus_allocation` module. The `time_measure`, `performance_measure` and `print_output` functions are used as decorators to helps estimating time and memory usage, to be taken into consideration for a scalable solution.\n",
    "\n",
    "### Case 1\n",
    "\n",
    "An easy scenario is taken to demonstrate the procedure (N=123)\n",
    " \n",
    "### Case 2\n",
    "\n",
    "A more sophisticated scenario (N>>1) is shown to show how for large problems, the best solution is linear programming"
   ]
  },
  {
   "cell_type": "markdown",
   "id": "d96a9ee0-cd57-48a9-80ec-2ab9fe09b826",
   "metadata": {},
   "source": [
    "# Case 1"
   ]
  },
  {
   "cell_type": "code",
   "execution_count": 1,
   "id": "3eeedf02-c4cc-44ce-9cca-6c07af1ec765",
   "metadata": {
    "execution": {
     "iopub.execute_input": "2024-04-25T13:52:50.961366Z",
     "iopub.status.busy": "2024-04-25T13:52:50.960995Z",
     "iopub.status.idle": "2024-04-25T13:52:50.995425Z",
     "shell.execute_reply": "2024-04-25T13:52:50.994531Z",
     "shell.execute_reply.started": "2024-04-25T13:52:50.961327Z"
    }
   },
   "outputs": [],
   "source": [
    "from optimization.core.bus_allocation import BusAllocation\n",
    "\n",
    "# Define constants\n",
    "n_students = 321\n",
    "\n",
    "seat_a = 35\n",
    "cost_a = 300\n",
    "\n",
    "seat_b = 49\n",
    "cost_b = 400\n",
    "\n",
    "seat_c = 57\n",
    "cost_c = 450\n",
    "\n",
    "# Create instance of the custom-made BusAllocation class\n",
    "bus_allocator = BusAllocation((seat_a, seat_b, seat_c), (cost_a, cost_b, cost_c), n_students)"
   ]
  },
  {
   "cell_type": "markdown",
   "id": "42d5005c-a12e-41c0-91ea-20ccf45b32eb",
   "metadata": {},
   "source": [
    "### Options 1-3: Trivial Solutions\n",
    "\n",
    "If we use only buses A, B or C the results are:\n",
    "\n",
    "- A required: n_students/seat_a = 36 $\\Rightarrow$ 1200€\n",
    "- B required: n_students/seat_b = 26 $\\Rightarrow$ 1200€\n",
    "- C required: n_students/seat_c = 22 $\\Rightarrow$ 1350€\n",
    "\n",
    "Options 1 and 2 are equivalent."
   ]
  },
  {
   "cell_type": "code",
   "execution_count": 2,
   "id": "99bdd01e-3cbb-4fa6-bdb8-24da09ba967c",
   "metadata": {
    "execution": {
     "iopub.execute_input": "2024-04-25T13:52:50.998581Z",
     "iopub.status.busy": "2024-04-25T13:52:50.996809Z",
     "iopub.status.idle": "2024-04-25T13:52:51.012362Z",
     "shell.execute_reply": "2024-04-25T13:52:51.011466Z",
     "shell.execute_reply.started": "2024-04-25T13:52:50.998524Z"
    }
   },
   "outputs": [
    {
     "name": "stdout",
     "output_type": "stream",
     "text": [
      "(A, B, C) = (10, 0, 0)\n",
      "Minimum total cost: 3000€\n",
      "(A, B, C) = (0, 7, 0)\n",
      "Minimum total cost: 2800€\n",
      "(A, B, C) = (0, 0, 6)\n",
      "Minimum total cost: 2700€\n"
     ]
    }
   ],
   "source": [
    "option_1 = bus_allocator.trivial_solution('A')\n",
    "option_2 = bus_allocator.trivial_solution('B')\n",
    "option_3 = bus_allocator.trivial_solution('C')"
   ]
  },
  {
   "cell_type": "markdown",
   "id": "b1e0cc62-348f-41c2-97fa-cb81c2143580",
   "metadata": {},
   "source": [
    "### Option 4: Educated Guess\n",
    "\n",
    "Intuitively, the price of one seat is lower for larger coaches. The prices per seat are:\n",
    "\n",
    "- A: cost_a/seat_a = 8.57 €/seat\n",
    "- B: cost_b/seat_b = 8.16 €/seat\n",
    "- C: cost_c/seat_c = 7.89 €/seat\n",
    "\n",
    "Thus, we can make an educated guess and fill up as many C buses as possible, before moving to B buses, and finally fill A kind. This can bring us very close to the optimal solution."
   ]
  },
  {
   "cell_type": "code",
   "execution_count": 3,
   "id": "069bb1b5-aa8f-4fbb-b1f6-5015f981e723",
   "metadata": {
    "execution": {
     "iopub.execute_input": "2024-04-25T13:52:51.016399Z",
     "iopub.status.busy": "2024-04-25T13:52:51.016079Z",
     "iopub.status.idle": "2024-04-25T13:52:51.021123Z",
     "shell.execute_reply": "2024-04-25T13:52:51.019818Z",
     "shell.execute_reply.started": "2024-04-25T13:52:51.016377Z"
    }
   },
   "outputs": [
    {
     "name": "stdout",
     "output_type": "stream",
     "text": [
      "(A, B, C) = (2, 0, 5)\n",
      "Minimum total cost: 2850€\n"
     ]
    }
   ],
   "source": [
    "option_4 = bus_allocator.educated_guess()"
   ]
  },
  {
   "cell_type": "markdown",
   "id": "4a7677f8-482e-4f2f-8c81-c9ba98ba6bfc",
   "metadata": {},
   "source": [
    "### Option 5: Linear programming\n",
    "    \n",
    "This is a method to achieve the best outcome in a mathematical model whose requirements and objective are represented by linear relationships.\n",
    "We need to introduce a cost function: \n",
    "  \n",
    "$$ f(x,y,z) = xX + yY + zZ$$\n",
    "\n",
    "where (x,y,z) are the number of A-, B- and C-buses, and (X, Y, Z) are their unitary price. \n",
    "\n",
    "We will prefer the `pulp` library to the most common `scipy.optimize.linprog` since the latter does not directly support integer programming, which includes constraining variables to be integers. "
   ]
  },
  {
   "cell_type": "code",
   "execution_count": 4,
   "id": "e4c3a725-5b2a-4b87-83e1-e76551a30300",
   "metadata": {
    "execution": {
     "iopub.execute_input": "2024-04-25T13:52:51.023090Z",
     "iopub.status.busy": "2024-04-25T13:52:51.022621Z",
     "iopub.status.idle": "2024-04-25T13:52:51.055115Z",
     "shell.execute_reply": "2024-04-25T13:52:51.054139Z",
     "shell.execute_reply.started": "2024-04-25T13:52:51.023050Z"
    }
   },
   "outputs": [
    {
     "name": "stdout",
     "output_type": "stream",
     "text": [
      "(A, B, C) = (0, 2, 4)\n",
      "Minimum total cost: 2600.0€\n"
     ]
    },
    {
     "data": {
      "text/plain": [
       "{'A': 0,\n",
       " 'B': 2,\n",
       " 'C': 4,\n",
       " 'minimum_total_cost': 2600.0,\n",
       " 'current': 63383,\n",
       " 'peak': 181162,\n",
       " 'elapsed_time': 22.31144905090332}"
      ]
     },
     "execution_count": 4,
     "metadata": {},
     "output_type": "execute_result"
    }
   ],
   "source": [
    "option_5 = bus_allocator.linear_programming()\n",
    "option_5"
   ]
  },
  {
   "cell_type": "markdown",
   "id": "97486e5d-4aac-442f-8cd4-7a14dd955709",
   "metadata": {},
   "source": [
    "### Option 6: Checking all solutions\n",
    "\n",
    "One possibile solution in optimization problems is to check all possible solutions. This method is practicably unfeaseble for large problems, although is useful to conjecture the quality of another method in small dimensions. In `iterative_solution`, we can enumerate all possibilities and choose the one minimizing the overall cost."
   ]
  },
  {
   "cell_type": "code",
   "execution_count": 5,
   "id": "3924651e-c619-4409-9c6a-5380425c07e6",
   "metadata": {
    "execution": {
     "iopub.execute_input": "2024-04-25T13:52:51.056777Z",
     "iopub.status.busy": "2024-04-25T13:52:51.056331Z",
     "iopub.status.idle": "2024-04-25T13:52:51.073179Z",
     "shell.execute_reply": "2024-04-25T13:52:51.070467Z",
     "shell.execute_reply.started": "2024-04-25T13:52:51.056735Z"
    }
   },
   "outputs": [
    {
     "name": "stdout",
     "output_type": "stream",
     "text": [
      "(A, B, C) = (0, 2, 4)\n",
      "Minimum total cost: 2600€\n"
     ]
    },
    {
     "data": {
      "text/plain": [
       "{'A': 0,\n",
       " 'B': 2,\n",
       " 'C': 4,\n",
       " 'minimum_total_cost': 2600,\n",
       " 'current': 2072,\n",
       " 'peak': 3048,\n",
       " 'elapsed_time': 1.2421607971191406}"
      ]
     },
     "execution_count": 5,
     "metadata": {},
     "output_type": "execute_result"
    }
   ],
   "source": [
    "option_6 = bus_allocator.iterative_solution()\n",
    "true_lowest_cost = option_6['minimum_total_cost']\n",
    "option_6"
   ]
  },
  {
   "cell_type": "markdown",
   "id": "4dfe2980-bd52-4029-af2b-952a86ab7718",
   "metadata": {},
   "source": [
    "### Case 1 - Comparing the results\n",
    "\n",
    "Below, we can compare the results coming from the different methods:\n",
    "- `minimum_total_cost`: given that the true lower cost is the one form `option_6`, we can compare the difference wrt this value. Note that only `linear_program` is able to find the best solution\n",
    "- `elapsed_time`: if we discard the trivial solutions `(1-3)`, for case 1 the `educated_guess` and the `iterative_solutions` are quite fast\n",
    "- memory wise, the `peak` also shows that `linear_program` uses quite a lot, altohoug it's the only one finding the right solution\n"
   ]
  },
  {
   "cell_type": "code",
   "execution_count": 6,
   "id": "2c93c325-5171-4043-a642-38fd58ae5671",
   "metadata": {
    "execution": {
     "iopub.execute_input": "2024-04-25T13:52:51.074877Z",
     "iopub.status.busy": "2024-04-25T13:52:51.074406Z",
     "iopub.status.idle": "2024-04-25T13:52:52.135909Z",
     "shell.execute_reply": "2024-04-25T13:52:52.134824Z",
     "shell.execute_reply.started": "2024-04-25T13:52:51.074837Z"
    }
   },
   "outputs": [
    {
     "data": {
      "image/png": "[encoded data removed]",
      "text/plain": [
       "<Figure size 600x600 with 3 Axes>"
      ]
     },
     "metadata": {},
     "output_type": "display_data"
    }
   ],
   "source": [
    "import matplotlib.pyplot as plt\n",
    "\n",
    "all_options = [option_1, option_2, option_3, option_4, option_5, option_6] \n",
    "fig, ax = plt.subplots(3,1, sharex=True, figsize=(6,6))\n",
    "\n",
    "labels = [f'opt_{i}' for i in range(1,7)]\n",
    "ax[0].bar(labels, [ (opt['minimum_total_cost']-true_lowest_cost) for opt in all_options ])\n",
    "ax[1].bar(labels, [ opt['elapsed_time'] for opt in all_options ])\n",
    "ax[2].bar(labels, [ opt['current']/1000 for opt in all_options ], label = 'current')\n",
    "ax[2].bar(labels, [ opt['peak']/1000 for opt in all_options ], label='peak')\n",
    "ax[2].legend()\n",
    "\n",
    "ax[0].set_ylabel('Extra Cost (k€)')\n",
    "ax[1].set_ylabel('Time (ms)')\n",
    "ax[2].set_ylabel('Memory (kB)')\n",
    "\n",
    "plt.tight_layout()"
   ]
  },
  {
   "cell_type": "markdown",
   "id": "5073f752-481f-4712-9692-a8495d846cbe",
   "metadata": {},
   "source": [
    "# Case 2\n",
    "\n",
    "Let us now study how the performance of `educated_guess`, `linear_programming` and `iterative_solution` vary with the size of the problem. We take logarithmic increase steps and compare the evolution of time and memory. "
   ]
  },
  {
   "cell_type": "code",
   "execution_count": 22,
   "id": "7e15a8fd-f953-49af-a5d3-e946667580b8",
   "metadata": {
    "execution": {
     "iopub.execute_input": "2024-04-25T14:14:18.946249Z",
     "iopub.status.busy": "2024-04-25T14:14:18.945438Z",
     "iopub.status.idle": "2024-04-25T14:14:18.958374Z",
     "shell.execute_reply": "2024-04-25T14:14:18.956580Z",
     "shell.execute_reply.started": "2024-04-25T14:14:18.946186Z"
    }
   },
   "outputs": [
    {
     "data": {
      "text/plain": [
       "array([  100.        ,   316.22776602,  1000.        ,  3162.27766017,\n",
       "       10000.        ])"
      ]
     },
     "execution_count": 22,
     "metadata": {},
     "output_type": "execute_result"
    }
   ],
   "source": [
    "import numpy as np\n",
    "\n",
    "n_students_list = np.logspace(2, 4, 5)\n",
    "n_students_list"
   ]
  },
  {
   "cell_type": "markdown",
   "id": "0b77c91f-b388-47f2-a771-6064f5c5ebbc",
   "metadata": {
    "execution": {
     "iopub.execute_input": "2024-04-25T13:45:05.330399Z",
     "iopub.status.busy": "2024-04-25T13:45:05.329477Z",
     "iopub.status.idle": "2024-04-25T13:45:05.337643Z",
     "shell.execute_reply": "2024-04-25T13:45:05.336855Z",
     "shell.execute_reply.started": "2024-04-25T13:45:05.330344Z"
    }
   },
   "source": [
    "### educated_guess "
   ]
  },
  {
   "cell_type": "code",
   "execution_count": 31,
   "id": "d6c0f6fa-77f1-4b9e-a101-2ea2bf781b66",
   "metadata": {
    "execution": {
     "iopub.execute_input": "2024-04-25T14:18:01.663529Z",
     "iopub.status.busy": "2024-04-25T14:18:01.663116Z",
     "iopub.status.idle": "2024-04-25T14:18:01.670845Z",
     "shell.execute_reply": "2024-04-25T14:18:01.669791Z",
     "shell.execute_reply.started": "2024-04-25T14:18:01.663502Z"
    }
   },
   "outputs": [
    {
     "name": "stdout",
     "output_type": "stream",
     "text": [
      "(A, B, C) = (2, 0, 1)\n",
      "Minimum total cost: 1050€\n",
      "(A, B, C) = (1, 0, 5)\n",
      "Minimum total cost: 2550€\n",
      "(A, B, C) = (1, 0, 17)\n",
      "Minimum total cost: 7950€\n",
      "(A, B, C) = (1, 0, 55)\n",
      "Minimum total cost: 25050€\n",
      "(A, B, C) = (1, 0, 175)\n",
      "Minimum total cost: 79050€\n"
     ]
    }
   ],
   "source": [
    "opt_eg_list = []\n",
    "\n",
    "for n_students in n_students_list:\n",
    "    bus_allocator = BusAllocation(\n",
    "        (seat_a, seat_b, seat_c), \n",
    "        (cost_a, cost_b, cost_c), \n",
    "        int(n_students))\n",
    "    opt_eg = bus_allocator.educated_guess()\n",
    "    opt_eg_list.append(opt_eg)"
   ]
  },
  {
   "cell_type": "markdown",
   "id": "a79e2bc4-0c9c-4564-a27a-c42346ad9671",
   "metadata": {
    "execution": {
     "iopub.execute_input": "2024-04-25T13:45:05.330399Z",
     "iopub.status.busy": "2024-04-25T13:45:05.329477Z",
     "iopub.status.idle": "2024-04-25T13:45:05.337643Z",
     "shell.execute_reply": "2024-04-25T13:45:05.336855Z",
     "shell.execute_reply.started": "2024-04-25T13:45:05.330344Z"
    }
   },
   "source": [
    "### linear_programming "
   ]
  },
  {
   "cell_type": "code",
   "execution_count": 32,
   "id": "7a678791-83a1-444e-a1c2-cbed0b8e4bbd",
   "metadata": {
    "execution": {
     "iopub.execute_input": "2024-04-25T14:18:22.459887Z",
     "iopub.status.busy": "2024-04-25T14:18:22.459161Z",
     "iopub.status.idle": "2024-04-25T14:18:22.511161Z",
     "shell.execute_reply": "2024-04-25T14:18:22.510345Z",
     "shell.execute_reply.started": "2024-04-25T14:18:22.459848Z"
    }
   },
   "outputs": [
    {
     "name": "stdout",
     "output_type": "stream",
     "text": [
      "(A, B, C) = (0, 1, 1)\n",
      "Minimum total cost: 850.0€\n",
      "(A, B, C) = (1, 0, 5)\n",
      "Minimum total cost: 2550.0€\n",
      "(A, B, C) = (1, 0, 17)\n",
      "Minimum total cost: 7950.0€\n",
      "(A, B, C) = (1, 1, 54)\n",
      "Minimum total cost: 25000.0€\n",
      "(A, B, C) = (1, 1, 174)\n",
      "Minimum total cost: 79000.0€\n"
     ]
    }
   ],
   "source": [
    "opt_lp_list = []\n",
    "\n",
    "for n_students in n_students_list:\n",
    "    bus_allocator = BusAllocation(\n",
    "        (seat_a, seat_b, seat_c), \n",
    "        (cost_a, cost_b, cost_c), \n",
    "        int(n_students))\n",
    "    opt_lp = bus_allocator.linear_programming()\n",
    "    opt_lp_list.append(opt_lp)"
   ]
  },
  {
   "cell_type": "markdown",
   "id": "72292010-6961-4eea-8cf6-0d84e34c91b3",
   "metadata": {},
   "source": [
    "### iterative_solution"
   ]
  },
  {
   "cell_type": "code",
   "execution_count": 33,
   "id": "b1492632-804c-49a7-8e71-44f3954a489a",
   "metadata": {
    "execution": {
     "iopub.execute_input": "2024-04-25T14:18:41.843994Z",
     "iopub.status.busy": "2024-04-25T14:18:41.843413Z",
     "iopub.status.idle": "2024-04-25T14:19:30.403520Z",
     "shell.execute_reply": "2024-04-25T14:19:30.402468Z",
     "shell.execute_reply.started": "2024-04-25T14:18:41.843942Z"
    }
   },
   "outputs": [
    {
     "name": "stdout",
     "output_type": "stream",
     "text": [
      "(A, B, C) = (0, 1, 1)\n",
      "Minimum total cost: 850€\n",
      "(A, B, C) = (0, 3, 3)\n",
      "Minimum total cost: 2550€\n",
      "(A, B, C) = (0, 3, 15)\n",
      "Minimum total cost: 7950€\n",
      "(A, B, C) = (1, 1, 54)\n",
      "Minimum total cost: 25000€\n",
      "(A, B, C) = (0, 4, 172)\n",
      "Minimum total cost: 79000€\n"
     ]
    }
   ],
   "source": [
    "opt_is_list = []\n",
    "\n",
    "for n_students in n_students_list:\n",
    "    bus_allocator = BusAllocation(\n",
    "        (seat_a, seat_b, seat_c), \n",
    "        (cost_a, cost_b, cost_c), \n",
    "        int(n_students))\n",
    "    opt_is = bus_allocator.iterative_solution()\n",
    "    opt_is_list.append(opt_is)"
   ]
  },
  {
   "cell_type": "markdown",
   "id": "773747fb-95e6-488b-ad26-436ba6078705",
   "metadata": {},
   "source": [
    "### Case 2 - Comparing the results\n",
    "\n",
    "Below, we compare the evolution of `minimum_total_cost`, `elapsed_time` and memory `peak` with the size of the student. Note that the results for time and peak are dependent on the machine that is used.\n",
    "\n",
    "- `linear_programming` is the algorithm that finds the best solution in the smaller time\n",
    "- `educated_guess` often cannot find the optimal solution, despite being the method requiring less time and memory\n",
    "- `iterative_solution` require a time exponentially large with respect to the other two methods.\n"
   ]
  },
  {
   "cell_type": "code",
   "execution_count": 38,
   "id": "cad03dec-2285-4289-882b-4f633a2f8f75",
   "metadata": {
    "execution": {
     "iopub.execute_input": "2024-04-25T14:23:39.544987Z",
     "iopub.status.busy": "2024-04-25T14:23:39.543363Z",
     "iopub.status.idle": "2024-04-25T14:23:39.568899Z",
     "shell.execute_reply": "2024-04-25T14:23:39.567127Z",
     "shell.execute_reply.started": "2024-04-25T14:23:39.544886Z"
    }
   },
   "outputs": [],
   "source": [
    "opt_eg_costs = [ d['minimum_total_cost'] for d in opt_eg_list ]\n",
    "opt_eg_memory = [ d['peak'] for d in opt_eg_list ]\n",
    "opt_eg_times = [ d['elapsed_time'] for d in opt_eg_list ]\n",
    "\n",
    "opt_lp_costs = [ d['minimum_total_cost'] for d in opt_lp_list ]\n",
    "opt_lp_memory = [ d['peak'] for d in opt_lp_list ]\n",
    "opt_lp_times = [ d['elapsed_time'] for d in opt_lp_list ]\n",
    "\n",
    "opt_is_costs = [ d['minimum_total_cost'] for d in opt_is_list ]\n",
    "opt_is_memory = [ d['peak'] for d in opt_is_list ]\n",
    "opt_is_times = [ d['elapsed_time'] for d in opt_is_list ]\n"
   ]
  },
  {
   "cell_type": "code",
   "execution_count": 51,
   "id": "d4946710-e344-407a-ab56-ea9f13828853",
   "metadata": {
    "execution": {
     "iopub.execute_input": "2024-04-25T14:29:55.254868Z",
     "iopub.status.busy": "2024-04-25T14:29:55.254399Z",
     "iopub.status.idle": "2024-04-25T14:29:56.877201Z",
     "shell.execute_reply": "2024-04-25T14:29:56.876484Z",
     "shell.execute_reply.started": "2024-04-25T14:29:55.254834Z"
    }
   },
   "outputs": [
    {
     "data": {
      "image/png": "[encoded data removed]",
      "text/plain": [
       "<Figure size 600x600 with 3 Axes>"
      ]
     },
     "metadata": {},
     "output_type": "display_data"
    }
   ],
   "source": [
    "fig, ax = plt.subplots(3,1, sharex=True, figsize=(6,6))\n",
    "\n",
    "ax[0].semilogx(n_students_list, [ a-b for (a,b) in zip(opt_eg_costs, opt_is_costs)], '-*r')\n",
    "ax[0].semilogx(n_students_list, [ a-b for (a,b) in zip(opt_lp_costs, opt_is_costs)], '-*b')\n",
    "\n",
    "ax[1].loglog(n_students_list, opt_eg_times, '-*r')\n",
    "ax[1].loglog(n_students_list, opt_lp_times, '-*b')\n",
    "ax[1].loglog(n_students_list, opt_is_times, '-*g')\n",
    "\n",
    "ax[2].loglog(n_students_list, opt_eg_memory, '-*r')\n",
    "ax[2].loglog(n_students_list, opt_lp_memory, '-*b')\n",
    "ax[2].loglog(n_students_list, opt_is_memory, '-*g')\n",
    "\n",
    "ax[0].set_ylabel('Extra Cost (k€)')\n",
    "ax[1].set_ylabel('Time (ms)')\n",
    "ax[2].set_ylabel('Memory (kB)')\n",
    "ax[2].set_xlabel('Number of students')\n",
    "\n",
    "plt.tight_layout()"
   ]
  },
  {
   "cell_type": "markdown",
   "id": "f1ad540e-fbbc-41cc-83f5-66876d7890e9",
   "metadata": {},
   "source": [
    "# Conclusion\n",
    "\n",
    "`linear_programming` is the algorithm that finds the best solution in the smaller time"
   ]
  },
  {
   "cell_type": "code",
   "execution_count": null,
   "id": "34dbc9ce-83a4-4252-95e2-24bfedc02546",
   "metadata": {},
   "outputs": [],
   "source": []
  }
 ],
 "metadata": {
  "kernelspec": {
   "display_name": "Python 3 (ipykernel)",
   "language": "python",
   "name": "python3"
  },
  "language_info": {
   "codemirror_mode": {
    "name": "ipython",
    "version": 3
   },
   "file_extension": ".py",
   "mimetype": "text/x-python",
   "name": "python",
   "nbconvert_exporter": "python",
   "pygments_lexer": "ipython3",
   "version": "3.10.12"
  }
 },
 "nbformat": 4,
 "nbformat_minor": 5
}
