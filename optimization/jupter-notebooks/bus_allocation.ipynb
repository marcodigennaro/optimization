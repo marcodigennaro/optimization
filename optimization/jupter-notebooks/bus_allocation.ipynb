{
 "cells": [
  {
   "cell_type": "markdown",
   "id": "f5aaee3e-5a01-4cf2-85b3-2fc0a0b8574c",
   "metadata": {},
   "source": [
    "# School Bus Optimization Problem\n",
    "\n",
    "### Problem Description\n",
    "\n",
    "A school needs to transport N students to the zoo using buses. There are three types of buses available for capacity and cost:\n",
    "\n",
    "- A, 35 seats, 300€ each\n",
    "- B, 49 students, 400€ each\n",
    "- C, 57 students, 450€ each\n",
    "\n",
    "The objective is to minimize the total cost of buses while transporting all students.\n",
    "\n",
    "### Assumptions\n",
    "\n",
    "- All students must be transported\n",
    "- Buses can operate below capacity but at the same cost, regardless of the number of the occupied places\n",
    "- Occupied seats are an integer number\n",
    "\n",
    "### Approach\n",
    "\n",
    "We will compare different scenarios to find the cost-effective solution:\n",
    "\n",
    "- Trivial solutions: using only buses A, B, C\n",
    "- Educated guess starting from a practical hypothesis\n",
    "- Combining both types of buses for an optimal solution (linear programming)\n",
    "- Verifying with an iterative solution\n",
    "\n",
    "### Performance\n",
    "\n",
    "Each option is implemented in the `BusAllocation` class of th `optimization.core.bus_allocation` module. The `time_measure`, `performance_measure` and `print_output` functions are used as decorators to helps estimating time and memory usage, to be taken into consideration for a scalable solution.\n",
    "\n",
    "### Case 1\n",
    "\n",
    "An easy scenario is taken to demonstrate the procedure\n",
    "\n",
    "### Case 2\n",
    "\n",
    "A more sophisticated scenario is shown to show how for large problems, the best solution is linear programming"
   ]
  },
  {
   "cell_type": "code",
   "execution_count": 1,
   "id": "3eeedf02-c4cc-44ce-9cca-6c07af1ec765",
   "metadata": {
    "execution": {
     "iopub.execute_input": "2024-04-25T12:24:21.270373Z",
     "iopub.status.busy": "2024-04-25T12:24:21.269289Z",
     "iopub.status.idle": "2024-04-25T12:24:21.324918Z",
     "shell.execute_reply": "2024-04-25T12:24:21.324064Z",
     "shell.execute_reply.started": "2024-04-25T12:24:21.270328Z"
    }
   },
   "outputs": [],
   "source": [
    "from optimization.core.bus_allocation import BusAllocation\n",
    "\n",
    "# Define constants\n",
    "n_students = 1234\n",
    "\n",
    "seat_a = 35\n",
    "cost_a = 300\n",
    "\n",
    "seat_b = 49\n",
    "cost_b = 400\n",
    "\n",
    "seat_c = 57\n",
    "cost_c = 450\n",
    "\n",
    "bus_allocator = BusAllocation((seat_a, seat_b, seat_c), (cost_a, cost_b, cost_c), n_students)"
   ]
  },
  {
   "cell_type": "markdown",
   "id": "42d5005c-a12e-41c0-91ea-20ccf45b32eb",
   "metadata": {},
   "source": [
    "### Options 1-3: Trivial Solutions\n",
    "\n",
    "If we use only buses A, B or C, these are the results.\n",
    "\n",
    "Number of buses A required: {{n_students}}$\\frac{{n_students}}{seat_a} = 11.2$. \n",
    "We need 12 30-seaters to accomodate all students."
   ]
  },
  {
   "cell_type": "code",
   "execution_count": 2,
   "id": "99bdd01e-3cbb-4fa6-bdb8-24da09ba967c",
   "metadata": {
    "execution": {
     "iopub.execute_input": "2024-04-25T12:24:21.326108Z",
     "iopub.status.busy": "2024-04-25T12:24:21.325761Z",
     "iopub.status.idle": "2024-04-25T12:24:21.336630Z",
     "shell.execute_reply": "2024-04-25T12:24:21.335900Z",
     "shell.execute_reply.started": "2024-04-25T12:24:21.326072Z"
    }
   },
   "outputs": [
    {
     "name": "stdout",
     "output_type": "stream",
     "text": [
      "(A, B, C) = (36, 0, 0)\n",
      "Minimum total cost: 10800€\n",
      "(A, B, C) = (0, 26, 0)\n",
      "Minimum total cost: 10400€\n",
      "(A, B, C) = (0, 0, 22)\n",
      "Minimum total cost: 9900€\n"
     ]
    }
   ],
   "source": [
    "option_1 = bus_allocator.trivial_solution('A')\n",
    "option_2 = bus_allocator.trivial_solution('B')\n",
    "option_3 = bus_allocator.trivial_solution('C')"
   ]
  },
  {
   "cell_type": "markdown",
   "id": "b1e0cc62-348f-41c2-97fa-cb81c2143580",
   "metadata": {},
   "source": [
    "### Option 4: Educated Guess\n",
    "\n",
    "We can use aset up a simple optimization algorithm using an iterative approach to determine the fewest buses required for the lowest cost. \n",
    "Intuitively, the price of one seat is lower in the 40-seat buses (i.e. 500€ for 40-seats, or 12.5€ per seats) than in the 30-seat buses \n",
    "(i.e. 400€ for 30seats, or 13.3€ per seats). \n",
    "Thus we will try to fill as many 40-seat buses first and the remaining 30-seaters with the remaining students.\n",
    "\n",
    "- Number of 30-seat buses: 1\n",
    "- Number of 40-seat buses: 8\n",
    "- Total cost: 4400€"
   ]
  },
  {
   "cell_type": "code",
   "execution_count": 3,
   "id": "069bb1b5-aa8f-4fbb-b1f6-5015f981e723",
   "metadata": {
    "execution": {
     "iopub.execute_input": "2024-04-25T12:24:21.341213Z",
     "iopub.status.busy": "2024-04-25T12:24:21.340718Z",
     "iopub.status.idle": "2024-04-25T12:24:21.346636Z",
     "shell.execute_reply": "2024-04-25T12:24:21.345412Z",
     "shell.execute_reply.started": "2024-04-25T12:24:21.341173Z"
    }
   },
   "outputs": [
    {
     "name": "stdout",
     "output_type": "stream",
     "text": [
      "(A, B, C) = (2, 0, 21)\n",
      "Minimum total cost: 10050€\n"
     ]
    }
   ],
   "source": [
    "option_4 = bus_allocator.educated_guess()"
   ]
  },
  {
   "cell_type": "code",
   "execution_count": 4,
   "id": "e4c3a725-5b2a-4b87-83e1-e76551a30300",
   "metadata": {
    "execution": {
     "iopub.execute_input": "2024-04-25T12:24:21.348437Z",
     "iopub.status.busy": "2024-04-25T12:24:21.348170Z",
     "iopub.status.idle": "2024-04-25T12:24:21.387851Z",
     "shell.execute_reply": "2024-04-25T12:24:21.386804Z",
     "shell.execute_reply.started": "2024-04-25T12:24:21.348412Z"
    }
   },
   "outputs": [
    {
     "name": "stdout",
     "output_type": "stream",
     "text": [
      "(A, B, C) = (0, 2, 20)\n",
      "Minimum total cost: 9800.0€\n"
     ]
    }
   ],
   "source": [
    "option_5 = bus_allocator.linear_programming()"
   ]
  },
  {
   "cell_type": "code",
   "execution_count": 8,
   "id": "3924651e-c619-4409-9c6a-5380425c07e6",
   "metadata": {
    "execution": {
     "iopub.execute_input": "2024-04-25T12:25:33.358014Z",
     "iopub.status.busy": "2024-04-25T12:25:33.357477Z",
     "iopub.status.idle": "2024-04-25T12:25:33.477495Z",
     "shell.execute_reply": "2024-04-25T12:25:33.476755Z",
     "shell.execute_reply.started": "2024-04-25T12:25:33.357984Z"
    }
   },
   "outputs": [
    {
     "name": "stdout",
     "output_type": "stream",
     "text": [
      "(A, B, C) = (0, 2, 20)\n",
      "Minimum total cost: 9800€\n"
     ]
    }
   ],
   "source": [
    "option_6 = bus_allocator.iterative_solution()\n",
    "true_lowest_cost = option_6['minimum_total_cost']"
   ]
  },
  {
   "cell_type": "code",
   "execution_count": 21,
   "id": "2c93c325-5171-4043-a642-38fd58ae5671",
   "metadata": {
    "execution": {
     "iopub.execute_input": "2024-04-25T12:31:18.909602Z",
     "iopub.status.busy": "2024-04-25T12:31:18.909090Z",
     "iopub.status.idle": "2024-04-25T12:31:19.523711Z",
     "shell.execute_reply": "2024-04-25T12:31:19.522634Z",
     "shell.execute_reply.started": "2024-04-25T12:31:18.909563Z"
    }
   },
   "outputs": [
    {
     "data": {
      "image/png": "[encoded data removed]",
      "text/plain": [
       "<Figure size 600x600 with 3 Axes>"
      ]
     },
     "metadata": {},
     "output_type": "display_data"
    }
   ],
   "source": [
    "import matplotlib.pyplot as plt\n",
    "\n",
    "all_options = [option_1, option_2, option_3, option_4, option_5, option_6] \n",
    "fig, ax = plt.subplots(3,1, sharex=True, figsize=(6,6))\n",
    "\n",
    "labels = [f'opt_{i}' for i in range(1,7)]\n",
    "ax[0].bar(labels, [ (opt['minimum_total_cost']-true_lowest_cost) for opt in all_options ])\n",
    "ax[1].bar(labels, [ opt['elapsed_time'] for opt in all_options ])\n",
    "ax[2].bar(labels, [ opt['current']/1000 for opt in all_options ], label = 'current')\n",
    "ax[2].bar(labels, [ opt['peak']/1000 for opt in all_options ], label='peak')\n",
    "ax[2].legend()\n",
    "\n",
    "ax[0].set_ylabel('Extra Cost (k€)')\n",
    "ax[1].set_ylabel('Time (s)')\n",
    "ax[2].set_ylabel('Memory (kB)')\n",
    "\n",
    "plt.tight_layout()"
   ]
  },
  {
   "cell_type": "code",
   "execution_count": 28,
   "id": "7e15a8fd-f953-49af-a5d3-e946667580b8",
   "metadata": {
    "execution": {
     "iopub.execute_input": "2024-04-25T12:41:11.529521Z",
     "iopub.status.busy": "2024-04-25T12:41:11.528398Z",
     "iopub.status.idle": "2024-04-25T12:41:11.538328Z",
     "shell.execute_reply": "2024-04-25T12:41:11.536780Z",
     "shell.execute_reply.started": "2024-04-25T12:41:11.529463Z"
    }
   },
   "outputs": [],
   "source": [
    "# Define constants\n",
    "n_students = int(1e4)\n",
    "\n",
    "bus_allocator = BusAllocation((seat_a, seat_b, seat_c), (cost_a, cost_b, cost_c), n_students)"
   ]
  },
  {
   "cell_type": "code",
   "execution_count": 29,
   "id": "de6514cc-37c5-400f-89c3-d101f4b368c3",
   "metadata": {
    "execution": {
     "iopub.execute_input": "2024-04-25T12:41:11.931004Z",
     "iopub.status.busy": "2024-04-25T12:41:11.930280Z",
     "iopub.status.idle": "2024-04-25T12:41:58.384162Z",
     "shell.execute_reply": "2024-04-25T12:41:58.382937Z",
     "shell.execute_reply.started": "2024-04-25T12:41:11.930945Z"
    }
   },
   "outputs": [
    {
     "name": "stdout",
     "output_type": "stream",
     "text": [
      "(A, B, C) = (1, 0, 175)\n",
      "Minimum total cost: 79050€\n",
      "(A, B, C) = (1, 1, 174)\n",
      "Minimum total cost: 79000.0€\n",
      "(A, B, C) = (0, 4, 172)\n",
      "Minimum total cost: 79000€\n"
     ]
    },
    {
     "data": {
      "image/png": "[encoded data removed]",
      "text/plain": [
       "<Figure size 600x600 with 3 Axes>"
      ]
     },
     "metadata": {},
     "output_type": "display_data"
    }
   ],
   "source": [
    "option_4 = bus_allocator.educated_guess()\n",
    "option_5 = bus_allocator.linear_programming()\n",
    "option_6 = bus_allocator.iterative_solution()\n",
    "true_lowest_cost = option_6['minimum_total_cost']\n",
    "\n",
    "all_options = [option_4, option_5, option_6] \n",
    "fig, ax = plt.subplots(3,1, sharex=True, figsize=(6,6))\n",
    "\n",
    "labels = [f'opt_{i}' for i in range(4,7)]\n",
    "ax[0].bar(labels, [ (opt['minimum_total_cost']-true_lowest_cost) for opt in all_options ])\n",
    "ax[1].bar(labels, [ opt['elapsed_time'] for opt in all_options ])\n",
    "ax[2].bar(labels, [ opt['current']/1000 for opt in all_options ], label = 'current')\n",
    "ax[2].bar(labels, [ opt['peak']/1000 for opt in all_options ], label='peak')\n",
    "ax[2].legend()\n",
    "\n",
    "ax[0].set_ylabel('Extra Cost (k€)')\n",
    "ax[1].set_ylabel('Time (s)')\n",
    "ax[2].set_ylabel('Memory (kB)')\n",
    "\n",
    "plt.tight_layout()"
   ]
  },
  {
   "cell_type": "code",
   "execution_count": null,
   "id": "d4946710-e344-407a-ab56-ea9f13828853",
   "metadata": {},
   "outputs": [],
   "source": []
  }
 ],
 "metadata": {
  "kernelspec": {
   "display_name": "Python 3 (ipykernel)",
   "language": "python",
   "name": "python3"
  },
  "language_info": {
   "codemirror_mode": {
    "name": "ipython",
    "version": 3
   },
   "file_extension": ".py",
   "mimetype": "text/x-python",
   "name": "python",
   "nbconvert_exporter": "python",
   "pygments_lexer": "ipython3",
   "version": "3.10.12"
  }
 },
 "nbformat": 4,
 "nbformat_minor": 5
}
