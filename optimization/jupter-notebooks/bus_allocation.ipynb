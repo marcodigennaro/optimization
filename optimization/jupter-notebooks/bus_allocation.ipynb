{
 "cells": [
  {
   "cell_type": "markdown",
   "id": "f5aaee3e-5a01-4cf2-85b3-2fc0a0b8574c",
   "metadata": {},
   "source": [
    "# School Bus Optimization Problem\n",
    "\n",
    "### Problem Description\n",
    "\n",
    "A school needs to transport N students to the zoo using buses. There are three types of buses available:\n",
    "\n",
    "- Buses A, with a capacity of 35 students, costing 300€ each\n",
    "- Buses B, with a capacity of 49 students, costing 400€ each\n",
    "- Buses C, with a capacity of 57 students, costing 450€ each\n",
    "\n",
    "The objective is to minimize the total cost of buses while transporting all students.\n",
    "\n",
    "### Assumptions\n",
    "\n",
    "- All students must be transported\n",
    "- Buses can operate below capacity but at the same cost, regardless of the number of the occupied places\n",
    "- Occupied seats are an integer number\n",
    "\n",
    "### Approach\n",
    "\n",
    "We will compare different scenarios to find the cost-effective solution:\n",
    "\n",
    "- Trivial solutions: using only buses A, B, C.\n",
    "- Educated guess starting from a practical hypothesis\n",
    "- Combining both types of buses for an optimal solution\n",
    "- Verifying with an iterative solution\n",
    "\n",
    "### Performance\n",
    "\n",
    "Each option is implemented in the `BusAllocation` class of th `optimization.core.bus_allocation` module. The `@performance_measure` decorator helps estimating time and memory usage, to be taken into consideration for a scalable solution."
   ]
  },
  {
   "cell_type": "code",
   "execution_count": 1,
   "id": "3eeedf02-c4cc-44ce-9cca-6c07af1ec765",
   "metadata": {
    "execution": {
     "iopub.execute_input": "2024-04-25T12:02:33.221369Z",
     "iopub.status.busy": "2024-04-25T12:02:33.220807Z",
     "iopub.status.idle": "2024-04-25T12:02:33.288165Z",
     "shell.execute_reply": "2024-04-25T12:02:33.287395Z",
     "shell.execute_reply.started": "2024-04-25T12:02:33.221339Z"
    }
   },
   "outputs": [],
   "source": [
    "from optimization.core.bus_allocation import BusAllocation\n",
    "\n",
    "# Define constants\n",
    "n_students = 6500\n",
    "\n",
    "seat_a = 35\n",
    "cost_a = 300\n",
    "\n",
    "seat_b = 49\n",
    "cost_b = 400\n",
    "\n",
    "seat_c = 57\n",
    "cost_c = 450\n",
    "\n",
    "bus_allocator = BusAllocation((seat_a, seat_b, seat_c), (cost_a, cost_b, cost_c), n_students)"
   ]
  },
  {
   "cell_type": "markdown",
   "id": "42d5005c-a12e-41c0-91ea-20ccf45b32eb",
   "metadata": {},
   "source": [
    "### Options 1-3: Trivial Solutions\n",
    "\n",
    "If we use only buses A, B or C, these are the results.\n",
    "\n",
    "Number of buses A required: {{n_students}}$\\frac{{n_students}}{seat_a} = 11.2$. \n",
    "We need 12 30-seaters to accomodate all students."
   ]
  },
  {
   "cell_type": "code",
   "execution_count": 2,
   "id": "99bdd01e-3cbb-4fa6-bdb8-24da09ba967c",
   "metadata": {
    "execution": {
     "iopub.execute_input": "2024-04-25T12:02:33.289554Z",
     "iopub.status.busy": "2024-04-25T12:02:33.289202Z",
     "iopub.status.idle": "2024-04-25T12:02:33.299512Z",
     "shell.execute_reply": "2024-04-25T12:02:33.297475Z",
     "shell.execute_reply.started": "2024-04-25T12:02:33.289517Z"
    }
   },
   "outputs": [
    {
     "name": "stdout",
     "output_type": "stream",
     "text": [
      "inside wrapper\n",
      "wrapping:  wrapper\n",
      "inside wrapper\n",
      "wrapping:  wrapper\n",
      "inside wrapper\n",
      "wrapping:  trivial_solution\n",
      "{'A': 186, 'B': 0, 'C': 0, 'minimum_total_cost': 55800}\n",
      "We need 186 buses A\n",
      "We need 0 buses B\n",
      "We need 0 buses C\n",
      "Minimum total cost: 55800€\n",
      "inside wrapper\n",
      "wrapping:  wrapper\n",
      "inside wrapper\n",
      "wrapping:  wrapper\n",
      "inside wrapper\n",
      "wrapping:  trivial_solution\n",
      "{'A': 0, 'B': 133, 'C': 0, 'minimum_total_cost': 53200}\n",
      "We need 0 buses A\n",
      "We need 133 buses B\n",
      "We need 0 buses C\n",
      "Minimum total cost: 53200€\n",
      "inside wrapper\n",
      "wrapping:  wrapper\n",
      "inside wrapper\n",
      "wrapping:  wrapper\n",
      "inside wrapper\n",
      "wrapping:  trivial_solution\n",
      "{'A': 0, 'B': 0, 'C': 115, 'minimum_total_cost': 51750}\n",
      "We need 0 buses A\n",
      "We need 0 buses B\n",
      "We need 115 buses C\n",
      "Minimum total cost: 51750€\n"
     ]
    }
   ],
   "source": [
    "option_1 = bus_allocator.trivial_solution('A')\n",
    "option_2 = bus_allocator.trivial_solution('B')\n",
    "option_3 = bus_allocator.trivial_solution('C')"
   ]
  },
  {
   "cell_type": "markdown",
   "id": "b1e0cc62-348f-41c2-97fa-cb81c2143580",
   "metadata": {},
   "source": [
    "### Option 4: Educated Guess\n",
    "\n",
    "We can use aset up a simple optimization algorithm using an iterative approach to determine the fewest buses required for the lowest cost. \n",
    "Intuitively, the price of one seat is lower in the 40-seat buses (i.e. 500€ for 40-seats, or 12.5€ per seats) than in the 30-seat buses \n",
    "(i.e. 400€ for 30seats, or 13.3€ per seats). \n",
    "Thus we will try to fill as many 40-seat buses first and the remaining 30-seaters with the remaining students.\n",
    "\n",
    "- Number of 30-seat buses: 1\n",
    "- Number of 40-seat buses: 8\n",
    "- Total cost: 4400€"
   ]
  },
  {
   "cell_type": "code",
   "execution_count": 3,
   "id": "069bb1b5-aa8f-4fbb-b1f6-5015f981e723",
   "metadata": {
    "execution": {
     "iopub.execute_input": "2024-04-25T12:02:33.301930Z",
     "iopub.status.busy": "2024-04-25T12:02:33.301599Z",
     "iopub.status.idle": "2024-04-25T12:02:33.306401Z",
     "shell.execute_reply": "2024-04-25T12:02:33.305574Z",
     "shell.execute_reply.started": "2024-04-25T12:02:33.301908Z"
    }
   },
   "outputs": [
    {
     "name": "stdout",
     "output_type": "stream",
     "text": [
      "inside wrapper\n",
      "wrapping:  wrapper\n",
      "inside wrapper\n",
      "wrapping:  wrapper\n",
      "inside wrapper\n",
      "wrapping:  educated_guess\n",
      "{'A': 1, 'B': 0, 'C': 114, 'minimum_total_cost': 51600}\n",
      "We need 1 buses A\n",
      "We need 0 buses B\n",
      "We need 114 buses C\n",
      "Minimum total cost: 51600€\n"
     ]
    }
   ],
   "source": [
    "option_4 = bus_allocator.educated_guess()"
   ]
  },
  {
   "cell_type": "code",
   "execution_count": 4,
   "id": "e4c3a725-5b2a-4b87-83e1-e76551a30300",
   "metadata": {
    "execution": {
     "iopub.execute_input": "2024-04-25T12:02:33.309325Z",
     "iopub.status.busy": "2024-04-25T12:02:33.307908Z",
     "iopub.status.idle": "2024-04-25T12:02:33.332710Z",
     "shell.execute_reply": "2024-04-25T12:02:33.331852Z",
     "shell.execute_reply.started": "2024-04-25T12:02:33.309272Z"
    }
   },
   "outputs": [
    {
     "name": "stdout",
     "output_type": "stream",
     "text": [
      "inside wrapper\n",
      "wrapping:  wrapper\n",
      "inside wrapper\n",
      "wrapping:  wrapper\n",
      "inside wrapper\n",
      "wrapping:  linear_programming\n",
      "{'A': 2, 'B': 1, 'C': 112, 'minimum_total_cost': 51400.0}\n",
      "We need 2 buses A\n",
      "We need 1 buses B\n",
      "We need 112 buses C\n",
      "Minimum total cost: 51400.0€\n"
     ]
    }
   ],
   "source": [
    "option_5 = bus_allocator.linear_programming()"
   ]
  },
  {
   "cell_type": "code",
   "execution_count": 5,
   "id": "3924651e-c619-4409-9c6a-5380425c07e6",
   "metadata": {
    "execution": {
     "iopub.execute_input": "2024-04-25T12:02:33.333988Z",
     "iopub.status.busy": "2024-04-25T12:02:33.333672Z",
     "iopub.status.idle": "2024-04-25T12:02:45.779379Z",
     "shell.execute_reply": "2024-04-25T12:02:45.778620Z",
     "shell.execute_reply.started": "2024-04-25T12:02:33.333962Z"
    }
   },
   "outputs": [
    {
     "name": "stdout",
     "output_type": "stream",
     "text": [
      "inside wrapper\n",
      "wrapping:  wrapper\n",
      "inside wrapper\n",
      "wrapping:  wrapper\n",
      "inside wrapper\n",
      "wrapping:  iterative_solution\n",
      "{'A': 1, 'B': 4, 'C': 110, 'minimum_total_cost': 51400}\n",
      "We need 1 buses A\n",
      "We need 4 buses B\n",
      "We need 110 buses C\n",
      "Minimum total cost: 51400€\n"
     ]
    }
   ],
   "source": [
    "option_6 = bus_allocator.iterative_solution()"
   ]
  },
  {
   "cell_type": "code",
   "execution_count": 6,
   "id": "10088028-ed14-4b5f-8011-34eabb904fcb",
   "metadata": {
    "execution": {
     "iopub.execute_input": "2024-04-25T12:02:45.781932Z",
     "iopub.status.busy": "2024-04-25T12:02:45.781494Z",
     "iopub.status.idle": "2024-04-25T12:02:45.790488Z",
     "shell.execute_reply": "2024-04-25T12:02:45.789557Z",
     "shell.execute_reply.started": "2024-04-25T12:02:45.781894Z"
    }
   },
   "outputs": [
    {
     "data": {
      "text/plain": [
       "12.442012310028076"
      ]
     },
     "execution_count": 6,
     "metadata": {},
     "output_type": "execute_result"
    }
   ],
   "source": [
    "option_6"
   ]
  },
  {
   "cell_type": "code",
   "execution_count": 7,
   "id": "2c93c325-5171-4043-a642-38fd58ae5671",
   "metadata": {
    "execution": {
     "iopub.execute_input": "2024-04-25T12:02:45.792935Z",
     "iopub.status.busy": "2024-04-25T12:02:45.792199Z",
     "iopub.status.idle": "2024-04-25T12:02:46.998360Z",
     "shell.execute_reply": "2024-04-25T12:02:46.996040Z",
     "shell.execute_reply.started": "2024-04-25T12:02:45.792896Z"
    }
   },
   "outputs": [
    {
     "ename": "TypeError",
     "evalue": "tuple indices must be integers or slices, not str",
     "output_type": "error",
     "traceback": [
      "\u001b[0;31m---------------------------------------------------------------------------\u001b[0m",
      "\u001b[0;31mTypeError\u001b[0m                                 Traceback (most recent call last)",
      "Cell \u001b[0;32mIn[7], line 5\u001b[0m\n\u001b[1;32m      1\u001b[0m \u001b[38;5;28;01mimport\u001b[39;00m \u001b[38;5;21;01mmatplotlib\u001b[39;00m\u001b[38;5;21;01m.\u001b[39;00m\u001b[38;5;21;01mpyplot\u001b[39;00m \u001b[38;5;28;01mas\u001b[39;00m \u001b[38;5;21;01mplt\u001b[39;00m\n\u001b[1;32m      3\u001b[0m fig, ax \u001b[38;5;241m=\u001b[39m plt\u001b[38;5;241m.\u001b[39msubplots(\u001b[38;5;241m3\u001b[39m,\u001b[38;5;241m1\u001b[39m, sharex\u001b[38;5;241m=\u001b[39m\u001b[38;5;28;01mTrue\u001b[39;00m)\n\u001b[0;32m----> 5\u001b[0m ax[\u001b[38;5;241m0\u001b[39m]\u001b[38;5;241m.\u001b[39mplot([ opt[\u001b[38;5;124m'\u001b[39m\u001b[38;5;124mminimum_total_cost\u001b[39m\u001b[38;5;124m'\u001b[39m] \u001b[38;5;28;01mfor\u001b[39;00m opt \u001b[38;5;129;01min\u001b[39;00m \n\u001b[1;32m      6\u001b[0m             [result_1, result_2, result_3, result_4, result_5, result_6] ])\n\u001b[1;32m      7\u001b[0m ax[\u001b[38;5;241m1\u001b[39m]\u001b[38;5;241m.\u001b[39mplot([ opt[\u001b[38;5;124m'\u001b[39m\u001b[38;5;124mexecution_time\u001b[39m\u001b[38;5;124m'\u001b[39m] \u001b[38;5;28;01mfor\u001b[39;00m opt \u001b[38;5;129;01min\u001b[39;00m \n\u001b[1;32m      8\u001b[0m             [performance_1, performance_2, performance_3, performance_4, performance_5, performance_6] ])\n\u001b[1;32m      9\u001b[0m ax[\u001b[38;5;241m2\u001b[39m]\u001b[38;5;241m.\u001b[39mplot([ opt[\u001b[38;5;124m'\u001b[39m\u001b[38;5;124mmemory_usage\u001b[39m\u001b[38;5;124m'\u001b[39m] \u001b[38;5;28;01mfor\u001b[39;00m opt \u001b[38;5;129;01min\u001b[39;00m \n\u001b[1;32m     10\u001b[0m             [performance_1, performance_2, performance_3, performance_4, performance_5, performance_6] ])\n",
      "Cell \u001b[0;32mIn[7], line 5\u001b[0m, in \u001b[0;36m<listcomp>\u001b[0;34m(.0)\u001b[0m\n\u001b[1;32m      1\u001b[0m \u001b[38;5;28;01mimport\u001b[39;00m \u001b[38;5;21;01mmatplotlib\u001b[39;00m\u001b[38;5;21;01m.\u001b[39;00m\u001b[38;5;21;01mpyplot\u001b[39;00m \u001b[38;5;28;01mas\u001b[39;00m \u001b[38;5;21;01mplt\u001b[39;00m\n\u001b[1;32m      3\u001b[0m fig, ax \u001b[38;5;241m=\u001b[39m plt\u001b[38;5;241m.\u001b[39msubplots(\u001b[38;5;241m3\u001b[39m,\u001b[38;5;241m1\u001b[39m, sharex\u001b[38;5;241m=\u001b[39m\u001b[38;5;28;01mTrue\u001b[39;00m)\n\u001b[0;32m----> 5\u001b[0m ax[\u001b[38;5;241m0\u001b[39m]\u001b[38;5;241m.\u001b[39mplot([ \u001b[43mopt\u001b[49m\u001b[43m[\u001b[49m\u001b[38;5;124;43m'\u001b[39;49m\u001b[38;5;124;43mminimum_total_cost\u001b[39;49m\u001b[38;5;124;43m'\u001b[39;49m\u001b[43m]\u001b[49m \u001b[38;5;28;01mfor\u001b[39;00m opt \u001b[38;5;129;01min\u001b[39;00m \n\u001b[1;32m      6\u001b[0m             [result_1, result_2, result_3, result_4, result_5, result_6] ])\n\u001b[1;32m      7\u001b[0m ax[\u001b[38;5;241m1\u001b[39m]\u001b[38;5;241m.\u001b[39mplot([ opt[\u001b[38;5;124m'\u001b[39m\u001b[38;5;124mexecution_time\u001b[39m\u001b[38;5;124m'\u001b[39m] \u001b[38;5;28;01mfor\u001b[39;00m opt \u001b[38;5;129;01min\u001b[39;00m \n\u001b[1;32m      8\u001b[0m             [performance_1, performance_2, performance_3, performance_4, performance_5, performance_6] ])\n\u001b[1;32m      9\u001b[0m ax[\u001b[38;5;241m2\u001b[39m]\u001b[38;5;241m.\u001b[39mplot([ opt[\u001b[38;5;124m'\u001b[39m\u001b[38;5;124mmemory_usage\u001b[39m\u001b[38;5;124m'\u001b[39m] \u001b[38;5;28;01mfor\u001b[39;00m opt \u001b[38;5;129;01min\u001b[39;00m \n\u001b[1;32m     10\u001b[0m             [performance_1, performance_2, performance_3, performance_4, performance_5, performance_6] ])\n",
      "\u001b[0;31mTypeError\u001b[0m: tuple indices must be integers or slices, not str"
     ]
    },
    {
     "data": {
      "image/png": "[encoded data removed]",
      "text/plain": [
       "<Figure size 640x480 with 3 Axes>"
      ]
     },
     "metadata": {},
     "output_type": "display_data"
    }
   ],
   "source": [
    "import matplotlib.pyplot as plt\n",
    "\n",
    "fig, ax = plt.subplots(3,1, sharex=True)\n",
    "\n",
    "ax[0].plot([ opt['minimum_total_cost'] for opt in \n",
    "            [option_1, option_2, option_3, option_4, option_5, option_6] ])\n",
    "ax[1].plot([ opt['execution_time'] for opt in \n",
    "            [option_1, option_2, option_3, option_4, option_5, option_6] ])\n",
    "ax[2].plot([ opt['memory_usage'] for opt in \n",
    "            [option_1, option_2, option_3, option_4, option_5, option_6] ])\n"
   ]
  },
  {
   "cell_type": "code",
   "execution_count": null,
   "id": "b1eabbb1-bea0-4170-9f5f-18e31e4add69",
   "metadata": {},
   "outputs": [],
   "source": []
  }
 ],
 "metadata": {
  "kernelspec": {
   "display_name": "Python 3 (ipykernel)",
   "language": "python",
   "name": "python3"
  },
  "language_info": {
   "codemirror_mode": {
    "name": "ipython",
    "version": 3
   },
   "file_extension": ".py",
   "mimetype": "text/x-python",
   "name": "python",
   "nbconvert_exporter": "python",
   "pygments_lexer": "ipython3",
   "version": "3.10.12"
  }
 },
 "nbformat": 4,
 "nbformat_minor": 5
}
