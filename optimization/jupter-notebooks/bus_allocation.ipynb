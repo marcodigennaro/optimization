{
 "cells": [
  {
   "cell_type": "markdown",
   "id": "f5aaee3e-5a01-4cf2-85b3-2fc0a0b8574c",
   "metadata": {},
   "source": [
    "# School Bus Optimization Problem\n",
    "\n",
    "### Problem Description\n",
    "\n",
    "A school needs to transport N students to the zoo using buses. There are three types of buses available:\n",
    "\n",
    "- Buses A, with a capacity of 35 students, costing 300€ each\n",
    "- Buses B, with a capacity of 49 students, costing 400€ each\n",
    "- Buses C, with a capacity of 57 students, costing 450€ each\n",
    "\n",
    "The objective is to minimize the total cost of buses while transporting all students.\n",
    "\n",
    "### Assumptions\n",
    "\n",
    "- All students must be transported\n",
    "- Buses can operate below capacity but at the same cost, regardless of the number of the occupied places\n",
    "- Occupied seats are an integer number\n",
    "\n",
    "### Approach\n",
    "\n",
    "We will compare different scenarios to find the cost-effective solution:\n",
    "\n",
    "- Trivial solutions: using only buses A, B, C.\n",
    "- Educated guess starting from a practical hypothesis\n",
    "- Combining both types of buses for an optimal solution\n",
    "- Verifying with an iterative solution\n",
    "\n",
    "### Performance\n",
    "\n",
    "Each option is implemented in the `BusAllocation` class of th `optimization.core.bus_allocation` module. The `@performance_measure` decorator helps estimating time and memory usage, to be taken into consideration for a scalable solution."
   ]
  },
  {
   "cell_type": "code",
   "execution_count": 1,
   "id": "3eeedf02-c4cc-44ce-9cca-6c07af1ec765",
   "metadata": {
    "execution": {
     "iopub.execute_input": "2024-04-25T06:52:26.432929Z",
     "iopub.status.busy": "2024-04-25T06:52:26.432542Z",
     "iopub.status.idle": "2024-04-25T06:52:26.500600Z",
     "shell.execute_reply": "2024-04-25T06:52:26.499499Z",
     "shell.execute_reply.started": "2024-04-25T06:52:26.432891Z"
    }
   },
   "outputs": [],
   "source": [
    "from optimization.core.bus_allocation import BusAllocation\n",
    "\n",
    "# Define constants\n",
    "n_students = 6500\n",
    "\n",
    "seat_a = 35\n",
    "cost_a = 300\n",
    "\n",
    "seat_b = 49\n",
    "cost_b = 400\n",
    "\n",
    "seat_c = 57\n",
    "cost_c = 450\n",
    "\n",
    "bus_allocator = BusAllocation((seat_a, seat_b, seat_c), (cost_a, cost_b, cost_c), n_students)"
   ]
  },
  {
   "cell_type": "markdown",
   "id": "42d5005c-a12e-41c0-91ea-20ccf45b32eb",
   "metadata": {},
   "source": [
    "### Options 1-3: Trivial Solutions\n",
    "\n",
    "If we use only buses A, B or C, these are the results.\n",
    "\n",
    "Number of buses A required: {{n_students}}$\\frac{{n_students}}{seat_a} = 11.2$. \n",
    "We need 12 30-seaters to accomodate all students."
   ]
  },
  {
   "cell_type": "code",
   "execution_count": 2,
   "id": "99bdd01e-3cbb-4fa6-bdb8-24da09ba967c",
   "metadata": {
    "execution": {
     "iopub.execute_input": "2024-04-25T06:52:26.502704Z",
     "iopub.status.busy": "2024-04-25T06:52:26.501931Z",
     "iopub.status.idle": "2024-04-25T06:52:27.113375Z",
     "shell.execute_reply": "2024-04-25T06:52:27.112317Z",
     "shell.execute_reply.started": "2024-04-25T06:52:26.502647Z"
    }
   },
   "outputs": [
    {
     "name": "stdout",
     "output_type": "stream",
     "text": [
      "A\n",
      "func_result\n",
      "{'num_buses_A': 186, 'num_buses_B': 0, 'num_buses_C': 0, 'minimum_total_cost': 55800}\n",
      "out inisde print-out\n",
      "{'num_buses_A': 186, 'num_buses_B': 0, 'num_buses_C': 0, 'minimum_total_cost': 55800, 'execution_time': 0.00012159347534179688, 'memory_usage': 0.0}\n",
      "We need 186 buses A\n",
      "We need 0 buses B\n",
      "We need 0 buses C\n",
      "Minimum total cost: 55800€\n",
      "B\n",
      "func_result\n",
      "{'num_buses_A': 0, 'num_buses_B': 133, 'num_buses_C': 0, 'minimum_total_cost': 53200}\n",
      "out inisde print-out\n",
      "{'num_buses_A': 0, 'num_buses_B': 133, 'num_buses_C': 0, 'minimum_total_cost': 53200, 'execution_time': 0.00013637542724609375, 'memory_usage': 0.0}\n",
      "We need 0 buses A\n",
      "We need 133 buses B\n",
      "We need 0 buses C\n",
      "Minimum total cost: 53200€\n",
      "C\n",
      "func_result\n",
      "{'num_buses_A': 0, 'num_buses_B': 0, 'num_buses_C': 115, 'minimum_total_cost': 51750}\n",
      "out inisde print-out\n",
      "{'num_buses_A': 0, 'num_buses_B': 0, 'num_buses_C': 115, 'minimum_total_cost': 51750, 'execution_time': 5.650520324707031e-05, 'memory_usage': 0.0}\n",
      "We need 0 buses A\n",
      "We need 0 buses B\n",
      "We need 115 buses C\n",
      "Minimum total cost: 51750€\n"
     ]
    }
   ],
   "source": [
    "opt_1 = bus_allocator.trivial_solution('A')\n",
    "opt_2 = bus_allocator.trivial_solution('B')\n",
    "opt_3 = bus_allocator.trivial_solution('C')"
   ]
  },
  {
   "cell_type": "markdown",
   "id": "b1e0cc62-348f-41c2-97fa-cb81c2143580",
   "metadata": {},
   "source": [
    "### Option 4: Educated Guess\n",
    "\n",
    "We can use aset up a simple optimization algorithm using an iterative approach to determine the fewest buses required for the lowest cost. \n",
    "Intuitively, the price of one seat is lower in the 40-seat buses (i.e. 500€ for 40-seats, or 12.5€ per seats) than in the 30-seat buses \n",
    "(i.e. 400€ for 30seats, or 13.3€ per seats). \n",
    "Thus we will try to fill as many 40-seat buses first and the remaining 30-seaters with the remaining students.\n",
    "\n",
    "- Number of 30-seat buses: 1\n",
    "- Number of 40-seat buses: 8\n",
    "- Total cost: 4400€"
   ]
  },
  {
   "cell_type": "code",
   "execution_count": 3,
   "id": "069bb1b5-aa8f-4fbb-b1f6-5015f981e723",
   "metadata": {
    "execution": {
     "iopub.execute_input": "2024-04-25T06:52:27.116141Z",
     "iopub.status.busy": "2024-04-25T06:52:27.115641Z",
     "iopub.status.idle": "2024-04-25T06:52:27.323105Z",
     "shell.execute_reply": "2024-04-25T06:52:27.321634Z",
     "shell.execute_reply.started": "2024-04-25T06:52:27.116094Z"
    }
   },
   "outputs": [
    {
     "name": "stdout",
     "output_type": "stream",
     "text": [
      "out inisde print-out\n",
      "{'num_buses_A': 1, 'num_buses_B': 0, 'num_buses_C': 114, 'minimum_total_cost': 51600}\n",
      "We need 1 buses A\n",
      "We need 0 buses B\n",
      "We need 114 buses C\n",
      "Minimum total cost: 51600€\n",
      "func_result\n",
      "{'num_buses_A': 1, 'num_buses_B': 0, 'num_buses_C': 114, 'minimum_total_cost': 51600}\n"
     ]
    }
   ],
   "source": [
    "opt_3 = bus_allocator.educated_guess()"
   ]
  },
  {
   "cell_type": "code",
   "execution_count": 4,
   "id": "e4c3a725-5b2a-4b87-83e1-e76551a30300",
   "metadata": {
    "execution": {
     "iopub.execute_input": "2024-04-25T06:52:27.325073Z",
     "iopub.status.busy": "2024-04-25T06:52:27.324557Z",
     "iopub.status.idle": "2024-04-25T06:52:27.540528Z",
     "shell.execute_reply": "2024-04-25T06:52:27.539818Z",
     "shell.execute_reply.started": "2024-04-25T06:52:27.325034Z"
    }
   },
   "outputs": [
    {
     "name": "stdout",
     "output_type": "stream",
     "text": [
      "out inisde print-out\n",
      "{'num_buses_A': 2, 'num_buses_B': 1, 'num_buses_C': 112, 'minimum_total_cost': 51400.0}\n",
      "We need 2 buses A\n",
      "We need 1 buses B\n",
      "We need 112 buses C\n",
      "Minimum total cost: 51400.0€\n",
      "func_result\n",
      "{'num_buses_A': 2, 'num_buses_B': 1, 'num_buses_C': 112, 'minimum_total_cost': 51400.0}\n"
     ]
    }
   ],
   "source": [
    "opt_2 = bus_allocator.linear_programming()"
   ]
  },
  {
   "cell_type": "code",
   "execution_count": 5,
   "id": "3924651e-c619-4409-9c6a-5380425c07e6",
   "metadata": {
    "execution": {
     "iopub.execute_input": "2024-04-25T06:52:27.542433Z",
     "iopub.status.busy": "2024-04-25T06:52:27.541472Z",
     "iopub.status.idle": "2024-04-25T06:52:29.185536Z",
     "shell.execute_reply": "2024-04-25T06:52:29.184568Z",
     "shell.execute_reply.started": "2024-04-25T06:52:27.542395Z"
    }
   },
   "outputs": [
    {
     "name": "stdout",
     "output_type": "stream",
     "text": [
      "out inisde print-out\n",
      "{'num_buses_A': 1, 'num_buses_B': 4, 'num_buses_C': 110, 'minimum_total_cost': 51400}\n",
      "We need 1 buses A\n",
      "We need 4 buses B\n",
      "We need 110 buses C\n",
      "Minimum total cost: 51400€\n",
      "func_result\n",
      "{'num_buses_A': 1, 'num_buses_B': 4, 'num_buses_C': 110, 'minimum_total_cost': 51400}\n"
     ]
    }
   ],
   "source": [
    "opt_3 = bus_allocator.iterative_solution()"
   ]
  },
  {
   "cell_type": "code",
   "execution_count": 6,
   "id": "2c93c325-5171-4043-a642-38fd58ae5671",
   "metadata": {
    "execution": {
     "iopub.execute_input": "2024-04-25T06:52:29.187428Z",
     "iopub.status.busy": "2024-04-25T06:52:29.186844Z",
     "iopub.status.idle": "2024-04-25T06:52:30.497583Z",
     "shell.execute_reply": "2024-04-25T06:52:30.496085Z",
     "shell.execute_reply.started": "2024-04-25T06:52:29.187387Z"
    }
   },
   "outputs": [
    {
     "ename": "KeyError",
     "evalue": "'max_memory'",
     "output_type": "error",
     "traceback": [
      "\u001b[0;31m---------------------------------------------------------------------------\u001b[0m",
      "\u001b[0;31mKeyError\u001b[0m                                  Traceback (most recent call last)",
      "Cell \u001b[0;32mIn[6], line 7\u001b[0m\n\u001b[1;32m      5\u001b[0m ax[\u001b[38;5;241m0\u001b[39m]\u001b[38;5;241m.\u001b[39mplot([ opt[\u001b[38;5;124m'\u001b[39m\u001b[38;5;124mminimum_total_cost\u001b[39m\u001b[38;5;124m'\u001b[39m] \u001b[38;5;28;01mfor\u001b[39;00m opt \u001b[38;5;129;01min\u001b[39;00m  [opt_1, opt_2, opt_3] ])\n\u001b[1;32m      6\u001b[0m ax[\u001b[38;5;241m1\u001b[39m]\u001b[38;5;241m.\u001b[39mplot([ opt[\u001b[38;5;124m'\u001b[39m\u001b[38;5;124mexecution_time\u001b[39m\u001b[38;5;124m'\u001b[39m] \u001b[38;5;28;01mfor\u001b[39;00m opt \u001b[38;5;129;01min\u001b[39;00m [opt_1, opt_2, opt_3] ])\n\u001b[0;32m----> 7\u001b[0m ax[\u001b[38;5;241m2\u001b[39m]\u001b[38;5;241m.\u001b[39mplot([ opt[\u001b[38;5;124m'\u001b[39m\u001b[38;5;124mmax_memory\u001b[39m\u001b[38;5;124m'\u001b[39m] \u001b[38;5;28;01mfor\u001b[39;00m opt \u001b[38;5;129;01min\u001b[39;00m [opt_1, opt_2, opt_3] ])\n",
      "Cell \u001b[0;32mIn[6], line 7\u001b[0m, in \u001b[0;36m<listcomp>\u001b[0;34m(.0)\u001b[0m\n\u001b[1;32m      5\u001b[0m ax[\u001b[38;5;241m0\u001b[39m]\u001b[38;5;241m.\u001b[39mplot([ opt[\u001b[38;5;124m'\u001b[39m\u001b[38;5;124mminimum_total_cost\u001b[39m\u001b[38;5;124m'\u001b[39m] \u001b[38;5;28;01mfor\u001b[39;00m opt \u001b[38;5;129;01min\u001b[39;00m  [opt_1, opt_2, opt_3] ])\n\u001b[1;32m      6\u001b[0m ax[\u001b[38;5;241m1\u001b[39m]\u001b[38;5;241m.\u001b[39mplot([ opt[\u001b[38;5;124m'\u001b[39m\u001b[38;5;124mexecution_time\u001b[39m\u001b[38;5;124m'\u001b[39m] \u001b[38;5;28;01mfor\u001b[39;00m opt \u001b[38;5;129;01min\u001b[39;00m [opt_1, opt_2, opt_3] ])\n\u001b[0;32m----> 7\u001b[0m ax[\u001b[38;5;241m2\u001b[39m]\u001b[38;5;241m.\u001b[39mplot([ \u001b[43mopt\u001b[49m\u001b[43m[\u001b[49m\u001b[38;5;124;43m'\u001b[39;49m\u001b[38;5;124;43mmax_memory\u001b[39;49m\u001b[38;5;124;43m'\u001b[39;49m\u001b[43m]\u001b[49m \u001b[38;5;28;01mfor\u001b[39;00m opt \u001b[38;5;129;01min\u001b[39;00m [opt_1, opt_2, opt_3] ])\n",
      "\u001b[0;31mKeyError\u001b[0m: 'max_memory'"
     ]
    },
    {
     "data": {
      "image/png": "[encoded data removed]",
      "text/plain": [
       "<Figure size 640x480 with 3 Axes>"
      ]
     },
     "metadata": {},
     "output_type": "display_data"
    }
   ],
   "source": [
    "import matplotlib.pyplot as plt\n",
    "\n",
    "fig, ax = plt.subplots(3,1, sharex=True)\n",
    "\n",
    "ax[0].plot([ opt['minimum_total_cost'] for opt in  [opt_1, opt_2, opt_3] ])\n",
    "ax[1].plot([ opt['execution_time'] for opt in [opt_1, opt_2, opt_3] ])\n",
    "ax[2].plot([ opt['max_memory'] for opt in [opt_1, opt_2, opt_3] ])"
   ]
  },
  {
   "cell_type": "code",
   "execution_count": null,
   "id": "b1eabbb1-bea0-4170-9f5f-18e31e4add69",
   "metadata": {},
   "outputs": [],
   "source": []
  }
 ],
 "metadata": {
  "kernelspec": {
   "display_name": "Python 3 (ipykernel)",
   "language": "python",
   "name": "python3"
  },
  "language_info": {
   "codemirror_mode": {
    "name": "ipython",
    "version": 3
   },
   "file_extension": ".py",
   "mimetype": "text/x-python",
   "name": "python",
   "nbconvert_exporter": "python",
   "pygments_lexer": "ipython3",
   "version": "3.10.12"
  }
 },
 "nbformat": 4,
 "nbformat_minor": 5
}
