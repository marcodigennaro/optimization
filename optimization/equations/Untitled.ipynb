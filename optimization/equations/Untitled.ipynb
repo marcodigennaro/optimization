{
 "cells": [
  {
   "cell_type": "code",
   "execution_count": 3,
   "id": "bcd2c28b-aa2b-472c-bffb-652333c6653a",
   "metadata": {
    "execution": {
     "iopub.execute_input": "2024-05-01T10:35:53.087764Z",
     "iopub.status.busy": "2024-05-01T10:35:53.086414Z",
     "iopub.status.idle": "2024-05-01T10:35:53.158356Z",
     "shell.execute_reply": "2024-05-01T10:35:53.157126Z",
     "shell.execute_reply.started": "2024-05-01T10:35:53.087648Z"
    }
   },
   "outputs": [
    {
     "data": {
      "text/plain": [
       "[{w: 113/50, x: 1/2, y: 14/25, z: 83/50}]"
      ]
     },
     "execution_count": 3,
     "metadata": {},
     "output_type": "execute_result"
    }
   ],
   "source": [
    "from sympy import symbols, Eq, solve\n",
    "\n",
    "# Define variables\n",
    "x, y, z, w = symbols('x y z w', real=True, nonnegative=True)\n",
    "\n",
    "# Define equations\n",
    "eq1 = Eq(3*x + 2*y - z + 4*w, 10)\n",
    "eq2 = Eq(2*x - 2*y + 4*z - 2*w, 2)\n",
    "eq3 = Eq(x + y - 2*z + w, 0)\n",
    "eq4 = Eq(x - 3*y + z + 2*w, 5)\n",
    "\n",
    "# Solve the system of equations\n",
    "solution = solve((eq1, eq2, eq3, eq4), (x, y, z, w), dict=True)\n",
    "solution\n"
   ]
  },
  {
   "cell_type": "code",
   "execution_count": null,
   "id": "61a78201-11d3-4cdd-beef-80486475d804",
   "metadata": {},
   "outputs": [],
   "source": []
  }
 ],
 "metadata": {
  "kernelspec": {
   "display_name": "Python 3 (ipykernel)",
   "language": "python",
   "name": "python3"
  },
  "language_info": {
   "codemirror_mode": {
    "name": "ipython",
    "version": 3
   },
   "file_extension": ".py",
   "mimetype": "text/x-python",
   "name": "python",
   "nbconvert_exporter": "python",
   "pygments_lexer": "ipython3",
   "version": "3.10.12"
  }
 },
 "nbformat": 4,
 "nbformat_minor": 5
}
