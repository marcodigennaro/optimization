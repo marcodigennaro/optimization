{
 "cells": [
  {
   "cell_type": "code",
   "execution_count": 2,
   "id": "f02e7044-2ad7-4cbf-a291-3a371a8b01b1",
   "metadata": {
    "execution": {
     "iopub.execute_input": "2024-05-02T12:33:40.518088Z",
     "iopub.status.busy": "2024-05-02T12:33:40.517692Z",
     "iopub.status.idle": "2024-05-02T12:33:40.707456Z",
     "shell.execute_reply": "2024-05-02T12:33:40.706705Z",
     "shell.execute_reply.started": "2024-05-02T12:33:40.518062Z"
    }
   },
   "outputs": [
    {
     "name": "stdout",
     "output_type": "stream",
     "text": [
      "[]\n",
      "[]\n"
     ]
    }
   ],
   "source": [
    "from sympy import symbols, diff, solve, S\n",
    "\n",
    "# Define variables\n",
    "xs, ys, xw, yw = symbols('xs ys xw yw', real=True, nonnegative=True)\n",
    "a, b, Dx, S_max, Dy, W_max = symbols('a b Dx S_max Dy W_max', real=True)\n",
    "l1, l2, l3, l4 = symbols('l1 l2 l3 l4', real=True)\n",
    "\n",
    "# Cost function\n",
    "f = a*(xs + ys) + b*(xw + yw)\n",
    "\n",
    "# Constraints\n",
    "g = xs + xw - Dx\n",
    "h = xs + ys - S_max\n",
    "l = ys + yw - Dy\n",
    "m = xw + yw - W_max\n",
    "\n",
    "# Lagrangian\n",
    "L = f - l1*g - l2*h - l3*l - l4*m\n",
    "\n",
    "# Compute the derivative of the Lagrange function\n",
    "dL_dxs = diff(L, xs)\n",
    "dL_dxw = diff(L, xw)\n",
    "dL_dys = diff(L, ys)\n",
    "dL_dyw = diff(L, yw)\n",
    "\n",
    "dL_dl1 = diff(L, l1)\n",
    "dL_dl2 = diff(L, l2)\n",
    "dL_dl3 = diff(L, l3)\n",
    "dL_dl4 = diff(L, l4)\n",
    "\n",
    "# Solve withouth the KKT conditions\n",
    "solution = solve([\n",
    "    dL_dxs, dL_dxw, dL_dys, dL_dyw,\n",
    "    dL_dl1, dL_dl2, dL_dl3, dL_dl4,\n",
    "    g, h, l, m],             \n",
    "    (xs, xw, ys, yw, l1, l2, l3, l4))\n",
    "\n",
    "print(solution)\n",
    "\n",
    "# KKT Conditions including slackness for inequalities\n",
    "conditions = [\n",
    "    dL_dxs, dL_dxw, dL_dys, dL_dyw,\n",
    "    g, l2 * h, l, l4 * m,\n",
    "    dL_dl1, dL_dl2, dL_dl3, dL_dl4\n",
    "]\n",
    "\n",
    "# Define the assumptions for solution (non-negative and feasible)\n",
    "assumptions = {xs: (0, S.Infinity), xw: (0, S.Infinity), ys: (0, S.Infinity), yw: (0, S.Infinity), \n",
    "               l1: (0, S.Infinity), l2: (0, S.Infinity), l3: (0, S.Infinity), l4: (0, S.Infinity)}\n",
    "\n",
    "# Solve the KKT conditions\n",
    "KKT_solution = solve(conditions, (xs, xw, ys, yw, l1, l2, l3, l4), dict=True, manual=True, assumptions=assumptions)\n",
    "print(KKT_solution)"
   ]
  },
  {
   "cell_type": "code",
   "execution_count": 3,
   "id": "c3d9f376-4463-48b8-bac2-d175b8d4292a",
   "metadata": {
    "execution": {
     "iopub.execute_input": "2024-05-02T12:35:27.009589Z",
     "iopub.status.busy": "2024-05-02T12:35:27.008686Z",
     "iopub.status.idle": "2024-05-02T12:35:27.371932Z",
     "shell.execute_reply": "2024-05-02T12:35:27.370989Z",
     "shell.execute_reply.started": "2024-05-02T12:35:27.009546Z"
    }
   },
   "outputs": [
    {
     "name": "stdout",
     "output_type": "stream",
     "text": [
      " message: Optimization terminated successfully\n",
      " success: True\n",
      "  status: 0\n",
      "     fun: 3.9000000000000004\n",
      "       x: [ 4.750e+00  8.250e+00  3.250e+00  6.750e+00]\n",
      "     nit: 5\n",
      "     jac: [ 3.000e-01  1.000e-01  3.000e-01  1.000e-01]\n",
      "    nfev: 25\n",
      "    njev: 5\n"
     ]
    }
   ],
   "source": [
    "import numpy as np\n",
    "from scipy.optimize import minimize\n",
    "\n",
    "# Objective function\n",
    "def objective(x):\n",
    "    xs, xw, ys, yw = x\n",
    "    return a * (xs + ys) + b * (xw + yw)\n",
    "\n",
    "# Constraints\n",
    "constraints = [\n",
    "    {'type': 'eq', 'fun': lambda x: x[0] + x[1] - Dx},  # xs + xw = Dx\n",
    "    {'type': 'ineq', 'fun': lambda x: S - (x[0] + x[2])},  # xs + ys <= S\n",
    "    {'type': 'eq', 'fun': lambda x: x[2] + x[3] - Dy},  # ys + yw = Dy\n",
    "    {'type': 'ineq', 'fun': lambda x: W - (x[1] + x[3])}  # xw + yw <= W\n",
    "]\n",
    "\n",
    "# Coefficients\n",
    "a = 0.3\n",
    "b = 0.1\n",
    "Dx = 13\n",
    "S = 20\n",
    "Dy = 10\n",
    "W = 15\n",
    "\n",
    "# Initial guesses\n",
    "x0 = np.array([1, 1, 1, 1])\n",
    "\n",
    "# Solve\n",
    "solution = minimize(objective, x0, constraints=constraints)\n",
    "print(solution)\n"
   ]
  },
  {
   "cell_type": "code",
   "execution_count": null,
   "id": "75091118-7565-45b6-9d14-ec2bc3630875",
   "metadata": {},
   "outputs": [],
   "source": []
  }
 ],
 "metadata": {
  "kernelspec": {
   "display_name": "Python 3 (ipykernel)",
   "language": "python",
   "name": "python3"
  },
  "language_info": {
   "codemirror_mode": {
    "name": "ipython",
    "version": 3
   },
   "file_extension": ".py",
   "mimetype": "text/x-python",
   "name": "python",
   "nbconvert_exporter": "python",
   "pygments_lexer": "ipython3",
   "version": "3.10.12"
  }
 },
 "nbformat": 4,
 "nbformat_minor": 5
}
